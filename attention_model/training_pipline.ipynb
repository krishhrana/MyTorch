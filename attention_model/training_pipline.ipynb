{
 "cells": [
  {
   "cell_type": "code",
   "execution_count": null,
   "metadata": {
    "colab": {
     "base_uri": "https://localhost:8080/"
    },
    "id": "8UK7J-dp5iN5",
    "outputId": "b317805e-d3a7-4a49-8356-a9bf2751fc3e"
   },
   "outputs": [
    {
     "name": "stdout",
     "output_type": "stream",
     "text": [
      "/bin/bash: nvidia-smi: command not found\n"
     ]
    }
   ],
   "source": [
    "!nvidia-smi"
   ]
  },
  {
   "cell_type": "code",
   "execution_count": null,
   "metadata": {
    "id": "Tp8IuesU84nn"
   },
   "outputs": [],
   "source": [
    "!pip freeze > requirements.txt"
   ]
  },
  {
   "cell_type": "code",
   "execution_count": null,
   "metadata": {
    "colab": {
     "base_uri": "https://localhost:8080/"
    },
    "id": "nYgaLmgy5iqR",
    "outputId": "19ba5f45-509b-4671-ef3a-89adce88f707"
   },
   "outputs": [
    {
     "name": "stdout",
     "output_type": "stream",
     "text": [
      "\u001b[2K     \u001b[90m━━━━━━━━━━━━━━━━━━━━━━━━━━━━━━━━━━━━━━━━\u001b[0m \u001b[32m2.0/2.0 MB\u001b[0m \u001b[31m10.5 MB/s\u001b[0m eta \u001b[36m0:00:00\u001b[0m\n",
      "\u001b[2K     \u001b[90m━━━━━━━━━━━━━━━━━━━━━━━━━━━━━━━━━━━━━━━━\u001b[0m \u001b[32m90.1/90.1 kB\u001b[0m \u001b[31m7.0 MB/s\u001b[0m eta \u001b[36m0:00:00\u001b[0m\n",
      "\u001b[2K     \u001b[90m━━━━━━━━━━━━━━━━━━━━━━━━━━━━━━━━━━━━━━━\u001b[0m \u001b[32m174.1/174.1 kB\u001b[0m \u001b[31m8.2 MB/s\u001b[0m eta \u001b[36m0:00:00\u001b[0m\n",
      "\u001b[2K     \u001b[90m━━━━━━━━━━━━━━━━━━━━━━━━━━━━━━━━━━━━━━━━\u001b[0m \u001b[32m3.0/3.0 MB\u001b[0m \u001b[31m55.1 MB/s\u001b[0m eta \u001b[36m0:00:00\u001b[0m\n",
      "\u001b[2K     \u001b[90m━━━━━━━━━━━━━━━━━━━━━━━━━━━━━━━━━━━━━━\u001b[0m \u001b[32m184.3/184.3 kB\u001b[0m \u001b[31m15.9 MB/s\u001b[0m eta \u001b[36m0:00:00\u001b[0m\n",
      "\u001b[2K     \u001b[90m━━━━━━━━━━━━━━━━━━━━━━━━━━━━━━━━━━━━━━\u001b[0m \u001b[32m199.5/199.5 kB\u001b[0m \u001b[31m15.7 MB/s\u001b[0m eta \u001b[36m0:00:00\u001b[0m\n",
      "\u001b[?25h  Preparing metadata (setup.py) ... \u001b[?25l\u001b[?25hdone\n",
      "\u001b[2K     \u001b[90m━━━━━━━━━━━━━━━━━━━━━━━━━━━━━━━━━━━━━━━━\u001b[0m \u001b[32m62.7/62.7 kB\u001b[0m \u001b[31m5.6 MB/s\u001b[0m eta \u001b[36m0:00:00\u001b[0m\n",
      "\u001b[?25h  Building wheel for pathtools (setup.py) ... \u001b[?25l\u001b[?25hdone\n"
     ]
    }
   ],
   "source": [
    "# Install some required libraries\n",
    "# Feel free to add more if you want\n",
    "!pip install -q python-levenshtein torchsummaryX wandb kaggle pytorch-nlp "
   ]
  },
  {
   "cell_type": "code",
   "execution_count": null,
   "metadata": {
    "colab": {
     "base_uri": "https://localhost:8080/"
    },
    "id": "DDC0BSUxiGcM",
    "outputId": "ad5c7624-1857-450b-e588-60207fb29b61"
   },
   "outputs": [
    {
     "name": "stdout",
     "output_type": "stream",
     "text": [
      "Cloning into 'ctcdecode'...\n",
      "remote: Enumerating objects: 1102, done.\u001b[K\n",
      "remote: Counting objects: 100% (39/39), done.\u001b[K\n",
      "remote: Compressing objects: 100% (25/25), done.\u001b[K\n",
      "remote: Total 1102 (delta 16), reused 32 (delta 14), pack-reused 1063\u001b[K\n",
      "Receiving objects: 100% (1102/1102), 782.27 KiB | 5.79 MiB/s, done.\n",
      "Resolving deltas: 100% (529/529), done.\n",
      "Submodule 'third_party/ThreadPool' (https://github.com/progschj/ThreadPool.git) registered for path 'third_party/ThreadPool'\n",
      "Submodule 'third_party/kenlm' (https://github.com/kpu/kenlm.git) registered for path 'third_party/kenlm'\n",
      "Cloning into '/content/ctcdecode/third_party/ThreadPool'...\n",
      "remote: Enumerating objects: 82, done.        \n",
      "remote: Total 82 (delta 0), reused 0 (delta 0), pack-reused 82        \n",
      "Cloning into '/content/ctcdecode/third_party/kenlm'...\n",
      "remote: Enumerating objects: 14147, done.        \n",
      "remote: Counting objects: 100% (460/460), done.        \n",
      "remote: Compressing objects: 100% (319/319), done.        \n",
      "remote: Total 14147 (delta 152), reused 399 (delta 127), pack-reused 13687        \n",
      "Receiving objects: 100% (14147/14147), 5.91 MiB | 9.66 MiB/s, done.\n",
      "Resolving deltas: 100% (8032/8032), done.\n",
      "Submodule path 'third_party/ThreadPool': checked out '9a42ec1329f259a5f4881a291db1dcb8f2ad9040'\n",
      "Submodule path 'third_party/kenlm': checked out '35835f1ac4884126458ac89f9bf6dd9ccad561e0'\n",
      "  Preparing metadata (setup.py) ... \u001b[?25l\u001b[?25hdone\n",
      "  Building wheel for wget (setup.py) ... \u001b[?25l\u001b[?25hdone\n",
      "/content/ctcdecode\n",
      "  Preparing metadata (setup.py) ... \u001b[?25l\u001b[?25hdone\n",
      "  Building wheel for ctcdecode (setup.py) ... \u001b[?25l\u001b[?25hdone\n",
      "/content\n",
      "Looking in indexes: https://pypi.org/simple, https://us-python.pkg.dev/colab-wheels/public/simple/\n",
      "Requirement already satisfied: pytorch-nlp in /usr/local/lib/python3.10/dist-packages (0.5.0)\n",
      "Requirement already satisfied: numpy in /usr/local/lib/python3.10/dist-packages (from pytorch-nlp) (1.22.4)\n",
      "Requirement already satisfied: tqdm in /usr/local/lib/python3.10/dist-packages (from pytorch-nlp) (4.65.0)\n"
     ]
    }
   ],
   "source": [
    "!pip install wandb --quiet\n",
    "!pip install python-Levenshtein -q\n",
    "!git clone --recursive https://github.com/parlance/ctcdecode.git\n",
    "!pip install wget -q\n",
    "%cd ctcdecode\n",
    "!pip install . -q\n",
    "%cd ..\n",
    "\n",
    "!pip install torchsummaryX -q\n",
    "!pip install pytorch-nlp"
   ]
  },
  {
   "cell_type": "markdown",
   "metadata": {
    "id": "yEkA_GGG-tTB"
   },
   "source": [
    "# Imports"
   ]
  },
  {
   "cell_type": "code",
   "execution_count": null,
   "metadata": {
    "colab": {
     "base_uri": "https://localhost:8080/"
    },
    "id": "p0aXmrxM-usO",
    "outputId": "2dfb34bf-3fa1-4d7a-a59b-00473deca41c"
   },
   "outputs": [
    {
     "name": "stdout",
     "output_type": "stream",
     "text": [
      "Device:  cuda\n"
     ]
    }
   ],
   "source": [
    "import torch\n",
    "import random\n",
    "import numpy as np\n",
    "import torch.nn as nn\n",
    "import torch.nn.functional as F\n",
    "from torchsummaryX import summary\n",
    "from torch.utils.data import Dataset, DataLoader\n",
    "from torch.nn.utils.rnn import pad_sequence, pack_padded_sequence, pad_packed_sequence\n",
    "\n",
    "import torchaudio.transforms as tat\n",
    "\n",
    "from sklearn.metrics import accuracy_score\n",
    "import gc\n",
    "\n",
    "import zipfile\n",
    "import pandas as pd\n",
    "from tqdm import tqdm\n",
    "import os\n",
    "import datetime\n",
    "\n",
    "import ctcdecode\n",
    "import Levenshtein\n",
    "from ctcdecode import CTCBeamDecoder\n",
    "from torchnlp.nn import LockedDropout\n",
    "\n",
    "import warnings\n",
    "warnings.filterwarnings('ignore')\n",
    "\n",
    "device = 'cuda' if torch.cuda.is_available() else 'cpu'\n",
    "print(\"Device: \", device)"
   ]
  },
  {
   "cell_type": "code",
   "execution_count": null,
   "metadata": {
    "colab": {
     "base_uri": "https://localhost:8080/"
    },
    "id": "84dzlFiDzpNx",
    "outputId": "7647bace-c91b-4ac3-a006-2eb54dfff124"
   },
   "outputs": [
    {
     "name": "stdout",
     "output_type": "stream",
     "text": [
      "Mounted at ./drive\n"
     ]
    }
   ],
   "source": [
    "from google.colab import drive\n",
    "drive.mount('./drive')"
   ]
  },
  {
   "cell_type": "markdown",
   "metadata": {
    "id": "h7Rd-7SJEKX-"
   },
   "source": [
    "# Toy Dataset Download"
   ]
  },
  {
   "cell_type": "code",
   "execution_count": null,
   "metadata": {
    "colab": {
     "base_uri": "https://localhost:8080/"
    },
    "id": "emvEV0KwEKDX",
    "outputId": "ffd7dd06-a901-4acc-b4da-8c582c0c72e7"
   },
   "outputs": [
    {
     "name": "stdout",
     "output_type": "stream",
     "text": [
      "hw4p2_toy.zip       100%[===================>] 343.92M  12.1MB/s    in 29s     \n"
     ]
    }
   ],
   "source": [
    "!wget -q https://cmu.box.com/shared/static/om4qpzd4tf1xo4h7230k4v1pbdyueghe --content-disposition --show-progress\n",
    "!unzip -q hw4p2_toy.zip -d ./"
   ]
  },
  {
   "cell_type": "markdown",
   "metadata": {
    "id": "-njBvl2Opd6I"
   },
   "source": [
    "# Kaggle Dataset Download"
   ]
  },
  {
   "cell_type": "code",
   "execution_count": null,
   "metadata": {
    "id": "PTyWR2sIp0Ns"
   },
   "outputs": [],
   "source": [
    "api_token = '{\"username\":<username>,\"key\":<key>}'\n",
    "\n",
    "\n",
    "!mkdir /root/.kaggle/\n",
    "\n",
    "with open(\"/root/.kaggle/kaggle.json\", \"w+\") as f:\n",
    "    f.write(api_token)\n",
    "\n",
    "!chmod 600 /root/.kaggle/kaggle.json"
   ]
  },
  {
   "cell_type": "code",
   "execution_count": null,
   "metadata": {
    "colab": {
     "base_uri": "https://localhost:8080/"
    },
    "id": "F581gjfnqE2C",
    "outputId": "527676de-7de1-457b-cd82-5066d360ca51"
   },
   "outputs": [
    {
     "name": "stdout",
     "output_type": "stream",
     "text": [
      "Downloading 11-785-s23-hw4p2-dataset.zip to /content\n",
      "100% 3.74G/3.74G [03:02<00:00, 25.0MB/s]\n",
      "100% 3.74G/3.74G [03:02<00:00, 22.0MB/s]\n"
     ]
    }
   ],
   "source": [
    "# To download the dataset\n",
    "!kaggle datasets download -d varunjain3/11-785-s23-hw4p2-dataset"
   ]
  },
  {
   "cell_type": "code",
   "execution_count": null,
   "metadata": {
    "id": "7ko7QN16qF2V"
   },
   "outputs": [],
   "source": [
    "# To unzip data quickly and quietly\n",
    "!unzip -q 11-785-s23-hw4p2-dataset.zip -d ./data"
   ]
  },
  {
   "cell_type": "code",
   "execution_count": null,
   "metadata": {
    "colab": {
     "base_uri": "https://localhost:8080/"
    },
    "id": "PECN4Vyef-lN",
    "outputId": "f38d2d5e-bb70-4384-cf55-9d9506962abc"
   },
   "outputs": [
    {
     "name": "stdout",
     "output_type": "stream",
     "text": [
      "['<sos>' 'C' 'H' 'A' 'P' 'T' 'E' 'R' ' ' 'O' 'N' 'E' ' ' 'M' 'I' 'S' 'S'\n",
      " 'U' 'S' ' ' 'R' 'A' 'C' 'H' 'E' 'L' ' ' 'L' 'Y' 'N' 'D' 'E' ' ' 'I' 'S'\n",
      " ' ' 'S' 'U' 'R' 'P' 'R' 'I' 'S' 'E' 'D' ' ' 'M' 'I' 'S' 'S' 'U' 'S' ' '\n",
      " 'R' 'A' 'C' 'H' 'E' 'L' ' ' 'L' 'Y' 'N' 'D' 'E' ' ' 'L' 'I' 'V' 'E' 'D'\n",
      " ' ' 'J' 'U' 'S' 'T' ' ' 'W' 'H' 'E' 'R' 'E' ' ' 'T' 'H' 'E' ' ' 'A' 'V'\n",
      " 'O' 'N' 'L' 'E' 'A' ' ' 'M' 'A' 'I' 'N' ' ' 'R' 'O' 'A' 'D' ' ' 'D' 'I'\n",
      " 'P' 'P' 'E' 'D' ' ' 'D' 'O' 'W' 'N' ' ' 'I' 'N' 'T' 'O' ' ' 'A' ' ' 'L'\n",
      " 'I' 'T' 'T' 'L' 'E' ' ' 'H' 'O' 'L' 'L' 'O' 'W' ' ' 'F' 'R' 'I' 'N' 'G'\n",
      " 'E' 'D' ' ' 'W' 'I' 'T' 'H' ' ' 'A' 'L' 'D' 'E' 'R' 'S' ' ' 'A' 'N' 'D'\n",
      " ' ' 'L' 'A' 'D' 'I' 'E' 'S' ' ' 'E' 'A' 'R' 'D' 'R' 'O' 'P' 'S' ' ' 'A'\n",
      " 'N' 'D' ' ' 'T' 'R' 'A' 'V' 'E' 'R' 'S' 'E' 'D' ' ' 'B' 'Y' ' ' 'A' ' '\n",
      " 'B' 'R' 'O' 'O' 'K' '<eos>']\n"
     ]
    }
   ],
   "source": [
    "chars = np.load('/content/data/train-clean-100/transcripts/103-1240-0000.npy')\n",
    "print(chars)"
   ]
  },
  {
   "cell_type": "code",
   "execution_count": null,
   "metadata": {
    "colab": {
     "base_uri": "https://localhost:8080/"
    },
    "id": "MBMLGYX-kZcd",
    "outputId": "9927c974-2ee6-4eca-ff05-2aba371d8ed9"
   },
   "outputs": [
    {
     "name": "stdout",
     "output_type": "stream",
     "text": [
      "Length of vocab: 31\n",
      "Vocab: ['<pad>', '<sos>', '<eos>', 'A', 'B', 'C', 'D', 'E', 'F', 'G', 'H', 'I', 'J', 'K', 'L', 'M', 'N', 'O', 'P', 'Q', 'R', 'S', 'T', 'U', 'V', 'W', 'X', 'Y', 'Z', \"'\", ' ']\n",
      "PAD_TOKEN: 0\n",
      "SOS_TOKEN: 1\n",
      "EOS_TOKEN: 2\n"
     ]
    }
   ],
   "source": [
    "config = {\n",
    "  'batch_size': 128\n",
    "}\n",
    "\n",
    "VOCAB = ['<pad>', '<sos>', '<eos>', \n",
    "         'A',   'B',    'C',    'D',    \n",
    "         'E',   'F',    'G',    'H',    \n",
    "         'I',   'J',    'K',    'L',       \n",
    "         'M',   'N',    'O',    'P',    \n",
    "         'Q',   'R',    'S',    'T', \n",
    "         'U',   'V',    'W',    'X', \n",
    "         'Y',   'Z',    \"'\",    ' ', \n",
    "         ]\n",
    "\n",
    "VOCAB_MAP = {VOCAB[i]:i for i in range(0, len(VOCAB))}\n",
    "\n",
    "PAD_TOKEN = VOCAB_MAP[\"<pad>\"]\n",
    "SOS_TOKEN = VOCAB_MAP[\"<sos>\"]\n",
    "EOS_TOKEN = VOCAB_MAP[\"<eos>\"]\n",
    "\n",
    "print(f\"Length of vocab: {len(VOCAB)}\")\n",
    "print(f\"Vocab: {VOCAB}\")\n",
    "print(f\"PAD_TOKEN: {PAD_TOKEN}\")\n",
    "print(f\"SOS_TOKEN: {SOS_TOKEN}\")\n",
    "print(f\"EOS_TOKEN: {EOS_TOKEN}\")"
   ]
  },
  {
   "cell_type": "code",
   "execution_count": null,
   "metadata": {
    "colab": {
     "base_uri": "https://localhost:8080/"
    },
    "id": "wFuQLS9Qj_lS",
    "outputId": "74e8a8d1-0e81-4c3d-965b-ca56e1ab0280"
   },
   "outputs": [
    {
     "name": "stdout",
     "output_type": "stream",
     "text": [
      "{'<pad>': 0, '<sos>': 1, '<eos>': 2, 'A': 3, 'B': 4, 'C': 5, 'D': 6, 'E': 7, 'F': 8, 'G': 9, 'H': 10, 'I': 11, 'J': 12, 'K': 13, 'L': 14, 'M': 15, 'N': 16, 'O': 17, 'P': 18, 'Q': 19, 'R': 20, 'S': 21, 'T': 22, 'U': 23, 'V': 24, 'W': 25, 'X': 26, 'Y': 27, 'Z': 28, \"'\": 29, ' ': 30}\n"
     ]
    }
   ],
   "source": [
    "print(VOCAB_MAP)"
   ]
  },
  {
   "cell_type": "code",
   "execution_count": null,
   "metadata": {
    "id": "VuneWaTStdF2"
   },
   "outputs": [],
   "source": [
    "import torch\n",
    "\n",
    "class SpeechDataset(torch.utils.data.Dataset):\n",
    "    '''\n",
    "    Feel free to add arguments, additional functions, this is the \n",
    "    bare-minimum template.\n",
    "    '''\n",
    "    def __init__(self, root = '/content/data', partition = 'train-clean-100', context = 0, offset = 0):\n",
    "\n",
    "        self.mfcc_dir = root + '/' +  partition + '/mfcc'\n",
    "        self.transcript_dir = root + '/' + partition + '/transcripts'  \n",
    "\n",
    "        self.mfcc_files = sorted(os.listdir(self.mfcc_dir))\n",
    "        self.transcript_files = sorted(os.listdir(self.transcript_dir))\n",
    "\n",
    "        self.VOCAB_MAP = VOCAB_MAP\n",
    "\n",
    "\n",
    "        self.mfccs, self.transcripts = [], []\n",
    "\n",
    "        for i in range(len(self.mfcc_files)):\n",
    "\n",
    "            mfcc        = np.load(self.mfcc_dir + '/' + self.mfcc_files[i])  \n",
    "            mfcc = (mfcc -  np.mean(mfcc, axis = 0)) / np.std(mfcc, axis = 0)\n",
    "\n",
    "            transcript  = np.load(self.transcript_dir + '/' + self.transcript_files[i])\n",
    "            \n",
    "            self.mfccs.append(mfcc)\n",
    "            self.transcripts.append(transcript)        \n",
    "\n",
    "        \n",
    "        self.length = len(self.mfccs)\n",
    "\n",
    "        t = []\n",
    "        for tr in self.transcripts:\n",
    "          t.append(np.array([self.VOCAB_MAP[i] for i in tr]))\n",
    "        self.transcripts = t\n",
    "\n",
    "\n",
    "        \n",
    "\n",
    "    def __len__(self):\n",
    "        return self.length\n",
    "\n",
    "    def __getitem__(self, ind):\n",
    "        mfcc = self.mfccs[ind] # TODO\n",
    "        transcript = self.transcripts[ind] # TODO\n",
    "        mfcc = torch.tensor(mfcc)\n",
    "        transcript = torch.tensor(transcript)\n",
    "        return mfcc, transcript\n",
    "\n",
    "    def collate_fn(self,batch):\n",
    "        # update to numpy--->tensor\n",
    "        batch_mfcc = [batch_item[0] for batch_item in batch] # TODO\n",
    "\n",
    "        batch_transcript = [batch_item[1] for batch_item in batch] # TODO\n",
    "\n",
    "        \n",
    "        batch_mfcc_pad = torch.nn.utils.rnn.pad_sequence(batch_mfcc, padding_value = PAD_TOKEN, batch_first=True) # TODO\n",
    "        lengths_mfcc = [len(item) for item in batch_mfcc] # TODO \n",
    "\n",
    "        batch_transcript_pad = torch.nn.utils.rnn.pad_sequence(batch_transcript, padding_value = PAD_TOKEN, batch_first=True) # TODO\n",
    "        lengths_transcript = [len(item) for item in batch_transcript] # TODO\n",
    "\n",
    "        return batch_mfcc_pad, batch_transcript_pad, torch.tensor(lengths_mfcc), torch.tensor(lengths_transcript)"
   ]
  },
  {
   "cell_type": "code",
   "execution_count": null,
   "metadata": {
    "id": "wXHvRwSZU740"
   },
   "outputs": [],
   "source": [
    "class SpeechDatasetTest(torch.utils.data.Dataset):\n",
    "    \n",
    "    def __init__(self, root = '/content/data', partition = \"test-clean\"): \n",
    "        '''\n",
    "        Initializes the dataset.\n",
    "\n",
    "        INPUTS: What inputs do you need here?\n",
    "        '''\n",
    "\n",
    "        self.mfcc_dir = root + '/' + partition + '/mfcc'\n",
    "        \n",
    "        self.mfcc_files = sorted(os.listdir(self.mfcc_dir))\n",
    "\n",
    "        self.VOCAB_MAP = VOCAB_MAP\n",
    "\n",
    "       \n",
    "        self.length = len(self.mfcc_files) \n",
    "        \n",
    "\n",
    "        self.mfccs = []\n",
    "\n",
    "        for i in range(len(self.mfcc_files)):\n",
    "\n",
    "            mfcc = np.load(self.mfcc_dir + '/' + self.mfcc_files[i])\n",
    "            mfcc = (mfcc -  np.mean(mfcc, axis = 0)) / np.std(mfcc, axis = 0)\n",
    "        \n",
    "            self.mfccs.append(mfcc)\n",
    "\n",
    "       \n",
    "        self.length = len(self.mfccs)\n",
    "\n",
    "       \n",
    "\n",
    "    def __len__(self):\n",
    "        \n",
    "        return self.length\n",
    "\n",
    "    def __getitem__(self, ind):\n",
    "        \n",
    "        mfcc = self.mfccs[ind]\n",
    "        mfcc = torch.FloatTensor(mfcc)\n",
    "        return mfcc\n",
    "\n",
    "\n",
    "    def collate_fn(self,batch):\n",
    "        # batch of input mfcc coefficients\n",
    "        batch_mfcc = batch\n",
    "\n",
    "        batch_mfcc_pad = torch.nn.utils.rnn.pad_sequence(batch_mfcc, padding_value = PAD_TOKEN, batch_first=True) # TODO\n",
    "        lengths_mfcc = [len(item) for item in batch_mfcc]\n",
    "\n",
    "        return batch_mfcc_pad, torch.tensor(lengths_mfcc)\n"
   ]
  },
  {
   "cell_type": "code",
   "execution_count": null,
   "metadata": {
    "id": "tzuIXCyAuNvo"
   },
   "outputs": [],
   "source": [
    "train_dataset = SpeechDataset(partition = 'train-clean-100')\n",
    "dev_dataset = SpeechDataset(partition='dev-clean')\n",
    "test_dataset = SpeechDatasetTest()\n",
    "\n",
    "\n",
    "train_loader = DataLoader(train_dataset, shuffle = True, collate_fn = train_dataset.collate_fn, batch_size = config['batch_size'])\n",
    "dev_loader = DataLoader(dev_dataset, shuffle = True, collate_fn = dev_dataset.collate_fn, batch_size = config['batch_size'])\n",
    "test_loader = DataLoader(test_dataset, collate_fn = test_dataset.collate_fn, batch_size = config['batch_size'])\n"
   ]
  },
  {
   "cell_type": "code",
   "execution_count": null,
   "metadata": {
    "colab": {
     "base_uri": "https://localhost:8080/"
    },
    "id": "w2KWdbhz3bQ3",
    "outputId": "c563fd39-23db-4627-f7bf-8763f6a3f439"
   },
   "outputs": [
    {
     "name": "stdout",
     "output_type": "stream",
     "text": [
      "\n",
      "Checking the shapes of the data...\n",
      "torch.Size([128, 2282, 27]) torch.Size([128, 374]) torch.Size([128]) torch.Size([128])\n"
     ]
    }
   ],
   "source": [
    "print(\"\\nChecking the shapes of the data...\")\n",
    "for batch in dev_loader:\n",
    "    x, y, x_len, y_len = batch\n",
    "    print(x.shape, y.shape, x_len.shape, y_len.shape)\n",
    "    break"
   ]
  },
  {
   "cell_type": "markdown",
   "metadata": {
    "id": "M8q9wt4TwzPt"
   },
   "source": [
    "# THE MODEL \n",
    "\n",
    "### Listen, Attend and Spell\n",
    "Listen, Attend and Spell (LAS) is a neural network model used for speech recognition and synthesis tasks.\n",
    "\n",
    "- LAS is designed to handle long input sequences and is robust to noisy speech signals.\n",
    "- LAS is known for its high accuracy and ability to improve over time with additional training data.\n",
    "- It consists of an <b>listener, an attender and a speller</b>, which work together to convert an input speech signal into a corresponding output text.\n",
    "\n",
    "#### The Dataflow:\n",
    "<center>\n",
    "<img src=\"https://github.com/varunjain3/11785_s23_h4p2/raw/main/DataFlow.png\" alt=\"data flow\" height=\"100\">\n",
    "</center>\n",
    "\n",
    "#### The Listener: \n",
    "- converts the input speech signal into a sequence of hidden states.\n",
    "\n",
    "#### The Attender:\n",
    "- Decides how the sequence of Encoder hidden state is propogated to decoder.\n",
    "\n",
    "#### The Speller:\n",
    "- A language model, that incorporates the \"context of attender\"(output of attender) to predict sequence of words.\n",
    "\n",
    "\n",
    "\n",
    "\n"
   ]
  },
  {
   "cell_type": "code",
   "execution_count": null,
   "metadata": {
    "id": "d5g_ncyiBsP4"
   },
   "outputs": [],
   "source": [
    "class MetaConfig():\n",
    "    def __init__(self, vocab_size, listener_input_size, listener_hidden_size, attention_head_size, n_embed, \n",
    "                 speller_hidden_size, max_timesteps, teacher_forcing_ratio, locked_dropout_rate, epochs, lr):\n",
    "        self.vocab_size = vocab_size\n",
    "        self.listener_input_size = listener_input_size\n",
    "        self.listener_hidden_size = listener_hidden_size\n",
    "        self.attention_head_size = attention_head_size\n",
    "\n",
    "        self.encoder_output_size = listener_hidden_size * 8\n",
    "        self.decoder_output_size = speller_hidden_size\n",
    "\n",
    "\n",
    "        self.n_embed = n_embed\n",
    "        self.speller_hidden_size = speller_hidden_size\n",
    "\n",
    "        self.max_timesteps = max_timesteps\n",
    "        self.teacher_forcing_ratio = teacher_forcing_ratio\n",
    "        self.locked_dropout_rate = locked_dropout_rate\n",
    "\n",
    "        self.epochs = epochs\n",
    "        self.lr = lr\n",
    "\n",
    "\n",
    "    def wandb_config(self):\n",
    "        d = dict()\n",
    "        d['epochs'] = self.epochs\n",
    "        d['lr'] = self.lr\n",
    "        d['teacher_forcing_ratio'] = self.teacher_forcing_ratio\n",
    "\n",
    "        return d\n",
    "\n",
    "\n",
    "\n"
   ]
  },
  {
   "cell_type": "code",
   "execution_count": null,
   "metadata": {
    "id": "ugHi1akRBqDf"
   },
   "outputs": [],
   "source": [
    "# Encoder bLSTM/pbLSTM Hidden Dimension of 512 (256 per direction)\n",
    "# Decoder Embedding Layer Dimension of 256\n",
    "# Decoder Hidden Dimension of 512 \n",
    "\n",
    "# Attention Projection Size of 128\n",
    "\n",
    "meta_config = MetaConfig(\n",
    "    vocab_size = len(VOCAB), \n",
    "\n",
    "    listener_input_size = 27, \n",
    "    listener_hidden_size = 128, \n",
    "\n",
    "    attention_head_size = 128, \n",
    "\n",
    "    n_embed = 256, \n",
    "    speller_hidden_size = 512, \n",
    "\n",
    "    max_timesteps = 550, \n",
    "    teacher_forcing_ratio = 0.9, \n",
    "    locked_dropout_rate = 0.2, \n",
    "\n",
    "    epochs = 98, \n",
    "    lr = 1e-4\n",
    ")"
   ]
  },
  {
   "cell_type": "markdown",
   "metadata": {
    "id": "aPL08W_Z3R18"
   },
   "source": [
    "## The Listener:"
   ]
  },
  {
   "cell_type": "code",
   "execution_count": null,
   "metadata": {
    "id": "aif2RHfEHvjN"
   },
   "outputs": [],
   "source": [
    "class pBLSTM(torch.nn.Module):\n",
    "    \n",
    "    \n",
    "    def __init__(self, input_size, hidden_size):\n",
    "        super(pBLSTM, self).__init__()\n",
    "\n",
    "        self.blstm = torch.nn.LSTM(batch_first = True, input_size = input_size * 2, hidden_size = hidden_size, \n",
    "                          num_layers = 3, bidirectional=True)\n",
    "\n",
    "    def forward(self, x_packed): # x_packed is a PackedSequence\n",
    "\n",
    "        x_pack_padded, x_lens = pad_packed_sequence(x_packed, batch_first=True)\n",
    "        \n",
    "        x_downsample, x_lens = self.trunc_reshape(x_pack_padded, x_lens)\n",
    "\n",
    "        x = pack_padded_sequence(x_downsample, x_lens, batch_first=True, enforce_sorted=False)\n",
    "\n",
    "        output, hidden = self.blstm(x)\n",
    "\n",
    "        # What do you return?\n",
    "        return output, hidden\n",
    "\n",
    "    def trunc_reshape(self, x, x_lens): \n",
    "        batch_size, max_len, feat_dim = x.size()\n",
    "        if max_len % 2 == 0:\n",
    "            ds = max_len // 2\n",
    "            x = x.view(batch_size, ds, feat_dim * 2)\n",
    "        else:\n",
    "            x = x[:, :-1, :]\n",
    "            ds = (max_len - 1) // 2\n",
    "            x = x.view(batch_size, (max_len - 1) // 2, feat_dim * 2)\n",
    "        x_lens = torch.clamp(x_lens, max = ds)\n",
    "        return x, x_lens"
   ]
  },
  {
   "cell_type": "code",
   "execution_count": null,
   "metadata": {
    "id": "jTQHiB1jvM6_"
   },
   "outputs": [],
   "source": [
    "class Listener(torch.nn.Module):\n",
    "    def __init__(self, input_size, encoder_hidden_size):\n",
    "        super().__init__()\n",
    "        self.feature_embed = torch.nn.Sequential(\n",
    "            torch.nn.Conv1d(in_channels = input_size, out_channels = encoder_hidden_size, kernel_size = 3, stride = 1, padding = 1), \n",
    "            torch.nn.BatchNorm1d(encoder_hidden_size), \n",
    "            torch.nn.ReLU(), \n",
    "\n",
    "            torch.nn.Conv1d(in_channels = encoder_hidden_size, out_channels = encoder_hidden_size * 2, kernel_size = 3, stride = 1, padding = 1), \n",
    "            torch.nn.BatchNorm1d(encoder_hidden_size * 2), \n",
    "            torch.nn.ReLU(), \n",
    "\n",
    "            torch.nn.Conv1d(in_channels = encoder_hidden_size * 2, out_channels = encoder_hidden_size * 2, kernel_size = 3, stride = 1, padding = 1), \n",
    "            torch.nn.BatchNorm1d(encoder_hidden_size * 2), \n",
    "            torch.nn.ReLU()\n",
    "        )\n",
    "\n",
    "        self.pblstm_0 = pBLSTM(input_size = encoder_hidden_size * 2, hidden_size = encoder_hidden_size * 2)\n",
    "\n",
    "        self.pBLSTMs = torch.nn.Sequential(\n",
    "            *[\n",
    "                pBLSTM(\n",
    "                        input_size = encoder_hidden_size * 2 * (2 ** i),\n",
    "                        hidden_size = encoder_hidden_size * 2 * (2 ** i)\n",
    "                    )\n",
    "                    for i in range(1, 2)\n",
    "            ]\n",
    "        )\n",
    "\n",
    "        self.locked_dropout = LockedDropout(meta_config.locked_dropout_rate)\n",
    "\n",
    "  \n",
    "    def forward(self, x, lx):\n",
    "        x = x.transpose(1, 2)\n",
    "        x = self.feature_embed(x)\n",
    "        x = x.transpose(1, 2)\n",
    "        x = pack_padded_sequence(x, lx, batch_first = True, enforce_sorted = False)\n",
    "        x, _ = self.pblstm_0.forward(x)\n",
    "        \n",
    "        for layer in self.pBLSTMs:\n",
    "            x, _ = layer.forward(x)\n",
    "            x, encoder_lens = pad_packed_sequence(x, batch_first = True)\n",
    "            \n",
    "            b, t, hs = x.shape\n",
    "            x = x.view(t, b, hs)\n",
    "            x = self.locked_dropout(x)\n",
    "            \n",
    "            t, b, hs = x.shape\n",
    "            x = x.view(b, t, hs)\n",
    "            encoder_outputs = x\n",
    "\n",
    "        return encoder_outputs, encoder_lens"
   ]
  },
  {
   "cell_type": "markdown",
   "metadata": {
    "id": "5fG9jDZBVklL"
   },
   "source": [
    "## Attention\n",
    "\n",
    "### Different ways to compute Attention\n",
    "\n",
    "1. Dot-product attention\n",
    "    * raw_weights = bmm(key, query) \n",
    "    * Optional: Scaled dot-product by normalizing with sqrt key dimension \n",
    "    * Check \"Attention is All You Need\" Section 3.2.1\n",
    "    * 1st way is what most TAs are comfortable with, but if you want to explore, check out other methods below\n",
    "\n",
    "\n",
    "2. Cosine attention\n",
    "    * raw_weights = cosine(query, key) # almost the same as dot-product xD \n",
    "\n",
    "3. Bi-linear attention\n",
    "    * W = Linear transformation (learnable parameter): d_k -> d_q\n",
    "    * raw_weights = bmm(key @ W, query)\n",
    "\n",
    "4. Multi-layer perceptron\n",
    "    * Check \"Neural Machine Translation and Sequence-to-sequence Models: A Tutorial\" Section 8.4\n",
    "\n",
    "5. Multi-Head Attention\n",
    "    * Check \"Attention is All You Need\" Section 3.2.2\n",
    "    * h = Number of heads\n",
    "    * W_Q, W_K, W_V: Weight matrix for Q, K, V (h of them in total)\n",
    "    * W_O: d_v -> d_v\n",
    "    * Reshape K: (B, T, d_k) to (B, T, h, d_k // h) and transpose to (B, h, T, d_k // h)\n",
    "    * Reshape V: (B, T, d_v) to (B, T, h, d_v // h) and transpose to (B, h, T, d_v // h)\n",
    "    * Reshape Q: (B, d_q) to (B, h, d_q // h) `\n",
    "    * raw_weights = Q @ K^T\n",
    "    * masked_raw_weights = mask(raw_weights)\n",
    "    * attention = softmax(masked_raw_weights)\n",
    "    * multi_head = attention @ V\n",
    "    * multi_head = multi_head reshaped to (B, d_v)\n",
    "    * context = multi_head @ W_O"
   ]
  },
  {
   "cell_type": "code",
   "execution_count": null,
   "metadata": {
    "id": "771TXxn7ViOW"
   },
   "outputs": [],
   "source": [
    "class Attention(torch.nn.Module):\n",
    "    def __init__(self):\n",
    "        super().__init__()\n",
    "        self.head_size = meta_config.attention_head_size\n",
    "\n",
    "        self.key = torch.nn.Linear(meta_config.encoder_output_size, self.head_size, bias = False)\n",
    "        self.query = torch.nn.Linear(meta_config.decoder_output_size, self.head_size, bias = False)\n",
    "        self.value = torch.nn.Linear(meta_config.encoder_output_size, self.head_size, bias = False)\n",
    "\n",
    "\n",
    "    def set_key_value(self, encoder_outputs):\n",
    "        self.k = self.key(encoder_outputs)\n",
    "        self.v = self.value(encoder_outputs)\n",
    "\n",
    "    def compute_context(self, decoder_context):\n",
    "        #print(\"ATTENTION: \", decoder_context.shape)\n",
    "        # decoder_context ----> (B, 1, encoder_output_shape)\n",
    "        # k ----> (B, T, head_size)\n",
    "        # v ----> (B, T, head_size)\n",
    "        # q ----> (B, 1, head_size)\n",
    "\n",
    "        b, es = decoder_context.shape\n",
    "        decoder_context = decoder_context.view(b, 1, es)\n",
    "\n",
    "        q = self.query(decoder_context)\n",
    "\n",
    "        # updated\n",
    "        #wei = (q / torch.sqrt(torch.norm(q, dim = -1, keepdim = True))) @ self.k.transpose(-2, -1)\n",
    "        # torch.bmm or einsum\n",
    "        wei = torch.matmul((q / torch.sqrt(torch.norm(q, dim = -1, keepdim = True))), self.k.transpose(-2, -1))\n",
    "\n",
    "        wei = F.softmax(wei, dim = -1)\n",
    "\n",
    "        # wei ----> (B, 1, T)\n",
    "\n",
    "        # torch.bmm or einsum\n",
    "        context = torch.matmul(wei, self.v)\n",
    "\n",
    "        # context ----> (B, 1, head_size)\n",
    "        return context, wei"
   ]
  },
  {
   "cell_type": "markdown",
   "metadata": {
    "id": "4Sp1WywZmm1L"
   },
   "source": [
    "## The Speller\n",
    "\n",
    "Similar to the language model that you coded up for HW4P1, you have to code a language model for HW4P2 as well. This time, we will also call the attention context step, within the decoder to get the attended-encoder-embeddings.\n",
    "\n",
    "\n",
    "What you have coded till now:\n",
    "\n",
    "<center>\n",
    "<img src=\"https://github.com/varunjain3/11785_s23_h4p2/raw/main/EncoderAttention.png\" alt=\"data flow\" height=\"400\">\n",
    "</center>\n",
    "\n",
    "For the Speller, what we have to code:\n",
    "\n",
    "\n",
    "<center>\n",
    "<img src=\"https://github.com/varunjain3/11785_s23_h4p2/raw/main/Decoder.png\" alt=\"data flow\" height=\"400\">\n",
    "</center>"
   ]
  },
  {
   "cell_type": "code",
   "execution_count": null,
   "metadata": {
    "id": "nFkc6MbnlUPu"
   },
   "outputs": [],
   "source": [
    "class Speller(torch.nn.Module):\n",
    "\n",
    "  def __init__(self, vocab_size, n_embed, hidden_size, attender:Attention, max_timesteps):\n",
    "    super(). __init__()\n",
    "\n",
    "    self.attend = attender\n",
    "    self.max_timesteps = max_timesteps\n",
    "    self.vocab_size = vocab_size\n",
    "    self.n_embed = n_embed\n",
    "    self.hidden_size = hidden_size\n",
    "\n",
    "    # Embedding Layer\n",
    "    self.embedding =  torch.nn.Embedding(self.vocab_size, self.n_embed)\n",
    "\n",
    "    # Create a sequence of LSTM Cells\n",
    "    self.lstm_cells =  torch.nn.Sequential(\n",
    "        torch.nn.LSTMCell(input_size = self.n_embed + self.attend.head_size, hidden_size=self.hidden_size),\n",
    "        torch.nn.LSTMCell(input_size = self.hidden_size, hidden_size=self.hidden_size), \n",
    "        torch.nn.LSTMCell(input_size = self.hidden_size, hidden_size=self.hidden_size)\n",
    "    ) \n",
    "\n",
    "   \n",
    "    self.output_to_char = torch.nn.Linear(self.hidden_size + self.attend.head_size, self.n_embed)\n",
    "    \n",
    "    self.activation = torch.nn.ReLU()\n",
    "\n",
    "\n",
    "    self.char_prob = torch.nn.Linear(self.n_embed, self.vocab_size)\n",
    "    \n",
    "    # Weight tying (From embedding layer)\n",
    "    self.char_prob.weight = self.embedding.weight\n",
    "\n",
    "\n",
    "  def lstm_step(self, input_word, hidden_state):\n",
    "    for i in range(len(self.lstm_cells)):\n",
    "        hidden_state[i] = self.lstm_cells[i].forward(input_word, hidden_state[i])\n",
    "        input_word = hidden_state[i][0]\n",
    "    return input_word, hidden_state\n",
    "    \n",
    "  def CDN(self, x):\n",
    "    x = self.output_to_char(x)\n",
    "    #x = self.activation(x)\n",
    "    x = self.char_prob(x)\n",
    "    return x\n",
    "    \n",
    "  def forward (self, batch_size, y=None, teacher_forcing_ratio=None):\n",
    "    \n",
    "    # (B, 1, head_size)\n",
    "    attn_context =  torch.randn(size = (batch_size, self.attend.head_size)).to(device) # initial context tensor for time t = 0\n",
    "    output_symbol = torch.broadcast_to(torch.tensor(SOS_TOKEN), (batch_size, )).to(device) # Set it to SOS for time t = 0\n",
    "    raw_outputs = []  \n",
    "    attention_plot = []\n",
    "      \n",
    "    if y is None:\n",
    "      timesteps = self.max_timesteps\n",
    "      teacher_forcing_ratio = 0\n",
    "\n",
    "    else:\n",
    "      timesteps = y.shape[-1]\n",
    "\n",
    "    hidden_states_list = [None]*len(self.lstm_cells)\n",
    "\n",
    "    for t in range(timesteps):\n",
    "      # generate a probability p between 0 and 1\n",
    "      p = torch.rand(1).item()\n",
    "\n",
    "      if p < teacher_forcing_ratio and t > 0:\n",
    "        output_symbol = y[:, t-1] # Take from y, else draw from probability distribution\n",
    "\n",
    "      # (B, n_embed)\n",
    "      char_embed = self.embedding(output_symbol) # Embed the character symbol\n",
    "\n",
    "      # char_embed ----> (B, n_embed)\n",
    "      # attn_context ----> (B, head_size)\n",
    "      # (B, n_embed + head_size)\n",
    "      lstm_input = torch.cat((char_embed, attn_context), dim = -1)\n",
    "\n",
    "      # Feed the input through LSTM Cells and attention.\n",
    "      lstm_out, hidden_states_list = self.lstm_step(lstm_input, hidden_states_list)\n",
    "\n",
    "    \n",
    "      attn_context, attn_weights = self.attend.compute_context(lstm_out)\n",
    "\n",
    "\n",
    "      # lstm_out ----> (B, hidden_size)\n",
    "      # attn_context ----> (B, head_size)\n",
    "\n",
    "      #b, hs = lstm_out.shape\n",
    "      # lstm_out = lstm_out.view(b, 1, hs)\n",
    "      attn_context = attn_context.squeeze()\n",
    "      cdn_input = torch.cat((lstm_out, attn_context), dim = -1)\n",
    "\n",
    "\n",
    "      # (B, vocab_size)\n",
    "      raw_pred = self.CDN(cdn_input) # call CDN with cdn_input\n",
    "\n",
    "      output_symbol = torch.argmax(raw_pred, dim = -1) # Draw correctly from raw_pred\n",
    "\n",
    "      raw_outputs.append(raw_pred) # for loss calculation\n",
    "      attention_plot.append(attn_weights.squeeze()) # for plotting attention plot\n",
    "\n",
    "    \n",
    "    attention_plot = torch.stack(attention_plot, dim=1)\n",
    "    raw_outputs = torch.stack(raw_outputs, dim=1)\n",
    "\n",
    "\n",
    "    return raw_outputs, attention_plot"
   ]
  },
  {
   "cell_type": "markdown",
   "metadata": {
    "id": "bgOQlDRI-E4z"
   },
   "source": [
    "## LAS"
   ]
  },
  {
   "cell_type": "markdown",
   "metadata": {
    "id": "ZuAjQFlTBVED"
   },
   "source": [
    "Here we finally build the LAS model, comibining the listener, attender and speller together, we have given a template, but you are free to read the paper and implement it yourself."
   ]
  },
  {
   "cell_type": "code",
   "execution_count": null,
   "metadata": {
    "colab": {
     "base_uri": "https://localhost:8080/"
    },
    "id": "Yg2w3_9xxxIu",
    "outputId": "d0713334-7851-443c-9f23-29db54784ccc"
   },
   "outputs": [
    {
     "name": "stdout",
     "output_type": "stream",
     "text": [
      "torch.Size([128, 374])\n"
     ]
    }
   ],
   "source": [
    "print(y.shape)"
   ]
  },
  {
   "cell_type": "code",
   "execution_count": null,
   "metadata": {
    "id": "scvB2cI-OSof"
   },
   "outputs": [],
   "source": [
    "class LAS(torch.nn.Module):\n",
    "  def __init__(self, vocab_size, n_embed, max_timesteps, teacher_forcing_ratio, \n",
    "               input_size, listener_hidden_size, speller_hidden_size): # add parameters\n",
    "    super().__init__()\n",
    "\n",
    "    # Pass the right parameters here\n",
    "    self.listener = Listener(input_size = input_size, encoder_hidden_size=listener_hidden_size)\n",
    "    self.attend = Attention()\n",
    "    self.speller = Speller(vocab_size = vocab_size, n_embed = n_embed, hidden_size = speller_hidden_size, \n",
    "                           attender = self.attend, max_timesteps = max_timesteps)\n",
    "    \n",
    "\n",
    "\n",
    "    self.augmentations  = torch.nn.Sequential(\n",
    "            tat.TimeMasking(20),\n",
    "            tat.FrequencyMasking(20)\n",
    "        )\n",
    "\n",
    "  def forward(self, x, lx, teacher_forcing_ratio, y = None):\n",
    "\n",
    "    if self.training:\n",
    "        x = self.augmentations(x)\n",
    "\n",
    "    \n",
    "    # Encode speech features\n",
    "    encoder_outputs, _ = self.listener.forward(x,lx)\n",
    "\n",
    "    self.attend.set_key_value(encoder_outputs)\n",
    "\n",
    "    raw_outputs, attention_plots = self.speller.forward(teacher_forcing_ratio=teacher_forcing_ratio, batch_size = x.shape[0], y = y)\n",
    "\n",
    "    return raw_outputs, attention_plots"
   ]
  },
  {
   "cell_type": "markdown",
   "metadata": {
    "id": "bPZD3vqdUisj"
   },
   "source": [
    "# Model Setup "
   ]
  },
  {
   "cell_type": "code",
   "execution_count": null,
   "metadata": {
    "colab": {
     "base_uri": "https://localhost:8080/",
     "height": 1000
    },
    "id": "a9LN0l5VUk_s",
    "outputId": "87b7762e-0e78-49e0-d620-4b14135a6c7c"
   },
   "outputs": [
    {
     "name": "stdout",
     "output_type": "stream",
     "text": [
      "LAS(\n",
      "  (listener): Listener(\n",
      "    (feature_embed): Sequential(\n",
      "      (0): Conv1d(27, 128, kernel_size=(3,), stride=(1,), padding=(1,))\n",
      "      (1): BatchNorm1d(128, eps=1e-05, momentum=0.1, affine=True, track_running_stats=True)\n",
      "      (2): ReLU()\n",
      "      (3): Conv1d(128, 256, kernel_size=(3,), stride=(1,), padding=(1,))\n",
      "      (4): BatchNorm1d(256, eps=1e-05, momentum=0.1, affine=True, track_running_stats=True)\n",
      "      (5): ReLU()\n",
      "      (6): Conv1d(256, 256, kernel_size=(3,), stride=(1,), padding=(1,))\n",
      "      (7): BatchNorm1d(256, eps=1e-05, momentum=0.1, affine=True, track_running_stats=True)\n",
      "      (8): ReLU()\n",
      "    )\n",
      "    (pblstm_0): pBLSTM(\n",
      "      (blstm): LSTM(512, 256, num_layers=3, batch_first=True, bidirectional=True)\n",
      "    )\n",
      "    (pBLSTMs): Sequential(\n",
      "      (0): pBLSTM(\n",
      "        (blstm): LSTM(1024, 512, num_layers=3, batch_first=True, bidirectional=True)\n",
      "      )\n",
      "    )\n",
      "    (locked_dropout): LockedDropout(p=0.2)\n",
      "  )\n",
      "  (attend): Attention(\n",
      "    (key): Linear(in_features=1024, out_features=128, bias=False)\n",
      "    (query): Linear(in_features=512, out_features=128, bias=False)\n",
      "    (value): Linear(in_features=1024, out_features=128, bias=False)\n",
      "  )\n",
      "  (speller): Speller(\n",
      "    (attend): Attention(\n",
      "      (key): Linear(in_features=1024, out_features=128, bias=False)\n",
      "      (query): Linear(in_features=512, out_features=128, bias=False)\n",
      "      (value): Linear(in_features=1024, out_features=128, bias=False)\n",
      "    )\n",
      "    (embedding): Embedding(31, 256)\n",
      "    (lstm_cells): Sequential(\n",
      "      (0): LSTMCell(384, 512)\n",
      "      (1): LSTMCell(512, 512)\n",
      "      (2): LSTMCell(512, 512)\n",
      "    )\n",
      "    (output_to_char): Linear(in_features=640, out_features=256, bias=True)\n",
      "    (activation): ReLU()\n",
      "    (char_prob): Linear(in_features=256, out_features=31, bias=True)\n",
      "  )\n",
      "  (augmentations): Sequential(\n",
      "    (0): TimeMasking()\n",
      "    (1): FrequencyMasking()\n",
      "  )\n",
      ")\n",
      "torch.Size([128, 2282, 27]) torch.Size([128, 374])\n",
      "==================================================================================================\n",
      "                                        Kernel Shape      Output Shape  \\\n",
      "Layer                                                                    \n",
      "0_augmentations.TimeMasking_0                      -   [128, 2282, 27]   \n",
      "1_augmentations.FrequencyMasking_1                 -   [128, 2282, 27]   \n",
      "2_listener.feature_embed.Conv1d_0       [27, 128, 3]  [128, 128, 2282]   \n",
      "3_listener.feature_embed.BatchNorm1d_1         [128]  [128, 128, 2282]   \n",
      "4_listener.feature_embed.ReLU_2                    -  [128, 128, 2282]   \n",
      "...                                              ...               ...   \n",
      "2763_speller.Embedding_embedding           [256, 31]        [128, 256]   \n",
      "2764_speller.attend.Linear_query          [512, 128]     [128, 1, 128]   \n",
      "2765_speller.attend.Linear_query          [512, 128]     [128, 1, 128]   \n",
      "2766_speller.Linear_output_to_char        [640, 256]        [128, 256]   \n",
      "2767_speller.Linear_char_prob              [256, 31]         [128, 31]   \n",
      "\n",
      "                                         Params   Mult-Adds  \n",
      "Layer                                                        \n",
      "0_augmentations.TimeMasking_0                 -           -  \n",
      "1_augmentations.FrequencyMasking_1            -           -  \n",
      "2_listener.feature_embed.Conv1d_0       10.496k  23.659776M  \n",
      "3_listener.feature_embed.BatchNorm1d_1    256.0       128.0  \n",
      "4_listener.feature_embed.ReLU_2               -           -  \n",
      "...                                         ...         ...  \n",
      "2763_speller.Embedding_embedding              -      7.936k  \n",
      "2764_speller.attend.Linear_query              -     65.536k  \n",
      "2765_speller.attend.Linear_query              -     65.536k  \n",
      "2766_speller.Linear_output_to_char            -     163.84k  \n",
      "2767_speller.Linear_char_prob                 -      7.936k  \n",
      "\n",
      "[2768 rows x 4 columns]\n",
      "--------------------------------------------------------------------------------------------------\n",
      "                           Totals\n",
      "Total params           24.444703M\n",
      "Trainable params       24.444703M\n",
      "Non-trainable params          0.0\n",
      "Mult-Adds             891.698048M\n",
      "==================================================================================================\n"
     ]
    },
    {
     "data": {
      "text/html": [
       "\n",
       "  <div id=\"df-b8a9da1a-2e50-4ff5-99d5-b9c799fdbf69\">\n",
       "    <div class=\"colab-df-container\">\n",
       "      <div>\n",
       "<style scoped>\n",
       "    .dataframe tbody tr th:only-of-type {\n",
       "        vertical-align: middle;\n",
       "    }\n",
       "\n",
       "    .dataframe tbody tr th {\n",
       "        vertical-align: top;\n",
       "    }\n",
       "\n",
       "    .dataframe thead th {\n",
       "        text-align: right;\n",
       "    }\n",
       "</style>\n",
       "<table border=\"1\" class=\"dataframe\">\n",
       "  <thead>\n",
       "    <tr style=\"text-align: right;\">\n",
       "      <th></th>\n",
       "      <th>Kernel Shape</th>\n",
       "      <th>Output Shape</th>\n",
       "      <th>Params</th>\n",
       "      <th>Mult-Adds</th>\n",
       "    </tr>\n",
       "    <tr>\n",
       "      <th>Layer</th>\n",
       "      <th></th>\n",
       "      <th></th>\n",
       "      <th></th>\n",
       "      <th></th>\n",
       "    </tr>\n",
       "  </thead>\n",
       "  <tbody>\n",
       "    <tr>\n",
       "      <th>0_augmentations.TimeMasking_0</th>\n",
       "      <td>-</td>\n",
       "      <td>[128, 2282, 27]</td>\n",
       "      <td>NaN</td>\n",
       "      <td>NaN</td>\n",
       "    </tr>\n",
       "    <tr>\n",
       "      <th>1_augmentations.FrequencyMasking_1</th>\n",
       "      <td>-</td>\n",
       "      <td>[128, 2282, 27]</td>\n",
       "      <td>NaN</td>\n",
       "      <td>NaN</td>\n",
       "    </tr>\n",
       "    <tr>\n",
       "      <th>2_listener.feature_embed.Conv1d_0</th>\n",
       "      <td>[27, 128, 3]</td>\n",
       "      <td>[128, 128, 2282]</td>\n",
       "      <td>10496.0</td>\n",
       "      <td>23659776.0</td>\n",
       "    </tr>\n",
       "    <tr>\n",
       "      <th>3_listener.feature_embed.BatchNorm1d_1</th>\n",
       "      <td>[128]</td>\n",
       "      <td>[128, 128, 2282]</td>\n",
       "      <td>256.0</td>\n",
       "      <td>128.0</td>\n",
       "    </tr>\n",
       "    <tr>\n",
       "      <th>4_listener.feature_embed.ReLU_2</th>\n",
       "      <td>-</td>\n",
       "      <td>[128, 128, 2282]</td>\n",
       "      <td>NaN</td>\n",
       "      <td>NaN</td>\n",
       "    </tr>\n",
       "    <tr>\n",
       "      <th>...</th>\n",
       "      <td>...</td>\n",
       "      <td>...</td>\n",
       "      <td>...</td>\n",
       "      <td>...</td>\n",
       "    </tr>\n",
       "    <tr>\n",
       "      <th>2763_speller.Embedding_embedding</th>\n",
       "      <td>[256, 31]</td>\n",
       "      <td>[128, 256]</td>\n",
       "      <td>NaN</td>\n",
       "      <td>7936.0</td>\n",
       "    </tr>\n",
       "    <tr>\n",
       "      <th>2764_speller.attend.Linear_query</th>\n",
       "      <td>[512, 128]</td>\n",
       "      <td>[128, 1, 128]</td>\n",
       "      <td>NaN</td>\n",
       "      <td>65536.0</td>\n",
       "    </tr>\n",
       "    <tr>\n",
       "      <th>2765_speller.attend.Linear_query</th>\n",
       "      <td>[512, 128]</td>\n",
       "      <td>[128, 1, 128]</td>\n",
       "      <td>NaN</td>\n",
       "      <td>65536.0</td>\n",
       "    </tr>\n",
       "    <tr>\n",
       "      <th>2766_speller.Linear_output_to_char</th>\n",
       "      <td>[640, 256]</td>\n",
       "      <td>[128, 256]</td>\n",
       "      <td>NaN</td>\n",
       "      <td>163840.0</td>\n",
       "    </tr>\n",
       "    <tr>\n",
       "      <th>2767_speller.Linear_char_prob</th>\n",
       "      <td>[256, 31]</td>\n",
       "      <td>[128, 31]</td>\n",
       "      <td>NaN</td>\n",
       "      <td>7936.0</td>\n",
       "    </tr>\n",
       "  </tbody>\n",
       "</table>\n",
       "<p>2768 rows × 4 columns</p>\n",
       "</div>\n",
       "      <button class=\"colab-df-convert\" onclick=\"convertToInteractive('df-b8a9da1a-2e50-4ff5-99d5-b9c799fdbf69')\"\n",
       "              title=\"Convert this dataframe to an interactive table.\"\n",
       "              style=\"display:none;\">\n",
       "        \n",
       "  <svg xmlns=\"http://www.w3.org/2000/svg\" height=\"24px\"viewBox=\"0 0 24 24\"\n",
       "       width=\"24px\">\n",
       "    <path d=\"M0 0h24v24H0V0z\" fill=\"none\"/>\n",
       "    <path d=\"M18.56 5.44l.94 2.06.94-2.06 2.06-.94-2.06-.94-.94-2.06-.94 2.06-2.06.94zm-11 1L8.5 8.5l.94-2.06 2.06-.94-2.06-.94L8.5 2.5l-.94 2.06-2.06.94zm10 10l.94 2.06.94-2.06 2.06-.94-2.06-.94-.94-2.06-.94 2.06-2.06.94z\"/><path d=\"M17.41 7.96l-1.37-1.37c-.4-.4-.92-.59-1.43-.59-.52 0-1.04.2-1.43.59L10.3 9.45l-7.72 7.72c-.78.78-.78 2.05 0 2.83L4 21.41c.39.39.9.59 1.41.59.51 0 1.02-.2 1.41-.59l7.78-7.78 2.81-2.81c.8-.78.8-2.07 0-2.86zM5.41 20L4 18.59l7.72-7.72 1.47 1.35L5.41 20z\"/>\n",
       "  </svg>\n",
       "      </button>\n",
       "      \n",
       "  <style>\n",
       "    .colab-df-container {\n",
       "      display:flex;\n",
       "      flex-wrap:wrap;\n",
       "      gap: 12px;\n",
       "    }\n",
       "\n",
       "    .colab-df-convert {\n",
       "      background-color: #E8F0FE;\n",
       "      border: none;\n",
       "      border-radius: 50%;\n",
       "      cursor: pointer;\n",
       "      display: none;\n",
       "      fill: #1967D2;\n",
       "      height: 32px;\n",
       "      padding: 0 0 0 0;\n",
       "      width: 32px;\n",
       "    }\n",
       "\n",
       "    .colab-df-convert:hover {\n",
       "      background-color: #E2EBFA;\n",
       "      box-shadow: 0px 1px 2px rgba(60, 64, 67, 0.3), 0px 1px 3px 1px rgba(60, 64, 67, 0.15);\n",
       "      fill: #174EA6;\n",
       "    }\n",
       "\n",
       "    [theme=dark] .colab-df-convert {\n",
       "      background-color: #3B4455;\n",
       "      fill: #D2E3FC;\n",
       "    }\n",
       "\n",
       "    [theme=dark] .colab-df-convert:hover {\n",
       "      background-color: #434B5C;\n",
       "      box-shadow: 0px 1px 3px 1px rgba(0, 0, 0, 0.15);\n",
       "      filter: drop-shadow(0px 1px 2px rgba(0, 0, 0, 0.3));\n",
       "      fill: #FFFFFF;\n",
       "    }\n",
       "  </style>\n",
       "\n",
       "      <script>\n",
       "        const buttonEl =\n",
       "          document.querySelector('#df-b8a9da1a-2e50-4ff5-99d5-b9c799fdbf69 button.colab-df-convert');\n",
       "        buttonEl.style.display =\n",
       "          google.colab.kernel.accessAllowed ? 'block' : 'none';\n",
       "\n",
       "        async function convertToInteractive(key) {\n",
       "          const element = document.querySelector('#df-b8a9da1a-2e50-4ff5-99d5-b9c799fdbf69');\n",
       "          const dataTable =\n",
       "            await google.colab.kernel.invokeFunction('convertToInteractive',\n",
       "                                                     [key], {});\n",
       "          if (!dataTable) return;\n",
       "\n",
       "          const docLinkHtml = 'Like what you see? Visit the ' +\n",
       "            '<a target=\"_blank\" href=https://colab.research.google.com/notebooks/data_table.ipynb>data table notebook</a>'\n",
       "            + ' to learn more about interactive tables.';\n",
       "          element.innerHTML = '';\n",
       "          dataTable['output_type'] = 'display_data';\n",
       "          await google.colab.output.renderOutput(dataTable, element);\n",
       "          const docLink = document.createElement('div');\n",
       "          docLink.innerHTML = docLinkHtml;\n",
       "          element.appendChild(docLink);\n",
       "        }\n",
       "      </script>\n",
       "    </div>\n",
       "  </div>\n",
       "  "
      ],
      "text/plain": [
       "                                        Kernel Shape      Output Shape  \\\n",
       "Layer                                                                    \n",
       "0_augmentations.TimeMasking_0                      -   [128, 2282, 27]   \n",
       "1_augmentations.FrequencyMasking_1                 -   [128, 2282, 27]   \n",
       "2_listener.feature_embed.Conv1d_0       [27, 128, 3]  [128, 128, 2282]   \n",
       "3_listener.feature_embed.BatchNorm1d_1         [128]  [128, 128, 2282]   \n",
       "4_listener.feature_embed.ReLU_2                    -  [128, 128, 2282]   \n",
       "...                                              ...               ...   \n",
       "2763_speller.Embedding_embedding           [256, 31]        [128, 256]   \n",
       "2764_speller.attend.Linear_query          [512, 128]     [128, 1, 128]   \n",
       "2765_speller.attend.Linear_query          [512, 128]     [128, 1, 128]   \n",
       "2766_speller.Linear_output_to_char        [640, 256]        [128, 256]   \n",
       "2767_speller.Linear_char_prob              [256, 31]         [128, 31]   \n",
       "\n",
       "                                         Params   Mult-Adds  \n",
       "Layer                                                        \n",
       "0_augmentations.TimeMasking_0               NaN         NaN  \n",
       "1_augmentations.FrequencyMasking_1          NaN         NaN  \n",
       "2_listener.feature_embed.Conv1d_0       10496.0  23659776.0  \n",
       "3_listener.feature_embed.BatchNorm1d_1    256.0       128.0  \n",
       "4_listener.feature_embed.ReLU_2             NaN         NaN  \n",
       "...                                         ...         ...  \n",
       "2763_speller.Embedding_embedding            NaN      7936.0  \n",
       "2764_speller.attend.Linear_query            NaN     65536.0  \n",
       "2765_speller.attend.Linear_query            NaN     65536.0  \n",
       "2766_speller.Linear_output_to_char          NaN    163840.0  \n",
       "2767_speller.Linear_char_prob               NaN      7936.0  \n",
       "\n",
       "[2768 rows x 4 columns]"
      ]
     },
     "execution_count": 24,
     "metadata": {},
     "output_type": "execute_result"
    }
   ],
   "source": [
    "# Baseline LAS has the following configuration:\n",
    "# Encoder bLSTM/pbLSTM Hidden Dimension of 512 (256 per direction)\n",
    "# Decoder Embedding Layer Dimension of 256\n",
    "# Decoder Hidden Dimension of 512 \n",
    "# Attention Projection Size of 128\n",
    "# Feel Free to Experiment with this \n",
    "\n",
    "model = LAS(\n",
    "    vocab_size = meta_config.vocab_size, \n",
    "    n_embed = meta_config.n_embed, \n",
    "    max_timesteps = meta_config.max_timesteps, \n",
    "    teacher_forcing_ratio = meta_config.teacher_forcing_ratio, \n",
    "    input_size = meta_config.listener_input_size, \n",
    "    listener_hidden_size = meta_config.listener_hidden_size, \n",
    "    speller_hidden_size = meta_config.speller_hidden_size\n",
    "\n",
    ")\n",
    "\n",
    "model = model.to(device)\n",
    "print(model)\n",
    "print(x.shape, y.shape)\n",
    "summary(model, x.to(device), x_len, y.to(device))"
   ]
  },
  {
   "cell_type": "code",
   "execution_count": null,
   "metadata": {
    "colab": {
     "base_uri": "https://localhost:8080/"
    },
    "id": "nMVzQskxkEmr",
    "outputId": "255221e8-8ef1-4909-a6c0-09f2f6477789"
   },
   "outputs": [
    {
     "data": {
      "text/plain": [
       "<All keys matched successfully>"
      ]
     },
     "execution_count": 25,
     "metadata": {},
     "output_type": "execute_result"
    }
   ],
   "source": [
    "ckpt = torch.load('/content/drive/MyDrive/IDL/best_model-schedule-final-run-1.pth')\n",
    "model.load_state_dict(ckpt['model_state_dict'])"
   ]
  },
  {
   "cell_type": "code",
   "execution_count": null,
   "metadata": {
    "colab": {
     "base_uri": "https://localhost:8080/",
     "height": 35
    },
    "id": "wQfBlBiTqhW5",
    "outputId": "ca9e702e-48b5-435d-adb2-739a46215d00"
   },
   "outputs": [
    {
     "data": {
      "application/vnd.google.colaboratory.intrinsic+json": {
       "type": "string"
      },
      "text/plain": [
       "'print(VOCAB_MAP_TOY)'"
      ]
     },
     "execution_count": 26,
     "metadata": {},
     "output_type": "execute_result"
    }
   ],
   "source": [
    "'''print(VOCAB_MAP_TOY)'''"
   ]
  },
  {
   "cell_type": "markdown",
   "metadata": {
    "id": "23DMfXsaU6kj"
   },
   "source": [
    "# Loss Function, Optimizers, Scheduler"
   ]
  },
  {
   "cell_type": "code",
   "execution_count": null,
   "metadata": {
    "id": "8MqJbIHLRO2F"
   },
   "outputs": [],
   "source": [
    "class TFSchedule():\n",
    "    def __init__(self):\n",
    "        pass\n",
    "\n",
    "    # exp decay 0.9. to *0.99\n",
    "    def reduce_tf(self, epoch):\n",
    "        if epoch < 15:\n",
    "            return 0.9\n",
    "        if epoch < 32:\n",
    "            return 0.895\n",
    "        if epoch < 42:\n",
    "            return 0.89\n",
    "        if epoch < 60:\n",
    "            return 0.88\n",
    "        if epoch < 77:\n",
    "            return 0.87\n",
    "        if epoch < 89:\n",
    "            return 0.86\n",
    "        if epoch < 95:\n",
    "            return 0.85"
   ]
  },
  {
   "cell_type": "code",
   "execution_count": null,
   "metadata": {
    "id": "216ukmHbU-ol"
   },
   "outputs": [],
   "source": [
    "optimizer   = torch.optim.Adam(model.parameters(), lr= meta_config.lr, weight_decay=0.01) # Feel free to experiment if needed\n",
    "optimizer.load_state_dict(ckpt['optimizer_state_dict'])\n",
    "criterion   = torch.nn.CrossEntropyLoss(reduction = 'mean', ignore_index=PAD_TOKEN, label_smoothing=0.1) #check how would you fill these values : https://pytorch.org/docs/stable/generated/torch.nn.CrossEntropyLoss.html\n",
    "scaler      = torch.cuda.amp.GradScaler()\n",
    "scheduler =  torch.optim.lr_scheduler.ReduceLROnPlateau(optimizer, factor=0.7, patience=4) #TODO\n",
    "scheduler.load_state_dict(ckpt['scheduler_state_dict'])\n",
    "tf_scheduler = TFSchedule()"
   ]
  },
  {
   "cell_type": "code",
   "execution_count": null,
   "metadata": {
    "colab": {
     "base_uri": "https://localhost:8080/"
    },
    "id": "Z18v0mU1qDCD",
    "outputId": "1ab3ff62-1c8e-49ba-e575-54ed42c69a4b"
   },
   "outputs": [
    {
     "name": "stdout",
     "output_type": "stream",
     "text": [
      "{'state': {0: {'step': tensor(4796.), 'exp_avg': tensor([[[ 1.7513e-04, -1.1048e-04, -1.0971e-04],\n",
      "         [ 3.3239e-04,  1.9244e-04,  8.5001e-05],\n",
      "         [-9.0328e-04, -9.5225e-04, -9.1769e-04],\n",
      "         ...,\n",
      "         [-4.9714e-04, -2.5828e-04, -2.1792e-04],\n",
      "         [-4.3644e-04, -2.6024e-04, -1.4959e-04],\n",
      "         [-4.4692e-04, -3.0689e-04, -1.5867e-04]],\n",
      "\n",
      "        [[-3.0583e-04, -3.0047e-04, -3.1915e-04],\n",
      "         [ 1.0336e-04,  2.3127e-04,  2.3458e-04],\n",
      "         [-2.6579e-04, -2.2189e-04, -2.5743e-04],\n",
      "         ...,\n",
      "         [ 2.6073e-04,  2.1205e-04,  1.9551e-04],\n",
      "         [-8.4060e-05, -2.0239e-04, -2.2008e-04],\n",
      "         [-1.0489e-06, -6.1524e-05, -1.1395e-04]],\n",
      "\n",
      "        [[ 6.4265e-05, -1.4805e-04, -2.3604e-04],\n",
      "         [-4.3360e-04, -4.2676e-04, -3.6209e-04],\n",
      "         [-4.5976e-05, -6.0244e-05, -1.2374e-04],\n",
      "         ...,\n",
      "         [-8.4817e-04, -1.8313e-04,  7.8522e-05],\n",
      "         [-2.0222e-04, -2.3325e-04, -2.4556e-04],\n",
      "         [-2.0170e-04, -3.5424e-04, -3.7640e-04]],\n",
      "\n",
      "        ...,\n",
      "\n",
      "        [[ 1.4092e-04,  1.6754e-04,  1.0087e-04],\n",
      "         [-1.8722e-04, -1.7701e-04, -2.0724e-04],\n",
      "         [ 3.5746e-04,  3.7700e-04,  3.0216e-04],\n",
      "         ...,\n",
      "         [-7.9914e-04, -6.3005e-04, -5.3011e-04],\n",
      "         [-6.9387e-04, -1.0021e-03, -1.1687e-03],\n",
      "         [-2.8513e-04, -6.7447e-04, -9.1866e-04]],\n",
      "\n",
      "        [[-2.2188e-05, -2.3208e-05, -1.0106e-05],\n",
      "         [ 7.7290e-06, -1.0009e-04, -1.0112e-04],\n",
      "         [ 1.0736e-04,  1.3071e-04,  2.1069e-04],\n",
      "         ...,\n",
      "         [-1.3750e-04, -2.1371e-06,  3.3149e-05],\n",
      "         [-2.7522e-05,  1.3588e-04,  1.9200e-04],\n",
      "         [ 9.7502e-06,  1.3119e-04,  1.1299e-04]],\n",
      "\n",
      "        [[-3.0623e-05, -5.2846e-05, -2.6315e-05],\n",
      "         [-8.0990e-06, -1.9750e-05,  8.4370e-05],\n",
      "         [-9.0945e-05, -1.5449e-05,  1.1534e-04],\n",
      "         ...,\n",
      "         [-3.4142e-04, -2.6916e-04, -1.1718e-04],\n",
      "         [ 1.4566e-04,  2.2743e-04,  2.0759e-04],\n",
      "         [ 1.4343e-05,  1.3632e-04,  1.2400e-04]]], device='cuda:0'), 'exp_avg_sq': tensor([[[4.7316e-06, 3.5009e-06, 2.8974e-06],\n",
      "         [5.0118e-06, 5.0350e-06, 5.3587e-06],\n",
      "         [9.4504e-06, 1.0609e-05, 1.1101e-05],\n",
      "         ...,\n",
      "         [1.0016e-05, 9.1140e-06, 6.9615e-06],\n",
      "         [6.7145e-06, 3.8488e-06, 3.4041e-06],\n",
      "         [5.8292e-06, 3.6357e-06, 3.1815e-06]],\n",
      "\n",
      "        [[1.9953e-06, 1.8441e-06, 1.7627e-06],\n",
      "         [4.6669e-07, 4.6654e-07, 5.8451e-07],\n",
      "         [6.4429e-07, 6.9766e-07, 7.5636e-07],\n",
      "         ...,\n",
      "         [2.7474e-06, 2.5823e-06, 2.4795e-06],\n",
      "         [2.8736e-06, 2.3310e-06, 2.2056e-06],\n",
      "         [2.3547e-06, 1.9450e-06, 1.9369e-06]],\n",
      "\n",
      "        [[2.0443e-05, 1.7824e-05, 1.5852e-05],\n",
      "         [4.8594e-06, 4.4577e-06, 4.0873e-06],\n",
      "         [3.1798e-06, 3.4311e-06, 3.7017e-06],\n",
      "         ...,\n",
      "         [9.4351e-06, 9.5427e-06, 9.8657e-06],\n",
      "         [9.4561e-06, 9.5905e-06, 1.0012e-05],\n",
      "         [4.8986e-06, 3.9148e-06, 3.8644e-06]],\n",
      "\n",
      "        ...,\n",
      "\n",
      "        [[1.0869e-06, 1.0320e-06, 1.2256e-06],\n",
      "         [1.4261e-06, 1.5155e-06, 1.5378e-06],\n",
      "         [1.0130e-06, 1.1037e-06, 1.1625e-06],\n",
      "         ...,\n",
      "         [6.8431e-06, 1.0142e-05, 1.1456e-05],\n",
      "         [4.6084e-06, 6.0732e-06, 7.9538e-06],\n",
      "         [6.2147e-06, 7.9429e-06, 9.6819e-06]],\n",
      "\n",
      "        [[1.7847e-06, 1.7216e-06, 1.6384e-06],\n",
      "         [6.0749e-07, 6.0898e-07, 5.8384e-07],\n",
      "         [6.1379e-07, 6.3025e-07, 6.5442e-07],\n",
      "         ...,\n",
      "         [1.4227e-06, 1.5568e-06, 1.5066e-06],\n",
      "         [9.7075e-07, 8.5020e-07, 9.0659e-07],\n",
      "         [1.0062e-06, 9.1747e-07, 9.7917e-07]],\n",
      "\n",
      "        [[5.7043e-07, 6.2860e-07, 6.8255e-07],\n",
      "         [7.1121e-07, 7.3187e-07, 7.1266e-07],\n",
      "         [5.5148e-07, 5.8882e-07, 6.2590e-07],\n",
      "         ...,\n",
      "         [1.8314e-06, 1.8296e-06, 1.5854e-06],\n",
      "         [1.7585e-06, 1.7350e-06, 1.6870e-06],\n",
      "         [1.4152e-06, 1.4349e-06, 1.5092e-06]]], device='cuda:0')}, 1: {'step': tensor(4796.), 'exp_avg': tensor([-4.1266e-08, -9.6315e-08, -1.5146e-08,  1.0805e-08, -2.3025e-08,\n",
      "        -5.3506e-08,  1.0029e-07,  2.6084e-08, -1.7656e-07,  2.5002e-08,\n",
      "         1.3704e-07,  1.5891e-08, -2.6103e-09, -1.5391e-07,  6.8810e-08,\n",
      "         2.7713e-09,  2.4122e-08,  1.3744e-08, -9.6454e-09,  4.4523e-08,\n",
      "         3.6064e-08, -1.1259e-08, -1.4241e-07,  3.2046e-08, -3.5746e-08,\n",
      "        -9.9147e-08,  4.1416e-08, -1.3598e-08,  6.3024e-09,  7.7443e-08,\n",
      "        -5.2741e-09,  6.7982e-08, -3.5090e-08, -4.9059e-09, -3.9570e-08,\n",
      "        -3.2962e-08,  5.5232e-08, -7.6302e-08,  9.5926e-08,  3.7207e-08,\n",
      "        -5.6386e-08, -3.9444e-08, -5.0643e-08,  1.2731e-08,  3.6714e-08,\n",
      "        -2.2427e-08, -5.8796e-08, -5.3998e-08,  1.5013e-08,  6.0921e-10,\n",
      "         9.8065e-08,  9.7584e-09, -9.3459e-08,  1.1488e-07, -2.5678e-08,\n",
      "        -1.9015e-07,  1.6071e-08,  3.6227e-08,  4.3178e-08, -1.6806e-07,\n",
      "         5.5697e-08,  2.4025e-08, -2.0812e-08,  3.8336e-08, -1.0655e-07,\n",
      "         5.2996e-08,  4.6392e-08,  1.3771e-07,  2.1585e-07, -2.7981e-09,\n",
      "        -8.6128e-09, -3.3342e-08, -7.1518e-08, -1.1286e-08,  2.6603e-08,\n",
      "         5.7256e-08,  3.8098e-08,  3.4199e-08, -1.4004e-08,  4.7717e-09,\n",
      "         1.1854e-08,  5.9295e-09, -2.3507e-08,  5.7982e-08, -8.4482e-08,\n",
      "        -3.1738e-08, -2.7807e-09, -1.1163e-08, -4.5519e-08, -1.6981e-08,\n",
      "         1.6655e-07, -3.2094e-08,  5.3721e-08, -1.9292e-08, -1.8939e-08,\n",
      "        -1.6959e-08,  3.6527e-08, -4.9513e-08,  9.8710e-08, -1.2698e-07,\n",
      "        -4.0951e-08,  1.3206e-08,  1.2917e-08,  4.7135e-09,  1.0798e-08,\n",
      "        -4.2552e-08,  7.5453e-08,  2.7870e-08, -2.3073e-08, -1.1891e-08,\n",
      "        -2.3194e-08,  1.0235e-07,  1.5917e-08,  1.3305e-07,  4.9782e-08,\n",
      "        -9.2649e-08,  1.2311e-08,  2.4004e-08,  1.9689e-07,  2.2551e-08,\n",
      "        -3.3942e-08,  7.9564e-08, -3.3806e-09, -2.0146e-08, -3.8978e-09,\n",
      "         7.2861e-08,  2.7842e-08, -1.6489e-07], device='cuda:0'), 'exp_avg_sq': tensor([3.9422e-13, 1.7294e-13, 3.7314e-13, 1.2045e-13, 2.8482e-14, 4.8207e-14,\n",
      "        4.6515e-13, 1.6135e-13, 2.3829e-13, 1.7199e-13, 1.4629e-13, 2.9815e-13,\n",
      "        6.2414e-14, 1.6708e-13, 1.1127e-13, 5.2740e-14, 3.8943e-14, 3.2693e-13,\n",
      "        1.4068e-13, 1.0286e-13, 9.7818e-14, 6.7801e-14, 1.2930e-13, 3.3081e-14,\n",
      "        8.7959e-14, 4.1616e-13, 4.5343e-14, 1.1181e-13, 2.2805e-13, 5.8880e-14,\n",
      "        1.2472e-13, 2.7304e-13, 1.2245e-13, 6.1730e-14, 1.5387e-13, 1.1543e-13,\n",
      "        1.5178e-13, 1.4885e-13, 4.1049e-13, 1.0012e-13, 4.5768e-13, 1.9137e-13,\n",
      "        2.1040e-13, 6.8185e-14, 2.1178e-13, 9.9866e-14, 1.7394e-13, 1.0161e-13,\n",
      "        8.0069e-14, 6.8224e-14, 6.5265e-13, 1.1025e-13, 2.2499e-13, 1.7916e-13,\n",
      "        9.7934e-14, 4.2865e-13, 7.6260e-14, 5.8581e-13, 4.6236e-13, 2.2496e-13,\n",
      "        1.5740e-13, 4.0150e-14, 9.6144e-14, 8.1631e-14, 4.5336e-13, 1.0846e-13,\n",
      "        5.6666e-14, 8.5783e-13, 3.7243e-13, 1.0697e-13, 3.7521e-14, 2.5055e-13,\n",
      "        7.7112e-14, 2.4548e-13, 1.0787e-13, 5.9859e-14, 3.3090e-13, 2.4437e-13,\n",
      "        6.5360e-14, 6.3470e-14, 7.5409e-14, 4.6379e-14, 8.1525e-14, 1.1489e-13,\n",
      "        9.6579e-14, 8.7832e-14, 7.1015e-14, 1.2720e-13, 1.1222e-13, 9.8790e-14,\n",
      "        2.3237e-13, 8.6509e-14, 7.2066e-14, 1.1384e-13, 1.4676e-13, 7.2471e-14,\n",
      "        3.7047e-13, 1.4168e-13, 2.5193e-13, 4.6338e-13, 2.1175e-13, 8.0824e-14,\n",
      "        9.0488e-14, 1.5309e-13, 9.5186e-14, 1.2924e-13, 2.9224e-13, 1.0045e-13,\n",
      "        9.9413e-14, 8.4851e-14, 2.3084e-13, 1.1336e-13, 6.8399e-14, 1.6978e-13,\n",
      "        1.9342e-13, 6.2908e-14, 2.0523e-13, 2.2392e-13, 4.0318e-13, 3.3796e-14,\n",
      "        2.4100e-13, 1.9408e-13, 3.9711e-13, 6.1162e-14, 1.2753e-13, 2.8196e-13,\n",
      "        9.8595e-14, 7.8794e-14], device='cuda:0')}, 2: {'step': tensor(4796.), 'exp_avg': tensor([ 8.6150e-05, -1.2065e-04, -2.5370e-05, -3.6011e-05,  2.4493e-04,\n",
      "         1.1840e-05, -1.4801e-04, -1.5115e-04,  2.4597e-05, -3.5536e-04,\n",
      "        -1.4016e-05, -3.2541e-04, -1.7467e-04, -2.3930e-04,  1.0970e-04,\n",
      "         1.7648e-04,  3.4405e-05, -1.8967e-04,  8.4063e-05,  7.3173e-05,\n",
      "         2.0847e-04, -1.3026e-04,  1.2694e-05, -9.4361e-05,  3.5355e-04,\n",
      "        -2.3238e-04, -1.0555e-04,  4.0752e-05,  1.3758e-05,  3.9288e-05,\n",
      "         1.9750e-05, -9.7518e-06, -7.5138e-05, -3.0665e-04,  1.0681e-04,\n",
      "         1.4480e-04, -1.5641e-04, -3.6386e-05, -1.6239e-04,  1.0829e-04,\n",
      "        -2.8633e-04,  8.2572e-05,  1.1004e-04,  1.2210e-04, -8.6213e-05,\n",
      "         7.4148e-05,  7.6037e-06,  1.1262e-04,  9.8029e-05,  1.4230e-04,\n",
      "        -6.6523e-05,  9.2727e-05, -2.2051e-04, -1.5834e-04,  1.9035e-04,\n",
      "        -1.1797e-04,  2.3589e-05,  5.0121e-04, -1.3585e-04, -1.8887e-04,\n",
      "         1.8399e-04,  1.4803e-04,  5.0124e-05,  2.5451e-05, -8.4251e-05,\n",
      "         1.2314e-04,  6.8763e-05,  7.4502e-06, -1.0509e-04,  6.8594e-05,\n",
      "        -8.1166e-05,  3.8318e-05, -2.5160e-04, -2.1392e-06,  5.0134e-05,\n",
      "        -2.4160e-05, -1.1345e-04, -4.1838e-05, -4.8350e-05, -2.3130e-04,\n",
      "         8.6192e-05,  7.0133e-05,  7.3276e-06, -2.0377e-05,  2.0847e-04,\n",
      "        -3.3786e-05,  1.4924e-04,  1.7716e-04, -3.4343e-04, -1.4630e-04,\n",
      "        -1.9632e-05,  1.1800e-04,  4.5104e-05,  1.4366e-04,  5.8885e-05,\n",
      "         4.2375e-05,  3.0997e-05,  6.0067e-05, -2.2146e-06, -1.9737e-04,\n",
      "        -1.3670e-04,  1.8236e-04,  9.0866e-05,  1.3541e-05,  1.0149e-04,\n",
      "        -3.7595e-06, -4.2720e-05,  6.4544e-06,  2.5574e-05,  4.0984e-05,\n",
      "         2.8410e-04,  1.5601e-04,  1.5052e-04,  1.2625e-04, -1.3748e-04,\n",
      "         1.2399e-04, -5.0471e-05,  7.5478e-05, -1.7727e-04, -3.5045e-06,\n",
      "        -4.4253e-06,  7.8400e-05,  1.5735e-04,  7.3059e-05,  3.9858e-05,\n",
      "        -1.3344e-04,  4.2703e-05, -8.1072e-05], device='cuda:0'), 'exp_avg_sq': tensor([6.2206e-07, 3.6707e-07, 4.9914e-07, 2.8329e-07, 4.9955e-07, 9.3748e-07,\n",
      "        7.8146e-07, 3.2146e-07, 2.7363e-07, 1.1120e-06, 4.3643e-07, 8.8898e-07,\n",
      "        3.3259e-07, 6.8073e-07, 2.7772e-07, 6.4610e-07, 5.2199e-07, 3.9808e-07,\n",
      "        2.1557e-07, 5.8969e-07, 8.9329e-07, 3.8152e-07, 2.8116e-07, 2.5802e-07,\n",
      "        6.4762e-07, 1.3955e-06, 2.5245e-07, 4.6238e-07, 1.0684e-06, 2.2771e-07,\n",
      "        1.9351e-07, 3.7648e-07, 6.2554e-07, 1.0442e-06, 5.0620e-07, 3.1762e-07,\n",
      "        9.0583e-07, 3.7475e-07, 1.1197e-06, 2.0407e-07, 4.5572e-07, 3.4963e-07,\n",
      "        4.6270e-07, 2.6990e-07, 3.2511e-07, 1.6475e-07, 4.4658e-07, 5.6778e-07,\n",
      "        6.8966e-07, 2.2798e-07, 1.1057e-06, 1.6617e-07, 1.1291e-06, 9.4146e-07,\n",
      "        4.1635e-07, 4.1963e-07, 6.2880e-07, 2.4801e-06, 4.3640e-07, 5.8301e-07,\n",
      "        3.5716e-07, 5.4979e-07, 3.7007e-07, 1.9359e-07, 5.9971e-07, 6.0574e-07,\n",
      "        4.2747e-07, 6.9274e-07, 4.3597e-07, 2.1030e-07, 2.9119e-07, 2.7524e-07,\n",
      "        7.3533e-07, 2.7017e-07, 2.5015e-07, 2.3417e-07, 5.6546e-07, 3.3220e-07,\n",
      "        2.3141e-07, 8.4559e-07, 2.4037e-07, 4.6931e-07, 1.6354e-07, 9.1377e-07,\n",
      "        2.2567e-07, 1.7128e-07, 1.3092e-06, 5.3611e-07, 6.8812e-07, 1.0199e-06,\n",
      "        6.8783e-07, 6.0526e-07, 4.7334e-07, 5.0065e-07, 3.1879e-07, 1.5552e-07,\n",
      "        8.4412e-07, 3.3886e-07, 7.3848e-07, 7.9031e-07, 4.0717e-07, 2.9288e-07,\n",
      "        2.7630e-07, 7.3889e-07, 2.4596e-07, 2.4980e-07, 7.3911e-07, 3.6370e-07,\n",
      "        6.0215e-07, 2.4187e-07, 3.1687e-07, 9.2341e-07, 3.2707e-07, 7.0446e-07,\n",
      "        4.8532e-07, 3.2404e-07, 7.8916e-07, 3.4423e-07, 6.2625e-07, 1.8620e-07,\n",
      "        5.6007e-07, 5.0039e-07, 5.7018e-07, 2.7588e-07, 3.3431e-07, 4.6782e-07,\n",
      "        3.0521e-07, 3.4939e-07], device='cuda:0')}, 3: {'step': tensor(4796.), 'exp_avg': tensor([-7.7728e-05, -4.0127e-05, -9.1641e-05,  1.6836e-05,  2.0098e-04,\n",
      "        -1.5015e-05, -1.7680e-04,  2.9396e-05, -1.3724e-05, -1.5668e-04,\n",
      "        -7.1337e-05, -1.2440e-04, -9.0174e-05, -1.7189e-04, -6.2597e-05,\n",
      "         6.1068e-05,  2.8132e-05, -1.3424e-04,  9.9404e-05, -2.7739e-05,\n",
      "         1.3568e-04,  6.2417e-06, -6.1818e-05, -8.9443e-06,  1.2964e-04,\n",
      "        -9.7297e-05, -2.6065e-06, -4.9620e-05,  5.5403e-05,  4.7427e-05,\n",
      "        -6.4579e-05, -1.6706e-05, -4.1992e-05, -2.1387e-04,  5.0200e-05,\n",
      "         2.6814e-05, -1.2443e-04,  1.2349e-05,  2.6290e-05,  9.5117e-05,\n",
      "        -1.4925e-04, -2.8704e-05, -3.6593e-05,  3.2099e-05, -9.9580e-05,\n",
      "         5.1863e-05,  4.2834e-05,  7.2302e-05, -7.5730e-06,  4.0008e-05,\n",
      "        -7.8290e-05, -2.4418e-05, -1.7727e-04, -1.5467e-05, -5.9627e-05,\n",
      "        -1.1621e-04, -6.5642e-05,  2.1244e-04, -1.2330e-04, -1.2109e-04,\n",
      "         8.2226e-06, -6.4325e-05,  1.8234e-05, -2.6768e-05,  3.2016e-05,\n",
      "        -3.8857e-05,  8.3784e-05, -1.0734e-04, -2.5875e-04,  4.2432e-06,\n",
      "         1.1052e-05, -1.7069e-04, -1.0061e-04, -5.6416e-05, -9.1643e-05,\n",
      "        -7.2410e-05, -1.0902e-04, -1.9009e-04, -2.9808e-05, -2.7767e-05,\n",
      "         2.4762e-06, -3.6651e-06, -8.8472e-05, -1.3139e-04,  1.3629e-04,\n",
      "        -6.5820e-05,  1.0168e-04,  2.9235e-05, -1.1775e-04, -1.4853e-04,\n",
      "         2.9607e-05, -3.6268e-05,  1.7529e-05,  3.2329e-05, -6.3616e-05,\n",
      "        -7.7498e-06, -1.9956e-05, -2.5756e-05, -3.3585e-05, -1.2969e-04,\n",
      "        -2.2588e-04,  1.1834e-04,  1.2595e-04,  7.2346e-05,  1.8418e-04,\n",
      "         4.5085e-05, -7.5343e-05,  2.3347e-05, -1.6263e-04,  1.3663e-05,\n",
      "         1.5575e-04, -7.5345e-05,  3.1171e-05,  4.0204e-05, -1.0643e-04,\n",
      "         2.6942e-05,  2.7055e-05, -9.8909e-05, -1.3540e-04,  3.8555e-06,\n",
      "        -9.1532e-05, -3.1174e-05,  5.9125e-05, -1.1164e-04,  8.9636e-05,\n",
      "        -1.7157e-05,  6.9750e-05, -1.1884e-04], device='cuda:0'), 'exp_avg_sq': tensor([1.7777e-07, 1.7348e-07, 2.1097e-07, 3.2976e-07, 4.4444e-07, 4.2149e-07,\n",
      "        4.2345e-07, 1.7038e-07, 4.4368e-07, 5.6962e-07, 4.2234e-07, 3.6880e-07,\n",
      "        1.9813e-07, 2.8896e-07, 1.1640e-07, 2.2943e-07, 2.6465e-07, 1.8364e-07,\n",
      "        2.8760e-07, 1.6874e-07, 2.7151e-07, 2.1148e-07, 1.8160e-07, 1.5900e-07,\n",
      "        2.4940e-07, 2.2157e-07, 1.8488e-07, 1.3985e-07, 3.0439e-07, 3.2322e-07,\n",
      "        2.0813e-07, 1.8269e-07, 2.0396e-07, 4.6101e-07, 2.2923e-07, 2.3872e-07,\n",
      "        3.1954e-07, 1.5585e-07, 3.5547e-07, 5.1600e-07, 1.7389e-07, 1.4121e-07,\n",
      "        2.0940e-07, 3.2896e-07, 1.3229e-07, 1.8857e-07, 2.0108e-07, 2.4339e-07,\n",
      "        3.6730e-07, 1.3256e-07, 5.1679e-07, 1.3135e-07, 3.1636e-07, 2.7655e-07,\n",
      "        1.9774e-07, 1.9816e-07, 1.7171e-07, 4.9230e-07, 1.7870e-07, 2.4749e-07,\n",
      "        2.4609e-07, 3.2460e-07, 2.0529e-07, 1.1397e-07, 4.3952e-07, 2.1093e-07,\n",
      "        5.9698e-07, 6.6526e-07, 2.4921e-07, 3.1157e-07, 1.3391e-07, 1.7829e-07,\n",
      "        2.1579e-07, 2.1132e-07, 4.3102e-07, 2.8391e-07, 3.0371e-07, 3.2845e-07,\n",
      "        2.9317e-07, 3.4777e-07, 1.2882e-07, 2.2110e-07, 1.7194e-07, 3.5190e-07,\n",
      "        1.6744e-07, 1.3906e-07, 6.6711e-07, 2.5794e-07, 1.9269e-07, 2.9587e-07,\n",
      "        3.2642e-07, 1.8341e-07, 2.0111e-07, 2.5132e-07, 1.9022e-07, 3.9872e-07,\n",
      "        3.1684e-07, 1.9488e-07, 2.0051e-07, 2.5007e-07, 5.3732e-07, 1.3265e-07,\n",
      "        1.6054e-07, 2.8650e-07, 7.0969e-07, 2.1526e-07, 3.7801e-07, 1.1413e-07,\n",
      "        2.3982e-07, 5.0069e-07, 5.7762e-07, 4.0278e-07, 1.5424e-07, 1.8796e-07,\n",
      "        2.5130e-07, 2.6825e-07, 1.9486e-07, 1.8562e-07, 1.9552e-07, 2.0359e-07,\n",
      "        1.8755e-07, 3.0270e-07, 3.2665e-07, 1.8334e-07, 1.1583e-07, 3.8348e-07,\n",
      "        4.2197e-07, 4.7207e-07], device='cuda:0')}, 4: {'step': tensor(4796.), 'exp_avg': tensor([[[ 3.3334e-05,  1.1259e-05,  9.1710e-06],\n",
      "         [ 2.4418e-04,  2.3296e-04,  1.6141e-04],\n",
      "         [ 4.1315e-06, -5.2239e-06, -3.1756e-05],\n",
      "         ...,\n",
      "         [ 3.2340e-05,  2.6626e-05,  3.2942e-05],\n",
      "         [-4.9973e-05, -1.6887e-05, -1.0854e-05],\n",
      "         [-4.3647e-05, -2.6406e-05, -1.0454e-05]],\n",
      "\n",
      "        [[-5.2761e-05, -3.0922e-05,  5.8859e-05],\n",
      "         [-6.0372e-05, -2.6006e-05, -5.9577e-06],\n",
      "         [-5.1158e-05, -4.7905e-05, -3.7527e-06],\n",
      "         ...,\n",
      "         [ 1.9457e-04,  1.4549e-04,  8.1617e-05],\n",
      "         [ 1.8811e-06, -1.7029e-06,  1.2424e-05],\n",
      "         [-6.3675e-05, -8.3059e-05, -6.4919e-05]],\n",
      "\n",
      "        [[ 1.5765e-04,  2.3168e-04,  2.7189e-04],\n",
      "         [-1.0568e-04, -6.5143e-05,  5.3584e-05],\n",
      "         [ 3.8780e-05, -3.6798e-05, -5.8569e-05],\n",
      "         ...,\n",
      "         [-3.6455e-05, -7.6137e-06,  3.3595e-07],\n",
      "         [ 9.9708e-05,  3.9652e-05,  8.0050e-07],\n",
      "         [ 1.4982e-04,  1.1666e-04,  8.1825e-05]],\n",
      "\n",
      "        ...,\n",
      "\n",
      "        [[-8.4543e-05,  2.9070e-05,  6.1242e-05],\n",
      "         [-2.6168e-04, -2.3497e-04, -9.2608e-05],\n",
      "         [-1.3160e-04, -8.5939e-05, -1.3355e-04],\n",
      "         ...,\n",
      "         [ 2.0043e-04,  1.9272e-04,  1.5132e-04],\n",
      "         [ 3.9482e-05, -4.3416e-05, -1.1147e-04],\n",
      "         [-1.0214e-04, -1.8083e-04, -1.6109e-04]],\n",
      "\n",
      "        [[ 3.7838e-06,  5.0500e-05,  8.7194e-05],\n",
      "         [-8.2315e-05, -7.2997e-05, -6.3141e-05],\n",
      "         [ 7.4241e-05,  3.5120e-05,  3.6163e-05],\n",
      "         ...,\n",
      "         [ 1.4677e-04,  1.2912e-04,  9.8460e-05],\n",
      "         [ 2.9712e-05,  2.0838e-05,  1.9937e-05],\n",
      "         [-1.0482e-05, -1.9497e-05, -2.2007e-05]],\n",
      "\n",
      "        [[-6.9088e-05, -4.1148e-05, -4.9496e-05],\n",
      "         [ 1.6426e-06, -1.0070e-05,  1.5423e-05],\n",
      "         [-6.9488e-05, -1.5910e-05, -2.5051e-05],\n",
      "         ...,\n",
      "         [-1.0836e-05, -1.9340e-05, -2.2268e-05],\n",
      "         [ 3.1980e-06, -2.5467e-06, -1.0677e-05],\n",
      "         [-2.7120e-05, -1.7657e-05,  1.7759e-06]]], device='cuda:0'), 'exp_avg_sq': tensor([[[2.8207e-07, 3.0275e-07, 3.5149e-07],\n",
      "         [2.9705e-07, 2.5375e-07, 2.3836e-07],\n",
      "         [3.1000e-07, 3.5086e-07, 3.7253e-07],\n",
      "         ...,\n",
      "         [1.9712e-07, 1.4526e-07, 1.2289e-07],\n",
      "         [5.7215e-08, 4.7619e-08, 4.9769e-08],\n",
      "         [1.2096e-07, 1.0921e-07, 1.0879e-07]],\n",
      "\n",
      "        [[7.7999e-07, 8.2366e-07, 7.9114e-07],\n",
      "         [3.9463e-07, 4.5538e-07, 5.3564e-07],\n",
      "         [5.7700e-07, 5.9977e-07, 5.7668e-07],\n",
      "         ...,\n",
      "         [1.9480e-07, 1.5950e-07, 1.4117e-07],\n",
      "         [2.9529e-07, 2.8440e-07, 2.6553e-07],\n",
      "         [3.2368e-07, 3.5124e-07, 3.6228e-07]],\n",
      "\n",
      "        [[1.1033e-06, 1.2644e-06, 1.3759e-06],\n",
      "         [5.7769e-07, 5.8647e-07, 6.2269e-07],\n",
      "         [7.8536e-07, 8.5410e-07, 8.7393e-07],\n",
      "         ...,\n",
      "         [5.0185e-07, 3.0568e-07, 2.1437e-07],\n",
      "         [3.7342e-07, 2.8704e-07, 2.4701e-07],\n",
      "         [4.0846e-07, 3.5725e-07, 3.2101e-07]],\n",
      "\n",
      "        ...,\n",
      "\n",
      "        [[5.0741e-07, 4.1724e-07, 4.2934e-07],\n",
      "         [7.9550e-07, 7.1696e-07, 6.1869e-07],\n",
      "         [5.0256e-07, 4.7163e-07, 4.8546e-07],\n",
      "         ...,\n",
      "         [1.1265e-06, 1.0822e-06, 1.0290e-06],\n",
      "         [7.2528e-07, 8.0557e-07, 8.1293e-07],\n",
      "         [6.3634e-07, 7.5956e-07, 8.4027e-07]],\n",
      "\n",
      "        [[1.4132e-07, 1.6623e-07, 1.7723e-07],\n",
      "         [1.7061e-07, 1.5500e-07, 1.4943e-07],\n",
      "         [1.4098e-07, 1.6221e-07, 1.8121e-07],\n",
      "         ...,\n",
      "         [8.2369e-08, 8.5075e-08, 8.5485e-08],\n",
      "         [4.1222e-08, 3.6378e-08, 3.7102e-08],\n",
      "         [8.0222e-08, 7.0348e-08, 6.5171e-08]],\n",
      "\n",
      "        [[4.2996e-07, 4.2257e-07, 4.0489e-07],\n",
      "         [4.9001e-07, 4.8347e-07, 4.6898e-07],\n",
      "         [3.1355e-07, 2.9367e-07, 2.7475e-07],\n",
      "         ...,\n",
      "         [1.0226e-07, 1.0795e-07, 8.7189e-08],\n",
      "         [3.7865e-08, 3.5448e-08, 3.7847e-08],\n",
      "         [7.9868e-08, 8.8748e-08, 9.7028e-08]]], device='cuda:0')}, 5: {'step': tensor(4796.), 'exp_avg': tensor([ 2.8569e-08, -1.4704e-08, -3.9204e-08, -3.2459e-08,  2.6701e-08,\n",
      "         2.8584e-09,  4.9799e-09,  1.1934e-08, -2.9068e-08, -3.6858e-08,\n",
      "        -1.7729e-08,  1.8466e-08,  2.1967e-08, -6.9389e-10, -3.2055e-08,\n",
      "        -2.7588e-08,  2.2594e-09, -2.6879e-08,  2.2561e-09, -4.0538e-09,\n",
      "        -3.9951e-08,  9.9954e-09, -1.0318e-09, -7.7080e-08,  2.9754e-08,\n",
      "        -2.0767e-08, -3.3574e-08,  3.3592e-08, -8.8434e-11, -1.2682e-08,\n",
      "         3.9779e-08, -1.8333e-08,  7.3171e-09,  1.2963e-08, -7.1015e-09,\n",
      "        -1.4376e-08, -7.5956e-09,  2.3432e-08, -2.8935e-08, -1.8418e-08,\n",
      "        -7.6401e-09,  3.0669e-08, -2.4819e-08,  1.3860e-08, -4.8346e-08,\n",
      "        -1.0394e-09, -1.0314e-08,  2.4651e-08,  1.8904e-08,  4.5986e-08,\n",
      "        -1.5655e-08,  1.1912e-08,  5.4749e-08, -9.6907e-09, -2.0884e-09,\n",
      "         1.8714e-08,  4.1272e-09,  1.5547e-08, -2.2087e-08, -3.2334e-08,\n",
      "        -3.4086e-08,  3.8680e-08, -1.2224e-08,  1.7579e-08, -1.9369e-08,\n",
      "         6.3062e-09, -5.5624e-09,  1.8131e-09, -2.7240e-08, -1.0880e-08,\n",
      "         2.0099e-08, -3.0473e-09, -3.8944e-08,  3.0893e-08, -7.0859e-08,\n",
      "        -2.5929e-08,  2.1138e-08,  1.0196e-08,  3.5560e-08, -5.9794e-08,\n",
      "         2.8138e-08,  2.1543e-08,  6.6337e-09, -1.1479e-08,  3.7553e-09,\n",
      "        -2.3964e-08,  5.3235e-09, -8.9069e-09, -2.0564e-08, -4.5065e-09,\n",
      "        -9.0105e-09, -5.6131e-10,  1.0753e-08, -5.4377e-08,  9.3622e-09,\n",
      "         9.1753e-10,  6.1738e-09,  3.6729e-08, -3.1669e-08,  2.2753e-08,\n",
      "        -6.1621e-09,  7.4315e-09,  4.6030e-08, -1.2076e-08, -4.8197e-08,\n",
      "         2.5329e-08,  3.7809e-08,  1.4119e-09,  2.4083e-08,  3.0841e-08,\n",
      "         4.5949e-09,  5.9531e-09, -1.6763e-08, -3.4085e-08,  2.4612e-08,\n",
      "         8.6192e-09,  1.7516e-08, -7.1541e-09,  3.0751e-08, -2.7288e-09,\n",
      "         1.0725e-08,  2.2153e-08,  2.8304e-08,  2.4996e-09, -2.7849e-08,\n",
      "         4.1641e-08,  9.1440e-12, -6.2005e-08, -2.0670e-08, -3.1684e-08,\n",
      "         2.8974e-08,  1.0411e-08,  1.6584e-08, -1.8665e-08, -1.5540e-09,\n",
      "         3.5164e-08,  3.2404e-08, -3.0094e-08, -3.4014e-08,  1.3022e-08,\n",
      "         3.1505e-09, -3.0862e-08,  2.2744e-08, -1.3258e-08, -5.0359e-09,\n",
      "        -5.4407e-10,  2.9797e-09, -5.6050e-10,  1.7058e-08, -3.7530e-08,\n",
      "         1.5309e-08, -4.5404e-10,  2.4576e-08,  1.9071e-09,  2.0146e-09,\n",
      "         6.7054e-09,  4.1943e-10,  2.6672e-08, -3.7278e-09,  8.6938e-08,\n",
      "        -5.0360e-09,  3.7845e-08, -8.4243e-09, -5.1622e-08,  7.2166e-09,\n",
      "         3.9151e-09, -7.1757e-09, -5.1283e-08,  1.1098e-08, -3.1341e-09,\n",
      "        -2.6616e-08, -7.1115e-09,  3.5627e-08, -3.1588e-08,  2.7137e-08,\n",
      "         3.1557e-08, -2.1211e-08,  4.5903e-09,  1.4798e-08,  2.4624e-08,\n",
      "         2.1966e-09,  8.2948e-08, -2.7901e-08, -9.8356e-09, -7.7177e-09,\n",
      "         2.1460e-08, -2.1449e-09,  4.4646e-08, -5.5547e-09, -7.2537e-09,\n",
      "         8.6376e-09, -4.2122e-09,  3.3680e-08, -8.5097e-09,  3.1773e-09,\n",
      "         3.2440e-09, -3.0034e-08, -4.6521e-08,  1.0600e-08, -6.1811e-08,\n",
      "        -3.4171e-08, -6.1757e-08,  8.5985e-09,  8.7913e-09, -3.6412e-09,\n",
      "         5.6960e-09, -6.2985e-09,  6.1067e-10,  1.4695e-08, -3.2234e-08,\n",
      "         5.1899e-09, -4.7110e-09,  4.7082e-08, -1.5191e-08, -1.4649e-08,\n",
      "        -1.4309e-09,  1.5724e-08,  4.1693e-08,  1.0591e-09,  3.0269e-08,\n",
      "        -4.0832e-08, -1.2616e-09, -3.0830e-09, -4.6680e-08,  2.1786e-08,\n",
      "         2.4765e-08,  6.6721e-11, -3.6208e-09,  3.4487e-08,  3.5985e-09,\n",
      "        -3.6198e-08, -9.1868e-09, -4.4959e-09, -2.7958e-08, -1.9015e-08,\n",
      "         2.1759e-08,  2.6593e-08,  4.7565e-08, -1.2610e-08, -3.4851e-10,\n",
      "        -3.9306e-08,  3.4967e-09, -1.3399e-08,  1.2964e-08,  1.7906e-08,\n",
      "        -2.1471e-08,  4.4038e-08, -9.4968e-09, -5.4600e-09, -3.6706e-08,\n",
      "        -2.5420e-08,  4.1476e-09, -6.0601e-09, -4.1002e-09, -1.4004e-08,\n",
      "        -1.8168e-08], device='cuda:0'), 'exp_avg_sq': tensor([5.0198e-15, 2.5571e-14, 3.7644e-14, 1.5785e-14, 2.0430e-14, 1.1235e-14,\n",
      "        4.9869e-14, 1.4001e-14, 3.3277e-14, 8.5624e-15, 3.4589e-14, 2.5037e-14,\n",
      "        9.3741e-15, 1.4738e-14, 1.1734e-14, 1.7206e-14, 8.6286e-15, 2.5184e-14,\n",
      "        8.3575e-15, 5.9429e-14, 5.6524e-15, 9.2528e-15, 5.0405e-15, 4.5592e-14,\n",
      "        7.3394e-15, 1.5188e-14, 3.4594e-14, 3.2054e-14, 1.4842e-14, 6.1490e-15,\n",
      "        4.1141e-14, 6.6173e-15, 7.8318e-15, 2.1457e-14, 1.5458e-14, 1.4546e-14,\n",
      "        3.8726e-15, 2.9356e-14, 1.0439e-14, 2.2361e-14, 9.2836e-15, 4.0020e-14,\n",
      "        3.4471e-14, 7.6119e-15, 2.0280e-14, 9.1710e-15, 6.3567e-15, 1.9830e-14,\n",
      "        3.2054e-15, 4.0476e-14, 2.0920e-14, 1.1579e-14, 1.2705e-14, 2.2455e-14,\n",
      "        4.6794e-15, 3.9281e-14, 2.2140e-14, 2.9907e-15, 1.5188e-14, 1.9730e-14,\n",
      "        3.3924e-14, 1.4093e-14, 4.3886e-15, 1.6229e-14, 1.3448e-14, 1.2221e-14,\n",
      "        3.0336e-14, 2.1704e-14, 1.9694e-14, 4.6531e-14, 2.3716e-14, 1.7652e-14,\n",
      "        3.9427e-14, 1.3308e-14, 9.8031e-14, 3.3422e-14, 5.5470e-15, 7.9782e-15,\n",
      "        1.5814e-14, 8.7695e-15, 7.1251e-14, 1.6365e-14, 6.7597e-15, 5.1993e-15,\n",
      "        1.9379e-14, 9.9182e-15, 3.4042e-15, 2.9299e-14, 1.3572e-14, 2.2850e-14,\n",
      "        7.5571e-15, 1.2592e-14, 6.0587e-15, 3.2832e-14, 2.2216e-14, 4.7627e-15,\n",
      "        5.4273e-15, 3.4135e-14, 3.6157e-14, 2.9578e-14, 4.4860e-14, 2.5906e-14,\n",
      "        1.0533e-14, 1.4950e-14, 2.8011e-14, 2.7110e-14, 2.8435e-14, 1.0462e-14,\n",
      "        2.8583e-14, 2.9010e-14, 2.2527e-15, 1.8359e-14, 2.5135e-14, 4.6055e-14,\n",
      "        3.2629e-14, 1.0406e-14, 1.6396e-14, 7.7086e-15, 8.6348e-15, 3.2762e-15,\n",
      "        8.3720e-15, 2.8679e-14, 1.5360e-14, 7.4897e-15, 6.6592e-14, 4.8060e-14,\n",
      "        5.0610e-14, 1.0104e-13, 1.7139e-14, 2.4424e-14, 2.3482e-14, 9.0049e-15,\n",
      "        1.2150e-14, 6.0104e-15, 3.2922e-14, 5.8490e-14, 2.3282e-14, 5.7797e-14,\n",
      "        1.0102e-14, 1.3170e-14, 3.2339e-14, 2.3340e-14, 3.0517e-14, 1.3997e-14,\n",
      "        2.4221e-14, 3.2297e-14, 7.8347e-15, 1.1649e-14, 1.0525e-14, 4.4952e-14,\n",
      "        2.8737e-14, 4.3920e-14, 1.7503e-14, 2.4908e-15, 1.1429e-14, 1.7326e-14,\n",
      "        1.0766e-14, 3.6528e-15, 1.4480e-14, 3.0964e-14, 1.0946e-14, 2.0426e-14,\n",
      "        2.7117e-14, 1.3827e-14, 2.8211e-14, 1.8865e-14, 1.8784e-14, 1.6871e-14,\n",
      "        1.1040e-14, 2.5419e-14, 7.7986e-15, 9.5388e-15, 2.0327e-14, 2.1665e-14,\n",
      "        2.5972e-14, 1.4311e-14, 3.5363e-14, 3.0642e-14, 2.1214e-14, 2.8588e-14,\n",
      "        1.0185e-14, 9.2763e-14, 1.5696e-14, 4.0329e-14, 2.1270e-14, 1.1464e-14,\n",
      "        9.6255e-15, 5.5116e-14, 2.5459e-14, 4.6466e-15, 2.3748e-14, 8.8955e-15,\n",
      "        1.7562e-14, 1.3817e-14, 4.0744e-14, 1.0245e-14, 5.4495e-15, 1.5271e-14,\n",
      "        4.3849e-15, 2.3736e-14, 4.8728e-14, 3.3498e-14, 4.2081e-15, 8.0833e-15,\n",
      "        3.8922e-15, 5.6190e-15, 1.3806e-14, 6.0650e-15, 1.8981e-14, 3.2897e-14,\n",
      "        1.9958e-14, 2.1273e-14, 4.8454e-14, 2.5320e-14, 1.4163e-14, 1.7606e-14,\n",
      "        1.6037e-14, 3.9250e-14, 8.7078e-15, 1.8673e-14, 1.0780e-14, 1.4615e-14,\n",
      "        2.0695e-14, 2.9131e-14, 4.7040e-14, 1.2781e-14, 2.3790e-14, 2.1679e-14,\n",
      "        1.9309e-14, 2.6149e-14, 1.3301e-14, 6.8886e-15, 8.4940e-14, 2.1932e-14,\n",
      "        1.8204e-14, 9.2521e-15, 2.7291e-14, 1.1502e-14, 2.8751e-14, 5.4479e-14,\n",
      "        2.8803e-14, 2.3351e-14, 2.9319e-14, 5.6009e-14, 6.8988e-15, 2.0629e-14,\n",
      "        4.4785e-14, 2.3532e-14, 1.1976e-14, 1.3135e-14, 2.8043e-14, 9.5431e-15,\n",
      "        7.6792e-15, 1.7900e-14, 3.0529e-15, 1.4181e-14], device='cuda:0')}, 6: {'step': tensor(4796.), 'exp_avg': tensor([-4.8350e-05,  1.0155e-04, -9.3528e-05, -6.7946e-05, -3.2702e-05,\n",
      "         2.7396e-05, -1.0575e-04, -1.6821e-05,  9.3960e-08,  3.9284e-05,\n",
      "        -6.2173e-05, -1.1724e-05,  8.7830e-05, -1.6030e-05,  5.1334e-05,\n",
      "         3.4358e-05,  1.0857e-04, -5.0960e-05,  1.0379e-04, -8.3586e-05,\n",
      "        -8.9132e-06, -2.3117e-04, -2.6050e-05, -3.0228e-05,  1.6136e-05,\n",
      "        -6.8598e-05, -3.3251e-05, -8.4846e-06, -3.2163e-05,  4.1076e-05,\n",
      "         1.3507e-04, -1.9888e-05,  4.5453e-05, -3.8986e-05,  1.0769e-05,\n",
      "         4.5706e-05,  3.1086e-05,  8.7078e-05,  5.0252e-05,  5.5098e-05,\n",
      "         3.6052e-05,  1.1485e-05,  2.8814e-05,  7.5829e-05,  3.6407e-05,\n",
      "        -1.6386e-05, -3.0916e-05,  1.0591e-05,  5.2617e-05, -5.5724e-05,\n",
      "        -3.2917e-05,  6.1290e-05,  6.0114e-05,  2.7619e-05, -4.2975e-05,\n",
      "         1.3136e-07, -9.6345e-06, -1.1846e-04, -2.7724e-05, -3.0212e-05,\n",
      "        -4.2897e-06, -6.9900e-06,  4.6722e-05,  7.0751e-05, -3.2405e-05,\n",
      "        -1.0636e-04,  2.8562e-05, -3.5427e-05, -6.9567e-05, -3.4689e-05,\n",
      "        -1.3406e-05, -4.3552e-05, -8.7293e-06, -5.6442e-05,  3.3500e-05,\n",
      "        -4.1060e-05,  9.9079e-05, -1.8741e-05,  4.7945e-05, -5.0892e-05,\n",
      "         1.4475e-05,  2.6654e-05,  1.1277e-04, -1.0311e-04, -6.2622e-05,\n",
      "        -6.2843e-05, -2.2842e-07,  7.9845e-05,  3.0744e-05, -4.8578e-05,\n",
      "        -4.2247e-05,  1.9773e-05,  9.7642e-05,  1.1416e-05,  9.4996e-06,\n",
      "         5.0208e-06,  8.1432e-05, -4.8124e-05, -1.2442e-04, -1.6265e-05,\n",
      "        -6.8419e-05, -6.1904e-05, -1.0959e-04,  4.2443e-05, -2.6362e-05,\n",
      "        -7.5460e-06, -1.1517e-05,  1.5085e-05,  6.8975e-05,  1.3984e-05,\n",
      "         5.2966e-05, -3.2906e-05, -1.9581e-06, -5.8042e-05,  1.8563e-05,\n",
      "         2.6372e-05,  2.2364e-05,  4.1313e-05, -6.7442e-05,  1.4763e-05,\n",
      "        -7.4671e-06,  3.9342e-05,  4.4206e-05,  1.2935e-06,  7.2353e-06,\n",
      "        -4.2400e-06,  4.9927e-05, -3.8928e-05,  5.8807e-05, -2.5616e-05,\n",
      "        -2.0662e-05, -5.7026e-05,  3.6485e-05,  1.5435e-05,  4.1209e-05,\n",
      "        -3.5420e-05, -1.3994e-04,  4.4182e-05, -7.4451e-05, -1.1503e-05,\n",
      "         5.7448e-07, -3.6034e-05, -1.7481e-04,  6.6466e-05, -5.8657e-05,\n",
      "        -2.8777e-05,  8.0205e-05,  2.5838e-05,  7.5315e-05,  2.7387e-05,\n",
      "         4.6093e-05, -3.9422e-05, -4.7025e-05, -4.1354e-05,  9.8912e-05,\n",
      "         1.0985e-05,  6.5259e-06, -5.2505e-05, -1.2073e-04,  7.0861e-05,\n",
      "         4.2433e-05,  4.1254e-05,  1.0482e-05, -1.1832e-05,  9.5626e-05,\n",
      "         2.7834e-05, -6.2464e-05,  5.3674e-05, -5.8128e-05,  2.7990e-05,\n",
      "        -1.3173e-05, -4.3896e-05,  5.0562e-05,  7.0141e-05, -5.3168e-05,\n",
      "        -4.6309e-05,  2.0493e-05,  1.5226e-05, -7.1223e-05,  1.6851e-05,\n",
      "         2.3031e-05,  1.9912e-04, -4.4324e-05, -4.4211e-05, -9.8978e-05,\n",
      "         1.1660e-05, -2.9941e-05, -6.1702e-05,  3.9147e-05,  3.0351e-05,\n",
      "         6.5169e-05,  3.1658e-05,  6.0374e-05, -2.1205e-05, -5.9811e-05,\n",
      "         8.4409e-05,  2.5719e-05,  1.5538e-05,  3.0908e-05, -1.1004e-04,\n",
      "         2.1421e-05, -8.0125e-05, -2.9364e-05, -1.4440e-04,  4.3261e-05,\n",
      "         4.5247e-05,  1.3528e-04,  1.2446e-05,  1.1380e-04, -2.6160e-05,\n",
      "         4.1637e-05, -4.3241e-05,  8.8121e-05, -2.3776e-06, -6.5431e-05,\n",
      "         3.9653e-05,  2.9700e-05, -8.4707e-06,  4.3651e-05,  2.6832e-05,\n",
      "         3.2690e-05, -4.3260e-05, -1.0897e-04, -2.3559e-05,  1.9982e-05,\n",
      "        -1.1822e-04, -4.6404e-05, -7.9594e-05,  3.9999e-05, -1.7313e-04,\n",
      "         1.4931e-04, -3.1587e-05, -8.5602e-05,  1.0544e-06, -1.6897e-05,\n",
      "         6.9912e-05,  4.9527e-05,  8.6831e-05,  2.4701e-05, -8.0550e-05,\n",
      "         5.8003e-05, -3.0958e-05,  3.6106e-05,  8.4290e-05,  6.3678e-06,\n",
      "         6.9722e-05, -8.4809e-05,  9.8278e-05,  3.8452e-05, -1.0743e-05,\n",
      "         9.4417e-05, -1.1082e-04, -6.7246e-06,  8.1567e-05, -6.1850e-06,\n",
      "         1.7460e-05], device='cuda:0'), 'exp_avg_sq': tensor([4.9432e-07, 1.7964e-07, 1.9786e-07, 1.4041e-07, 6.7077e-08, 1.6084e-07,\n",
      "        2.2013e-07, 2.2339e-07, 3.1976e-07, 5.3717e-08, 1.8282e-07, 9.4058e-08,\n",
      "        1.7017e-07, 9.6276e-08, 1.0551e-07, 1.2431e-07, 5.8849e-07, 1.0875e-07,\n",
      "        2.0308e-07, 2.3638e-07, 1.8950e-07, 5.2434e-07, 3.1559e-07, 2.4528e-07,\n",
      "        1.5124e-07, 1.5017e-07, 1.2664e-07, 1.7014e-07, 5.8520e-08, 8.2571e-08,\n",
      "        2.2289e-07, 2.1056e-07, 2.3764e-07, 1.1944e-07, 1.0452e-07, 1.2856e-07,\n",
      "        1.9171e-07, 2.0073e-07, 2.6802e-07, 4.7035e-07, 1.8645e-07, 1.4442e-07,\n",
      "        1.5240e-07, 4.4980e-07, 1.0166e-07, 2.3766e-07, 7.7490e-07, 1.2913e-07,\n",
      "        2.0403e-07, 1.9353e-07, 1.5119e-07, 2.5131e-07, 3.2732e-07, 1.4657e-07,\n",
      "        2.9159e-07, 3.0358e-07, 1.8491e-07, 1.4586e-07, 1.6522e-07, 1.5707e-07,\n",
      "        5.0969e-07, 5.9896e-08, 1.6681e-07, 2.1253e-07, 3.3530e-07, 4.5512e-07,\n",
      "        1.4254e-07, 1.1603e-07, 1.2136e-07, 1.6105e-07, 1.5192e-07, 7.8875e-08,\n",
      "        1.3142e-07, 7.6259e-08, 3.0796e-07, 1.6213e-07, 1.6175e-07, 1.5881e-07,\n",
      "        1.0164e-07, 1.6393e-07, 2.0981e-07, 1.1390e-07, 1.4175e-07, 2.5749e-07,\n",
      "        9.2742e-08, 4.7429e-07, 2.3395e-07, 1.8186e-07, 1.4650e-07, 1.3960e-07,\n",
      "        1.4269e-07, 1.1230e-07, 1.6820e-07, 4.3518e-07, 2.6334e-07, 2.2861e-07,\n",
      "        2.8429e-07, 1.5293e-07, 2.0618e-07, 1.7278e-07, 1.7340e-07, 4.8688e-07,\n",
      "        1.0966e-06, 4.9776e-07, 1.1199e-07, 8.8402e-08, 1.5217e-07, 7.5151e-08,\n",
      "        1.4424e-07, 1.1198e-07, 2.0571e-07, 8.7668e-08, 1.5362e-07, 3.8203e-07,\n",
      "        1.3318e-07, 6.3280e-08, 1.5081e-07, 2.0914e-07, 1.3398e-07, 1.6318e-07,\n",
      "        2.8043e-07, 9.6270e-08, 1.1061e-07, 4.8623e-07, 1.1552e-07, 1.1916e-07,\n",
      "        1.9674e-07, 1.1139e-07, 9.6805e-08, 2.4826e-07, 5.9506e-08, 7.9381e-08,\n",
      "        2.4859e-07, 1.4746e-07, 1.9389e-07, 6.4779e-07, 2.8515e-07, 1.1801e-07,\n",
      "        1.5026e-07, 6.4999e-08, 1.5969e-07, 6.2691e-08, 2.2512e-07, 1.3426e-07,\n",
      "        2.8670e-07, 4.3220e-07, 3.6656e-07, 5.3280e-08, 2.8564e-07, 2.1876e-07,\n",
      "        1.4879e-07, 1.6448e-07, 8.2217e-08, 1.5875e-07, 2.9710e-07, 8.6358e-08,\n",
      "        3.0554e-07, 1.3034e-07, 2.2551e-07, 1.2900e-07, 1.3709e-07, 1.3716e-07,\n",
      "        8.8295e-08, 8.9438e-08, 9.9568e-08, 5.3265e-07, 7.3843e-08, 1.3164e-07,\n",
      "        2.6950e-07, 2.4168e-07, 2.3337e-07, 5.8312e-07, 1.6923e-07, 3.3909e-07,\n",
      "        1.6184e-07, 1.0118e-07, 1.7691e-07, 1.1719e-07, 1.2471e-07, 2.6416e-07,\n",
      "        1.7250e-07, 2.2707e-07, 5.4190e-08, 1.6652e-07, 7.9789e-08, 1.1717e-07,\n",
      "        2.2608e-07, 2.2752e-07, 9.1970e-08, 1.2065e-07, 1.1259e-07, 1.3466e-07,\n",
      "        2.5064e-07, 8.8753e-08, 1.9627e-07, 1.5703e-07, 2.4011e-07, 1.1629e-07,\n",
      "        2.7188e-07, 1.8318e-07, 2.1902e-07, 3.1770e-07, 1.3699e-07, 3.8080e-07,\n",
      "        2.7447e-07, 1.2858e-07, 2.0976e-07, 2.0679e-07, 2.9357e-07, 2.5207e-07,\n",
      "        8.9760e-08, 2.3268e-07, 1.1859e-07, 7.0849e-08, 4.7496e-07, 2.8315e-07,\n",
      "        1.1437e-07, 1.5369e-07, 2.6481e-07, 1.1711e-07, 9.4887e-08, 1.0639e-07,\n",
      "        4.3246e-07, 2.1518e-07, 1.3200e-07, 4.2862e-07, 7.3711e-08, 8.6124e-08,\n",
      "        6.3026e-08, 1.7181e-07, 6.4493e-07, 2.7937e-07, 1.6066e-07, 1.0119e-07,\n",
      "        5.2651e-08, 2.6637e-07, 1.7768e-07, 3.5613e-07, 7.9978e-08, 3.2359e-07,\n",
      "        1.2246e-07, 2.7934e-07, 1.0683e-07, 1.9912e-07, 1.3947e-07, 9.5199e-08,\n",
      "        2.8502e-07, 1.5010e-07, 2.0561e-07, 9.6538e-08, 2.5012e-07, 1.9694e-07,\n",
      "        4.2819e-07, 1.7335e-07, 2.6764e-07, 6.7260e-08], device='cuda:0')}, 7: {'step': tensor(4796.), 'exp_avg': tensor([-6.9213e-05,  3.9156e-05, -2.8591e-05,  2.7602e-05, -2.6487e-05,\n",
      "        -4.2979e-05, -3.3831e-05, -2.6222e-05, -3.2667e-05,  5.8862e-05,\n",
      "        -3.3227e-05,  1.4378e-05,  6.3837e-05, -7.5916e-06,  6.3627e-05,\n",
      "         3.7816e-05,  6.2539e-05, -4.8684e-05,  3.8227e-05,  6.7540e-06,\n",
      "        -6.5381e-05, -1.0794e-04, -2.3717e-05, -3.2452e-05,  3.8679e-05,\n",
      "        -8.3341e-05, -3.5821e-05,  4.2153e-05, -9.0250e-05,  1.6565e-05,\n",
      "         4.8139e-05,  4.7233e-06,  4.7219e-06, -2.3001e-05,  2.9362e-05,\n",
      "         4.2636e-05, -5.8717e-05,  6.1447e-06,  9.0761e-07, -1.7613e-05,\n",
      "         4.4854e-05,  1.4529e-05, -4.9207e-05,  1.1636e-04,  9.6171e-05,\n",
      "        -3.4936e-05, -1.2291e-05, -4.0008e-05,  2.3288e-05,  3.2617e-05,\n",
      "        -2.1510e-05,  1.6991e-05, -1.1332e-05,  5.6127e-05,  1.3235e-05,\n",
      "         6.2610e-06,  1.3997e-05, -1.1374e-04, -1.9612e-05,  2.7712e-05,\n",
      "         1.0577e-05, -1.2167e-05,  1.0272e-05,  6.7680e-05, -6.2286e-06,\n",
      "        -4.6273e-06,  9.1742e-06, -6.1852e-05, -4.1799e-05, -2.3741e-05,\n",
      "        -1.6807e-05, -5.1410e-05, -3.8668e-05, -4.0524e-05,  2.7210e-05,\n",
      "        -1.7534e-06,  1.8938e-05, -1.8694e-05,  2.9393e-05, -3.1459e-05,\n",
      "        -2.3552e-05, -1.2818e-05,  7.9535e-05, -6.2776e-05, -4.3534e-05,\n",
      "        -9.1037e-05,  4.2338e-05,  6.0209e-05,  2.1248e-05, -8.4646e-06,\n",
      "        -3.7668e-05,  5.9747e-05,  5.6510e-05,  2.9608e-05,  4.4921e-05,\n",
      "         3.2730e-06, -4.0611e-06, -2.1621e-05, -7.3584e-05,  3.9180e-06,\n",
      "        -4.4750e-05,  2.3815e-05, -5.1979e-05,  8.4369e-06,  8.1576e-06,\n",
      "         1.3105e-05,  5.3846e-06,  4.4493e-05,  2.8868e-05,  3.0979e-05,\n",
      "        -4.7778e-06, -2.8218e-05,  3.2538e-05, -6.2456e-05, -2.8315e-06,\n",
      "         2.6995e-05,  2.6893e-05, -5.4372e-05, -4.9595e-05, -2.7114e-05,\n",
      "        -7.1714e-06, -8.4950e-07,  5.0606e-05, -9.8869e-06, -3.5338e-06,\n",
      "         5.7971e-05,  7.5675e-05, -6.1172e-05,  1.1610e-04, -6.3076e-05,\n",
      "         2.3928e-05, -3.5914e-05,  3.5774e-05,  8.3624e-06,  1.9882e-05,\n",
      "         5.4143e-06, -4.6282e-05,  2.5302e-05, -5.4003e-05, -6.1926e-06,\n",
      "         8.2575e-06,  3.4104e-06, -6.2330e-05,  8.5202e-05, -3.5594e-06,\n",
      "        -7.0695e-05,  3.6365e-05,  1.1215e-05,  5.3757e-06, -6.9082e-06,\n",
      "         3.5234e-05,  2.9720e-05, -4.4433e-05, -1.5023e-05,  6.7019e-05,\n",
      "         5.7729e-06, -2.8026e-05, -1.1667e-05, -6.3832e-05, -2.9800e-06,\n",
      "        -2.5650e-05,  1.3489e-05, -1.6737e-05, -4.0778e-05,  2.1108e-05,\n",
      "         1.2353e-04, -2.5406e-05,  6.1894e-06, -4.4833e-05,  7.3109e-05,\n",
      "        -1.3578e-05,  2.4950e-05,  2.8505e-05, -2.3492e-05, -8.9525e-06,\n",
      "        -3.1988e-05, -1.2501e-05,  3.5002e-05, -2.5880e-05,  3.7377e-05,\n",
      "         6.0085e-05,  1.2621e-04, -3.7005e-05, -3.4888e-05, -3.6669e-05,\n",
      "        -1.5223e-05,  9.1422e-06, -3.0688e-05,  2.8384e-05,  4.6578e-05,\n",
      "         6.7714e-05,  1.1406e-05,  6.4987e-06, -5.5190e-05, -6.0369e-05,\n",
      "         1.3197e-05, -5.9886e-06,  1.3423e-05,  6.4659e-05, -1.1581e-04,\n",
      "         1.7280e-05, -6.8514e-05, -7.9279e-05,  3.3999e-07,  6.6265e-06,\n",
      "         3.2243e-05, -2.5357e-06,  3.8794e-05,  1.0143e-04, -1.8179e-05,\n",
      "         6.4887e-05, -3.0291e-05,  7.5916e-05,  1.3939e-05, -6.4193e-05,\n",
      "        -2.1048e-05,  5.3634e-06,  2.4101e-05, -1.0507e-05,  6.6031e-05,\n",
      "        -9.2267e-06, -4.5411e-05, -1.3064e-04, -3.5631e-05, -5.3864e-06,\n",
      "        -7.9501e-05, -4.4333e-05, -2.8574e-05,  6.4378e-05, -5.6998e-05,\n",
      "         6.9395e-05, -2.3399e-05,  1.8035e-05,  8.9338e-06,  2.2129e-05,\n",
      "         7.3454e-05, -3.6498e-05,  9.3724e-05,  2.4451e-05, -4.5149e-05,\n",
      "         1.1792e-04,  6.7058e-05,  8.0041e-05,  6.0040e-05,  1.0101e-05,\n",
      "         9.0511e-06, -1.2367e-05,  8.5821e-05,  2.6292e-05,  3.0749e-05,\n",
      "         6.6327e-05, -4.9234e-05, -9.7589e-05, -2.9925e-06,  2.0052e-05,\n",
      "         5.5139e-05], device='cuda:0'), 'exp_avg_sq': tensor([3.2724e-07, 1.2128e-07, 9.1161e-08, 6.1541e-08, 5.7180e-08, 1.8193e-07,\n",
      "        1.6219e-07, 1.0175e-07, 2.6957e-07, 8.5429e-08, 1.2501e-07, 9.2621e-08,\n",
      "        1.4925e-07, 5.1669e-08, 1.5344e-07, 1.4020e-07, 2.5956e-07, 1.1639e-07,\n",
      "        9.3434e-08, 1.0635e-07, 1.0975e-07, 2.2871e-07, 2.3025e-07, 1.5730e-07,\n",
      "        1.8680e-07, 8.6677e-08, 1.1336e-07, 1.9422e-07, 6.5070e-08, 6.2931e-08,\n",
      "        1.4295e-07, 1.2786e-07, 1.6847e-07, 1.0969e-07, 1.5602e-07, 6.9799e-08,\n",
      "        1.0127e-07, 1.1510e-07, 1.8647e-07, 1.5133e-07, 1.2263e-07, 1.1833e-07,\n",
      "        1.1207e-07, 2.3058e-07, 9.2120e-08, 1.2188e-07, 2.2845e-07, 1.5120e-07,\n",
      "        9.9760e-08, 6.4196e-08, 7.8448e-08, 1.5531e-07, 1.3576e-07, 2.0692e-07,\n",
      "        1.3098e-07, 8.5855e-08, 8.3970e-08, 1.1618e-07, 9.4375e-08, 1.5832e-07,\n",
      "        1.4846e-07, 5.5681e-08, 7.4656e-08, 1.5741e-07, 2.6918e-07, 2.0286e-07,\n",
      "        8.7859e-08, 9.8060e-08, 1.6661e-07, 1.8114e-07, 7.3050e-08, 8.1668e-08,\n",
      "        1.2925e-07, 9.7863e-08, 1.2874e-07, 9.0661e-08, 9.5195e-08, 8.6673e-08,\n",
      "        9.0789e-08, 1.0185e-07, 1.1200e-07, 9.9108e-08, 1.2481e-07, 1.4989e-07,\n",
      "        7.8374e-08, 2.3703e-07, 1.4542e-07, 7.8706e-08, 1.5929e-07, 8.2738e-08,\n",
      "        8.0655e-08, 9.0850e-08, 1.0597e-07, 2.6574e-07, 9.1052e-08, 3.1616e-07,\n",
      "        1.0236e-07, 9.9714e-08, 8.4937e-08, 6.6733e-08, 1.3831e-07, 1.4140e-07,\n",
      "        4.1332e-07, 2.8911e-07, 7.5129e-08, 6.6941e-08, 8.1764e-08, 6.9362e-08,\n",
      "        8.0552e-08, 5.8658e-08, 1.6944e-07, 1.1178e-07, 1.7992e-07, 3.7425e-07,\n",
      "        1.6515e-07, 8.2191e-08, 1.2908e-07, 1.2581e-07, 8.9099e-08, 6.6474e-08,\n",
      "        1.7082e-07, 1.5017e-07, 1.2830e-07, 3.2906e-07, 5.7909e-08, 8.1027e-08,\n",
      "        1.2290e-07, 6.6232e-08, 1.5331e-07, 1.1855e-07, 5.7164e-08, 1.1003e-07,\n",
      "        3.1511e-07, 5.6599e-08, 1.0363e-07, 4.3736e-07, 2.8983e-07, 1.0656e-07,\n",
      "        7.7213e-08, 7.1923e-08, 1.0792e-07, 5.2989e-08, 1.0500e-07, 1.5242e-07,\n",
      "        2.0749e-07, 2.5116e-07, 1.8461e-07, 7.2931e-08, 1.4157e-07, 9.6963e-08,\n",
      "        2.2789e-07, 8.0554e-08, 9.5338e-08, 9.8598e-08, 1.4975e-07, 7.3025e-08,\n",
      "        2.6093e-07, 8.2977e-08, 1.3040e-07, 7.8725e-08, 1.0383e-07, 1.5673e-07,\n",
      "        7.5715e-08, 7.6168e-08, 5.7310e-08, 2.2929e-07, 6.8201e-08, 9.3097e-08,\n",
      "        1.6223e-07, 2.2221e-07, 1.2291e-07, 2.3403e-07, 1.2885e-07, 1.5583e-07,\n",
      "        1.0969e-07, 1.0117e-07, 8.7677e-08, 1.0370e-07, 1.0492e-07, 2.5130e-07,\n",
      "        2.4487e-07, 2.1816e-07, 5.5872e-08, 1.1270e-07, 6.4803e-08, 1.6747e-07,\n",
      "        3.1715e-07, 6.7707e-08, 1.1849e-07, 1.7438e-07, 8.1337e-08, 1.0461e-07,\n",
      "        1.5198e-07, 9.4138e-08, 1.6294e-07, 9.9577e-08, 1.1751e-07, 1.4952e-07,\n",
      "        1.7146e-07, 1.2519e-07, 9.2870e-08, 1.5676e-07, 8.4503e-08, 1.9294e-07,\n",
      "        1.6925e-07, 6.7520e-08, 1.3118e-07, 2.4780e-07, 1.9276e-07, 1.0545e-07,\n",
      "        9.6528e-08, 9.9170e-08, 1.2653e-07, 7.1190e-08, 2.4092e-07, 1.4425e-07,\n",
      "        1.4897e-07, 1.5669e-07, 1.2251e-07, 1.7678e-07, 1.3183e-07, 8.9485e-08,\n",
      "        2.6754e-07, 1.1478e-07, 1.2748e-07, 2.6968e-07, 6.1407e-08, 9.7196e-08,\n",
      "        5.6488e-08, 6.8157e-08, 3.0068e-07, 1.2071e-07, 1.8852e-07, 1.5255e-07,\n",
      "        5.0313e-08, 1.2336e-07, 6.3038e-08, 1.8424e-07, 8.4723e-08, 1.7016e-07,\n",
      "        1.9683e-07, 1.5667e-07, 9.7975e-08, 5.6747e-08, 1.2726e-07, 6.9335e-08,\n",
      "        1.2904e-07, 1.8722e-07, 1.7224e-07, 6.5544e-08, 9.7330e-08, 1.3414e-07,\n",
      "        1.3529e-07, 9.3035e-08, 1.3394e-07, 6.5310e-08], device='cuda:0')}, 8: {'step': tensor(4796.), 'exp_avg': tensor([[[ 8.0114e-06,  2.1863e-05,  1.8029e-05],\n",
      "         [ 6.5557e-06, -1.0726e-05, -1.7231e-05],\n",
      "         [-2.1297e-05, -3.9139e-06, -3.1106e-05],\n",
      "         ...,\n",
      "         [-5.9880e-05, -2.2479e-05, -3.9167e-05],\n",
      "         [ 7.6263e-06,  1.8206e-05,  2.9506e-05],\n",
      "         [ 2.0800e-05,  2.0130e-05,  1.3232e-05]],\n",
      "\n",
      "        [[ 1.6767e-04,  2.2832e-04,  2.5010e-04],\n",
      "         [-7.6063e-05, -1.4122e-04, -1.3994e-04],\n",
      "         [ 7.9870e-05,  5.8375e-05,  3.1618e-05],\n",
      "         ...,\n",
      "         [-6.0872e-05, -1.2282e-05,  1.2163e-05],\n",
      "         [ 5.9295e-05,  1.0641e-04,  1.6022e-04],\n",
      "         [-2.5403e-04, -2.5259e-04, -2.3203e-04]],\n",
      "\n",
      "        [[-8.4071e-05, -3.4937e-05, -8.0726e-06],\n",
      "         [ 7.4689e-06,  5.5098e-05,  6.9530e-05],\n",
      "         [-5.7088e-05, -2.3066e-05,  2.2709e-06],\n",
      "         ...,\n",
      "         [ 7.9655e-05,  1.0621e-04,  9.4080e-05],\n",
      "         [-3.3459e-05, -5.9338e-05, -8.0914e-05],\n",
      "         [ 1.4287e-05,  2.9349e-06, -7.6801e-06]],\n",
      "\n",
      "        ...,\n",
      "\n",
      "        [[-1.8286e-05, -2.7984e-05, -5.0713e-05],\n",
      "         [ 8.1299e-06, -1.0486e-07, -1.3840e-05],\n",
      "         [ 8.4972e-06,  4.2603e-06, -1.9580e-05],\n",
      "         ...,\n",
      "         [-2.4436e-05, -2.1342e-05, -6.0602e-06],\n",
      "         [-1.8624e-05, -2.1996e-06,  8.8858e-06],\n",
      "         [-3.6367e-05, -2.3109e-05, -2.7198e-05]],\n",
      "\n",
      "        [[ 3.7391e-04,  3.4568e-04,  3.2506e-04],\n",
      "         [-1.1864e-04, -7.0297e-05, -3.7431e-05],\n",
      "         [-2.9979e-05, -4.9857e-05, -2.0786e-05],\n",
      "         ...,\n",
      "         [ 3.5892e-05,  1.0066e-05,  4.9763e-05],\n",
      "         [ 3.6968e-04,  3.6280e-04,  3.7384e-04],\n",
      "         [ 8.4013e-05,  7.9094e-05,  7.3017e-05]],\n",
      "\n",
      "        [[-1.0056e-04, -5.0617e-05, -1.8222e-05],\n",
      "         [-1.6865e-05, -2.8648e-05, -3.0687e-05],\n",
      "         [-4.2658e-05, -6.7214e-05, -7.2612e-05],\n",
      "         ...,\n",
      "         [-7.8654e-05, -9.7578e-05, -1.0545e-04],\n",
      "         [-6.7510e-05, -3.8371e-05, -1.6784e-05],\n",
      "         [-6.6025e-05, -6.0135e-05, -2.7400e-05]]], device='cuda:0'), 'exp_avg_sq': tensor([[[1.1688e-07, 1.1524e-07, 1.2486e-07],\n",
      "         [4.5255e-08, 5.6323e-08, 6.9773e-08],\n",
      "         [3.3892e-08, 4.2721e-08, 8.9635e-08],\n",
      "         ...,\n",
      "         [8.7283e-08, 8.5550e-08, 7.4692e-08],\n",
      "         [9.7541e-08, 9.2295e-08, 9.1076e-08],\n",
      "         [4.4384e-08, 4.2642e-08, 4.1700e-08]],\n",
      "\n",
      "        [[1.0387e-06, 1.0838e-06, 1.2242e-06],\n",
      "         [9.3982e-07, 8.2743e-07, 6.7501e-07],\n",
      "         [7.4536e-07, 7.0294e-07, 5.9769e-07],\n",
      "         ...,\n",
      "         [5.3816e-07, 4.8745e-07, 4.2564e-07],\n",
      "         [1.2261e-06, 1.1709e-06, 1.2056e-06],\n",
      "         [3.3012e-07, 3.3559e-07, 3.1992e-07]],\n",
      "\n",
      "        [[9.2345e-07, 8.7936e-07, 9.8464e-07],\n",
      "         [6.5998e-07, 6.1361e-07, 5.5132e-07],\n",
      "         [5.9052e-07, 8.0654e-07, 8.4032e-07],\n",
      "         ...,\n",
      "         [1.2210e-06, 1.1060e-06, 8.3231e-07],\n",
      "         [1.4049e-06, 1.2184e-06, 1.1168e-06],\n",
      "         [1.7172e-07, 1.6967e-07, 2.0252e-07]],\n",
      "\n",
      "        ...,\n",
      "\n",
      "        [[4.4789e-08, 3.2851e-08, 3.5477e-08],\n",
      "         [4.8961e-08, 7.1076e-08, 8.3622e-08],\n",
      "         [2.3855e-08, 2.8279e-08, 4.3772e-08],\n",
      "         ...,\n",
      "         [6.7205e-08, 7.7754e-08, 7.3563e-08],\n",
      "         [5.5188e-08, 3.5194e-08, 2.5234e-08],\n",
      "         [2.2301e-08, 2.0273e-08, 1.9125e-08]],\n",
      "\n",
      "        [[9.4380e-07, 1.0818e-06, 1.3157e-06],\n",
      "         [4.1983e-07, 3.0940e-07, 2.5893e-07],\n",
      "         [4.1371e-07, 2.6112e-07, 1.7964e-07],\n",
      "         ...,\n",
      "         [3.2180e-07, 4.6221e-07, 6.1831e-07],\n",
      "         [7.9686e-07, 7.7376e-07, 8.8708e-07],\n",
      "         [2.6262e-07, 2.7168e-07, 2.7295e-07]],\n",
      "\n",
      "        [[4.9757e-07, 5.7248e-07, 6.5155e-07],\n",
      "         [4.0625e-07, 2.9095e-07, 1.9714e-07],\n",
      "         [3.5313e-07, 3.0787e-07, 2.1781e-07],\n",
      "         ...,\n",
      "         [1.5613e-07, 1.6197e-07, 1.7065e-07],\n",
      "         [4.1706e-07, 4.0650e-07, 4.3963e-07],\n",
      "         [1.3989e-07, 1.4048e-07, 1.2940e-07]]], device='cuda:0')}, 9: {'step': tensor(4796.), 'exp_avg': tensor([-8.3438e-09, -5.3583e-08,  5.9671e-09,  1.6597e-08, -1.6104e-09,\n",
      "        -3.1478e-08,  1.4238e-08,  3.3844e-09, -7.8617e-09,  2.9500e-10,\n",
      "        -2.8234e-08,  9.5274e-09,  9.0942e-09, -3.3747e-09, -3.8049e-08,\n",
      "        -5.8425e-09,  3.4028e-08, -5.4376e-09,  9.4582e-09, -2.0879e-08,\n",
      "        -1.1408e-08, -1.3824e-08,  3.1074e-09,  7.8322e-09, -8.9226e-09,\n",
      "        -1.9008e-08, -3.5684e-09, -2.0109e-08,  3.3846e-08,  4.7542e-08,\n",
      "         2.0182e-08,  3.1961e-10, -7.5039e-09,  6.9774e-09, -2.5650e-08,\n",
      "        -1.4680e-08,  1.1106e-08,  1.0258e-08, -8.6574e-09,  9.8517e-09,\n",
      "         3.4824e-08,  4.0420e-09,  7.2778e-09,  4.1602e-09, -9.2294e-09,\n",
      "         6.9427e-09,  1.9792e-08, -7.5286e-09,  4.1417e-08,  1.2234e-08,\n",
      "        -6.5017e-09,  2.3306e-08,  1.2139e-08, -1.4477e-08, -7.3857e-09,\n",
      "        -1.5432e-08,  7.4977e-09,  2.6033e-08,  1.5876e-08,  3.3569e-09,\n",
      "        -8.4248e-09,  4.4336e-08,  5.4070e-10, -5.2217e-10, -4.0529e-08,\n",
      "        -4.5728e-09,  7.3414e-09, -1.6007e-08, -1.6685e-08, -1.1082e-08,\n",
      "        -1.3196e-09,  2.7867e-08, -1.2081e-08,  8.5402e-09,  7.1929e-09,\n",
      "         6.8157e-09, -1.8410e-08, -8.8136e-09,  4.6539e-09, -1.8385e-08,\n",
      "         8.3964e-09, -1.7946e-08, -7.3430e-09,  3.5992e-08, -2.0008e-08,\n",
      "         2.9185e-08,  4.5857e-10, -1.4602e-08,  1.3116e-08, -1.2092e-08,\n",
      "         5.5959e-09,  2.6473e-08, -1.0853e-08,  1.2518e-08,  1.6946e-08,\n",
      "        -4.7010e-09,  1.4132e-08, -4.0774e-10,  1.9850e-08, -1.8931e-08,\n",
      "         2.2839e-08, -4.3282e-09,  1.0353e-08,  5.1522e-09, -6.1002e-09,\n",
      "        -1.4997e-08, -3.4912e-08,  2.3892e-08, -8.7692e-09, -2.0701e-08,\n",
      "        -1.2597e-08,  2.1861e-09,  1.3762e-08,  2.0046e-09, -1.7023e-09,\n",
      "        -2.6480e-09, -9.9332e-09, -1.0210e-08, -1.1951e-09,  1.3054e-08,\n",
      "        -1.9203e-08,  6.5761e-10,  2.7530e-09,  1.5948e-08,  4.0228e-08,\n",
      "        -2.1899e-08, -1.3335e-08,  6.9527e-09,  1.3589e-08,  1.9533e-08,\n",
      "         9.8497e-09,  9.5445e-09,  7.5475e-09, -8.4879e-09,  9.8136e-09,\n",
      "        -1.0453e-08,  1.4186e-08,  1.5679e-08,  1.2028e-08, -4.6833e-09,\n",
      "         1.1864e-08,  4.3607e-10, -3.6005e-09,  1.1118e-09,  3.0184e-08,\n",
      "        -1.1041e-08,  1.7441e-08,  1.8174e-08, -1.3321e-08,  2.3247e-08,\n",
      "        -5.6159e-09, -3.5145e-08,  2.5562e-08, -3.2770e-08,  2.1009e-08,\n",
      "        -9.7392e-09, -1.1888e-08, -4.3540e-08, -4.7281e-09, -3.3643e-08,\n",
      "         1.0151e-08, -5.3287e-08, -2.1734e-08, -1.3701e-09,  5.9772e-08,\n",
      "        -2.3982e-08, -1.0435e-08, -1.0414e-08, -1.4873e-08, -6.3546e-09,\n",
      "        -3.7931e-09,  4.4903e-09, -3.0244e-08, -9.0680e-09, -1.0746e-08,\n",
      "         4.0171e-08,  8.3535e-09, -2.8798e-08, -2.8116e-09, -2.0890e-08,\n",
      "         3.4870e-09, -1.1515e-08,  1.0229e-08, -1.3707e-08,  2.1714e-08,\n",
      "         7.8217e-09,  3.8030e-10, -1.2720e-08, -8.7388e-10, -1.0652e-09,\n",
      "         2.2791e-08,  3.8732e-08, -1.5856e-08,  2.9420e-08, -1.5715e-08,\n",
      "         3.0432e-08, -1.1813e-08,  9.9841e-09,  3.3511e-10,  8.2081e-09,\n",
      "        -1.8139e-08,  2.0968e-08,  6.8331e-09, -3.6367e-09,  1.2351e-08,\n",
      "        -2.4004e-08, -1.3106e-08, -2.9772e-08,  1.1039e-08, -4.3148e-08,\n",
      "        -3.2105e-09,  8.4158e-09, -5.6705e-09, -3.7071e-08,  4.1738e-08,\n",
      "         6.3150e-09,  5.4717e-09, -3.3264e-09, -1.1118e-09, -3.4185e-08,\n",
      "         8.1581e-09, -2.0084e-08,  3.7709e-08, -3.6488e-09,  5.1278e-09,\n",
      "         2.5070e-08,  1.0846e-08, -1.8456e-08,  1.1357e-09,  1.0077e-08,\n",
      "        -8.5112e-09, -1.1904e-08,  9.9255e-09,  2.0749e-08, -3.5042e-08,\n",
      "         1.0156e-08,  5.4486e-09,  1.1663e-08, -1.4351e-08, -2.6909e-08,\n",
      "         2.9835e-09,  1.5153e-08,  1.2918e-10,  6.3195e-09,  1.4058e-08,\n",
      "         3.9800e-09, -6.5930e-09, -1.0181e-08,  3.2503e-08,  2.2072e-08,\n",
      "         2.2237e-08, -5.7765e-10, -2.8739e-08,  7.1344e-09,  7.1929e-09,\n",
      "        -2.1328e-09], device='cuda:0'), 'exp_avg_sq': tensor([5.0993e-15, 3.2532e-14, 1.5721e-14, 1.2806e-14, 3.2762e-15, 9.6461e-15,\n",
      "        4.0406e-14, 7.8013e-15, 6.3379e-15, 1.4412e-14, 1.3020e-14, 7.3548e-15,\n",
      "        4.8324e-15, 1.1210e-14, 5.9856e-15, 9.9428e-15, 1.1338e-14, 8.4029e-15,\n",
      "        1.1141e-14, 7.9263e-15, 1.7888e-14, 1.6513e-14, 3.7306e-15, 7.5596e-15,\n",
      "        5.6921e-15, 2.4677e-14, 2.5946e-14, 5.6870e-15, 7.6949e-15, 1.4268e-14,\n",
      "        1.1811e-14, 1.0075e-14, 6.5093e-15, 2.4941e-15, 5.7468e-15, 1.7987e-14,\n",
      "        7.4920e-15, 2.6581e-14, 5.7916e-15, 3.5004e-15, 1.0349e-14, 6.2692e-15,\n",
      "        6.8712e-15, 1.7453e-14, 2.6085e-15, 4.5140e-15, 7.0562e-15, 6.1284e-15,\n",
      "        6.2510e-15, 9.3684e-15, 9.2525e-15, 6.0544e-15, 1.5982e-14, 6.4794e-15,\n",
      "        6.8205e-15, 8.0694e-15, 6.3462e-15, 9.2359e-15, 1.1367e-14, 9.4591e-15,\n",
      "        5.8299e-15, 1.4447e-14, 6.2507e-15, 6.8124e-15, 6.0789e-15, 5.3554e-15,\n",
      "        3.3413e-15, 1.1766e-14, 8.9045e-15, 1.2339e-14, 7.0558e-15, 1.5326e-14,\n",
      "        1.3172e-14, 5.2853e-15, 1.3997e-14, 9.0593e-15, 2.7134e-14, 9.6219e-15,\n",
      "        1.4845e-14, 6.4546e-15, 9.6674e-15, 9.8241e-15, 6.9251e-15, 3.0072e-14,\n",
      "        9.2011e-15, 8.6199e-15, 6.8513e-15, 1.6568e-14, 4.7286e-15, 8.8727e-15,\n",
      "        1.2317e-14, 9.6146e-15, 7.6660e-15, 8.1644e-15, 2.4538e-14, 1.2321e-14,\n",
      "        8.3815e-15, 8.3897e-15, 9.6601e-15, 2.2232e-14, 1.2708e-14, 2.0277e-14,\n",
      "        1.0805e-14, 7.4572e-15, 7.0652e-15, 6.0619e-15, 9.3791e-15, 8.6503e-15,\n",
      "        5.9911e-15, 2.7217e-14, 1.2958e-14, 1.8383e-14, 4.6392e-15, 6.9657e-15,\n",
      "        5.9692e-15, 1.6829e-14, 8.0806e-15, 4.6578e-15, 9.7877e-15, 8.9281e-15,\n",
      "        2.9605e-14, 4.8141e-15, 4.4739e-15, 9.3836e-15, 2.2372e-14, 7.6316e-15,\n",
      "        2.9826e-15, 1.3974e-14, 1.2497e-14, 8.0289e-15, 8.8630e-15, 5.0222e-15,\n",
      "        1.2887e-14, 1.0990e-14, 7.6748e-15, 1.8479e-14, 1.4028e-14, 4.7115e-15,\n",
      "        1.0041e-14, 4.7707e-15, 4.1369e-14, 5.6569e-15, 6.0831e-15, 4.6888e-15,\n",
      "        2.5358e-14, 1.9916e-14, 1.8035e-14, 4.7582e-15, 4.4663e-14, 1.6600e-14,\n",
      "        5.5949e-15, 1.4428e-14, 1.0114e-14, 1.0961e-14, 8.2485e-15, 2.9233e-14,\n",
      "        7.8236e-15, 1.7835e-14, 8.2358e-15, 1.3158e-14, 1.6942e-14, 1.9493e-14,\n",
      "        9.0600e-15, 9.3052e-15, 1.1218e-14, 1.1840e-14, 7.4525e-15, 5.4738e-15,\n",
      "        9.5454e-15, 7.6517e-15, 7.6103e-15, 1.2550e-14, 1.1849e-14, 6.1543e-15,\n",
      "        7.3024e-15, 3.0434e-14, 1.0412e-14, 2.4449e-14, 2.0852e-14, 6.9416e-15,\n",
      "        9.6588e-15, 5.0777e-15, 2.9812e-15, 1.1889e-14, 6.0020e-15, 8.9226e-15,\n",
      "        2.0424e-14, 1.1421e-14, 3.0603e-14, 8.3110e-15, 1.9373e-14, 9.5608e-15,\n",
      "        1.6733e-14, 1.3854e-14, 8.9978e-15, 2.1021e-14, 6.1778e-15, 1.8286e-14,\n",
      "        6.8281e-15, 1.8098e-14, 6.6152e-15, 1.5888e-14, 3.9026e-14, 3.8658e-15,\n",
      "        1.5330e-14, 2.1048e-14, 3.5189e-14, 9.2772e-15, 1.0593e-14, 1.1189e-14,\n",
      "        1.0604e-14, 8.7358e-15, 1.6297e-14, 5.8787e-15, 1.5693e-14, 7.1612e-15,\n",
      "        8.2394e-15, 9.1832e-15, 8.0787e-15, 2.5162e-14, 1.0615e-14, 7.8278e-15,\n",
      "        1.5727e-14, 1.0215e-14, 7.8731e-15, 9.7811e-15, 6.4002e-15, 8.0099e-15,\n",
      "        7.3114e-15, 1.0360e-14, 6.1916e-15, 8.6052e-15, 9.4416e-15, 2.1172e-14,\n",
      "        1.1712e-14, 1.3372e-14, 2.3489e-14, 6.8467e-15, 1.4108e-14, 1.8218e-14,\n",
      "        4.4237e-15, 9.2273e-15, 1.0975e-14, 5.8204e-15, 1.4499e-14, 3.0250e-14,\n",
      "        1.3787e-14, 9.1091e-15, 1.0637e-14, 9.0985e-15, 1.5343e-14, 4.7235e-15,\n",
      "        1.9214e-14, 3.3079e-15, 1.6092e-14, 9.3553e-15], device='cuda:0')}, 10: {'step': tensor(4796.), 'exp_avg': tensor([-7.2792e-05,  2.8368e-04,  5.2784e-05, -1.4284e-04, -1.2626e-05,\n",
      "        -2.3745e-05, -5.4034e-05,  6.3791e-05,  1.2623e-04, -1.6404e-05,\n",
      "        -2.2686e-04, -2.2452e-04, -5.7323e-05,  5.3543e-05, -1.0436e-05,\n",
      "         1.0356e-05, -1.3899e-04, -5.2272e-05, -4.6548e-05, -6.5042e-05,\n",
      "        -7.1219e-05, -2.6331e-05, -6.8800e-05, -1.8593e-05, -9.0896e-05,\n",
      "        -3.0796e-05, -1.1859e-04,  5.2759e-05, -2.6886e-05, -8.0324e-05,\n",
      "        -1.2323e-05, -1.0954e-04, -1.6136e-05,  2.5503e-05, -2.8895e-06,\n",
      "         2.4216e-05, -6.1641e-05, -2.3346e-05,  1.7825e-05,  3.9420e-05,\n",
      "         9.0932e-05,  1.0169e-05, -2.5312e-05, -1.8646e-04, -1.1369e-05,\n",
      "         7.9229e-05, -1.1564e-04, -4.6294e-05,  2.6002e-05,  2.3243e-05,\n",
      "         7.9957e-05, -1.1466e-04,  4.0622e-06,  2.7967e-05, -2.2826e-05,\n",
      "        -1.7383e-05,  1.0526e-04,  7.5911e-06, -1.2381e-04, -1.4400e-04,\n",
      "        -6.3631e-05,  4.2058e-05,  3.9392e-05, -4.4445e-05, -4.5020e-05,\n",
      "         2.7087e-05, -6.2876e-06, -6.5476e-05,  5.3850e-05,  1.8560e-04,\n",
      "        -1.3773e-04,  8.6208e-05, -1.0721e-04, -1.0432e-05, -5.2629e-05,\n",
      "        -1.6262e-04,  5.5352e-05, -1.6256e-04,  5.4431e-05,  6.7143e-05,\n",
      "         7.1733e-06, -5.2994e-05, -1.4285e-05, -5.7026e-05,  6.2713e-06,\n",
      "        -1.6944e-04, -5.4518e-05, -1.1818e-05, -8.9629e-06, -7.3159e-05,\n",
      "        -1.6817e-05,  2.2640e-04, -3.2972e-05, -5.5893e-05, -4.4323e-05,\n",
      "         2.6570e-05,  1.1800e-05, -2.6533e-05, -2.5420e-05,  8.0987e-05,\n",
      "         3.4783e-05, -5.7889e-05,  3.9931e-06,  4.0211e-05, -3.6564e-05,\n",
      "        -2.0914e-05,  2.3708e-04,  8.7786e-05,  6.6265e-05,  1.1534e-04,\n",
      "        -4.7002e-06, -6.2542e-05, -5.8972e-05,  1.2160e-05, -6.8056e-05,\n",
      "        -3.5447e-04, -1.0598e-04, -5.6099e-05, -4.0953e-05,  4.4300e-05,\n",
      "        -5.1821e-05,  9.2805e-05,  8.4987e-06, -1.7142e-07, -5.3956e-05,\n",
      "        -1.2439e-04,  1.1927e-05,  8.7458e-05,  5.7671e-05,  1.1273e-05,\n",
      "         9.0460e-05, -1.0683e-04,  6.7415e-05, -1.3440e-04,  8.6305e-05,\n",
      "         1.7517e-05,  2.1039e-04,  3.7700e-05, -1.9868e-05, -4.6704e-05,\n",
      "        -1.3740e-05, -4.8855e-05,  1.1669e-04,  6.5122e-05, -5.8190e-05,\n",
      "         3.8609e-05,  1.7217e-04, -5.6540e-05,  2.2092e-04, -5.9683e-05,\n",
      "        -9.6802e-06,  1.3243e-04, -8.2515e-05, -5.0978e-05,  1.7005e-04,\n",
      "         4.3861e-05, -2.1795e-05, -1.2128e-04, -1.1836e-04,  9.1583e-05,\n",
      "         1.8843e-04,  4.6771e-06,  3.1203e-05,  2.7471e-05, -3.1002e-04,\n",
      "        -6.2629e-06,  5.0856e-05, -6.5306e-05, -1.8682e-05, -4.5242e-05,\n",
      "        -1.2561e-05, -6.9269e-05, -2.4677e-04,  6.8269e-05,  1.0419e-04,\n",
      "         1.4776e-04, -6.4993e-05,  7.2911e-05,  6.1413e-05, -1.2175e-04,\n",
      "        -1.7578e-04, -8.0541e-05, -1.5490e-06,  2.2523e-04, -7.5367e-05,\n",
      "         1.0294e-04, -2.3901e-05, -6.2644e-05,  7.4151e-05, -7.4968e-05,\n",
      "        -1.0403e-04, -1.0769e-04,  8.1804e-05, -3.7922e-05,  4.1770e-05,\n",
      "        -1.0299e-04,  3.2194e-05,  6.5817e-05, -1.9641e-04,  8.2867e-05,\n",
      "        -7.8450e-05,  2.1156e-05,  1.2723e-04, -6.5904e-05,  1.8953e-05,\n",
      "         9.6885e-05, -5.3943e-05,  1.5946e-04, -4.1502e-05, -7.1846e-05,\n",
      "         2.4400e-05,  1.3370e-04, -6.2454e-06,  1.0875e-04,  1.4575e-04,\n",
      "        -5.2174e-05, -5.8133e-05,  1.9322e-05,  1.9786e-05, -6.3964e-05,\n",
      "        -1.2514e-04,  2.5121e-05, -3.1120e-05,  4.7578e-05,  2.6587e-05,\n",
      "        -3.2585e-05, -1.1559e-04, -9.4392e-05, -5.5578e-05, -5.7589e-05,\n",
      "        -2.1913e-05, -7.0506e-05,  8.3613e-05, -3.8083e-05,  9.1223e-05,\n",
      "         7.8372e-05,  3.5681e-05, -1.1350e-04, -1.0403e-04, -3.9164e-04,\n",
      "        -9.4931e-05,  2.0577e-05, -2.9709e-05, -2.9293e-05,  4.4427e-05,\n",
      "         1.1927e-04, -1.8742e-04,  8.3488e-05,  2.8221e-05,  2.8910e-05,\n",
      "        -9.5567e-05,  4.8330e-05,  4.6690e-05,  9.0861e-05, -9.4011e-05,\n",
      "         1.5555e-04], device='cuda:0'), 'exp_avg_sq': tensor([5.7420e-07, 1.3651e-06, 3.3697e-06, 1.0535e-06, 6.3508e-08, 4.8060e-07,\n",
      "        1.0785e-06, 4.9252e-07, 4.0582e-07, 7.1733e-07, 8.7589e-07, 4.8440e-07,\n",
      "        1.3070e-06, 5.5548e-07, 7.7197e-07, 6.2958e-07, 2.4668e-07, 7.1454e-07,\n",
      "        1.1572e-06, 2.5789e-07, 4.6595e-07, 6.1342e-07, 2.4616e-07, 1.1713e-06,\n",
      "        6.5426e-07, 6.6544e-07, 1.0388e-06, 5.7944e-07, 3.7165e-07, 1.2533e-07,\n",
      "        1.4726e-07, 8.4223e-07, 3.2118e-07, 6.9939e-07, 5.0094e-07, 2.6040e-07,\n",
      "        1.0393e-06, 1.7289e-07, 3.3290e-07, 2.5484e-07, 5.3464e-07, 2.4844e-07,\n",
      "        6.3908e-07, 1.8272e-06, 2.6049e-07, 5.6824e-07, 4.5698e-07, 4.4559e-07,\n",
      "        4.0740e-07, 1.1449e-07, 3.2407e-07, 6.8685e-07, 2.8678e-06, 3.9993e-07,\n",
      "        5.5901e-07, 6.4212e-07, 4.4290e-07, 2.2209e-07, 6.2969e-07, 8.3739e-07,\n",
      "        4.6196e-07, 1.8872e-06, 4.4745e-07, 4.6431e-07, 7.9952e-08, 3.4573e-07,\n",
      "        2.6839e-07, 4.0603e-07, 4.7762e-07, 6.6246e-07, 7.0901e-07, 1.0324e-06,\n",
      "        6.2896e-07, 1.1543e-06, 6.3116e-07, 5.2976e-07, 6.4670e-07, 5.2839e-07,\n",
      "        8.7325e-07, 8.5248e-07, 8.0149e-07, 1.2942e-06, 3.4231e-07, 1.0965e-06,\n",
      "        6.5987e-07, 1.5884e-06, 3.2853e-07, 6.8197e-07, 4.5943e-07, 1.1217e-06,\n",
      "        8.2291e-07, 1.6444e-06, 1.6476e-07, 5.0979e-07, 2.9134e-06, 6.2406e-07,\n",
      "        6.9369e-07, 1.2223e-06, 3.0154e-07, 9.0252e-07, 1.5385e-06, 1.6022e-06,\n",
      "        1.3692e-06, 5.2215e-07, 5.2055e-07, 2.2034e-07, 1.1509e-06, 9.4683e-07,\n",
      "        3.6234e-07, 1.0893e-06, 2.8426e-06, 5.5399e-07, 5.2703e-07, 6.6835e-07,\n",
      "        3.4797e-07, 2.1085e-06, 5.3543e-07, 8.1573e-07, 3.1402e-07, 7.6174e-07,\n",
      "        8.0397e-07, 6.5342e-07, 4.8186e-07, 1.7446e-06, 4.3001e-07, 4.0732e-07,\n",
      "        9.1890e-07, 1.5607e-06, 8.5934e-07, 1.5018e-06, 1.7783e-06, 8.3316e-07,\n",
      "        7.6339e-07, 7.1369e-07, 6.1810e-07, 1.3787e-06, 3.0191e-06, 1.3319e-06,\n",
      "        8.2038e-07, 6.2452e-07, 5.4751e-07, 3.3423e-07, 3.7319e-07, 5.0675e-07,\n",
      "        2.3947e-07, 1.1958e-06, 2.8238e-06, 5.8245e-07, 1.0736e-06, 5.5350e-07,\n",
      "        6.9775e-07, 1.4709e-06, 1.0451e-06, 6.4116e-07, 1.8088e-06, 1.4481e-06,\n",
      "        3.0211e-07, 6.4968e-07, 8.0396e-07, 1.1733e-06, 1.2816e-06, 2.1120e-06,\n",
      "        7.9545e-07, 5.0373e-07, 6.1768e-07, 6.0711e-07, 1.0469e-06, 4.6336e-07,\n",
      "        4.9945e-07, 8.5311e-07, 6.1428e-07, 1.4462e-07, 8.8199e-07, 6.7857e-07,\n",
      "        8.0128e-07, 3.9678e-07, 1.0713e-06, 2.5636e-07, 5.3102e-07, 7.0892e-07,\n",
      "        6.1050e-07, 7.7231e-07, 8.7752e-07, 1.1604e-06, 3.6395e-07, 5.7113e-07,\n",
      "        1.9539e-06, 1.0561e-06, 1.0996e-06, 1.1525e-06, 1.9191e-06, 5.8562e-07,\n",
      "        1.2509e-06, 3.6410e-07, 6.3528e-07, 1.1765e-06, 6.2973e-07, 6.0776e-07,\n",
      "        1.4482e-06, 4.1173e-07, 2.5963e-07, 3.9592e-07, 7.9590e-07, 8.7032e-07,\n",
      "        2.2736e-07, 3.3147e-07, 3.6045e-07, 4.6661e-07, 9.8641e-07, 6.4533e-07,\n",
      "        7.7058e-07, 8.9157e-07, 2.4759e-07, 5.3108e-07, 2.3408e-06, 4.8621e-07,\n",
      "        3.2477e-07, 1.6106e-06, 1.0275e-06, 1.0300e-06, 2.3381e-06, 1.6771e-07,\n",
      "        6.3707e-07, 1.7328e-06, 1.1993e-06, 6.4594e-07, 6.0878e-07, 3.5042e-07,\n",
      "        5.6808e-07, 1.0425e-06, 2.6426e-07, 7.5113e-07, 3.4393e-07, 8.2642e-07,\n",
      "        1.2577e-06, 1.0351e-06, 6.9760e-07, 7.6421e-07, 5.0791e-07, 2.1304e-06,\n",
      "        7.7763e-07, 5.6428e-07, 7.0923e-07, 1.3456e-06, 2.7997e-07, 8.7992e-07,\n",
      "        1.0978e-06, 5.2229e-07, 2.2957e-07, 4.7545e-07, 4.2704e-07, 4.5986e-07,\n",
      "        2.0479e-07, 1.9250e-07, 1.4904e-06, 8.2104e-07], device='cuda:0')}, 11: {'step': tensor(4796.), 'exp_avg': tensor([-7.0797e-05,  1.8366e-04,  4.0232e-07, -6.5490e-05, -8.5133e-06,\n",
      "         4.8129e-05,  3.7457e-06,  9.5896e-05,  1.2791e-04,  2.3393e-05,\n",
      "        -1.2239e-04, -1.5270e-04, -4.4236e-05,  8.3943e-05,  4.7248e-05,\n",
      "        -8.2265e-07, -1.1317e-04,  7.6980e-06,  2.2533e-05, -3.0597e-05,\n",
      "        -2.4535e-05,  3.1782e-05, -9.3580e-05, -9.1332e-05, -7.0767e-05,\n",
      "        -5.8608e-05, -4.3068e-05,  2.0070e-05, -3.2872e-05, -8.0346e-05,\n",
      "         6.8125e-06, -2.5992e-05,  2.9166e-05,  2.6361e-05,  3.9079e-05,\n",
      "         3.7164e-05, -4.0626e-05, -3.3635e-05,  3.0451e-05,  3.5678e-05,\n",
      "         1.1439e-04, -7.3718e-06,  1.1843e-05, -9.6901e-05,  3.6831e-06,\n",
      "         3.8704e-05, -8.2662e-05, -4.7971e-05,  5.8776e-06,  1.0198e-05,\n",
      "         4.9575e-05, -6.6893e-05,  8.4461e-05,  2.4602e-05,  1.2704e-05,\n",
      "         4.1425e-05,  1.9951e-05, -9.9772e-06, -4.3710e-05, -2.0444e-04,\n",
      "        -6.1801e-05,  5.7606e-05, -4.5781e-06,  5.5989e-05, -3.1178e-06,\n",
      "         6.9878e-05,  8.4786e-06, -1.1424e-04,  1.2431e-04,  1.1272e-04,\n",
      "        -4.5951e-05,  5.3493e-05, -1.0500e-04, -5.8063e-05, -2.0605e-05,\n",
      "        -1.4478e-04,  7.5424e-05, -8.6199e-05,  2.9229e-05,  8.6906e-05,\n",
      "         1.9398e-05, -5.8567e-05, -2.4048e-05,  3.7491e-05, -4.8033e-06,\n",
      "        -1.1090e-04, -4.1798e-05, -2.2512e-05,  7.5412e-06, -3.1013e-05,\n",
      "        -4.1083e-05,  1.5523e-04, -9.2531e-05, -2.9062e-05,  1.9226e-05,\n",
      "         2.7046e-05,  5.6812e-05, -2.2299e-05, -4.6703e-05,  4.5691e-05,\n",
      "         4.5113e-05, -2.5478e-05, -2.2728e-05,  5.7469e-05, -3.6399e-05,\n",
      "         1.8795e-05,  2.1738e-04,  1.0099e-04,  8.3203e-05,  1.1200e-04,\n",
      "        -1.0243e-04, -6.1321e-05, -8.1284e-05,  2.5727e-05, -7.1261e-05,\n",
      "        -2.1516e-04, -1.1744e-04, -1.2449e-05,  1.9327e-05,  6.7276e-05,\n",
      "        -2.4521e-05,  5.3861e-05, -5.9861e-06, -3.3930e-05, -1.8634e-05,\n",
      "        -3.6779e-05,  5.7697e-05,  1.6705e-05,  7.4813e-05,  1.0887e-04,\n",
      "         7.6131e-05, -5.9638e-05,  6.2035e-05, -7.0924e-05,  1.0370e-04,\n",
      "         9.2817e-05,  2.0059e-04, -5.9856e-06,  3.9066e-07, -4.0140e-05,\n",
      "         4.7571e-05, -7.6790e-05,  6.1286e-05,  4.1027e-05, -5.1553e-05,\n",
      "         9.7950e-05,  5.8006e-05, -1.2584e-04,  1.6988e-04, -5.6176e-06,\n",
      "        -3.1345e-06,  2.2028e-04, -6.0410e-05, -2.6974e-05,  1.8792e-04,\n",
      "         2.0561e-05,  1.1009e-06, -1.1399e-04, -2.0440e-05,  1.0386e-04,\n",
      "         1.4284e-04,  5.3595e-05,  5.9718e-05,  6.2390e-05, -2.2309e-04,\n",
      "         4.3786e-05,  7.1604e-05, -4.9370e-05,  7.7670e-06,  2.2516e-05,\n",
      "        -2.1655e-05, -5.6237e-05, -1.4141e-04,  7.8666e-05,  2.3796e-05,\n",
      "         1.2001e-04, -3.3248e-05,  8.1382e-05,  3.9958e-05, -5.0119e-05,\n",
      "        -1.5086e-05, -8.6808e-05, -1.6490e-06,  2.7750e-04, -9.2090e-05,\n",
      "         9.5280e-05,  1.2471e-05,  3.0850e-05,  4.6728e-05, -4.8018e-05,\n",
      "        -1.0537e-04, -4.7286e-05,  1.0801e-04,  5.8507e-06,  3.4841e-05,\n",
      "        -8.6218e-05, -6.5015e-06,  5.7360e-05, -6.0428e-05,  8.1391e-05,\n",
      "        -6.9912e-05,  3.5584e-05,  1.6101e-04, -7.9719e-05,  2.3400e-05,\n",
      "         8.1404e-05,  9.6505e-06,  1.7913e-04,  5.9813e-05,  6.6298e-06,\n",
      "         8.6224e-05,  2.0463e-04,  4.1704e-06,  1.3740e-04,  1.4446e-04,\n",
      "        -2.1505e-05, -2.5322e-05,  6.4109e-05, -6.6965e-07, -2.9674e-05,\n",
      "        -6.2319e-05,  6.1206e-05, -7.3871e-05,  1.7272e-05, -4.5773e-06,\n",
      "         1.9028e-05, -3.9702e-05, -9.1136e-05, -2.2399e-05, -9.9816e-05,\n",
      "        -4.1643e-06, -1.9679e-05,  8.7488e-05, -3.7823e-05,  1.3111e-04,\n",
      "         9.1525e-05,  1.3695e-05, -6.0486e-05, -2.9807e-05, -1.8866e-04,\n",
      "        -8.1101e-05,  3.6274e-05,  1.4830e-05,  4.3369e-05,  7.0823e-05,\n",
      "         1.0192e-04, -7.7756e-05,  7.0089e-05,  5.0539e-05,  2.6274e-06,\n",
      "        -5.1028e-05,  8.6407e-05,  1.9841e-05,  6.7918e-05, -7.6200e-05,\n",
      "         1.2868e-04], device='cuda:0'), 'exp_avg_sq': tensor([4.0020e-07, 9.4893e-07, 2.3816e-06, 7.2253e-07, 2.0006e-07, 4.2023e-07,\n",
      "        8.5252e-07, 6.8897e-07, 3.9150e-07, 6.8048e-07, 6.4548e-07, 3.1281e-07,\n",
      "        1.2255e-06, 3.5687e-07, 4.5378e-07, 5.4119e-07, 2.8788e-07, 3.8859e-07,\n",
      "        1.0074e-06, 2.2781e-07, 4.9995e-07, 5.4667e-07, 3.1709e-07, 6.2257e-07,\n",
      "        4.6004e-07, 7.6210e-07, 8.7293e-07, 7.1114e-07, 5.4109e-07, 2.9323e-07,\n",
      "        4.7768e-07, 9.8219e-07, 4.8436e-07, 5.5024e-07, 4.2834e-07, 3.5486e-07,\n",
      "        9.1258e-07, 3.8974e-07, 4.3210e-07, 3.1167e-07, 5.1211e-07, 3.1378e-07,\n",
      "        6.5748e-07, 1.4598e-06, 2.6397e-07, 4.1994e-07, 4.4024e-07, 4.8179e-07,\n",
      "        3.6449e-07, 2.4328e-07, 3.6229e-07, 5.7744e-07, 1.9602e-06, 3.9571e-07,\n",
      "        4.0336e-07, 4.1819e-07, 3.9039e-07, 2.0538e-07, 6.2014e-07, 9.3544e-07,\n",
      "        4.8949e-07, 1.3627e-06, 5.0159e-07, 4.0269e-07, 1.5454e-07, 3.7128e-07,\n",
      "        2.2407e-07, 5.0771e-07, 3.4272e-07, 6.0843e-07, 6.8366e-07, 1.0185e-06,\n",
      "        5.5037e-07, 9.1725e-07, 5.6881e-07, 5.3811e-07, 7.5800e-07, 4.9341e-07,\n",
      "        7.7469e-07, 7.3145e-07, 8.1057e-07, 1.1939e-06, 3.8003e-07, 1.2306e-06,\n",
      "        5.4117e-07, 1.1094e-06, 2.8855e-07, 8.7856e-07, 2.8229e-07, 7.9542e-07,\n",
      "        5.7573e-07, 1.0964e-06, 2.7915e-07, 4.4120e-07, 2.5518e-06, 6.8889e-07,\n",
      "        5.3716e-07, 8.0460e-07, 3.0799e-07, 6.7961e-07, 1.0970e-06, 1.3719e-06,\n",
      "        8.1077e-07, 4.1942e-07, 6.2595e-07, 3.0255e-07, 1.2880e-06, 8.5709e-07,\n",
      "        3.8123e-07, 1.1458e-06, 2.5008e-06, 6.6891e-07, 6.1249e-07, 7.4481e-07,\n",
      "        3.4102e-07, 1.3557e-06, 6.8730e-07, 5.3381e-07, 3.5000e-07, 8.0364e-07,\n",
      "        1.0104e-06, 5.2206e-07, 3.4066e-07, 1.4376e-06, 7.2364e-07, 4.3063e-07,\n",
      "        1.0702e-06, 1.1999e-06, 8.1468e-07, 8.4896e-07, 1.2321e-06, 4.3243e-07,\n",
      "        1.0374e-06, 4.7891e-07, 5.3397e-07, 9.0149e-07, 2.5269e-06, 9.7460e-07,\n",
      "        8.8425e-07, 5.6579e-07, 8.7560e-07, 2.8890e-07, 2.2678e-07, 6.7496e-07,\n",
      "        5.7960e-07, 1.1062e-06, 2.0282e-06, 4.4219e-07, 6.5277e-07, 6.2799e-07,\n",
      "        5.5475e-07, 1.3393e-06, 7.3688e-07, 6.8419e-07, 9.5817e-07, 1.3906e-06,\n",
      "        3.2918e-07, 7.6663e-07, 6.8691e-07, 1.0949e-06, 1.3349e-06, 1.7276e-06,\n",
      "        5.3409e-07, 6.3886e-07, 4.3088e-07, 7.1946e-07, 5.3967e-07, 3.3153e-07,\n",
      "        4.2402e-07, 5.4762e-07, 7.6775e-07, 3.2516e-07, 6.3615e-07, 5.3597e-07,\n",
      "        5.3395e-07, 7.5603e-07, 8.2086e-07, 3.1036e-07, 6.8038e-07, 5.3255e-07,\n",
      "        4.7529e-07, 6.8800e-07, 4.9898e-07, 1.1749e-06, 3.9995e-07, 6.4657e-07,\n",
      "        1.2762e-06, 9.8596e-07, 1.3627e-06, 1.0994e-06, 1.6033e-06, 5.4999e-07,\n",
      "        8.0597e-07, 4.1490e-07, 3.8793e-07, 8.7472e-07, 5.3763e-07, 5.3585e-07,\n",
      "        1.0448e-06, 2.7670e-07, 3.4444e-07, 6.4359e-07, 6.1184e-07, 1.0397e-06,\n",
      "        3.2544e-07, 5.7898e-07, 6.0985e-07, 3.8458e-07, 8.3198e-07, 7.3204e-07,\n",
      "        7.9760e-07, 6.6139e-07, 3.1876e-07, 3.8291e-07, 1.3129e-06, 4.5103e-07,\n",
      "        3.8280e-07, 1.2918e-06, 1.0710e-06, 8.0103e-07, 1.3398e-06, 3.1479e-07,\n",
      "        6.7597e-07, 1.6196e-06, 6.3501e-07, 6.5441e-07, 4.6519e-07, 3.5398e-07,\n",
      "        6.3345e-07, 1.1780e-06, 2.5395e-07, 7.6761e-07, 5.0467e-07, 7.0399e-07,\n",
      "        9.8765e-07, 1.0229e-06, 8.2558e-07, 7.6223e-07, 6.1676e-07, 1.7909e-06,\n",
      "        7.7355e-07, 4.5808e-07, 7.5974e-07, 8.5429e-07, 3.0812e-07, 6.2090e-07,\n",
      "        8.6554e-07, 4.7053e-07, 2.5138e-07, 3.4596e-07, 4.7732e-07, 4.8041e-07,\n",
      "        3.9837e-07, 2.0988e-07, 1.0374e-06, 7.3939e-07], device='cuda:0')}, 12: {'step': tensor(4796.), 'exp_avg': tensor([[ 3.9958e-06, -1.5211e-06, -1.1366e-05,  ...,  2.4265e-06,\n",
      "         -3.0096e-07,  5.4485e-06],\n",
      "        [-9.5173e-06, -8.6767e-06,  2.0774e-06,  ..., -9.5054e-06,\n",
      "         -4.4170e-06,  5.7068e-07],\n",
      "        [-1.3805e-06,  1.3984e-05, -2.6207e-06,  ..., -4.0208e-06,\n",
      "          2.4412e-05,  1.4636e-05],\n",
      "        ...,\n",
      "        [ 6.3968e-07,  2.2119e-07, -1.8141e-08,  ...,  2.4693e-06,\n",
      "         -1.3768e-06, -1.4340e-06],\n",
      "        [ 4.0728e-06, -1.9585e-06, -4.6162e-06,  ..., -3.8654e-06,\n",
      "          1.2816e-06, -1.3256e-06],\n",
      "        [-1.2645e-07, -9.3958e-07,  4.8629e-07,  ...,  9.6715e-07,\n",
      "         -2.7663e-06, -6.2584e-07]], device='cuda:0'), 'exp_avg_sq': tensor([[1.3388e-08, 7.5253e-10, 7.9306e-09,  ..., 2.1133e-09, 2.2598e-09,\n",
      "         3.2384e-09],\n",
      "        [2.3408e-09, 2.1032e-09, 3.7003e-09,  ..., 5.3024e-09, 7.3723e-10,\n",
      "         3.9524e-10],\n",
      "        [9.5262e-10, 4.6378e-09, 2.3431e-09,  ..., 2.1194e-09, 1.0340e-08,\n",
      "         2.9452e-09],\n",
      "        ...,\n",
      "        [6.4319e-10, 5.0471e-10, 3.3284e-10,  ..., 2.0651e-09, 2.3942e-10,\n",
      "         4.2749e-10],\n",
      "        [1.3937e-09, 3.4312e-09, 3.7104e-09,  ..., 4.7698e-09, 1.5594e-09,\n",
      "         1.1486e-09],\n",
      "        [8.3127e-11, 1.2021e-09, 5.4228e-10,  ..., 2.6097e-10, 1.2686e-09,\n",
      "         1.1475e-09]], device='cuda:0')}, 13: {'step': tensor(4796.), 'exp_avg': tensor([[-5.0221e-07,  2.2445e-06,  5.9314e-07,  ..., -4.8143e-07,\n",
      "         -2.9419e-07, -3.9752e-06],\n",
      "        [-1.6810e-06,  1.2415e-06,  3.2423e-06,  ..., -5.1717e-06,\n",
      "          1.4823e-06, -4.1740e-06],\n",
      "        [ 2.7191e-06,  9.9354e-07,  8.1337e-08,  ..., -9.0333e-06,\n",
      "          3.6689e-06,  9.4489e-06],\n",
      "        ...,\n",
      "        [-5.7336e-07,  1.7942e-06,  5.5145e-07,  ...,  5.9129e-07,\n",
      "          5.7838e-07, -4.5791e-07],\n",
      "        [ 1.1414e-06,  4.6255e-07,  1.7747e-07,  ..., -1.3682e-06,\n",
      "          4.7143e-06,  3.4379e-06],\n",
      "        [-1.8831e-06, -2.1354e-06, -1.0692e-06,  ..., -4.0494e-07,\n",
      "          7.3059e-07,  2.2130e-06]], device='cuda:0'), 'exp_avg_sq': tensor([[3.4007e-09, 6.0291e-10, 1.9990e-10,  ..., 6.4012e-10, 1.6195e-10,\n",
      "         6.7667e-10],\n",
      "        [8.4581e-10, 3.9341e-10, 3.1573e-10,  ..., 1.3417e-09, 9.9892e-10,\n",
      "         1.0472e-09],\n",
      "        [8.9215e-10, 4.7244e-10, 1.1435e-09,  ..., 7.1704e-10, 3.3932e-10,\n",
      "         8.3983e-10],\n",
      "        ...,\n",
      "        [1.1779e-10, 7.9764e-11, 7.9126e-11,  ..., 8.1341e-10, 1.4645e-10,\n",
      "         1.7495e-10],\n",
      "        [3.0446e-10, 2.9156e-10, 2.8524e-10,  ..., 1.1529e-09, 1.9966e-09,\n",
      "         6.8983e-10],\n",
      "        [3.6085e-10, 1.3004e-10, 5.7491e-11,  ..., 8.7030e-11, 8.8881e-11,\n",
      "         7.7797e-10]], device='cuda:0')}, 14: {'step': tensor(4796.), 'exp_avg': tensor([-2.0346e-06, -1.3872e-05,  1.2161e-05,  ..., -1.1411e-07,\n",
      "        -3.9676e-06,  1.0413e-06], device='cuda:0'), 'exp_avg_sq': tensor([1.2262e-08, 3.3517e-09, 4.6168e-09,  ..., 1.6848e-09, 4.1182e-09,\n",
      "        1.2657e-09], device='cuda:0')}, 15: {'step': tensor(4796.), 'exp_avg': tensor([-2.0346e-06, -1.3872e-05,  1.2161e-05,  ..., -1.1411e-07,\n",
      "        -3.9676e-06,  1.0413e-06], device='cuda:0'), 'exp_avg_sq': tensor([1.2262e-08, 3.3517e-09, 4.6168e-09,  ..., 1.6848e-09, 4.1182e-09,\n",
      "        1.2657e-09], device='cuda:0')}, 16: {'step': tensor(4796.), 'exp_avg': tensor([[ 8.2238e-07, -8.1867e-07,  3.3132e-07,  ...,  7.6784e-07,\n",
      "         -7.3743e-08,  1.4310e-08],\n",
      "        [ 4.2970e-06, -5.7648e-06,  1.0890e-06,  ...,  1.5607e-07,\n",
      "         -2.8459e-06,  1.0284e-06],\n",
      "        [ 1.0916e-06, -1.1228e-06, -5.5301e-06,  ...,  3.1419e-07,\n",
      "          1.8845e-07, -3.5329e-06],\n",
      "        ...,\n",
      "        [-3.5584e-06, -4.9076e-06, -2.2808e-06,  ..., -4.4950e-06,\n",
      "          6.7076e-06,  5.3366e-06],\n",
      "        [-1.1901e-06,  1.0241e-06,  1.2677e-06,  ..., -5.4661e-07,\n",
      "          2.0715e-06,  1.6946e-06],\n",
      "        [-2.2220e-07,  2.5153e-06,  2.2571e-06,  ..., -4.7316e-06,\n",
      "          1.6879e-06,  2.3795e-08]], device='cuda:0'), 'exp_avg_sq': tensor([[4.6189e-11, 2.2788e-11, 9.5276e-11,  ..., 1.1974e-10, 8.5410e-12,\n",
      "         1.1229e-11],\n",
      "        [6.2297e-10, 1.5436e-09, 1.4458e-09,  ..., 2.1543e-10, 6.6557e-09,\n",
      "         1.8710e-09],\n",
      "        [1.9420e-09, 8.0828e-10, 2.1427e-09,  ..., 1.0152e-09, 4.3264e-09,\n",
      "         1.7724e-09],\n",
      "        ...,\n",
      "        [2.0243e-10, 6.0719e-10, 1.1194e-09,  ..., 4.7577e-10, 4.9129e-09,\n",
      "         2.9345e-09],\n",
      "        [1.2945e-10, 1.7107e-10, 4.5310e-10,  ..., 1.1006e-10, 3.7842e-10,\n",
      "         3.2521e-10],\n",
      "        [7.8247e-10, 3.7170e-09, 5.4897e-09,  ..., 1.2866e-09, 2.5271e-09,\n",
      "         5.6084e-09]], device='cuda:0')}, 17: {'step': tensor(4796.), 'exp_avg': tensor([[ 9.5230e-08, -1.0521e-08, -7.8547e-07,  ...,  5.5443e-07,\n",
      "          1.2085e-06,  3.1663e-07],\n",
      "        [-1.4327e-06, -2.7199e-06, -1.1402e-06,  ..., -2.3855e-06,\n",
      "         -3.2282e-06, -1.5381e-06],\n",
      "        [-1.5373e-06, -2.8622e-07, -2.5793e-06,  ...,  3.1519e-06,\n",
      "         -1.8380e-06, -5.5646e-07],\n",
      "        ...,\n",
      "        [-1.5441e-07,  2.2504e-06, -9.6996e-07,  ...,  4.3690e-08,\n",
      "          3.6979e-07,  2.4544e-06],\n",
      "        [ 1.1099e-06, -4.2911e-07,  1.4493e-06,  ..., -1.5626e-06,\n",
      "          7.0790e-08, -1.4186e-06],\n",
      "        [-1.4324e-06, -1.9631e-06,  2.3633e-06,  ...,  5.7526e-07,\n",
      "          4.6620e-07, -2.7768e-06]], device='cuda:0'), 'exp_avg_sq': tensor([[3.9861e-11, 1.5508e-11, 1.1254e-11,  ..., 5.2964e-12, 7.0253e-12,\n",
      "         4.3859e-12],\n",
      "        [6.8925e-10, 5.5440e-10, 1.4883e-10,  ..., 5.2480e-10, 1.0078e-10,\n",
      "         3.9433e-10],\n",
      "        [4.5367e-10, 3.3285e-10, 2.4609e-10,  ..., 4.6908e-10, 1.5119e-10,\n",
      "         3.0146e-10],\n",
      "        ...,\n",
      "        [3.7389e-10, 3.0617e-10, 1.1141e-10,  ..., 8.1002e-10, 2.6669e-10,\n",
      "         3.0689e-10],\n",
      "        [7.1484e-11, 1.2292e-10, 3.5605e-11,  ..., 5.9897e-11, 2.7343e-10,\n",
      "         4.4085e-11],\n",
      "        [9.0867e-10, 4.0372e-10, 2.7035e-10,  ..., 5.7863e-10, 3.7349e-10,\n",
      "         1.1999e-09]], device='cuda:0')}, 18: {'step': tensor(4796.), 'exp_avg': tensor([ 7.3458e-07,  1.9303e-06,  5.8117e-07,  ..., -4.8624e-07,\n",
      "        -2.1348e-07, -6.6981e-07], device='cuda:0'), 'exp_avg_sq': tensor([1.4325e-10, 3.6610e-09, 2.8664e-09,  ..., 2.9068e-09, 5.1059e-10,\n",
      "        6.1011e-09], device='cuda:0')}, 19: {'step': tensor(4796.), 'exp_avg': tensor([ 7.3458e-07,  1.9303e-06,  5.8117e-07,  ..., -4.8624e-07,\n",
      "        -2.1348e-07, -6.6981e-07], device='cuda:0'), 'exp_avg_sq': tensor([1.4325e-10, 3.6610e-09, 2.8664e-09,  ..., 2.9068e-09, 5.1059e-10,\n",
      "        6.1011e-09], device='cuda:0')}, 20: {'step': tensor(4796.), 'exp_avg': tensor([[-2.2737e-07,  1.3442e-06, -1.7803e-07,  ..., -5.7780e-07,\n",
      "         -1.3278e-06,  3.5014e-07],\n",
      "        [-1.9069e-06,  2.1359e-06, -2.6080e-06,  ..., -1.9865e-07,\n",
      "          3.2127e-06,  2.2942e-07],\n",
      "        [-1.4905e-06, -3.6903e-07,  5.0151e-08,  ..., -4.9669e-07,\n",
      "         -7.7867e-07, -1.2666e-06],\n",
      "        ...,\n",
      "        [ 7.1736e-07, -2.0829e-06,  5.9379e-08,  ..., -4.0757e-07,\n",
      "         -9.1369e-07, -6.7132e-07],\n",
      "        [-3.3709e-06, -2.9705e-07,  5.2952e-08,  ...,  5.8395e-06,\n",
      "          9.7158e-07,  1.7992e-06],\n",
      "        [-7.1109e-07,  4.6843e-08,  1.7980e-06,  ..., -5.3365e-07,\n",
      "          1.9708e-07, -4.2921e-07]], device='cuda:0'), 'exp_avg_sq': tensor([[1.9076e-09, 4.5682e-10, 2.6110e-10,  ..., 7.2303e-10, 2.2459e-10,\n",
      "         2.9668e-10],\n",
      "        [4.6001e-10, 2.5313e-10, 9.6007e-11,  ..., 2.8760e-10, 1.9938e-10,\n",
      "         1.6281e-10],\n",
      "        [1.1694e-09, 2.9342e-10, 1.3862e-10,  ..., 3.1995e-10, 2.1369e-10,\n",
      "         2.5404e-10],\n",
      "        ...,\n",
      "        [1.6851e-10, 1.2827e-10, 3.6667e-11,  ..., 6.2342e-11, 8.0438e-11,\n",
      "         6.1830e-11],\n",
      "        [4.3942e-09, 5.6004e-10, 3.0358e-10,  ..., 8.8781e-10, 4.2664e-10,\n",
      "         7.1283e-10],\n",
      "        [1.6387e-09, 3.3217e-10, 1.5105e-10,  ..., 3.5517e-10, 1.6483e-10,\n",
      "         3.2644e-10]], device='cuda:0')}, 21: {'step': tensor(4796.), 'exp_avg': tensor([[-6.8706e-07,  1.0276e-06, -2.3799e-06,  ...,  4.6683e-07,\n",
      "          2.1851e-06, -2.6446e-06],\n",
      "        [ 8.8035e-08,  3.7593e-07,  1.7605e-06,  ...,  8.1982e-07,\n",
      "         -2.1492e-07, -6.1114e-07],\n",
      "        [-6.4870e-07, -5.8274e-07,  3.5176e-07,  ..., -9.3450e-07,\n",
      "          7.4011e-07,  1.0593e-06],\n",
      "        ...,\n",
      "        [-5.1402e-07,  7.7603e-07, -1.5047e-06,  ..., -9.8087e-07,\n",
      "          8.6963e-07,  1.9074e-07],\n",
      "        [-2.9562e-06, -2.0470e-06, -1.1110e-08,  ...,  7.6279e-07,\n",
      "          1.5231e-06, -1.9826e-06],\n",
      "        [ 1.8271e-06, -2.5537e-06,  2.2026e-06,  ..., -1.7898e-06,\n",
      "         -3.2583e-06, -4.3734e-07]], device='cuda:0'), 'exp_avg_sq': tensor([[8.3878e-10, 1.3198e-10, 6.1121e-10,  ..., 1.8202e-10, 8.1204e-10,\n",
      "         5.6585e-10],\n",
      "        [1.2828e-10, 7.2586e-10, 4.8090e-10,  ..., 9.8698e-11, 4.6191e-10,\n",
      "         2.3011e-10],\n",
      "        [2.3848e-10, 3.9309e-10, 1.0124e-09,  ..., 1.0360e-10, 8.3206e-10,\n",
      "         2.4918e-10],\n",
      "        ...,\n",
      "        [5.3920e-11, 9.3536e-11, 1.1308e-10,  ..., 4.5621e-10, 1.1778e-10,\n",
      "         8.0403e-11],\n",
      "        [9.0775e-10, 8.0197e-10, 2.5195e-09,  ..., 3.3621e-10, 4.2093e-09,\n",
      "         7.1312e-10],\n",
      "        [3.8486e-10, 9.6183e-11, 3.0801e-10,  ..., 1.5284e-10, 5.8632e-10,\n",
      "         2.0714e-09]], device='cuda:0')}, 22: {'step': tensor(4796.), 'exp_avg': tensor([ 1.8352e-06, -1.1242e-06, -1.9045e-06,  ...,  3.5398e-06,\n",
      "        -4.9002e-07, -7.4079e-06], device='cuda:0'), 'exp_avg_sq': tensor([7.3873e-09, 2.6771e-09, 8.0280e-09,  ..., 1.2269e-09, 2.1728e-08,\n",
      "        4.5060e-09], device='cuda:0')}, 23: {'step': tensor(4796.), 'exp_avg': tensor([ 1.8352e-06, -1.1242e-06, -1.9045e-06,  ...,  3.5398e-06,\n",
      "        -4.9002e-07, -7.4079e-06], device='cuda:0'), 'exp_avg_sq': tensor([7.3873e-09, 2.6771e-09, 8.0280e-09,  ..., 1.2269e-09, 2.1728e-08,\n",
      "        4.5060e-09], device='cuda:0')}, 24: {'step': tensor(4796.), 'exp_avg': tensor([[ 1.9457e-06, -1.3378e-06, -4.7555e-07,  ...,  2.4428e-07,\n",
      "          6.8652e-07, -6.6391e-07],\n",
      "        [ 2.1900e-06,  4.8769e-06, -2.0895e-06,  ..., -2.2109e-06,\n",
      "         -2.6711e-06,  3.7860e-06],\n",
      "        [ 1.9796e-06, -5.2716e-06,  1.0437e-06,  ..., -3.9915e-06,\n",
      "         -2.6808e-07, -3.1805e-06],\n",
      "        ...,\n",
      "        [-3.7813e-06,  2.8950e-07,  1.8143e-06,  ...,  2.1439e-06,\n",
      "          1.4261e-07,  1.5239e-06],\n",
      "        [-2.4163e-06,  1.0152e-06,  1.3679e-06,  ...,  3.8266e-06,\n",
      "         -1.7576e-06, -9.5465e-07],\n",
      "        [-5.1887e-07, -1.1650e-07,  2.5624e-07,  ..., -5.7202e-07,\n",
      "         -3.2804e-07,  3.1481e-07]], device='cuda:0'), 'exp_avg_sq': tensor([[1.4972e-10, 1.5900e-10, 5.2589e-11,  ..., 6.4211e-11, 6.7176e-11,\n",
      "         5.5498e-11],\n",
      "        [4.0857e-10, 7.9307e-10, 1.2245e-10,  ..., 2.4513e-10, 8.4353e-10,\n",
      "         2.0868e-10],\n",
      "        [1.1386e-09, 7.3148e-10, 4.3031e-10,  ..., 8.9200e-10, 3.4007e-10,\n",
      "         6.4123e-10],\n",
      "        ...,\n",
      "        [2.0582e-10, 1.5430e-10, 1.9746e-10,  ..., 1.3580e-10, 1.4766e-10,\n",
      "         1.0099e-10],\n",
      "        [2.3756e-09, 7.8542e-10, 2.2052e-10,  ..., 8.1820e-10, 2.1591e-10,\n",
      "         4.7536e-10],\n",
      "        [1.3758e-10, 2.1294e-10, 3.6729e-11,  ..., 1.0689e-10, 6.9718e-11,\n",
      "         4.0637e-11]], device='cuda:0')}, 25: {'step': tensor(4796.), 'exp_avg': tensor([[ 1.6468e-06,  1.1395e-06,  5.2963e-07,  ...,  1.0237e-06,\n",
      "          1.0114e-09,  2.4945e-06],\n",
      "        [-6.4837e-06,  5.0682e-07, -2.8076e-06,  ..., -8.6767e-07,\n",
      "          9.6224e-07,  2.3974e-06],\n",
      "        [ 2.6588e-06,  2.7138e-06, -3.6606e-06,  ..., -1.8648e-06,\n",
      "         -8.4258e-06, -7.7406e-06],\n",
      "        ...,\n",
      "        [ 2.6615e-07,  2.2057e-07, -1.1397e-06,  ...,  6.0802e-07,\n",
      "         -1.5990e-06, -1.5460e-07],\n",
      "        [ 3.2650e-06, -3.2203e-07, -1.6164e-06,  ...,  8.7004e-07,\n",
      "          4.7729e-07,  3.2136e-06],\n",
      "        [ 1.7410e-06,  4.5310e-07, -1.8526e-06,  ...,  5.1465e-07,\n",
      "         -4.3934e-07, -5.5249e-07]], device='cuda:0'), 'exp_avg_sq': tensor([[3.4561e-10, 1.6044e-10, 4.9284e-11,  ..., 3.9584e-11, 2.2180e-10,\n",
      "         5.4840e-11],\n",
      "        [9.8967e-10, 9.3030e-10, 1.4130e-10,  ..., 1.8025e-10, 3.1134e-10,\n",
      "         2.7704e-10],\n",
      "        [1.5629e-09, 7.6739e-10, 1.7991e-09,  ..., 3.0844e-10, 6.2302e-10,\n",
      "         7.1078e-10],\n",
      "        ...,\n",
      "        [2.6365e-10, 1.6500e-10, 3.3196e-10,  ..., 1.1971e-09, 2.0168e-10,\n",
      "         7.2809e-11],\n",
      "        [3.1280e-10, 7.3213e-10, 2.8188e-10,  ..., 2.6057e-10, 1.4113e-09,\n",
      "         1.3219e-10],\n",
      "        [1.3524e-10, 6.3769e-11, 7.4789e-11,  ..., 7.3932e-11, 2.0271e-10,\n",
      "         2.7153e-10]], device='cuda:0')}, 26: {'step': tensor(4796.), 'exp_avg': tensor([ 2.2417e-07,  9.2321e-06, -4.5139e-06,  ..., -1.6998e-06,\n",
      "        -2.3188e-06, -2.9152e-06], device='cuda:0'), 'exp_avg_sq': tensor([1.2608e-09, 2.0203e-09, 5.6721e-09,  ..., 1.4569e-09, 8.3240e-09,\n",
      "        1.0251e-09], device='cuda:0')}, 27: {'step': tensor(4796.), 'exp_avg': tensor([ 2.2417e-07,  9.2321e-06, -4.5139e-06,  ..., -1.6998e-06,\n",
      "        -2.3188e-06, -2.9152e-06], device='cuda:0'), 'exp_avg_sq': tensor([1.2608e-09, 2.0203e-09, 5.6721e-09,  ..., 1.4569e-09, 8.3240e-09,\n",
      "        1.0251e-09], device='cuda:0')}, 28: {'step': tensor(4796.), 'exp_avg': tensor([[ 4.8448e-07, -7.7827e-07, -4.5586e-07,  ..., -6.8453e-07,\n",
      "          6.2196e-07, -7.7066e-07],\n",
      "        [-2.2158e-06, -5.9714e-07, -2.4515e-06,  ..., -3.1016e-06,\n",
      "          1.0661e-06, -2.1632e-07],\n",
      "        [-3.9964e-07,  1.8604e-07, -5.6753e-07,  ..., -4.8193e-07,\n",
      "         -7.6872e-07,  5.2052e-07],\n",
      "        ...,\n",
      "        [ 4.3032e-07, -1.0986e-06,  5.5802e-07,  ..., -2.8396e-06,\n",
      "          4.5416e-07,  3.5135e-07],\n",
      "        [ 8.5432e-07, -1.2407e-06,  6.8436e-07,  ...,  4.3421e-06,\n",
      "         -1.3492e-07,  8.8476e-07],\n",
      "        [ 1.4906e-06, -4.5466e-07,  1.3439e-06,  ...,  1.2908e-06,\n",
      "          2.1923e-07,  3.5907e-06]], device='cuda:0'), 'exp_avg_sq': tensor([[7.6456e-11, 4.8434e-11, 1.1088e-10,  ..., 5.6341e-11, 1.9718e-10,\n",
      "         3.6790e-11],\n",
      "        [4.3996e-10, 1.1562e-10, 6.3321e-10,  ..., 1.2388e-10, 7.6675e-10,\n",
      "         7.3557e-11],\n",
      "        [3.6053e-11, 2.5639e-11, 4.4188e-11,  ..., 4.8380e-11, 3.6193e-11,\n",
      "         2.0792e-11],\n",
      "        ...,\n",
      "        [5.6700e-11, 1.0755e-10, 7.1208e-11,  ..., 8.0575e-11, 7.0360e-11,\n",
      "         6.0360e-11],\n",
      "        [3.5244e-10, 1.7586e-10, 2.5212e-10,  ..., 1.7557e-10, 2.8455e-10,\n",
      "         1.1553e-10],\n",
      "        [4.5386e-10, 1.9729e-10, 6.3279e-10,  ..., 1.6963e-10, 9.8055e-10,\n",
      "         1.1012e-10]], device='cuda:0')}, 29: {'step': tensor(4796.), 'exp_avg': tensor([[ 4.9558e-07,  1.4192e-06, -8.3726e-07,  ..., -6.3442e-07,\n",
      "          6.3182e-07, -2.3478e-06],\n",
      "        [ 4.9783e-06,  4.8612e-06, -3.0578e-06,  ..., -1.2539e-06,\n",
      "         -3.1843e-06, -2.5740e-06],\n",
      "        [ 8.3207e-07,  9.6826e-07,  2.1664e-08,  ..., -9.5142e-07,\n",
      "         -4.6700e-07, -1.3383e-06],\n",
      "        ...,\n",
      "        [ 2.3001e-06,  3.8242e-07,  9.7929e-07,  ...,  7.4881e-07,\n",
      "          9.9374e-07, -1.8943e-06],\n",
      "        [-1.4951e-06, -1.2416e-06, -2.7845e-06,  ..., -2.8772e-06,\n",
      "          3.9486e-07,  1.9669e-06],\n",
      "        [ 1.3983e-06, -5.8522e-07,  8.8141e-07,  ..., -2.8238e-06,\n",
      "          1.2113e-06,  3.8192e-06]], device='cuda:0'), 'exp_avg_sq': tensor([[3.0136e-10, 2.8109e-10, 1.1405e-10,  ..., 1.0615e-10, 8.7988e-11,\n",
      "         3.2156e-10],\n",
      "        [7.3248e-10, 1.4548e-09, 2.5511e-10,  ..., 2.0366e-10, 3.8456e-10,\n",
      "         1.4328e-09],\n",
      "        [6.6141e-11, 1.8584e-10, 2.9486e-10,  ..., 1.3679e-10, 1.8823e-10,\n",
      "         1.2041e-10],\n",
      "        ...,\n",
      "        [1.4057e-10, 1.7880e-10, 1.9637e-10,  ..., 4.4196e-10, 1.0004e-10,\n",
      "         1.2648e-10],\n",
      "        [9.9143e-10, 1.4940e-09, 5.6244e-10,  ..., 6.9879e-10, 3.1554e-09,\n",
      "         8.3420e-10],\n",
      "        [7.6935e-10, 1.3925e-09, 3.3553e-10,  ..., 3.1745e-10, 3.8221e-10,\n",
      "         2.2494e-09]], device='cuda:0')}, 30: {'step': tensor(4796.), 'exp_avg': tensor([ 9.2532e-07,  7.0598e-06,  2.2298e-06,  ..., -6.6377e-07,\n",
      "        -6.0474e-07, -2.9192e-07], device='cuda:0'), 'exp_avg_sq': tensor([1.6147e-09, 8.0665e-09, 5.5445e-10,  ..., 8.8076e-10, 4.4673e-09,\n",
      "        7.4313e-09], device='cuda:0')}, 31: {'step': tensor(4796.), 'exp_avg': tensor([ 9.2532e-07,  7.0598e-06,  2.2298e-06,  ..., -6.6377e-07,\n",
      "        -6.0474e-07, -2.9192e-07], device='cuda:0'), 'exp_avg_sq': tensor([1.6147e-09, 8.0665e-09, 5.5445e-10,  ..., 8.8076e-10, 4.4673e-09,\n",
      "        7.4313e-09], device='cuda:0')}, 32: {'step': tensor(4796.), 'exp_avg': tensor([[-4.0834e-07,  1.9083e-06, -2.5386e-06,  ...,  1.1444e-06,\n",
      "         -2.1528e-06,  1.4612e-06],\n",
      "        [-1.6728e-07, -4.5169e-07, -1.8480e-06,  ...,  1.3503e-06,\n",
      "          5.2527e-07, -3.6445e-07],\n",
      "        [-1.1728e-07,  9.1525e-07, -9.8472e-07,  ...,  6.3985e-08,\n",
      "          9.0294e-07,  7.3657e-07],\n",
      "        ...,\n",
      "        [-1.2110e-06, -8.3445e-07, -3.0170e-06,  ...,  8.5646e-07,\n",
      "         -6.5764e-07, -8.2205e-07],\n",
      "        [ 1.4006e-06, -1.8729e-06,  1.4141e-06,  ..., -2.1666e-06,\n",
      "         -1.6789e-06, -1.6254e-06],\n",
      "        [ 6.3170e-07,  7.7625e-07,  2.1110e-06,  ..., -3.9779e-07,\n",
      "         -9.8602e-07,  5.8203e-07]], device='cuda:0'), 'exp_avg_sq': tensor([[3.9950e-11, 4.4142e-11, 1.0748e-10,  ..., 1.2536e-10, 1.1636e-10,\n",
      "         2.8539e-11],\n",
      "        [3.2241e-11, 7.0769e-11, 1.3275e-10,  ..., 3.2910e-11, 6.1568e-11,\n",
      "         3.0091e-11],\n",
      "        [8.0660e-11, 1.2084e-10, 2.3387e-10,  ..., 8.1070e-11, 9.2072e-11,\n",
      "         7.6267e-11],\n",
      "        ...,\n",
      "        [2.7378e-10, 1.1636e-10, 3.8613e-10,  ..., 1.3741e-10, 5.0851e-10,\n",
      "         8.2566e-11],\n",
      "        [5.4353e-11, 2.7920e-10, 1.5932e-10,  ..., 9.0960e-11, 1.4141e-10,\n",
      "         1.3742e-10],\n",
      "        [6.1282e-11, 1.0186e-10, 2.2266e-10,  ..., 2.3143e-10, 2.0839e-10,\n",
      "         7.3535e-11]], device='cuda:0')}, 33: {'step': tensor(4796.), 'exp_avg': tensor([[-1.9996e-06, -1.3299e-06,  2.6964e-06,  ...,  1.9100e-06,\n",
      "          2.2629e-07, -1.1028e-07],\n",
      "        [ 4.3473e-07,  6.8957e-07, -3.7340e-07,  ...,  6.0732e-07,\n",
      "          4.0634e-07, -9.2386e-07],\n",
      "        [-1.7124e-07,  1.2894e-07,  5.3813e-07,  ..., -5.3305e-07,\n",
      "         -9.1379e-07,  6.3647e-07],\n",
      "        ...,\n",
      "        [ 2.9976e-06, -3.2408e-06, -1.7181e-06,  ...,  2.7488e-06,\n",
      "          6.8725e-07,  1.5376e-06],\n",
      "        [ 1.5094e-06, -1.8996e-06, -1.4669e-06,  ...,  5.8755e-07,\n",
      "          4.7507e-07,  1.8198e-06],\n",
      "        [-4.9912e-07,  1.2388e-06,  3.2162e-07,  ..., -1.7329e-08,\n",
      "         -3.5413e-08, -8.1364e-07]], device='cuda:0'), 'exp_avg_sq': tensor([[2.7258e-10, 9.0916e-11, 9.6499e-11,  ..., 8.3723e-11, 1.0854e-10,\n",
      "         6.6996e-11],\n",
      "        [4.6436e-11, 1.9221e-10, 5.5906e-11,  ..., 7.0932e-11, 5.4098e-11,\n",
      "         5.1805e-11],\n",
      "        [1.1665e-10, 1.5786e-10, 4.1299e-10,  ..., 8.2455e-11, 9.2318e-11,\n",
      "         8.0199e-11],\n",
      "        ...,\n",
      "        [2.1310e-10, 2.7006e-10, 2.0575e-10,  ..., 8.4363e-10, 1.8432e-10,\n",
      "         1.8530e-10],\n",
      "        [1.9531e-10, 1.1579e-10, 9.9326e-11,  ..., 1.1342e-10, 1.4823e-09,\n",
      "         1.4449e-10],\n",
      "        [8.3330e-11, 1.4499e-10, 9.1928e-11,  ..., 1.3278e-10, 1.3752e-10,\n",
      "         1.0075e-09]], device='cuda:0')}, 34: {'step': tensor(4796.), 'exp_avg': tensor([ 4.4638e-06,  4.3213e-06,  3.7648e-06,  ...,  4.4988e-06,\n",
      "        -3.3289e-06, -2.4688e-06], device='cuda:0'), 'exp_avg_sq': tensor([7.5179e-10, 8.3106e-10, 1.7456e-09,  ..., 4.1374e-09, 1.3061e-09,\n",
      "        1.9994e-09], device='cuda:0')}, 35: {'step': tensor(4796.), 'exp_avg': tensor([ 4.4638e-06,  4.3213e-06,  3.7648e-06,  ...,  4.4988e-06,\n",
      "        -3.3289e-06, -2.4688e-06], device='cuda:0'), 'exp_avg_sq': tensor([7.5179e-10, 8.3106e-10, 1.7456e-09,  ..., 4.1374e-09, 1.3061e-09,\n",
      "        1.9994e-09], device='cuda:0')}, 36: {'step': tensor(4796.), 'exp_avg': tensor([[ 1.7041e-06,  3.0471e-06, -3.1085e-07,  ...,  1.8113e-06,\n",
      "         -7.9516e-07, -8.3544e-07],\n",
      "        [-1.8136e-07, -2.5488e-07, -6.5402e-07,  ...,  1.1037e-06,\n",
      "         -7.8291e-07,  3.9039e-07],\n",
      "        [ 7.4051e-07,  1.3031e-06, -9.8639e-07,  ...,  5.0223e-07,\n",
      "          6.9400e-07,  2.7729e-07],\n",
      "        ...,\n",
      "        [ 1.1747e-07, -8.2860e-07,  6.6404e-07,  ..., -7.3239e-08,\n",
      "         -2.1706e-07,  2.8002e-07],\n",
      "        [-2.7419e-06,  1.4605e-06, -4.0640e-06,  ..., -7.1361e-07,\n",
      "          1.6614e-06, -5.1638e-06],\n",
      "        [ 1.0195e-06,  6.1350e-07,  7.3034e-07,  ..., -4.0629e-07,\n",
      "         -1.2695e-06,  7.2298e-07]], device='cuda:0'), 'exp_avg_sq': tensor([[1.5715e-10, 2.4668e-10, 1.0327e-10,  ..., 1.2065e-10, 8.3727e-11,\n",
      "         6.0581e-11],\n",
      "        [5.5807e-12, 9.9642e-12, 2.0481e-11,  ..., 3.9793e-11, 3.2106e-11,\n",
      "         2.2930e-11],\n",
      "        [1.3012e-11, 5.8445e-11, 3.8043e-11,  ..., 1.9288e-11, 2.9411e-11,\n",
      "         2.7966e-11],\n",
      "        ...,\n",
      "        [2.0983e-11, 4.6609e-11, 2.8942e-11,  ..., 1.3179e-11, 1.7006e-11,\n",
      "         1.6694e-11],\n",
      "        [1.4653e-10, 3.3106e-10, 1.7291e-10,  ..., 2.1014e-10, 1.5342e-10,\n",
      "         1.5106e-10],\n",
      "        [3.4474e-11, 4.5182e-11, 2.4317e-11,  ..., 1.4237e-11, 1.8171e-11,\n",
      "         1.1202e-11]], device='cuda:0')}, 37: {'step': tensor(4796.), 'exp_avg': tensor([[-1.5210e-06,  1.5738e-06, -1.3165e-06,  ...,  2.3504e-06,\n",
      "          4.9928e-07, -2.6734e-07],\n",
      "        [ 4.0328e-08,  3.8337e-07,  8.3916e-08,  ..., -4.9708e-07,\n",
      "         -6.5183e-07, -5.2728e-07],\n",
      "        [-6.6352e-08, -5.8899e-07, -5.6039e-07,  ...,  9.2310e-07,\n",
      "         -6.4853e-07, -3.4981e-07],\n",
      "        ...,\n",
      "        [ 1.3075e-07,  4.8421e-07,  5.0307e-07,  ...,  2.9600e-07,\n",
      "         -6.0202e-07, -7.4556e-08],\n",
      "        [-5.8410e-07, -1.2759e-07,  8.1029e-07,  ..., -2.8554e-07,\n",
      "         -1.9886e-06, -5.0850e-07],\n",
      "        [ 7.1232e-07, -5.0662e-07, -1.7421e-07,  ..., -1.4059e-07,\n",
      "         -2.0449e-07,  1.4049e-07]], device='cuda:0'), 'exp_avg_sq': tensor([[1.8341e-10, 2.0984e-10, 1.3004e-10,  ..., 4.5897e-11, 8.5856e-11,\n",
      "         4.9549e-11],\n",
      "        [3.9206e-12, 2.3055e-11, 8.5174e-12,  ..., 5.6425e-12, 1.7454e-11,\n",
      "         7.8056e-12],\n",
      "        [1.7712e-11, 2.6985e-11, 6.2196e-11,  ..., 3.4239e-11, 2.8314e-11,\n",
      "         2.5568e-11],\n",
      "        ...,\n",
      "        [1.4518e-11, 1.8278e-11, 2.0947e-11,  ..., 1.2728e-10, 2.3448e-11,\n",
      "         2.1872e-11],\n",
      "        [1.4065e-10, 2.4305e-10, 2.1394e-10,  ..., 1.6689e-10, 1.0312e-09,\n",
      "         9.7409e-11],\n",
      "        [2.3151e-11, 3.4368e-11, 2.7802e-11,  ..., 3.0403e-11, 1.6467e-11,\n",
      "         9.6588e-11]], device='cuda:0')}, 38: {'step': tensor(4796.), 'exp_avg': tensor([ 6.0107e-06, -1.9005e-06,  1.3326e-06,  ..., -1.6874e-06,\n",
      "         1.7274e-06,  1.8123e-07], device='cuda:0'), 'exp_avg_sq': tensor([1.6626e-09, 1.4631e-10, 2.6193e-10,  ..., 2.4183e-10, 1.7965e-09,\n",
      "        1.9142e-10], device='cuda:0')}, 39: {'step': tensor(4796.), 'exp_avg': tensor([ 6.0107e-06, -1.9005e-06,  1.3326e-06,  ..., -1.6874e-06,\n",
      "         1.7274e-06,  1.8123e-07], device='cuda:0'), 'exp_avg_sq': tensor([1.6626e-09, 1.4631e-10, 2.6193e-10,  ..., 2.4183e-10, 1.7965e-09,\n",
      "        1.9142e-10], device='cuda:0')}, 40: {'step': tensor(4796.), 'exp_avg': tensor([[-2.6325e-07,  8.4557e-07, -8.0991e-07,  ...,  4.2723e-07,\n",
      "         -9.2451e-07,  2.1494e-06],\n",
      "        [-2.0158e-06, -3.3295e-06,  4.6968e-08,  ...,  4.1860e-07,\n",
      "          1.1812e-06, -2.4107e-06],\n",
      "        [-1.6911e-06, -2.0865e-07, -9.1176e-07,  ..., -2.9328e-07,\n",
      "          2.4428e-07,  1.0784e-06],\n",
      "        ...,\n",
      "        [-6.0372e-07,  1.1288e-07,  4.0368e-07,  ...,  1.8172e-07,\n",
      "          5.5952e-07, -3.0748e-07],\n",
      "        [-2.6615e-06,  1.9332e-07, -3.1231e-06,  ...,  4.6966e-06,\n",
      "          1.0941e-06, -5.1125e-07],\n",
      "        [ 6.7573e-07,  4.5846e-07,  1.7854e-06,  ...,  6.1478e-08,\n",
      "         -5.6934e-07,  8.5092e-07]], device='cuda:0'), 'exp_avg_sq': tensor([[5.6902e-11, 1.2139e-10, 1.0368e-10,  ..., 6.8665e-11, 3.8973e-11,\n",
      "         3.9748e-11],\n",
      "        [3.6913e-10, 1.1547e-10, 1.2118e-10,  ..., 8.9236e-11, 6.8777e-11,\n",
      "         9.5874e-11],\n",
      "        [9.7571e-11, 6.4127e-11, 4.2465e-11,  ..., 4.1706e-11, 4.3376e-11,\n",
      "         3.5765e-11],\n",
      "        ...,\n",
      "        [4.4026e-11, 5.0731e-11, 3.2584e-11,  ..., 1.9800e-11, 3.5464e-11,\n",
      "         2.8044e-11],\n",
      "        [1.1383e-09, 2.1587e-09, 4.7706e-10,  ..., 8.3476e-10, 2.4727e-10,\n",
      "         2.7891e-10],\n",
      "        [2.9600e-11, 3.0586e-11, 2.5838e-11,  ..., 1.3067e-11, 1.1394e-11,\n",
      "         1.2256e-11]], device='cuda:0')}, 41: {'step': tensor(4796.), 'exp_avg': tensor([[-5.9625e-07, -1.3019e-06, -5.3890e-07,  ...,  3.5230e-07,\n",
      "         -8.7923e-07, -1.6196e-08],\n",
      "        [ 3.7941e-07, -1.4145e-06,  2.9067e-07,  ..., -3.3439e-07,\n",
      "          1.4838e-06, -3.5869e-06],\n",
      "        [-8.7499e-07, -1.9315e-07, -1.3373e-07,  ...,  7.3846e-07,\n",
      "          4.1854e-07, -3.5028e-07],\n",
      "        ...,\n",
      "        [ 1.6335e-07,  9.4671e-07,  1.0352e-07,  ..., -6.8205e-07,\n",
      "          3.9436e-08, -1.0738e-06],\n",
      "        [ 3.9053e-06, -1.5372e-06,  8.5752e-07,  ...,  5.2362e-07,\n",
      "         -7.9740e-07, -3.6027e-06],\n",
      "        [-1.0299e-06,  2.1407e-08, -9.7291e-07,  ...,  3.8390e-08,\n",
      "          3.2788e-07,  1.4954e-06]], device='cuda:0'), 'exp_avg_sq': tensor([[9.6553e-11, 4.1316e-11, 8.5778e-11,  ..., 2.9303e-11, 1.4868e-10,\n",
      "         6.9541e-11],\n",
      "        [2.2713e-10, 2.9539e-10, 1.0920e-10,  ..., 5.0066e-10, 8.6166e-11,\n",
      "         1.8840e-10],\n",
      "        [6.4610e-11, 2.7303e-11, 3.1046e-11,  ..., 5.3085e-11, 6.4702e-11,\n",
      "         5.2573e-11],\n",
      "        ...,\n",
      "        [1.7698e-11, 5.1610e-11, 2.8225e-11,  ..., 8.0860e-11, 4.4157e-11,\n",
      "         2.8314e-11],\n",
      "        [3.5334e-10, 3.7581e-10, 3.7981e-10,  ..., 3.4995e-10, 3.3436e-09,\n",
      "         3.8547e-10],\n",
      "        [1.3735e-11, 2.7672e-11, 2.4383e-11,  ..., 1.4086e-11, 2.9468e-11,\n",
      "         8.9240e-11]], device='cuda:0')}, 42: {'step': tensor(4796.), 'exp_avg': tensor([ 2.3834e-06, -6.2147e-06, -2.1051e-06,  ...,  1.0030e-06,\n",
      "         1.6094e-06,  4.4723e-07], device='cuda:0'), 'exp_avg_sq': tensor([6.4975e-10, 5.4386e-10, 2.3766e-10,  ..., 2.9328e-10, 1.1202e-08,\n",
      "        1.8455e-10], device='cuda:0')}, 43: {'step': tensor(4796.), 'exp_avg': tensor([ 2.3834e-06, -6.2147e-06, -2.1051e-06,  ...,  1.0030e-06,\n",
      "         1.6094e-06,  4.4723e-07], device='cuda:0'), 'exp_avg_sq': tensor([6.4975e-10, 5.4386e-10, 2.3766e-10,  ..., 2.9328e-10, 1.1202e-08,\n",
      "        1.8455e-10], device='cuda:0')}, 44: {'step': tensor(4796.), 'exp_avg': tensor([[ 1.4481e-06,  4.9338e-10, -3.0483e-07,  ...,  1.4073e-06,\n",
      "          1.8942e-06,  5.9276e-07],\n",
      "        [-6.8849e-07,  5.3997e-09, -7.9818e-07,  ..., -4.8920e-07,\n",
      "          1.3628e-08,  2.9115e-07],\n",
      "        [ 2.0386e-06,  8.4504e-07, -1.2702e-06,  ..., -2.6730e-06,\n",
      "         -2.9854e-06, -4.1934e-06],\n",
      "        ...,\n",
      "        [-1.4080e-06,  1.6645e-06,  1.2449e-06,  ..., -1.2640e-06,\n",
      "         -2.4241e-06,  2.3491e-06],\n",
      "        [-2.3394e-06,  2.1569e-06,  2.8482e-06,  ..., -1.3769e-06,\n",
      "         -3.0829e-06, -8.5319e-07],\n",
      "        [-7.2436e-07, -2.4742e-06, -1.5183e-06,  ...,  2.8201e-06,\n",
      "         -1.1429e-06, -1.6614e-07]], device='cuda:0'), 'exp_avg_sq': tensor([[4.0589e-11, 1.0442e-10, 8.4378e-11,  ..., 5.2484e-11, 1.0120e-10,\n",
      "         5.2685e-11],\n",
      "        [1.1471e-10, 1.2487e-10, 7.4054e-11,  ..., 5.1170e-11, 9.9472e-11,\n",
      "         8.9755e-11],\n",
      "        [1.5175e-10, 3.3305e-10, 3.3622e-10,  ..., 3.7130e-10, 7.7423e-10,\n",
      "         4.2538e-10],\n",
      "        ...,\n",
      "        [2.8953e-10, 3.0815e-10, 3.2074e-10,  ..., 2.4070e-10, 6.5455e-10,\n",
      "         2.4332e-10],\n",
      "        [1.4996e-10, 9.3472e-11, 1.4091e-10,  ..., 4.0487e-11, 2.2155e-10,\n",
      "         9.7600e-11],\n",
      "        [4.3453e-11, 9.3865e-11, 6.9645e-11,  ..., 7.8148e-11, 1.4646e-10,\n",
      "         9.5579e-11]], device='cuda:0')}, 45: {'step': tensor(4796.), 'exp_avg': tensor([[ 1.3025e-06, -1.6691e-06, -6.3805e-07,  ...,  6.1502e-07,\n",
      "          6.8708e-07, -1.2304e-07],\n",
      "        [-1.4963e-06,  5.3997e-07,  1.1284e-07,  ..., -1.5277e-07,\n",
      "          1.1176e-06,  1.2564e-06],\n",
      "        [-1.0834e-06,  5.0686e-07, -7.3795e-07,  ...,  1.6391e-06,\n",
      "         -6.0648e-07, -6.2625e-07],\n",
      "        ...,\n",
      "        [-4.9467e-07,  6.0245e-07,  4.0557e-07,  ...,  3.0045e-06,\n",
      "          3.0671e-08,  1.1418e-06],\n",
      "        [ 2.6698e-06,  3.7012e-07, -8.8247e-07,  ...,  2.6959e-06,\n",
      "          1.6114e-06,  3.9322e-06],\n",
      "        [-1.0956e-06, -1.6596e-06,  4.5849e-07,  ...,  1.6663e-06,\n",
      "         -1.6534e-06, -2.0898e-08]], device='cuda:0'), 'exp_avg_sq': tensor([[1.9797e-10, 2.4893e-11, 6.8280e-11,  ..., 9.7893e-11, 4.0110e-11,\n",
      "         1.7005e-10],\n",
      "        [4.1940e-11, 1.0953e-10, 5.7947e-11,  ..., 1.6925e-10, 7.6964e-11,\n",
      "         5.3550e-11],\n",
      "        [2.1163e-10, 1.0060e-10, 3.4315e-10,  ..., 2.7738e-10, 4.5731e-10,\n",
      "         5.1133e-10],\n",
      "        ...,\n",
      "        [2.0972e-10, 1.6809e-10, 2.5754e-10,  ..., 1.0423e-09, 1.5527e-10,\n",
      "         4.7879e-10],\n",
      "        [1.2927e-10, 3.5118e-11, 1.2095e-10,  ..., 1.5341e-10, 3.1577e-10,\n",
      "         2.7192e-10],\n",
      "        [4.5370e-11, 2.7279e-11, 1.4426e-10,  ..., 1.4163e-10, 6.3393e-11,\n",
      "         5.4128e-10]], device='cuda:0')}, 46: {'step': tensor(4796.), 'exp_avg': tensor([-2.1509e-06, -9.4915e-07,  3.7926e-06,  ...,  9.0680e-06,\n",
      "         4.5594e-06,  2.4510e-06], device='cuda:0'), 'exp_avg_sq': tensor([4.6211e-10, 6.1457e-10, 1.2033e-09,  ..., 3.1139e-09, 1.1499e-09,\n",
      "        6.6960e-10], device='cuda:0')}, 47: {'step': tensor(4796.), 'exp_avg': tensor([-2.1509e-06, -9.4915e-07,  3.7926e-06,  ...,  9.0680e-06,\n",
      "         4.5594e-06,  2.4510e-06], device='cuda:0'), 'exp_avg_sq': tensor([4.6211e-10, 6.1457e-10, 1.2033e-09,  ..., 3.1139e-09, 1.1499e-09,\n",
      "        6.6960e-10], device='cuda:0')}, 48: {'step': tensor(4796.), 'exp_avg': tensor([[-5.0338e-06,  4.9060e-06, -4.1074e-06,  ...,  3.6310e-06,\n",
      "         -2.7452e-06,  2.8651e-06],\n",
      "        [ 2.0576e-06, -2.4386e-06, -3.3388e-07,  ...,  6.7569e-07,\n",
      "          1.8661e-06,  1.1745e-06],\n",
      "        [-2.3175e-06,  6.2797e-07,  2.3689e-07,  ...,  1.1499e-06,\n",
      "         -3.4776e-06,  8.7952e-07],\n",
      "        ...,\n",
      "        [-4.7829e-08,  1.5742e-06, -1.2078e-06,  ..., -3.0389e-07,\n",
      "          2.2258e-06, -2.7415e-06],\n",
      "        [ 1.3205e-06,  9.8900e-07,  5.4867e-07,  ...,  1.1476e-06,\n",
      "          2.1517e-06, -5.6345e-06],\n",
      "        [-1.6493e-06,  1.1502e-06, -1.0492e-07,  ..., -1.0724e-06,\n",
      "         -9.7986e-07,  6.6969e-07]], device='cuda:0'), 'exp_avg_sq': tensor([[2.7570e-10, 1.8896e-10, 2.9496e-10,  ..., 1.4549e-10, 5.5882e-10,\n",
      "         1.8032e-10],\n",
      "        [3.9101e-11, 4.3585e-11, 5.0087e-11,  ..., 4.8008e-11, 4.7966e-11,\n",
      "         4.1254e-11],\n",
      "        [1.0519e-10, 1.2519e-10, 8.1304e-11,  ..., 6.0280e-11, 1.5572e-10,\n",
      "         7.1073e-11],\n",
      "        ...,\n",
      "        [3.1432e-10, 2.6596e-10, 2.0214e-10,  ..., 2.6462e-10, 7.1653e-10,\n",
      "         2.3756e-10],\n",
      "        [3.4901e-10, 1.8497e-10, 2.4755e-10,  ..., 1.6931e-10, 7.0029e-10,\n",
      "         2.0517e-10],\n",
      "        [2.0076e-11, 3.6963e-11, 3.3593e-11,  ..., 2.7587e-11, 1.0112e-10,\n",
      "         2.3816e-11]], device='cuda:0')}, 49: {'step': tensor(4796.), 'exp_avg': tensor([[-1.0457e-06,  1.0574e-06,  6.0092e-07,  ..., -4.0008e-06,\n",
      "          2.9988e-06, -2.0005e-07],\n",
      "        [-1.5155e-06,  1.8681e-06, -9.1243e-07,  ...,  6.4075e-07,\n",
      "         -1.5078e-06, -2.0395e-07],\n",
      "        [-1.9398e-07, -2.3095e-06, -7.0604e-08,  ..., -7.0792e-07,\n",
      "          3.2361e-06, -1.2546e-06],\n",
      "        ...,\n",
      "        [ 3.6456e-09, -4.5182e-07,  4.0854e-07,  ..., -3.7892e-07,\n",
      "          1.8305e-06, -2.4332e-06],\n",
      "        [-2.7880e-06,  2.1074e-06, -3.0742e-06,  ..., -6.8817e-08,\n",
      "         -2.6456e-06, -1.1556e-06],\n",
      "        [-4.1181e-07, -7.9603e-07, -7.4113e-07,  ..., -2.9380e-06,\n",
      "         -7.5287e-08, -6.0653e-07]], device='cuda:0'), 'exp_avg_sq': tensor([[3.3066e-10, 1.5825e-10, 2.0065e-10,  ..., 3.1022e-10, 1.1272e-10,\n",
      "         1.4557e-10],\n",
      "        [3.9825e-11, 1.3009e-10, 6.1753e-11,  ..., 4.7932e-11, 2.7473e-11,\n",
      "         4.1288e-11],\n",
      "        [1.1282e-10, 1.0038e-10, 1.5518e-10,  ..., 1.9096e-10, 8.1790e-11,\n",
      "         5.8320e-11],\n",
      "        ...,\n",
      "        [3.2939e-10, 1.9631e-10, 3.0960e-10,  ..., 8.9609e-10, 1.9710e-10,\n",
      "         2.4561e-10],\n",
      "        [1.9078e-10, 1.7564e-10, 5.4604e-10,  ..., 1.7987e-10, 5.9575e-10,\n",
      "         2.4916e-10],\n",
      "        [4.0346e-11, 4.0786e-11, 4.8515e-11,  ..., 4.6731e-11, 2.9250e-11,\n",
      "         1.1233e-10]], device='cuda:0')}, 50: {'step': tensor(4796.), 'exp_avg': tensor([ 7.7734e-06, -5.0208e-06,  1.0766e-05,  ...,  9.6750e-07,\n",
      "        -6.5171e-06,  2.5834e-06], device='cuda:0'), 'exp_avg_sq': tensor([1.6134e-09, 3.4955e-10, 7.2163e-10,  ..., 3.1374e-09, 3.7298e-09,\n",
      "        3.7738e-10], device='cuda:0')}, 51: {'step': tensor(4796.), 'exp_avg': tensor([ 7.7734e-06, -5.0208e-06,  1.0766e-05,  ...,  9.6750e-07,\n",
      "        -6.5171e-06,  2.5834e-06], device='cuda:0'), 'exp_avg_sq': tensor([1.6134e-09, 3.4955e-10, 7.2163e-10,  ..., 3.1374e-09, 3.7298e-09,\n",
      "        3.7738e-10], device='cuda:0')}, 52: {'step': tensor(4796.), 'exp_avg': tensor([[-7.3417e-08, -4.6003e-07, -3.9451e-08,  ...,  5.6818e-07,\n",
      "          9.7707e-08,  1.1391e-06],\n",
      "        [-9.0245e-07, -3.5132e-06, -3.6532e-07,  ..., -5.5012e-06,\n",
      "          4.7127e-06, -1.8604e-06],\n",
      "        [ 1.4817e-06, -1.0787e-06,  7.9436e-07,  ...,  6.2695e-07,\n",
      "         -8.8135e-07,  2.3371e-06],\n",
      "        ...,\n",
      "        [-2.3920e-06, -2.5113e-06, -2.1242e-06,  ..., -5.2296e-07,\n",
      "          3.8485e-07, -5.9330e-07],\n",
      "        [-6.8380e-07, -1.8254e-06,  1.3425e-06,  ..., -9.3741e-07,\n",
      "         -1.1158e-06, -8.0968e-07],\n",
      "        [-8.1225e-07, -7.0343e-07,  3.2283e-08,  ..., -1.7022e-06,\n",
      "          1.4486e-06, -4.3096e-07]], device='cuda:0'), 'exp_avg_sq': tensor([[6.8661e-11, 3.7750e-11, 7.2790e-11,  ..., 1.2406e-10, 8.4476e-11,\n",
      "         6.2263e-11],\n",
      "        [1.4179e-10, 1.1336e-10, 2.2171e-10,  ..., 3.2366e-10, 1.0958e-10,\n",
      "         3.0897e-10],\n",
      "        [1.2087e-10, 2.8805e-11, 4.9942e-11,  ..., 6.5238e-11, 3.9483e-11,\n",
      "         7.5312e-11],\n",
      "        ...,\n",
      "        [1.7169e-10, 2.0280e-10, 3.3210e-10,  ..., 3.3767e-10, 1.8956e-10,\n",
      "         2.2413e-10],\n",
      "        [6.8629e-11, 3.7733e-11, 1.1003e-10,  ..., 1.8761e-10, 8.5222e-11,\n",
      "         7.0322e-11],\n",
      "        [1.4969e-10, 1.1345e-10, 2.5751e-10,  ..., 2.6417e-10, 1.8713e-10,\n",
      "         2.1511e-10]], device='cuda:0')}, 53: {'step': tensor(4796.), 'exp_avg': tensor([[ 6.7725e-07,  1.7215e-07, -3.8782e-07,  ...,  1.2013e-06,\n",
      "          8.6721e-07, -1.7124e-07],\n",
      "        [-1.8714e-06,  2.3612e-06, -1.1082e-06,  ...,  1.0308e-06,\n",
      "          1.0988e-06, -2.4521e-06],\n",
      "        [-8.1500e-08, -6.7691e-07,  5.6012e-07,  ...,  1.2940e-07,\n",
      "         -9.3908e-08,  5.0967e-07],\n",
      "        ...,\n",
      "        [ 1.2916e-06,  1.8251e-06,  4.5945e-07,  ..., -6.5733e-07,\n",
      "         -1.6433e-06,  5.4448e-07],\n",
      "        [-7.5416e-08, -6.9975e-07, -1.8225e-07,  ..., -3.9372e-07,\n",
      "          1.6409e-06,  1.9711e-06],\n",
      "        [-3.0886e-07, -1.5856e-06,  6.6080e-07,  ..., -1.6366e-06,\n",
      "         -2.0423e-06,  3.8502e-06]], device='cuda:0'), 'exp_avg_sq': tensor([[9.2595e-11, 6.8535e-11, 5.9371e-11,  ..., 4.4302e-11, 5.2361e-11,\n",
      "         5.9017e-11],\n",
      "        [1.0134e-10, 2.8831e-10, 1.5976e-10,  ..., 1.4408e-10, 1.6490e-10,\n",
      "         1.5980e-10],\n",
      "        [3.3281e-11, 7.1498e-11, 1.7593e-10,  ..., 4.3154e-11, 4.4143e-11,\n",
      "         3.7971e-11],\n",
      "        ...,\n",
      "        [1.6964e-10, 2.6944e-10, 1.9490e-10,  ..., 6.2630e-10, 1.8521e-10,\n",
      "         2.8568e-10],\n",
      "        [7.1601e-11, 1.3365e-10, 1.1909e-10,  ..., 4.2941e-11, 2.6831e-10,\n",
      "         9.2115e-11],\n",
      "        [1.8053e-10, 2.6639e-10, 1.8975e-10,  ..., 1.5578e-10, 2.1533e-10,\n",
      "         4.5580e-10]], device='cuda:0')}, 54: {'step': tensor(4796.), 'exp_avg': tensor([-6.8339e-07,  6.6476e-06, -1.2729e-06,  ..., -1.3120e-06,\n",
      "        -2.9422e-06,  1.0265e-06], device='cuda:0'), 'exp_avg_sq': tensor([8.0682e-10, 1.1885e-09, 3.9005e-10,  ..., 2.8225e-09, 7.0423e-10,\n",
      "        1.0993e-09], device='cuda:0')}, 55: {'step': tensor(4796.), 'exp_avg': tensor([-6.8339e-07,  6.6476e-06, -1.2729e-06,  ..., -1.3120e-06,\n",
      "        -2.9422e-06,  1.0265e-06], device='cuda:0'), 'exp_avg_sq': tensor([8.0682e-10, 1.1885e-09, 3.9005e-10,  ..., 2.8225e-09, 7.0423e-10,\n",
      "        1.0993e-09], device='cuda:0')}, 56: {'step': tensor(4796.), 'exp_avg': tensor([[-1.7206e-06,  2.0363e-07, -1.5041e-06,  ..., -3.4100e-07,\n",
      "          1.8252e-06,  1.3393e-06],\n",
      "        [ 1.0059e-06, -1.0556e-07,  2.7172e-06,  ...,  8.8500e-07,\n",
      "         -2.2118e-06, -1.4340e-07],\n",
      "        [ 3.1221e-06,  1.2606e-06,  5.6624e-08,  ..., -2.0369e-07,\n",
      "          6.1920e-07, -1.8018e-07],\n",
      "        ...,\n",
      "        [ 2.3493e-06, -5.9150e-07,  1.0041e-06,  ...,  1.1550e-06,\n",
      "         -1.4453e-06, -1.0217e-06],\n",
      "        [-6.2951e-07, -7.3204e-07, -8.0248e-07,  ..., -5.6824e-07,\n",
      "          1.9763e-06,  6.8476e-07],\n",
      "        [-5.4379e-08, -4.5595e-07, -6.9167e-07,  ...,  8.1324e-07,\n",
      "         -1.7488e-07, -1.9769e-06]], device='cuda:0'), 'exp_avg_sq': tensor([[9.1506e-11, 3.2028e-11, 7.0148e-11,  ..., 9.1551e-11, 6.8530e-11,\n",
      "         1.8447e-10],\n",
      "        [5.2709e-11, 1.8694e-11, 8.8426e-11,  ..., 1.5364e-10, 6.6496e-11,\n",
      "         5.5319e-11],\n",
      "        [7.7706e-11, 2.8636e-11, 7.5326e-11,  ..., 1.3362e-10, 6.2005e-11,\n",
      "         8.0590e-11],\n",
      "        ...,\n",
      "        [8.6030e-11, 4.1459e-11, 9.9836e-11,  ..., 2.5111e-10, 1.5861e-10,\n",
      "         1.4964e-10],\n",
      "        [3.9048e-11, 1.6877e-11, 6.4683e-11,  ..., 5.0499e-11, 3.2684e-11,\n",
      "         5.6166e-11],\n",
      "        [8.6743e-11, 3.4565e-11, 1.1416e-10,  ..., 1.4029e-10, 7.3809e-11,\n",
      "         1.1269e-10]], device='cuda:0')}, 57: {'step': tensor(4796.), 'exp_avg': tensor([[ 2.6032e-06, -3.5145e-06, -2.8241e-07,  ...,  6.8185e-07,\n",
      "         -1.6054e-07,  1.1243e-06],\n",
      "        [-4.8947e-07,  2.7495e-07,  1.5886e-07,  ..., -3.0356e-06,\n",
      "          8.3937e-07,  2.2012e-07],\n",
      "        [-1.7888e-06, -6.1736e-09,  9.9944e-07,  ...,  7.1122e-08,\n",
      "         -4.8407e-07,  7.6436e-07],\n",
      "        ...,\n",
      "        [-1.6902e-06, -1.5966e-06, -3.6817e-07,  ..., -4.2384e-07,\n",
      "         -2.1848e-06, -7.3580e-07],\n",
      "        [ 1.3031e-07,  1.1546e-06,  4.4068e-07,  ...,  7.9909e-07,\n",
      "          9.9769e-07, -1.1352e-06],\n",
      "        [-7.3300e-07, -1.0343e-06,  6.0366e-07,  ...,  8.7279e-08,\n",
      "         -9.9486e-07,  1.1178e-06]], device='cuda:0'), 'exp_avg_sq': tensor([[1.5320e-10, 2.0140e-10, 4.7328e-11,  ..., 9.6819e-11, 5.6896e-11,\n",
      "         4.5211e-11],\n",
      "        [5.1507e-11, 6.2491e-11, 3.1941e-11,  ..., 4.0709e-11, 2.4213e-11,\n",
      "         5.2261e-11],\n",
      "        [5.6488e-11, 1.0103e-10, 1.0003e-10,  ..., 3.6626e-11, 3.1385e-11,\n",
      "         5.0443e-11],\n",
      "        ...,\n",
      "        [7.5055e-11, 6.9615e-11, 1.0581e-10,  ..., 3.3905e-10, 5.4745e-11,\n",
      "         1.2109e-10],\n",
      "        [3.3382e-11, 1.8564e-11, 2.3709e-11,  ..., 2.1800e-11, 9.0852e-11,\n",
      "         2.8160e-11],\n",
      "        [5.3242e-11, 4.7661e-11, 6.2191e-11,  ..., 6.9449e-11, 4.0633e-11,\n",
      "         5.4514e-10]], device='cuda:0')}, 58: {'step': tensor(4796.), 'exp_avg': tensor([-1.3355e-07, -5.7124e-06, -4.8624e-06,  ..., -5.4622e-06,\n",
      "         4.4679e-06,  2.5639e-06], device='cuda:0'), 'exp_avg_sq': tensor([6.6807e-10, 5.5309e-10, 8.7221e-10,  ..., 1.2871e-09, 4.2763e-10,\n",
      "        8.2215e-10], device='cuda:0')}, 59: {'step': tensor(4796.), 'exp_avg': tensor([-1.3355e-07, -5.7124e-06, -4.8624e-06,  ..., -5.4622e-06,\n",
      "         4.4679e-06,  2.5639e-06], device='cuda:0'), 'exp_avg_sq': tensor([6.6807e-10, 5.5309e-10, 8.7221e-10,  ..., 1.2871e-09, 4.2763e-10,\n",
      "        8.2215e-10], device='cuda:0')}, 60: {'step': tensor(4796.), 'exp_avg': tensor([[ 1.3621e-05,  2.1982e-06, -6.3188e-06,  ..., -1.9119e-06,\n",
      "          1.4646e-05, -9.2739e-06],\n",
      "        [ 1.0106e-06,  3.2657e-07,  3.0830e-06,  ...,  7.4423e-06,\n",
      "         -1.0957e-06, -1.6329e-06],\n",
      "        [-6.4050e-06,  1.0060e-05, -5.2020e-07,  ..., -1.0678e-05,\n",
      "          8.4557e-06,  1.3402e-05],\n",
      "        ...,\n",
      "        [ 9.6903e-06, -6.6986e-06, -7.6246e-06,  ...,  6.4918e-06,\n",
      "          5.1419e-06,  1.8525e-05],\n",
      "        [-9.4527e-06,  1.1491e-05,  2.9302e-06,  ...,  9.4682e-06,\n",
      "          3.5020e-06, -1.3990e-05],\n",
      "        [-4.4387e-06,  1.4093e-06, -1.8462e-05,  ..., -1.8515e-06,\n",
      "          3.5389e-06, -7.3311e-07]], device='cuda:0'), 'exp_avg_sq': tensor([[8.1122e-09, 9.2855e-09, 6.7102e-09,  ..., 6.5242e-09, 5.2078e-09,\n",
      "         9.3635e-09],\n",
      "        [4.0895e-09, 6.5665e-09, 5.3996e-09,  ..., 3.9542e-09, 4.2913e-09,\n",
      "         6.8977e-09],\n",
      "        [8.0562e-09, 9.0812e-09, 6.4251e-09,  ..., 4.9264e-09, 4.1479e-09,\n",
      "         6.1454e-09],\n",
      "        ...,\n",
      "        [8.9389e-09, 1.3800e-08, 9.1875e-09,  ..., 5.6665e-09, 6.7139e-09,\n",
      "         8.2959e-09],\n",
      "        [4.9885e-09, 7.8519e-09, 6.3995e-09,  ..., 6.2379e-09, 5.4545e-09,\n",
      "         1.0713e-08],\n",
      "        [5.1507e-09, 6.9398e-09, 6.5032e-09,  ..., 4.6946e-09, 4.7436e-09,\n",
      "         7.8214e-09]], device='cuda:0')}, 61: {'step': tensor(4796.), 'exp_avg': tensor([[ 4.6799e-06, -2.7374e-05, -2.0374e-05,  ...,  1.1721e-05,\n",
      "         -2.1112e-05, -3.4844e-05],\n",
      "        [ 2.8659e-06, -1.1990e-05,  2.6943e-05,  ..., -8.3906e-06,\n",
      "          1.6397e-05,  1.7425e-05],\n",
      "        [ 5.2071e-05, -4.4130e-05,  2.5513e-05,  ...,  5.9765e-06,\n",
      "          2.2898e-05, -2.6712e-05],\n",
      "        ...,\n",
      "        [-3.6551e-06,  2.0492e-06, -3.7417e-05,  ...,  1.7489e-05,\n",
      "         -1.5052e-05,  1.9601e-05],\n",
      "        [ 2.4386e-05,  1.1903e-05,  3.0208e-05,  ...,  2.5194e-06,\n",
      "          1.4321e-06,  1.0002e-05],\n",
      "        [-5.8674e-05,  2.1318e-05, -2.1979e-05,  ...,  1.0600e-06,\n",
      "         -5.6015e-05,  2.9825e-05]], device='cuda:0'), 'exp_avg_sq': tensor([[4.5612e-08, 4.6933e-08, 3.6121e-08,  ..., 1.7076e-08, 2.6351e-08,\n",
      "         9.4891e-08],\n",
      "        [8.0032e-08, 7.6605e-08, 5.9985e-08,  ..., 3.4065e-08, 5.7918e-08,\n",
      "         1.8908e-07],\n",
      "        [7.1497e-08, 7.6128e-08, 5.8324e-08,  ..., 3.2253e-08, 6.8743e-08,\n",
      "         1.7195e-07],\n",
      "        ...,\n",
      "        [6.0172e-08, 5.2784e-08, 5.2440e-08,  ..., 2.2201e-08, 4.4862e-08,\n",
      "         1.1898e-07],\n",
      "        [6.3357e-08, 6.3107e-08, 4.5335e-08,  ..., 2.3595e-08, 4.8314e-08,\n",
      "         1.7492e-07],\n",
      "        [9.1457e-08, 6.4252e-08, 6.0388e-08,  ..., 3.0018e-08, 4.6132e-08,\n",
      "         1.3710e-07]], device='cuda:0')}, 62: {'step': tensor(4796.), 'exp_avg': tensor([[-3.9039e-05, -4.7312e-05, -5.6002e-05,  ..., -4.0823e-05,\n",
      "         -3.1608e-06,  8.7643e-06],\n",
      "        [-1.1801e-04, -7.3789e-05,  1.1048e-04,  ...,  7.8051e-05,\n",
      "         -2.7965e-05,  8.6613e-06],\n",
      "        [-5.5186e-05, -4.6804e-06, -1.2668e-04,  ..., -4.8123e-05,\n",
      "          5.0015e-05, -4.1458e-05],\n",
      "        ...,\n",
      "        [-8.0559e-05, -3.4792e-05, -4.8199e-05,  ...,  4.0985e-05,\n",
      "          9.2210e-05,  1.2015e-04],\n",
      "        [-1.9523e-05, -7.8484e-05, -1.1158e-05,  ..., -4.0832e-05,\n",
      "          4.7437e-05,  3.0236e-06],\n",
      "        [ 5.9475e-06, -5.0496e-06, -2.9483e-05,  ..., -3.7202e-05,\n",
      "          7.1340e-06, -2.5647e-05]], device='cuda:0'), 'exp_avg_sq': tensor([[2.3188e-07, 2.5515e-07, 2.7380e-07,  ..., 1.4877e-07, 1.2601e-07,\n",
      "         1.9809e-07],\n",
      "        [2.9214e-07, 4.1140e-07, 3.7226e-07,  ..., 2.2717e-07, 1.7764e-07,\n",
      "         2.7225e-07],\n",
      "        [2.6730e-07, 3.6767e-07, 3.5394e-07,  ..., 2.0703e-07, 1.4364e-07,\n",
      "         2.8535e-07],\n",
      "        ...,\n",
      "        [1.9567e-07, 2.6486e-07, 3.4095e-07,  ..., 1.6985e-07, 1.0413e-07,\n",
      "         3.7174e-07],\n",
      "        [1.5706e-07, 2.3240e-07, 2.4617e-07,  ..., 1.4700e-07, 9.1215e-08,\n",
      "         2.0667e-07],\n",
      "        [2.9609e-07, 2.8826e-07, 2.7027e-07,  ..., 1.7212e-07, 1.3548e-07,\n",
      "         2.3446e-07]], device='cuda:0')}, 63: {'step': tensor(4796.), 'exp_avg': tensor([[ 2.3231e-06,  1.5431e-06, -7.3297e-07,  ...,  6.9306e-07,\n",
      "         -8.6764e-07, -1.1421e-06],\n",
      "        [ 5.7952e-06,  5.3300e-06, -7.5499e-06,  ..., -1.3021e-06,\n",
      "          5.1808e-06,  1.3631e-05],\n",
      "        [ 1.3079e-06,  3.9667e-06, -1.0435e-06,  ..., -9.0679e-08,\n",
      "          5.6406e-07, -4.3956e-06],\n",
      "        ...,\n",
      "        [-2.7911e-06, -5.4302e-06,  6.0567e-07,  ...,  4.2331e-06,\n",
      "          1.2638e-06, -5.4097e-06],\n",
      "        [-5.2075e-06, -8.5402e-07,  1.3472e-05,  ...,  1.6475e-06,\n",
      "         -5.6256e-06, -3.9932e-06],\n",
      "        [-1.9348e-05,  2.6326e-05, -1.5074e-06,  ...,  4.1774e-06,\n",
      "          1.6515e-05, -1.0096e-05]], device='cuda:0'), 'exp_avg_sq': tensor([[1.0949e-10, 7.0554e-11, 1.0709e-10,  ..., 5.7376e-11, 7.6720e-11,\n",
      "         2.3079e-10],\n",
      "        [2.4413e-09, 3.5064e-09, 9.8341e-10,  ..., 6.2678e-10, 1.4897e-09,\n",
      "         9.9055e-10],\n",
      "        [1.2978e-09, 2.1862e-09, 3.3560e-09,  ..., 1.4565e-09, 3.2624e-09,\n",
      "         2.7128e-09],\n",
      "        ...,\n",
      "        [4.2684e-10, 3.7200e-10, 3.3037e-10,  ..., 3.7632e-10, 2.6006e-10,\n",
      "         4.9984e-10],\n",
      "        [7.9426e-10, 8.2464e-10, 1.0845e-09,  ..., 1.2150e-09, 8.4313e-10,\n",
      "         2.0491e-09],\n",
      "        [1.4704e-07, 8.3620e-08, 8.2226e-08,  ..., 1.1000e-07, 1.4355e-07,\n",
      "         1.8684e-07]], device='cuda:0')}, 64: {'step': tensor(4796.), 'exp_avg': tensor([[ 1.2062e-05,  9.0898e-06, -2.3837e-06,  ..., -1.2493e-06,\n",
      "         -5.8118e-06,  5.8958e-06],\n",
      "        [ 9.8704e-06,  5.6191e-06, -1.0670e-05,  ...,  2.7041e-06,\n",
      "         -1.0886e-06,  1.8158e-06],\n",
      "        [-3.0693e-08, -4.0425e-06, -5.1432e-06,  ...,  1.1419e-07,\n",
      "         -2.1348e-06,  9.6398e-07],\n",
      "        ...,\n",
      "        [-1.0835e-05,  1.8573e-05,  8.4832e-07,  ..., -8.9228e-06,\n",
      "          2.8171e-06, -8.0234e-06],\n",
      "        [-8.7553e-06,  7.0190e-06,  1.0948e-05,  ..., -2.8715e-06,\n",
      "          1.7994e-06,  7.6010e-08],\n",
      "        [-2.6140e-06, -1.2093e-05,  1.8979e-05,  ..., -4.9205e-06,\n",
      "          1.1083e-06,  7.2384e-06]], device='cuda:0'), 'exp_avg_sq': tensor([[1.6146e-08, 5.4435e-09, 5.0193e-09,  ..., 1.7319e-09, 1.3468e-09,\n",
      "         5.1549e-10],\n",
      "        [2.8157e-09, 1.0100e-09, 8.4781e-10,  ..., 2.8074e-10, 2.8385e-10,\n",
      "         1.2592e-10],\n",
      "        [5.2510e-10, 1.0158e-09, 5.6142e-10,  ..., 9.4647e-11, 1.1905e-10,\n",
      "         6.5661e-11],\n",
      "        ...,\n",
      "        [2.9464e-08, 1.3086e-08, 4.3825e-09,  ..., 1.8393e-09, 2.0652e-09,\n",
      "         9.4880e-10],\n",
      "        [3.3086e-09, 2.0601e-09, 1.2252e-09,  ..., 4.0397e-10, 4.2809e-10,\n",
      "         1.5257e-10],\n",
      "        [2.9675e-08, 8.1078e-09, 5.0568e-09,  ..., 1.3120e-09, 1.5575e-09,\n",
      "         6.3586e-10]], device='cuda:0')}, 65: {'step': tensor(4796.), 'exp_avg': tensor([[ 6.9183e-06,  6.8038e-07,  7.9150e-06,  ...,  1.3167e-06,\n",
      "          8.5066e-06, -3.2241e-06],\n",
      "        [ 4.4919e-06,  3.7622e-07, -1.3691e-06,  ..., -2.4636e-07,\n",
      "         -1.0934e-06, -2.1831e-06],\n",
      "        [ 1.2500e-06, -1.2811e-06, -1.9051e-06,  ...,  7.4462e-07,\n",
      "          1.2627e-06,  9.7455e-07],\n",
      "        ...,\n",
      "        [-1.5470e-06,  1.0485e-05,  4.0534e-06,  ...,  3.5908e-06,\n",
      "         -7.9352e-06,  5.8315e-06],\n",
      "        [-1.0289e-06,  6.8967e-06,  7.4733e-06,  ...,  2.8532e-06,\n",
      "          8.2500e-07, -3.7599e-06],\n",
      "        [ 2.7502e-07, -9.7377e-06,  3.7427e-06,  ..., -1.2608e-05,\n",
      "          3.4702e-06, -7.1884e-08]], device='cuda:0'), 'exp_avg_sq': tensor([[6.5490e-10, 1.2770e-09, 4.4266e-09,  ..., 1.8329e-09, 1.2544e-09,\n",
      "         1.8337e-09],\n",
      "        [5.5858e-10, 7.0544e-10, 4.1114e-10,  ..., 2.1321e-10, 1.8167e-10,\n",
      "         1.9411e-10],\n",
      "        [3.1960e-10, 3.2496e-10, 1.3325e-09,  ..., 3.0205e-10, 5.6321e-10,\n",
      "         5.8839e-10],\n",
      "        ...,\n",
      "        [1.2599e-09, 2.6065e-09, 1.1406e-08,  ..., 7.0549e-09, 2.1624e-09,\n",
      "         4.3256e-09],\n",
      "        [2.2290e-10, 6.3726e-10, 1.0572e-09,  ..., 3.3971e-10, 4.0241e-10,\n",
      "         4.8686e-10],\n",
      "        [6.5258e-10, 1.2560e-09, 6.4995e-09,  ..., 1.2228e-09, 1.5074e-09,\n",
      "         2.7134e-09]], device='cuda:0')}, 66: {'step': tensor(4796.), 'exp_avg': tensor([-1.1853e-05,  2.6497e-06,  8.2356e-07,  ..., -3.4452e-07,\n",
      "        -1.4613e-05, -1.0882e-05], device='cuda:0'), 'exp_avg_sq': tensor([1.2867e-08, 1.6591e-09, 3.6409e-09,  ..., 3.5206e-08, 3.5393e-09,\n",
      "        1.8612e-08], device='cuda:0')}, 67: {'step': tensor(4796.), 'exp_avg': tensor([-1.1853e-05,  2.6497e-06,  8.2356e-07,  ..., -3.4452e-07,\n",
      "        -1.4613e-05, -1.0882e-05], device='cuda:0'), 'exp_avg_sq': tensor([1.2867e-08, 1.6591e-09, 3.6409e-09,  ..., 3.5206e-08, 3.5393e-09,\n",
      "        1.8612e-08], device='cuda:0')}, 68: {'step': tensor(4796.), 'exp_avg': tensor([[ 3.6094e-06,  2.4459e-06,  8.2594e-08,  ...,  4.9654e-08,\n",
      "         -2.8856e-06, -2.0478e-07],\n",
      "        [-3.3360e-06,  2.0741e-05, -7.8668e-06,  ...,  1.2335e-05,\n",
      "         -2.0719e-07,  6.9260e-06],\n",
      "        [-1.6673e-06, -3.5608e-06,  1.5584e-06,  ..., -1.9351e-06,\n",
      "          2.0105e-06, -2.2035e-06],\n",
      "        ...,\n",
      "        [ 7.2836e-08,  6.3936e-06,  1.8296e-06,  ..., -6.7628e-06,\n",
      "          1.2508e-05,  5.6420e-06],\n",
      "        [-8.7688e-06, -1.9336e-05,  1.4969e-05,  ..., -1.5626e-05,\n",
      "         -2.2073e-07, -2.0319e-05],\n",
      "        [-3.7529e-06,  3.9264e-06,  7.9523e-06,  ...,  1.3812e-06,\n",
      "          8.9178e-06, -1.0911e-06]], device='cuda:0'), 'exp_avg_sq': tensor([[1.4614e-10, 4.9817e-10, 8.6354e-10,  ..., 3.8226e-10, 2.3397e-10,\n",
      "         3.0677e-10],\n",
      "        [1.6077e-08, 1.0862e-08, 8.0232e-08,  ..., 7.0922e-09, 2.8063e-08,\n",
      "         2.2228e-08],\n",
      "        [3.5097e-10, 9.3902e-10, 1.3127e-09,  ..., 3.3340e-10, 8.5553e-10,\n",
      "         4.5056e-10],\n",
      "        ...,\n",
      "        [4.0169e-10, 2.7555e-09, 2.6569e-09,  ..., 1.3555e-09, 1.9262e-09,\n",
      "         3.5889e-09],\n",
      "        [4.9145e-09, 1.9692e-08, 2.2801e-08,  ..., 1.4257e-08, 1.0036e-08,\n",
      "         2.0455e-08],\n",
      "        [1.1768e-09, 4.2787e-09, 5.6673e-09,  ..., 2.4522e-09, 1.5849e-09,\n",
      "         2.7113e-09]], device='cuda:0')}, 69: {'step': tensor(4796.), 'exp_avg': tensor([[ 1.2225e-06,  1.8430e-06,  7.1509e-07,  ...,  2.2515e-06,\n",
      "         -2.6691e-07,  2.9455e-07],\n",
      "        [ 2.3440e-06,  1.4804e-06, -2.6973e-06,  ..., -3.4199e-07,\n",
      "          9.4726e-06,  2.9888e-06],\n",
      "        [ 1.1107e-07, -8.4278e-07, -5.7968e-07,  ..., -3.7804e-07,\n",
      "         -1.4840e-06, -1.2480e-07],\n",
      "        ...,\n",
      "        [-2.9440e-07,  2.3958e-06,  3.0984e-06,  ...,  2.5546e-06,\n",
      "          3.9993e-06,  1.2037e-06],\n",
      "        [ 2.0326e-06, -1.0561e-05, -1.2402e-05,  ..., -2.8685e-06,\n",
      "          2.7693e-07,  2.7754e-06],\n",
      "        [ 3.6169e-06, -2.2153e-06,  2.0117e-06,  ..., -3.4797e-06,\n",
      "         -1.0705e-06,  3.8025e-06]], device='cuda:0'), 'exp_avg_sq': tensor([[1.9019e-10, 2.5243e-10, 2.4453e-10,  ..., 1.8089e-10, 1.0486e-10,\n",
      "         9.7165e-11],\n",
      "        [4.9377e-09, 1.4934e-08, 1.6692e-09,  ..., 2.3841e-09, 1.5923e-09,\n",
      "         4.7244e-09],\n",
      "        [1.0230e-10, 1.4008e-10, 4.2350e-11,  ..., 1.3401e-10, 3.6800e-11,\n",
      "         1.0498e-10],\n",
      "        ...,\n",
      "        [2.0309e-10, 8.9501e-10, 1.2449e-09,  ..., 5.6901e-10, 4.3709e-10,\n",
      "         5.0566e-10],\n",
      "        [1.4588e-09, 5.8472e-09, 6.0266e-09,  ..., 4.3488e-09, 4.0979e-09,\n",
      "         2.3344e-09],\n",
      "        [4.5269e-10, 1.3308e-09, 1.7552e-09,  ..., 1.1023e-09, 5.8493e-10,\n",
      "         8.4353e-10]], device='cuda:0')}, 70: {'step': tensor(4796.), 'exp_avg': tensor([ 2.2764e-06,  9.5067e-06, -3.5907e-06,  ...,  1.8665e-06,\n",
      "        -3.0868e-05, -9.0824e-06], device='cuda:0'), 'exp_avg_sq': tensor([2.5779e-09, 1.8316e-07, 1.8538e-09,  ..., 7.4189e-09, 4.9994e-08,\n",
      "        1.1023e-08], device='cuda:0')}, 71: {'step': tensor(4796.), 'exp_avg': tensor([ 2.2764e-06,  9.5067e-06, -3.5907e-06,  ...,  1.8665e-06,\n",
      "        -3.0868e-05, -9.0824e-06], device='cuda:0'), 'exp_avg_sq': tensor([2.5779e-09, 1.8316e-07, 1.8538e-09,  ..., 7.4189e-09, 4.9994e-08,\n",
      "        1.1023e-08], device='cuda:0')}, 72: {'step': tensor(4796.), 'exp_avg': tensor([[-1.5815e-06,  2.4663e-06, -3.9893e-06,  ..., -2.4113e-06,\n",
      "         -1.0513e-05, -2.9546e-06],\n",
      "        [ 7.6358e-07,  1.9457e-07,  1.4884e-06,  ..., -4.7284e-06,\n",
      "          2.2954e-06,  1.4203e-06],\n",
      "        [ 1.4297e-06, -1.4698e-07,  6.0938e-06,  ...,  4.3807e-07,\n",
      "         -4.4406e-06, -4.7549e-07],\n",
      "        ...,\n",
      "        [-4.8193e-06,  2.6862e-07,  9.2759e-06,  ..., -8.2015e-06,\n",
      "          2.2950e-06,  3.2717e-06],\n",
      "        [-2.4728e-06,  3.7541e-06, -5.5553e-06,  ...,  9.2558e-06,\n",
      "          4.8535e-06, -8.7082e-06],\n",
      "        [ 1.1449e-06,  2.1110e-06,  5.4463e-06,  ...,  1.4468e-06,\n",
      "         -1.2735e-06,  1.7930e-06]], device='cuda:0'), 'exp_avg_sq': tensor([[1.1638e-09, 2.2999e-09, 6.2463e-09,  ..., 1.8722e-09, 3.1429e-09,\n",
      "         4.8562e-09],\n",
      "        [3.1359e-10, 4.3952e-10, 4.0197e-10,  ..., 7.3851e-10, 2.5468e-10,\n",
      "         3.7135e-10],\n",
      "        [3.5656e-10, 9.8267e-10, 1.6862e-09,  ..., 1.4728e-09, 5.6653e-10,\n",
      "         7.3191e-10],\n",
      "        ...,\n",
      "        [2.1738e-09, 5.2498e-09, 1.2335e-09,  ..., 2.3168e-09, 1.4069e-09,\n",
      "         1.2970e-09],\n",
      "        [1.3079e-09, 2.3543e-09, 2.4803e-09,  ..., 3.3391e-09, 2.0458e-09,\n",
      "         2.6296e-09],\n",
      "        [7.1247e-10, 2.8449e-09, 3.8108e-09,  ..., 1.7211e-09, 1.4176e-09,\n",
      "         1.7923e-09]], device='cuda:0')}, 73: {'step': tensor(4796.), 'exp_avg': tensor([[-2.3087e-07, -2.9189e-06, -2.1453e-06,  ..., -2.9019e-06,\n",
      "          4.6550e-07, -2.4333e-06],\n",
      "        [-8.1957e-07,  5.1419e-07, -4.1367e-07,  ..., -1.0367e-06,\n",
      "          1.1659e-06, -1.3428e-06],\n",
      "        [-9.9703e-07,  6.4897e-07, -9.8853e-07,  ..., -8.0549e-07,\n",
      "         -1.7171e-06,  7.7924e-07],\n",
      "        ...,\n",
      "        [ 3.5645e-07,  1.0602e-06, -1.6434e-06,  ..., -3.3331e-06,\n",
      "          1.6448e-06,  9.4847e-07],\n",
      "        [-1.2335e-07, -1.2378e-06,  8.6126e-08,  ...,  2.0509e-07,\n",
      "         -2.1249e-07,  1.5890e-06],\n",
      "        [-2.6331e-06, -2.0440e-07, -2.2258e-06,  ..., -6.1026e-07,\n",
      "         -1.9340e-06, -1.1670e-06]], device='cuda:0'), 'exp_avg_sq': tensor([[2.8934e-10, 2.5183e-10, 9.1369e-11,  ..., 5.4886e-11, 1.5766e-10,\n",
      "         4.8366e-10],\n",
      "        [3.7770e-11, 1.3986e-10, 3.0055e-11,  ..., 1.3021e-11, 8.1283e-11,\n",
      "         5.4092e-11],\n",
      "        [7.2765e-11, 6.7865e-11, 9.1077e-11,  ..., 2.6708e-11, 9.6189e-11,\n",
      "         7.7848e-11],\n",
      "        ...,\n",
      "        [3.9032e-10, 8.3366e-11, 1.0177e-10,  ..., 4.4888e-10, 1.3682e-10,\n",
      "         1.2486e-10],\n",
      "        [2.5261e-10, 9.5710e-11, 9.8834e-11,  ..., 6.3523e-11, 4.5222e-10,\n",
      "         1.9443e-10],\n",
      "        [9.9675e-11, 1.6591e-10, 7.4984e-11,  ..., 5.9468e-11, 1.6245e-10,\n",
      "         5.5540e-10]], device='cuda:0')}, 74: {'step': tensor(4796.), 'exp_avg': tensor([ 1.4838e-05,  5.5503e-07, -4.2753e-06,  ...,  4.9371e-06,\n",
      "         1.1210e-05, -9.1030e-07], device='cuda:0'), 'exp_avg_sq': tensor([1.9222e-08, 5.7575e-09, 7.6727e-09,  ..., 3.1489e-08, 2.0302e-08,\n",
      "        1.8446e-08], device='cuda:0')}, 75: {'step': tensor(4796.), 'exp_avg': tensor([ 1.4838e-05,  5.5503e-07, -4.2753e-06,  ...,  4.9371e-06,\n",
      "         1.1210e-05, -9.1030e-07], device='cuda:0'), 'exp_avg_sq': tensor([1.9222e-08, 5.7575e-09, 7.6727e-09,  ..., 3.1489e-08, 2.0302e-08,\n",
      "        1.8446e-08], device='cuda:0')}, 76: {'step': tensor(4796.), 'exp_avg': tensor([[-1.7451e-04,  2.1304e-04, -1.7951e-05,  ..., -2.1399e-04,\n",
      "          6.1768e-04, -1.2462e-04],\n",
      "        [-1.6705e-04,  2.1143e-04, -9.4211e-05,  ..., -3.2651e-04,\n",
      "         -2.6031e-04,  1.5344e-04],\n",
      "        [-1.7803e-04,  8.8027e-05, -1.6218e-05,  ...,  4.0591e-04,\n",
      "         -2.7885e-04,  2.8122e-04],\n",
      "        ...,\n",
      "        [-2.5074e-05, -5.0351e-05, -2.4495e-05,  ...,  1.6412e-04,\n",
      "         -1.2212e-04,  4.5158e-05],\n",
      "        [ 1.5989e-04,  4.2240e-05, -1.0603e-04,  ..., -8.4561e-04,\n",
      "         -2.8448e-04,  1.5593e-06],\n",
      "        [-1.5123e-04,  5.3482e-05,  3.5219e-05,  ..., -3.2362e-04,\n",
      "          2.1346e-04, -2.5401e-05]], device='cuda:0'), 'exp_avg_sq': tensor([[1.8796e-06, 9.0502e-07, 8.8444e-07,  ..., 2.1558e-05, 1.6996e-05,\n",
      "         1.7065e-05],\n",
      "        [9.0332e-07, 3.7939e-07, 5.0625e-07,  ..., 1.1889e-05, 7.4715e-06,\n",
      "         9.9859e-06],\n",
      "        [5.2100e-07, 1.9471e-07, 2.2256e-07,  ..., 5.3714e-06, 4.3428e-06,\n",
      "         3.1184e-06],\n",
      "        ...,\n",
      "        [5.7257e-07, 2.5318e-07, 2.9236e-07,  ..., 5.4296e-06, 6.1566e-06,\n",
      "         3.8785e-06],\n",
      "        [6.6836e-07, 4.1481e-07, 3.7760e-07,  ..., 7.8630e-06, 5.6623e-06,\n",
      "         5.4542e-06],\n",
      "        [4.5480e-07, 1.9581e-07, 2.1946e-07,  ..., 9.2939e-06, 5.3009e-06,\n",
      "         7.4800e-06]], device='cuda:0')}, 77: {'step': tensor(4796.), 'exp_avg': tensor([-2.5650e-03,  6.5439e-04,  2.9925e-04,  1.9513e-03, -5.0495e-04,\n",
      "         1.2555e-03,  1.7452e-03, -1.4625e-04,  3.1454e-04,  1.2534e-03,\n",
      "        -1.1658e-03,  1.4753e-03, -6.6642e-04, -8.1585e-04,  7.8205e-04,\n",
      "         6.1311e-04,  5.2899e-04, -9.7717e-04,  1.9808e-03, -1.0589e-03,\n",
      "        -2.1820e-04, -3.1657e-04, -8.6214e-04,  3.9097e-04, -4.1118e-04,\n",
      "         4.4570e-04, -6.0280e-04,  7.9971e-04, -7.1979e-04,  1.5129e-04,\n",
      "        -5.3761e-04,  2.0431e-03,  5.1833e-04,  6.0091e-05, -6.7615e-04,\n",
      "         4.9986e-04, -9.6661e-04,  1.3561e-03, -9.6178e-04, -2.0752e-03,\n",
      "         1.5280e-03, -2.8132e-04, -4.3376e-04,  1.2596e-03, -1.5063e-03,\n",
      "         2.9300e-04, -2.2185e-03, -8.1890e-04, -1.6536e-03, -1.3819e-04,\n",
      "         2.6647e-03, -1.2077e-04, -9.5694e-04, -9.1726e-05,  5.1490e-04,\n",
      "        -2.9051e-03, -4.1520e-05, -3.7200e-04, -8.7225e-04, -4.3355e-04,\n",
      "         1.7573e-03, -2.0145e-03, -6.6285e-04, -2.3449e-04,  5.4499e-04,\n",
      "         1.0337e-04, -8.8156e-04,  2.4599e-04, -1.0871e-03,  2.6104e-03,\n",
      "         1.4654e-04,  1.9150e-04,  3.2655e-04,  1.1470e-03,  1.1671e-03,\n",
      "        -5.9503e-04,  7.8476e-04,  1.8789e-03, -5.3192e-04, -1.9181e-03,\n",
      "        -9.6738e-04, -1.2638e-03,  1.6499e-04,  1.0984e-03, -2.4528e-03,\n",
      "         9.3910e-04,  1.6403e-03,  1.1837e-03, -7.0063e-04, -1.2696e-03,\n",
      "         5.2495e-04,  1.7255e-03,  4.4761e-04,  1.5158e-04,  1.2729e-03,\n",
      "        -1.6440e-04, -1.1268e-03, -1.5765e-03,  1.9971e-03, -2.1700e-03,\n",
      "         7.4952e-04,  8.1313e-04,  5.3678e-04,  2.7160e-04, -3.3831e-04,\n",
      "        -6.6323e-04, -4.3749e-04, -1.4457e-03, -7.3572e-04, -7.1633e-04,\n",
      "        -6.7475e-04,  2.9457e-04,  4.4137e-04, -5.3986e-04, -1.2451e-03,\n",
      "         6.6107e-04,  9.8502e-04, -3.4181e-04, -1.1045e-03, -8.4467e-04,\n",
      "        -1.3864e-03, -3.1034e-04, -2.2740e-05, -6.8995e-04,  4.3109e-04,\n",
      "         1.2397e-04,  2.3748e-04, -1.5979e-03, -2.5938e-04,  8.6128e-04,\n",
      "         8.6340e-04,  2.8359e-04, -1.9552e-03,  1.7028e-03, -1.0566e-03,\n",
      "         2.3082e-03, -5.8765e-04,  8.9691e-05, -1.4666e-03, -4.4187e-04,\n",
      "         6.2331e-04,  1.1761e-03, -2.8944e-04,  1.2734e-04, -3.2896e-04,\n",
      "         1.2684e-03, -6.6024e-04, -1.1385e-03,  1.3776e-05,  1.5190e-03,\n",
      "         1.6179e-03, -3.1096e-04, -9.1270e-04,  5.8959e-04,  4.7150e-04,\n",
      "        -1.0025e-03,  4.1999e-04, -2.4795e-03,  8.3994e-04, -2.2544e-04,\n",
      "        -1.9743e-03,  1.4268e-03,  1.6478e-05,  8.0027e-04,  1.7088e-04,\n",
      "        -1.3760e-04,  1.1069e-04,  1.0835e-03,  1.4612e-03,  6.9138e-04,\n",
      "        -2.7407e-04, -7.7419e-04, -1.3436e-03, -2.9490e-03,  6.5064e-04,\n",
      "        -1.5621e-03, -5.4066e-04,  8.1200e-04,  8.5669e-04,  5.3751e-04,\n",
      "         1.7003e-03,  9.7491e-04,  2.5727e-05,  6.0554e-04,  1.3167e-03,\n",
      "         1.8937e-03, -5.3807e-04, -9.1880e-04,  1.3432e-03, -7.8068e-04,\n",
      "        -2.8122e-04,  1.9089e-05, -5.1132e-04, -4.3926e-05,  1.8477e-05,\n",
      "        -1.7762e-03, -5.0303e-04, -1.7248e-03,  1.7631e-04, -9.3179e-04,\n",
      "        -1.0634e-03, -8.6653e-04, -2.7174e-04, -1.8154e-03,  7.2990e-05,\n",
      "         3.0070e-04,  1.0134e-03, -1.4817e-03, -3.6629e-04, -3.9332e-04,\n",
      "        -9.1817e-04, -1.8970e-03,  1.1778e-03,  5.2451e-04,  2.4943e-03,\n",
      "         1.4559e-03, -9.0923e-06, -3.5072e-04,  4.7998e-04, -2.2667e-03,\n",
      "         5.5836e-04, -1.1148e-03,  1.4319e-03, -1.4261e-03, -1.3424e-03,\n",
      "        -8.2154e-04, -6.5532e-04,  2.3440e-03,  3.7276e-04, -1.5207e-03,\n",
      "         2.2958e-04, -1.3787e-03,  5.6337e-04,  1.6444e-03,  2.0581e-03,\n",
      "        -2.6202e-03, -1.7961e-03,  1.2259e-04, -8.3471e-06, -4.5121e-04,\n",
      "         9.0401e-04,  5.3399e-04, -1.0797e-03,  8.8629e-04, -1.0347e-03,\n",
      "        -4.6297e-05,  5.7632e-05, -8.9896e-04, -1.6989e-04, -9.1108e-04,\n",
      "        -2.1312e-03, -1.2528e-03,  9.2991e-04,  6.1277e-04,  5.1438e-04,\n",
      "        -9.2425e-04], device='cuda:0'), 'exp_avg_sq': tensor([5.0918e-04, 2.8058e-04, 1.3167e-04, 2.1021e-04, 3.5408e-04, 1.4233e-04,\n",
      "        3.3493e-04, 1.7699e-04, 1.3410e-04, 2.6143e-04, 1.0360e-04, 2.8197e-04,\n",
      "        1.5074e-04, 1.0002e-04, 1.1438e-04, 2.7983e-04, 1.3332e-04, 1.0049e-04,\n",
      "        2.6342e-04, 1.5348e-04, 1.0435e-04, 2.1688e-04, 7.6552e-05, 1.5598e-04,\n",
      "        2.3663e-04, 2.7170e-04, 2.2547e-04, 1.6496e-04, 1.6034e-04, 2.2369e-04,\n",
      "        2.5393e-04, 3.8404e-04, 1.1225e-04, 1.4772e-04, 2.2401e-04, 3.6141e-04,\n",
      "        2.5023e-04, 4.8481e-04, 3.4622e-04, 2.5377e-04, 2.6166e-04, 2.8236e-04,\n",
      "        3.6825e-04, 1.6603e-04, 2.0789e-04, 2.8340e-04, 3.1595e-04, 1.9425e-04,\n",
      "        2.3793e-04, 3.3709e-04, 3.2860e-04, 1.7557e-04, 1.9505e-04, 1.5059e-04,\n",
      "        1.2597e-04, 2.9594e-04, 3.4314e-04, 2.7642e-04, 2.1264e-04, 1.6427e-04,\n",
      "        3.1300e-04, 4.9515e-04, 2.2190e-04, 2.6672e-04, 3.3963e-04, 1.4917e-04,\n",
      "        1.8127e-04, 1.9991e-04, 3.5872e-04, 2.9714e-04, 3.3895e-04, 2.5172e-04,\n",
      "        2.6206e-04, 2.6323e-04, 3.8435e-04, 3.2200e-04, 2.0873e-04, 4.7514e-04,\n",
      "        1.1585e-04, 5.6037e-04, 1.5606e-04, 1.0289e-04, 3.0204e-04, 2.9340e-04,\n",
      "        3.3381e-04, 8.5752e-05, 4.5536e-04, 2.3296e-04, 3.2265e-04, 1.9749e-04,\n",
      "        6.9487e-05, 2.8751e-04, 2.4125e-04, 1.1568e-04, 2.6376e-04, 2.4788e-04,\n",
      "        1.9053e-04, 2.8966e-04, 2.9858e-04, 3.7568e-04, 2.6906e-04, 3.0437e-04,\n",
      "        1.9099e-04, 2.5707e-04, 2.3716e-04, 8.1586e-05, 2.6637e-04, 1.8412e-04,\n",
      "        1.6164e-04, 1.9973e-04, 8.6080e-05, 2.8557e-04, 2.5512e-04, 2.1674e-04,\n",
      "        2.7381e-04, 2.8481e-04, 5.2823e-04, 1.4786e-04, 2.6139e-04, 1.7855e-04,\n",
      "        1.5451e-04, 3.1434e-04, 9.7159e-05, 1.0646e-04, 3.4402e-04, 1.5058e-04,\n",
      "        2.7164e-04, 5.5113e-04, 7.1989e-04, 2.3914e-04, 3.5129e-04, 3.1294e-04,\n",
      "        6.0021e-04, 3.7793e-04, 2.1491e-04, 2.9468e-04, 3.2708e-04, 1.1456e-04,\n",
      "        1.5510e-04, 2.0224e-04, 3.4434e-04, 2.2023e-04, 3.2211e-04, 2.0451e-04,\n",
      "        4.3594e-04, 4.5883e-04, 2.6391e-04, 2.4618e-04, 1.7366e-04, 2.0226e-04,\n",
      "        3.8839e-04, 1.6772e-04, 1.7324e-04, 2.3308e-04, 3.7804e-04, 4.2151e-04,\n",
      "        2.2060e-04, 3.6926e-04, 3.3948e-04, 2.0434e-04, 2.6530e-04, 2.6239e-04,\n",
      "        9.6731e-05, 3.1028e-04, 1.0233e-04, 2.5813e-04, 3.7215e-04, 4.6109e-04,\n",
      "        1.6801e-04, 1.6809e-04, 2.2198e-04, 2.5634e-04, 2.2346e-04, 3.2009e-04,\n",
      "        2.0596e-04, 2.3722e-04, 2.1278e-04, 1.2973e-04, 1.7045e-04, 1.5757e-04,\n",
      "        2.6179e-04, 3.7049e-04, 1.3175e-04, 4.1752e-04, 3.6808e-04, 1.8586e-04,\n",
      "        2.3169e-04, 2.0066e-04, 3.1069e-04, 2.2978e-04, 1.6685e-04, 1.1081e-04,\n",
      "        1.5468e-04, 1.6696e-04, 8.1929e-05, 1.4094e-04, 1.2300e-04, 1.9134e-04,\n",
      "        1.4642e-04, 4.1076e-04, 1.6987e-04, 1.7710e-04, 3.0315e-04, 6.7924e-04,\n",
      "        2.6327e-04, 1.8777e-04, 2.2535e-04, 1.8979e-04, 2.9865e-04, 1.0388e-04,\n",
      "        3.3124e-04, 1.7584e-04, 3.7915e-04, 1.6700e-04, 3.0367e-04, 4.2182e-04,\n",
      "        3.7882e-04, 3.1537e-04, 2.0728e-04, 3.4326e-04, 1.1282e-04, 2.3803e-04,\n",
      "        1.2285e-04, 2.7106e-04, 2.1004e-04, 2.1532e-04, 2.6277e-04, 3.0363e-04,\n",
      "        1.9346e-04, 3.3945e-04, 1.9290e-04, 2.4234e-04, 3.9093e-04, 2.5884e-04,\n",
      "        2.8768e-04, 3.7816e-04, 1.8763e-04, 1.9908e-04, 1.6810e-04, 2.0166e-04,\n",
      "        1.9758e-04, 1.9432e-04, 2.0281e-04, 3.1936e-04, 2.5543e-04, 1.8059e-04,\n",
      "        4.3865e-04, 2.8040e-04, 4.1870e-04, 3.0658e-04, 1.7125e-04, 1.9576e-04,\n",
      "        2.0643e-04, 1.4880e-04, 1.8565e-04, 1.8530e-04], device='cuda:0')}, 78: {'step': tensor(4796.), 'exp_avg': tensor([ 1.0900e-05, -1.0496e-04,  1.8829e-05,  3.0288e-04,  1.7687e-04,\n",
      "         1.6207e-05,  4.6612e-05, -5.8983e-04, -8.2176e-05, -1.4854e-04,\n",
      "        -2.0850e-04,  4.2889e-05, -3.3066e-05, -1.0726e-05,  1.2554e-04,\n",
      "        -8.3039e-05, -2.4268e-04, -1.8921e-04, -7.5630e-05, -5.1416e-05,\n",
      "        -1.9490e-04, -1.7719e-05,  1.9631e-04,  3.1823e-04, -5.6195e-05,\n",
      "         1.3575e-04,  2.3188e-05, -3.1812e-05, -2.1772e-05,  5.7639e-05,\n",
      "         6.6769e-04], device='cuda:0'), 'exp_avg_sq': tensor([7.4893e-08, 1.8703e-07, 3.3768e-07, 2.6760e-05, 1.5743e-06, 2.9412e-06,\n",
      "        5.4290e-06, 2.7480e-05, 1.7002e-06, 1.9395e-06, 7.7882e-06, 2.2300e-05,\n",
      "        1.0609e-07, 5.8349e-07, 8.3310e-06, 4.6979e-06, 1.6199e-05, 2.5243e-05,\n",
      "        1.6850e-06, 1.0591e-07, 1.4945e-05, 9.3144e-06, 1.9979e-05, 4.0491e-06,\n",
      "        8.3862e-07, 3.9739e-06, 9.9904e-08, 2.7684e-06, 9.6196e-08, 2.1228e-07,\n",
      "        2.6394e-05], device='cuda:0')}}, 'param_groups': [{'lr': 0.0001, 'betas': (0.9, 0.999), 'eps': 1e-08, 'weight_decay': 0, 'amsgrad': False, 'maximize': False, 'foreach': None, 'capturable': False, 'differentiable': False, 'fused': None, 'params': [0, 1, 2, 3, 4, 5, 6, 7, 8, 9, 10, 11, 12, 13, 14, 15, 16, 17, 18, 19, 20, 21, 22, 23, 24, 25, 26, 27, 28, 29, 30, 31, 32, 33, 34, 35, 36, 37, 38, 39, 40, 41, 42, 43, 44, 45, 46, 47, 48, 49, 50, 51, 52, 53, 54, 55, 56, 57, 58, 59, 60, 61, 62, 63, 64, 65, 66, 67, 68, 69, 70, 71, 72, 73, 74, 75, 76, 77, 78]}]}\n"
     ]
    }
   ],
   "source": [
    "print(ckpt['optimizer_state_dict'])"
   ]
  },
  {
   "cell_type": "markdown",
   "metadata": {
    "id": "ZWQnB8lUVY4f"
   },
   "source": [
    "# Levenshtein Distance"
   ]
  },
  {
   "cell_type": "code",
   "execution_count": null,
   "metadata": {
    "id": "rSsiCdxPVeZW"
   },
   "outputs": [],
   "source": [
    "def indices_to_chars(indices, vocab):\n",
    "    tokens = []\n",
    "    for i in indices: # This loops through all the indices\n",
    "        if int(i) == SOS_TOKEN: # If SOS is encountered, dont add it to the final list\n",
    "            continue\n",
    "        elif int(i) == EOS_TOKEN: # If EOS is encountered, stop the decoding process\n",
    "            break\n",
    "        else:\n",
    "            tokens.append(vocab[int(i)])\n",
    "    return tokens\n",
    "\n",
    "def calc_edit_distance(predictions, y, ly, vocab= VOCAB, print_example= False):\n",
    "\n",
    "    dist                = 0\n",
    "    batch_size, seq_len = predictions.shape\n",
    "\n",
    "    for batch_idx in range(batch_size): \n",
    "\n",
    "        y_sliced    = indices_to_chars(y[batch_idx, 0:ly[batch_idx]], vocab)\n",
    "        pred_sliced = indices_to_chars(predictions[batch_idx], vocab)\n",
    "\n",
    "        # Strings - When you are using characters from the AudioDataset\n",
    "        y_string    = ''.join(y_sliced)\n",
    "        pred_string = ''.join(pred_sliced)\n",
    "        \n",
    "        dist        += Levenshtein.distance(pred_string, y_string)\n",
    "        # Comment the above and uncomment below for toy dataset, as the toy dataset has a list of phonemes to compare\n",
    "        # dist      += Levenshtein.distance(y_sliced, pred_sliced)\n",
    "\n",
    "    if print_example: \n",
    "        # Print y_sliced and pred_sliced if you are using the toy dataset\n",
    "        print(\"Ground Truth : \", y_string)\n",
    "        print(\"Prediction   : \", pred_string)\n",
    "        \n",
    "    dist/=batch_size\n",
    "    return dist"
   ]
  },
  {
   "cell_type": "markdown",
   "metadata": {
    "id": "Pu4MrSMUUIyp"
   },
   "source": [
    "# Train and Validation functions \n"
   ]
  },
  {
   "cell_type": "code",
   "execution_count": null,
   "metadata": {
    "id": "sKOdI0J5Tpem"
   },
   "outputs": [],
   "source": [
    "def train(model, dataloader, criterion, optimizer, teacher_forcing_rate):\n",
    "\n",
    "    model.train()\n",
    "    batch_bar = tqdm(total=len(dataloader), dynamic_ncols=True, leave=False, position=0, desc='Train')\n",
    "\n",
    "    running_loss        = 0.0\n",
    "    running_perplexity  = 0.0\n",
    "    \n",
    "    for i, (x, y, lx, ly) in enumerate(dataloader):\n",
    "\n",
    "        optimizer.zero_grad()\n",
    "\n",
    "        x, y, lx, ly = x.to(device), y.to(device), lx, ly\n",
    "\n",
    "        with torch.cuda.amp.autocast():\n",
    "\n",
    "            raw_predictions, attention_plot = model(x, lx, y= y, teacher_forcing_ratio= teacher_forcing_rate)\n",
    "\n",
    "            B, T, vocab_size = raw_predictions.shape\n",
    "            raw_predictions = raw_predictions.view(B * T, vocab_size)\n",
    "            y = y.view(B*T)\n",
    "\n",
    "\n",
    "            loss        =  criterion(raw_predictions, y)\n",
    "\n",
    "            perplexity  = torch.exp(loss)\n",
    "            running_loss        += loss.item()\n",
    "            running_perplexity  += perplexity.item()\n",
    "        \n",
    "        # Backward on the masked loss\n",
    "        scaler.scale(loss).backward()\n",
    "        \n",
    "        scaler.step(optimizer)\n",
    "        scaler.update()\n",
    "        \n",
    "\n",
    "        batch_bar.set_postfix(\n",
    "            loss=\"{:.04f}\".format(running_loss/(i+1)),\n",
    "            perplexity=\"{:.04f}\".format(running_perplexity/(i+1)),\n",
    "            lr=\"{:.04f}\".format(float(optimizer.param_groups[0]['lr'])),\n",
    "            tf_rate='{:.02f}'.format(teacher_forcing_rate))\n",
    "        batch_bar.update()\n",
    "\n",
    "        del x, y, lx, ly\n",
    "        torch.cuda.empty_cache()\n",
    "\n",
    "    running_loss /= len(dataloader)\n",
    "    running_perplexity /= len(dataloader)\n",
    "    batch_bar.close()\n",
    "\n",
    "    return running_loss, running_perplexity, attention_plot"
   ]
  },
  {
   "cell_type": "code",
   "execution_count": null,
   "metadata": {
    "id": "YmBLhP8cWm6n"
   },
   "outputs": [],
   "source": [
    "def validate(model, dataloader):\n",
    "\n",
    "    model.eval()\n",
    "\n",
    "    batch_bar = tqdm(total=len(dataloader), dynamic_ncols=True, position=0, leave=False, desc=\"Val\")\n",
    "\n",
    "    running_lev_dist = 0.0\n",
    "\n",
    "    for i, (x, y, lx, ly) in enumerate(dataloader):\n",
    "        '''if x.shape[0] != config['batch_size']:\n",
    "            continue'''\n",
    "\n",
    "        x, y, lx, ly = x.to(device), y.to(device), lx, ly\n",
    "\n",
    "        with torch.inference_mode():\n",
    "            raw_predictions, attentions = model(x, lx, y = None, teacher_forcing_ratio = 0)\n",
    "\n",
    "        # Greedy Decoding\n",
    "        # raw_predictions ----> (B, T, vocab_size)\n",
    "        # y ----> (B, T)\n",
    "        greedy_predictions   = torch.argmax(raw_predictions, dim = -1) \n",
    "\n",
    "        # Calculate Levenshtein Distance\n",
    "        running_lev_dist    += calc_edit_distance(greedy_predictions, y, ly, VOCAB, print_example = True) \n",
    "        batch_bar.set_postfix(\n",
    "            dist=\"{:.04f}\".format(running_lev_dist/(i+1)))\n",
    "        batch_bar.update()\n",
    "\n",
    "        del x, y, lx, ly\n",
    "        torch.cuda.empty_cache()\n",
    "\n",
    "    batch_bar.close()\n",
    "    running_lev_dist /= len(dataloader)\n",
    "\n",
    "    return running_lev_dist"
   ]
  },
  {
   "cell_type": "markdown",
   "metadata": {
    "id": "JmZhxhNseaIr"
   },
   "source": [
    "# Experiment"
   ]
  },
  {
   "cell_type": "code",
   "execution_count": null,
   "metadata": {
    "colab": {
     "base_uri": "https://localhost:8080/"
    },
    "id": "sZcCV2BIW2R6",
    "outputId": "9c324b3a-50a9-4e6e-8b76-2e980f720cad"
   },
   "outputs": [
    {
     "name": "stderr",
     "output_type": "stream",
     "text": [
      "\u001b[34m\u001b[1mwandb\u001b[0m: W&B API key is configured. Use \u001b[1m`wandb login --relogin`\u001b[0m to force relogin\n",
      "\u001b[34m\u001b[1mwandb\u001b[0m: \u001b[33mWARNING\u001b[0m If you're specifying your api key in code, ensure this code is not shared publicly.\n",
      "\u001b[34m\u001b[1mwandb\u001b[0m: \u001b[33mWARNING\u001b[0m Consider setting the WANDB_API_KEY environment variable, or running `wandb login` from the command line.\n",
      "\u001b[34m\u001b[1mwandb\u001b[0m: Appending key for api.wandb.ai to your netrc file: /root/.netrc\n"
     ]
    },
    {
     "data": {
      "text/plain": [
       "True"
      ]
     },
     "execution_count": 33,
     "metadata": {},
     "output_type": "execute_result"
    }
   ],
   "source": [
    "# Login to Wandb\n",
    "import wandb\n",
    "wandb.login(key=\"<key>\")\n",
    "# Save your model architecture in a txt file, and save the file to Wandb"
   ]
  },
  {
   "cell_type": "code",
   "execution_count": null,
   "metadata": {
    "colab": {
     "base_uri": "https://localhost:8080/",
     "height": 122
    },
    "id": "UGyPyaAMLn66",
    "outputId": "72eb4ba9-782f-4a56-f8b1-c658673c61bc"
   },
   "outputs": [
    {
     "name": "stderr",
     "output_type": "stream",
     "text": [
      "\u001b[34m\u001b[1mwandb\u001b[0m: Currently logged in as: \u001b[33mkrana\u001b[0m (\u001b[33mcmu-idl\u001b[0m). Use \u001b[1m`wandb login --relogin`\u001b[0m to force relogin\n"
     ]
    },
    {
     "data": {
      "text/html": [
       "Tracking run with wandb version 0.15.0"
      ],
      "text/plain": [
       "<IPython.core.display.HTML object>"
      ]
     },
     "metadata": {},
     "output_type": "display_data"
    },
    {
     "data": {
      "text/html": [
       "Run data is saved locally in <code>/content/wandb/run-20230428_020926-u1i183te</code>"
      ],
      "text/plain": [
       "<IPython.core.display.HTML object>"
      ]
     },
     "metadata": {},
     "output_type": "display_data"
    },
    {
     "data": {
      "text/html": [
       "Syncing run <strong><a href='https://wandb.ai/cmu-idl/hw4p2-krana/runs/u1i183te' target=\"_blank\">LAS-model-tf-run</a></strong> to <a href='https://wandb.ai/cmu-idl/hw4p2-krana' target=\"_blank\">Weights & Biases</a> (<a href='https://wandb.me/run' target=\"_blank\">docs</a>)<br/>"
      ],
      "text/plain": [
       "<IPython.core.display.HTML object>"
      ]
     },
     "metadata": {},
     "output_type": "display_data"
    },
    {
     "data": {
      "text/html": [
       " View project at <a href='https://wandb.ai/cmu-idl/hw4p2-krana' target=\"_blank\">https://wandb.ai/cmu-idl/hw4p2-krana</a>"
      ],
      "text/plain": [
       "<IPython.core.display.HTML object>"
      ]
     },
     "metadata": {},
     "output_type": "display_data"
    },
    {
     "data": {
      "text/html": [
       " View run at <a href='https://wandb.ai/cmu-idl/hw4p2-krana/runs/u1i183te' target=\"_blank\">https://wandb.ai/cmu-idl/hw4p2-krana/runs/u1i183te</a>"
      ],
      "text/plain": [
       "<IPython.core.display.HTML object>"
      ]
     },
     "metadata": {},
     "output_type": "display_data"
    }
   ],
   "source": [
    "run = wandb.init(\n",
    "    name = \"LAS-model-tf-run\", ## Wandb creates random run names if you skip this field\n",
    "    reinit = True, ### Allows reinitalizing runs when you re-run this cell\n",
    "    #run_id = \"cl6ttn54\", ### Insert specific run id here if you want to resume a previous run\n",
    "    #resume = \"must\", ### You need this to resume previous runs, but comment out reinit = True when using this\n",
    "    project = \"hw4p2-krana\", ### Project should be created in your wandb account \n",
    "    config = meta_config.wandb_config() ### Wandb Config for your run\n",
    ")"
   ]
  },
  {
   "cell_type": "code",
   "execution_count": null,
   "metadata": {
    "id": "IgJdA9jrZwid"
   },
   "outputs": [],
   "source": [
    "import matplotlib.pyplot as plt\n",
    "import seaborn as sns\n",
    "def plot_attention(attention): \n",
    "    # Function for plotting attention\n",
    "    # You need to get a diagonal plot\n",
    "    plt.clf()\n",
    "    sns.heatmap(attention, cmap='GnBu')\n",
    "    plt.show()"
   ]
  },
  {
   "cell_type": "code",
   "execution_count": null,
   "metadata": {
    "id": "nRSl2WYFNDVX"
   },
   "outputs": [],
   "source": [
    "def save_model(model, optimizer, scheduler, metric, epoch, path):\n",
    "    torch.save(\n",
    "        {'model_state_dict'         : model.state_dict(),\n",
    "         'optimizer_state_dict'     : optimizer.state_dict(),\n",
    "         'scheduler_state_dict'     : scheduler.state_dict(),\n",
    "         metric[0]                  : metric[1], \n",
    "         'epoch'                    : epoch}, \n",
    "         path\n",
    "    )\n",
    "\n",
    "def load_model(path, model, metric= 'valid_acc', optimizer= None, scheduler= None):\n",
    "\n",
    "    checkpoint = torch.load(path)\n",
    "    model.load_state_dict(checkpoint['model_state_dict'])\n",
    "\n",
    "    if optimizer != None:\n",
    "        optimizer.load_state_dict(checkpoint['optimizer_state_dict'])\n",
    "    if scheduler != None:\n",
    "        scheduler.load_state_dict(checkpoint['scheduler_state_dict'])\n",
    "        \n",
    "    epoch   = checkpoint['epoch']\n",
    "    metric  = checkpoint[metric]\n",
    "\n",
    "    return [model, optimizer, scheduler, epoch, metric]"
   ]
  },
  {
   "cell_type": "code",
   "execution_count": null,
   "metadata": {
    "id": "Z5McR5End8tn"
   },
   "outputs": [],
   "source": [
    "# get me RAMMM!!!! \n",
    "\n",
    "torch.cuda.empty_cache()"
   ]
  },
  {
   "cell_type": "code",
   "execution_count": null,
   "metadata": {
    "id": "dswXCDmdM_Ds"
   },
   "outputs": [],
   "source": [
    "epoch_model_path = 'chekpoint-schedule-run.pth'\n",
    "best_model_path = 'best_model-schedule-run.pth'"
   ]
  },
  {
   "cell_type": "code",
   "execution_count": null,
   "metadata": {
    "colab": {
     "base_uri": "https://localhost:8080/",
     "height": 1000
    },
    "id": "eDWGFIcjddz-",
    "outputId": "07721a68-e3c0-444e-90f7-5eaac7646cea"
   },
   "outputs": [
    {
     "metadata": {
      "tags": null
     },
     "name": "stdout",
     "output_type": "stream",
     "text": [
      "\n",
      "Epoch: 18/98\n"
     ]
    },
    {
     "metadata": {
      "tags": null
     },
     "name": "stderr",
     "output_type": "stream",
     "text": [
      "Val:   5%|▍         | 1/22 [00:02<01:02,  2.98s/it, dist=21.8594]"
     ]
    },
    {
     "metadata": {
      "tags": null
     },
     "name": "stdout",
     "output_type": "stream",
     "text": [
      "Ground Truth :  WHAT WILL THE MORAL PHILOSOPHERS WHO APPEAR AT THIS TIME HAVE TO PREACH\n",
      "Prediction   :  WHAT WILL THE MORAL THE LOSS OF FERS WHO WAPPEARED THIS TIME HAVE TO PREACH\n"
     ]
    },
    {
     "metadata": {
      "tags": null
     },
     "name": "stderr",
     "output_type": "stream",
     "text": [
      "Val:   9%|▉         | 2/22 [00:06<01:00,  3.04s/it, dist=24.4180]"
     ]
    },
    {
     "metadata": {
      "tags": null
     },
     "name": "stdout",
     "output_type": "stream",
     "text": [
      "Ground Truth :  SAID MORREL SADLY YES REPLIED NOIRTIER\n",
      "Prediction   :  SAID MEREL SADLY YES REPLIED MORE TAY\n"
     ]
    },
    {
     "metadata": {
      "tags": null
     },
     "name": "stderr",
     "output_type": "stream",
     "text": [
      "Val:  14%|█▎        | 3/22 [00:09<00:57,  3.04s/it, dist=23.7474]"
     ]
    },
    {
     "metadata": {
      "tags": null
     },
     "name": "stdout",
     "output_type": "stream",
     "text": [
      "Ground Truth :  AND ALL WORK HAD CEASED WITH HIM\n",
      "Prediction   :  AND ALWARE HAD CEASED WITH HIM\n"
     ]
    },
    {
     "metadata": {
      "tags": null
     },
     "name": "stderr",
     "output_type": "stream",
     "text": [
      "Val:  18%|█▊        | 4/22 [00:12<00:55,  3.06s/it, dist=24.2773]"
     ]
    },
    {
     "metadata": {
      "tags": null
     },
     "name": "stdout",
     "output_type": "stream",
     "text": [
      "Ground Truth :  PHOEBE COOKED VENUS SCRUBBED THE TEMPLE\n",
      "Prediction   :  FEEBY CUT BE MISS GROUND ATTEMPLE\n"
     ]
    },
    {
     "metadata": {
      "tags": null
     },
     "name": "stderr",
     "output_type": "stream",
     "text": [
      "Val:  23%|██▎       | 5/22 [00:15<00:51,  3.06s/it, dist=24.0797]"
     ]
    },
    {
     "metadata": {
      "tags": null
     },
     "name": "stdout",
     "output_type": "stream",
     "text": [
      "Ground Truth :  IT'S THE MOST INEXPLICABLE THERE\n",
      "Prediction   :  IT'S THE MOST IN EXPLUCABLE THEY ARE\n"
     ]
    },
    {
     "metadata": {
      "tags": null
     },
     "name": "stderr",
     "output_type": "stream",
     "text": [
      "Val:  27%|██▋       | 6/22 [00:18<00:49,  3.07s/it, dist=23.4622]"
     ]
    },
    {
     "metadata": {
      "tags": null
     },
     "name": "stdout",
     "output_type": "stream",
     "text": [
      "Ground Truth :  I WON'T HAVE MY MEN KNOCKED UP WITH FLOGGING THESE RASCALS\n",
      "Prediction   :  I WON'T HAVE MY MEN NOT DUT WITH FLOG IN THESE RASCALS\n"
     ]
    },
    {
     "metadata": {
      "tags": null
     },
     "name": "stderr",
     "output_type": "stream",
     "text": [
      "Val:  32%|███▏      | 7/22 [00:21<00:44,  2.97s/it, dist=22.9163]"
     ]
    },
    {
     "metadata": {
      "tags": null
     },
     "name": "stdout",
     "output_type": "stream",
     "text": [
      "Ground Truth :  OF COURSE IT AIN'T SAID MISSUS BOZZLE\n",
      "Prediction   :  OF COURSE IT AND SAID MISSUS BASSEL\n"
     ]
    },
    {
     "metadata": {
      "tags": null
     },
     "name": "stderr",
     "output_type": "stream",
     "text": [
      "Val:  36%|███▋      | 8/22 [00:23<00:40,  2.90s/it, dist=23.2207]"
     ]
    },
    {
     "metadata": {
      "tags": null
     },
     "name": "stdout",
     "output_type": "stream",
     "text": [
      "Ground Truth :  AS FOR HIS FRIENDS THE FUTURE MUST PROVE HIS GRATITUDE TO THEM\n",
      "Prediction   :  AS FREE HIS FRIENDS THE FEATY REMOST BROVE HIS GRATITUDE TO THEM\n"
     ]
    },
    {
     "metadata": {
      "tags": null
     },
     "name": "stderr",
     "output_type": "stream",
     "text": [
      "Val:  41%|████      | 9/22 [00:27<00:38,  2.98s/it, dist=23.6345]"
     ]
    },
    {
     "metadata": {
      "tags": null
     },
     "name": "stdout",
     "output_type": "stream",
     "text": [
      "Ground Truth :  HE TROUBLED OVER MANY LITTLE DETAILS AND TALKED PERFUNCTORILY TO EVERYBODY\n",
      "Prediction   :  HE GENELED OVER MANY LITTLE DETAILS AND TAKS PERFECT TO ALL TO EVERYBODY\n"
     ]
    },
    {
     "metadata": {
      "tags": null
     },
     "name": "stderr",
     "output_type": "stream",
     "text": [
      "Val:  45%|████▌     | 10/22 [00:29<00:34,  2.89s/it, dist=23.3727]"
     ]
    },
    {
     "metadata": {
      "tags": null
     },
     "name": "stdout",
     "output_type": "stream",
     "text": [
      "Ground Truth :  WHEN QUITE CRISP DIP ONE SIDE OF THE SIPPET INTO THE BEATEN WHITE OF AN EGG MIXED WITH A LITTLE FLOUR AND PLACE IT ON THE EDGE OF THE DISH\n",
      "Prediction   :  WHEN QUITE CRIST DID ONE SIDE OF THE SIP IT INTO THE BEATING WHITE OF AN AGMIX WITH A LITTLE FLOWER AND PLACE IT ON THE EDGE OF THE DISH\n"
     ]
    },
    {
     "metadata": {
      "tags": null
     },
     "name": "stderr",
     "output_type": "stream",
     "text": [
      "Val:  50%|█████     | 11/22 [00:32<00:30,  2.80s/it, dist=22.9808]"
     ]
    },
    {
     "metadata": {
      "tags": null
     },
     "name": "stdout",
     "output_type": "stream",
     "text": [
      "Ground Truth :  WHAT BANKRUPTS IN THE WORLD WE FEEL WHEN DEATH LIKE SOME REMORSELESS CREDITOR SEIZES ON ALL WE FONDLY THOUGHT OUR OWN THE TWINS\n",
      "Prediction   :  WHAT ANGRAPS IN THE WORLD REFEEL WENDEATH LIKE SOME REMORE STISCREDED HER SEASES ON ALL WE FUNDLY SAT OUR OWN THE TWINS\n"
     ]
    },
    {
     "metadata": {
      "tags": null
     },
     "name": "stderr",
     "output_type": "stream",
     "text": [
      "Val:  55%|█████▍    | 12/22 [00:34<00:27,  2.76s/it, dist=23.1270]"
     ]
    },
    {
     "metadata": {
      "tags": null
     },
     "name": "stdout",
     "output_type": "stream",
     "text": [
      "Ground Truth :  DAVID AND CHRISTIE WENT SMILING AWAY TOGETHER AND IF THEY SHED ANY TEARS OVER THE BRIEF HAPPINESS NO ONE SAW THEM BUT THE FLOWERS AND THEY LOYALLY KEPT THE SECRET FOLDED UP IN THEIR TENDER HEARTS\n",
      "Prediction   :  EVER INCRESS YOU WENT SMILING AWAY TOGETHER AND DIFFERE SHAD AN YETER IS IF OR THE BREE FACTINESS NO ONE SAW THEM BUT THE FLOWERS AND THEY LORELY KEPT THE SECRET FOLD IN UP IN THEIR TENDER HEARTS\n"
     ]
    },
    {
     "metadata": {
      "tags": null
     },
     "name": "stderr",
     "output_type": "stream",
     "text": [
      "Val:  59%|█████▉    | 13/22 [00:37<00:24,  2.77s/it, dist=23.5721]"
     ]
    },
    {
     "metadata": {
      "tags": null
     },
     "name": "stdout",
     "output_type": "stream",
     "text": [
      "Ground Truth :  I DO NOT KNOW WHEN IT IS GOING TO BE BUT IT WILL BE EITHER NEXT WEEK OR THE WEEK AFTER CERTAINLY AT THE EARLIEST POSSIBLE MOMENT AND I SHOULDN'T BE AT ALL SURPRISED TO LEARN THAT ALL MARY ANN'S THINGS HAD BEEN ALREADY BOUGHT AND PERHAPS SOME OF THEM MARKED\n",
      "Prediction   :  I DO NOT KNOW WHEN IT IS GOING TO BE BUT IT WILL BE EITHER NEXT WEEK OR THE WEEK DAFTER CERTAINLY AT THE EARLY SPOSSIBLE MOMENT AND I SHOULD BE A ALL SURPRISE TO LEAN THAT ALL MERE AND THINGS HAVE BEEN ALREADY BOUGHT AND PERHAPS SOME OF THE MARKED\n"
     ]
    },
    {
     "metadata": {
      "tags": null
     },
     "name": "stderr",
     "output_type": "stream",
     "text": [
      "Val:  64%|██████▎   | 14/22 [00:40<00:21,  2.69s/it, dist=23.0837]"
     ]
    },
    {
     "metadata": {
      "tags": null
     },
     "name": "stdout",
     "output_type": "stream",
     "text": [
      "Ground Truth :  SHALL WE HAUL UP ASKED LIGE MAKING A MEGAPHONE OF HIS HANDS YES HAUL AWAY\n",
      "Prediction   :  SHE WE HALL UP ASK LYE SHE MAKING HIM ANY OF UN OF HIS HANDS YES HOLD AWAY\n"
     ]
    },
    {
     "metadata": {
      "tags": null
     },
     "name": "stderr",
     "output_type": "stream",
     "text": [
      "Val:  68%|██████▊   | 15/22 [00:43<00:19,  2.72s/it, dist=22.9854]"
     ]
    },
    {
     "metadata": {
      "tags": null
     },
     "name": "stdout",
     "output_type": "stream",
     "text": [
      "Ground Truth :  LINCOLN HAD CALLED FOR VOLUNTEERS TO PUT DOWN A REBELLION BUT HARRY HEARD EVERYWHERE IN CHARLESTON THAT THE CONFEDERACY WAS NOW SECURE\n",
      "Prediction   :  LEACON HAD CALLED HER VALUE TEARS TO PUT DOWN A REBELLION BUT HERE HERE EVERY WERE AND CHARLES THAN THAT THE CONFEDERACY WAS NOW SECURE\n"
     ]
    },
    {
     "metadata": {
      "tags": null
     },
     "name": "stderr",
     "output_type": "stream",
     "text": [
      "Val:  73%|███████▎  | 16/22 [00:46<00:16,  2.83s/it, dist=22.9937]"
     ]
    },
    {
     "metadata": {
      "tags": null
     },
     "name": "stdout",
     "output_type": "stream",
     "text": [
      "Ground Truth :  HE PAUSED AND PUT HIS HAND TO HIS FEVERED HEAD\n",
      "Prediction   :  HE POLISTE AND PUT HIS HAND IT WAS FEEVER HEAD\n"
     ]
    },
    {
     "metadata": {
      "tags": null
     },
     "name": "stderr",
     "output_type": "stream",
     "text": [
      "Val:  77%|███████▋  | 17/22 [00:49<00:14,  2.91s/it, dist=23.3594]"
     ]
    },
    {
     "metadata": {
      "tags": null
     },
     "name": "stdout",
     "output_type": "stream",
     "text": [
      "Ground Truth :  A SHOCK OF UNBELIEVABLE RELIEF TINGLED THROUGH HER SO THAT WAS ALL WHAT WAS IT COMPARED WITH HER FEARS\n",
      "Prediction   :  A SHARCA THAN THE LEAVE A BILLY LEAVE SEEMILE BURTER SWITH THAT WAS ALL BUT WAS IT CONVERED THE HER FEARS\n"
     ]
    },
    {
     "metadata": {
      "tags": null
     },
     "name": "stderr",
     "output_type": "stream",
     "text": [
      "Val:  82%|████████▏ | 18/22 [00:52<00:11,  2.87s/it, dist=23.4089]"
     ]
    },
    {
     "metadata": {
      "tags": null
     },
     "name": "stdout",
     "output_type": "stream",
     "text": [
      "Ground Truth :  THEY LAY IN HEAPS OF DOZENS EVEN CLOSE UP TO THE WORKS\n",
      "Prediction   :  THEY LAY IN HEAPS OF DOZEN EVEN CLOSE UP TO THE WORSE\n"
     ]
    },
    {
     "metadata": {
      "tags": null
     },
     "name": "stderr",
     "output_type": "stream",
     "text": [
      "Val:  86%|████████▋ | 19/22 [00:54<00:08,  2.82s/it, dist=23.1859]"
     ]
    },
    {
     "metadata": {
      "tags": null
     },
     "name": "stdout",
     "output_type": "stream",
     "text": [
      "Ground Truth :  WE TOOK OUR WAY THROUGH POOR AND SPARSE MEADOWS WHICH MADE A DESPERATE EFFORT EVERY YEAR TO SHOW A LITTLE GREEN\n",
      "Prediction   :  WE TOOK ARE WAY THEIR POOR AND SPARSE MEADOWS WHICH MADE A DESPER EFFORT EVERY YEAR TO SHOW LITTLE GREEN\n"
     ]
    },
    {
     "metadata": {
      "tags": null
     },
     "name": "stderr",
     "output_type": "stream",
     "text": [
      "Val:  91%|█████████ | 20/22 [00:57<00:05,  2.90s/it, dist=23.2184]"
     ]
    },
    {
     "metadata": {
      "tags": null
     },
     "name": "stdout",
     "output_type": "stream",
     "text": [
      "Ground Truth :  THEY SAT DOWN AND LISTENED IN SILENCE\n",
      "Prediction   :  THEY SAID DOWN AND LISTENED IN SILENCE\n"
     ]
    },
    {
     "metadata": {
      "tags": null
     },
     "name": "stderr",
     "output_type": "stream",
     "text": [
      "Val:  95%|█████████▌| 21/22 [01:00<00:02,  2.92s/it, dist=23.2894]"
     ]
    },
    {
     "metadata": {
      "tags": null
     },
     "name": "stdout",
     "output_type": "stream",
     "text": [
      "Ground Truth :  SLEEP WHICH KEEPS ALL SORROW IN ABEYANCE SOON WEIGHED DOWN THEIR EYELIDS THEY SLEPT IN EACH OTHER'S ARMS OVERCOME BY EXHAUSTION AND PROLONGED WATCHING\n",
      "Prediction   :  SLEEP WHICH KEEPS ALL SORROW IN A BANCE SOON WAIT DOWN THEIR EYE LIVES THEY SLEPT ANY COLOURS ARE OVER COME BY CLARSHING AND PROWERMED WATCHING\n"
     ]
    },
    {
     "metadata": {
      "tags": null
     },
     "name": "stderr",
     "output_type": "stream",
     "text": [
      "                                                                  "
     ]
    },
    {
     "metadata": {
      "tags": null
     },
     "name": "stdout",
     "output_type": "stream",
     "text": [
      "Ground Truth :  NO HE AIN'T IT'S A TRAINER ADDED ANN LIZY\n",
      "Prediction   :  NOW REA IT SUCH HANG HER ADDED AND MORE YE\n",
      "Train loss: 1.007744129730447 Train Perplexity: 2.765669666598196 lr:  0.0001\n",
      "Validation dist:  23.203551136363636\n"
     ]
    },
    {
     "metadata": {
      "tags": null
     },
     "name": "stderr",
     "output_type": "stream",
     "text": [
      "\r"
     ]
    },
    {
     "data": {
      "image/png": "[encoded data removed]",
      "text/plain": [
       "<Figure size 640x480 with 2 Axes>"
      ]
     },
     "metadata": {},
     "output_type": "display_data"
    },
    {
     "metadata": {
      "tags": null
     },
     "name": "stdout",
     "output_type": "stream",
     "text": [
      "Saved epoch model\n",
      "Saved best model\n",
      "\n",
      "Epoch: 19/98\n"
     ]
    },
    {
     "metadata": {
      "tags": null
     },
     "name": "stderr",
     "output_type": "stream",
     "text": [
      "Val:   5%|▍         | 1/22 [00:02<00:59,  2.85s/it, dist=19.6562]"
     ]
    },
    {
     "metadata": {
      "tags": null
     },
     "name": "stdout",
     "output_type": "stream",
     "text": [
      "Ground Truth :  THAT POOR BOY IS IN A VERY EXCITED STATE TO NIGHT SHE MURMURED AFTER A PAUSE WHICH LASTED FOR THREE TICKS OF THE CLOCK\n",
      "Prediction   :  THAT POOR BOYS AND VERY SAID IS TAY TO THAT SHE MURMURED AFTER A PAUSE WAS LESS FOR THREE TICKS OF THE CLOCK\n"
     ]
    },
    {
     "metadata": {
      "tags": null
     },
     "name": "stderr",
     "output_type": "stream",
     "text": [
      "Val:   9%|▉         | 2/22 [00:05<01:00,  3.02s/it, dist=21.9453]"
     ]
    },
    {
     "metadata": {
      "tags": null
     },
     "name": "stdout",
     "output_type": "stream",
     "text": [
      "Ground Truth :  THERE WAS AN EXTRAORDINARY FORCE OF SUGGESTION IN THIS POSTURING\n",
      "Prediction   :  THERE WAS NEXT DOOR NOR A FORCE ITS UGJESTING THIS POSTURING\n"
     ]
    },
    {
     "metadata": {
      "tags": null
     },
     "name": "stderr",
     "output_type": "stream",
     "text": [
      "Val:  14%|█▎        | 3/22 [00:08<00:56,  2.96s/it, dist=20.6823]"
     ]
    },
    {
     "metadata": {
      "tags": null
     },
     "name": "stdout",
     "output_type": "stream",
     "text": [
      "Ground Truth :  NOR COULD IT SEEM STRANGE OR INCREDIBLE THAT THE FIRST OF THESE AEONS THE LOGOS OR WORD OF GOD OF THE SAME SUBSTANCE WITH THE FATHER SHOULD DESCEND UPON EARTH TO DELIVER THE HUMAN RACE FROM VICE AND ERROR AND TO CONDUCT THEM IN THE PATHS OF LIFE AND IMMORTALITY\n",
      "Prediction   :  NOR COULD IT SEEMS STRANGERING CRITIBLE OF THE FIRST OF THESE EARNS THE LIBEST OR WORD OF GOD OF THE SAME SUBSENCE WITH THE FATHER SHE DISCEND UPON EARTH TO LIVE OF THE HUMAN RACE FROM VICE AND ERROR AND TO CONDUCT THEM IN THE PATS OF LIFE AND IMMERTALITY\n"
     ]
    },
    {
     "metadata": {
      "tags": null
     },
     "name": "stderr",
     "output_type": "stream",
     "text": [
      "Val:  18%|█▊        | 4/22 [00:11<00:51,  2.89s/it, dist=20.4336]"
     ]
    },
    {
     "metadata": {
      "tags": null
     },
     "name": "stdout",
     "output_type": "stream",
     "text": [
      "Ground Truth :  D'AVRIGNY SAID VILLEFORT BE SO KIND I BESEECH YOU AS TO ACCOMPANY THIS GENTLEMAN HERE IS THE KEY OF THE DOOR SO THAT YOU CAN GO IN AND OUT AS YOU PLEASE YOU WILL BRING THE PRIEST WITH YOU AND WILL OBLIGE ME BY INTRODUCING HIM INTO MY CHILD'S ROOM DO YOU WISH TO SEE HIM\n",
      "Prediction   :  DEVERING HE SAID MILEFORT BE SO KIND OF AS HE TOO AS TO COME IN THIS GENEMAN HERE IS THE KING OF THE DOOR SO LET YOU CAN GOING AN OUT AS YOU PREESE YOU A GRING THE PRIEST WITH YOU AND WILL OBLIGE ME BAN AND DOORS IN HIM INTO MY CHANCE ROOM DO YOU IS TO SEE HIM\n"
     ]
    },
    {
     "metadata": {
      "tags": null
     },
     "name": "stderr",
     "output_type": "stream",
     "text": [
      "Val:  23%|██▎       | 5/22 [00:14<00:48,  2.83s/it, dist=20.0000]"
     ]
    },
    {
     "metadata": {
      "tags": null
     },
     "name": "stdout",
     "output_type": "stream",
     "text": [
      "Ground Truth :  THERE ARE NATURES TOO TO WHOSE SENSE OF JUSTICE THE PRICE EXACTED LOOMS UP MONSTROUSLY ENORMOUS ODIOUS OPPRESSIVE WORRYING HUMILIATING EXTORTIONATE INTOLERABLE THOSE ARE THE FANATICS\n",
      "Prediction   :  THERE WERE NATURES TOO TO HER SENSE OF JUSTICE THE PRESENT EXACTED LOOSE UP MOSSIES THE ENARMISS OHIOUS AMPRESSIVE WARIING HE MILLIATING EXTORTIONATE INTORABLE THERE WAS OTHER FINATICS\n"
     ]
    },
    {
     "metadata": {
      "tags": null
     },
     "name": "stderr",
     "output_type": "stream",
     "text": [
      "Val:  27%|██▋       | 6/22 [00:17<00:46,  2.93s/it, dist=20.9779]"
     ]
    },
    {
     "metadata": {
      "tags": null
     },
     "name": "stdout",
     "output_type": "stream",
     "text": [
      "Ground Truth :  I UNDERSTAND BARTLEY I WAS WRONG\n",
      "Prediction   :  I UNDERSTAND BARTLY I WAS RONG\n"
     ]
    },
    {
     "metadata": {
      "tags": null
     },
     "name": "stderr",
     "output_type": "stream",
     "text": [
      "Val:  32%|███▏      | 7/22 [00:20<00:44,  2.94s/it, dist=20.7790]"
     ]
    },
    {
     "metadata": {
      "tags": null
     },
     "name": "stdout",
     "output_type": "stream",
     "text": [
      "Ground Truth :  IS THERE NOTHING WILD IN THE EYE CONTINUED HOLGRAVE SO EARNESTLY THAT IT EMBARRASSED PHOEBE AS DID ALSO THE QUIET FREEDOM WITH WHICH HE PRESUMED ON THEIR SO RECENT ACQUAINTANCE\n",
      "Prediction   :  IT THEIR NOTHING WILD IN THE EYE CONTINUED HOLDRER SO EARNESTLY THAT IMBERS FEEBY AS DID ALSO THE QUIET FREEDOM WITH WHICH HE PRESUMED ON THEIR SO REASON TO QUIET ANDS\n"
     ]
    },
    {
     "metadata": {
      "tags": null
     },
     "name": "stderr",
     "output_type": "stream",
     "text": [
      "Val:  36%|███▋      | 8/22 [00:23<00:41,  3.00s/it, dist=20.8389]"
     ]
    },
    {
     "metadata": {
      "tags": null
     },
     "name": "stdout",
     "output_type": "stream",
     "text": [
      "Ground Truth :  IN FACT THE RINGLEADER JOHN REX GAVE ME HIS CONFESSION AND I SENT IT TO THE BISHOP\n",
      "Prediction   :  AND FACT THE RING LEADER JOHN RECKS GAVE ME HIS CONVESSION I SAID IT TO THE BISHIP\n"
     ]
    },
    {
     "metadata": {
      "tags": null
     },
     "name": "stderr",
     "output_type": "stream",
     "text": [
      "Val:  41%|████      | 9/22 [00:26<00:38,  2.97s/it, dist=21.0946]"
     ]
    },
    {
     "metadata": {
      "tags": null
     },
     "name": "stdout",
     "output_type": "stream",
     "text": [
      "Ground Truth :  I FELT THAT IN MY FIRST PROFESSION AS I WAS NOT BLESSED WITH THE VOCATION NECESSARY TO IT I SHOULD HAVE SUCCEEDED ONLY BY DINT OF HYPOCRISY AND I SHOULD HAVE BEEN DESPICABLE IN MY OWN ESTIMATION EVEN IF I HAD SEEN THE PURPLE MANTLE ON MY SHOULDERS FOR THE GREATEST DIGNITIES CANNOT SILENCE A MAN'S OWN CONSCIENCE\n",
      "Prediction   :  I FELT THAT IN MY FIRST PROFESSION AS I WAS NOT LAST WITH THE VOCATION NECESSARY TOO IT I SHOULD HAVE SUCCEEDED ONLY BY DID TO CAPACRACY AND I SHOULD HAVE BEEN DISPICABLE IN MY OWN ESTIMATION EVEN IF I HAD SEEN THE PERPORANTAL ON MY SHOULDERS FOR THE GREAT ASTIGNITIES CANNOT SILENCE A MAN'S OWN CONSCIOUS\n"
     ]
    },
    {
     "metadata": {
      "tags": null
     },
     "name": "stderr",
     "output_type": "stream",
     "text": [
      "Val:  45%|████▌     | 10/22 [00:29<00:34,  2.90s/it, dist=20.9836]"
     ]
    },
    {
     "metadata": {
      "tags": null
     },
     "name": "stdout",
     "output_type": "stream",
     "text": [
      "Ground Truth :  YOU SEE THAT SHE KNEW EXACTLY HOW A TRYST IS CONDUCTED IN THE PAGES OF THE STANDARD POETS AND OF THE CHEAPER WEEKLY JOURNALS\n",
      "Prediction   :  YOU SEE THAT SHE NEXACTLY HOW ATTREST IS CONDUCTED IN THE PAGES OF THE STANDERED PELACE AND THE CHEEPER WEAGRY JERNALS\n"
     ]
    },
    {
     "metadata": {
      "tags": null
     },
     "name": "stderr",
     "output_type": "stream",
     "text": [
      "Val:  50%|█████     | 11/22 [00:31<00:31,  2.85s/it, dist=20.8480]"
     ]
    },
    {
     "metadata": {
      "tags": null
     },
     "name": "stdout",
     "output_type": "stream",
     "text": [
      "Ground Truth :  WITHIN MINUTES TOM WAS IN CHARGE OF CLEARING AWAY RUBBLE AND EXTRICATING ANYONE WHO MIGHT BE TRAPPED INSIDE THE BUILDINGS\n",
      "Prediction   :  WITH A MINUTES TALK WAS INCHARGE OF CLEARING AWAY RUBBLE AND EXTRAORDINING AWAY RUBBLE AND EXTRAORDINING ANY ONE WHO MIGHT BE TRAP INSIDE THE BILDINGS\n"
     ]
    },
    {
     "metadata": {
      "tags": null
     },
     "name": "stderr",
     "output_type": "stream",
     "text": [
      "Val:  55%|█████▍    | 12/22 [00:35<00:29,  2.93s/it, dist=20.8691]"
     ]
    },
    {
     "metadata": {
      "tags": null
     },
     "name": "stdout",
     "output_type": "stream",
     "text": [
      "Ground Truth :  I HAPPEN TO HAVE MAC CONNELL'S BOX FOR TONIGHT OR THERE'D BE NO CHANCE OF OUR GETTING PLACES\n",
      "Prediction   :  I HAPPENED TO HAVE MACALES BOX FOR TO NIGHT WERE THAT BE NEW CHANCE IN A GETTING PLACES\n"
     ]
    },
    {
     "metadata": {
      "tags": null
     },
     "name": "stderr",
     "output_type": "stream",
     "text": [
      "Val:  59%|█████▉    | 13/22 [00:37<00:25,  2.86s/it, dist=20.6070]"
     ]
    },
    {
     "metadata": {
      "tags": null
     },
     "name": "stdout",
     "output_type": "stream",
     "text": [
      "Ground Truth :  IF CARRIED ANY DISTANCE IT SHOULD BE STORED AWAY IN AIR TIGHT VESSELS\n",
      "Prediction   :  IF CARRIED ANY DISTANCE IT SHOULD BE STORED AWAY IN AIR TIGHT BESTLES\n"
     ]
    },
    {
     "metadata": {
      "tags": null
     },
     "name": "stderr",
     "output_type": "stream",
     "text": [
      "Val:  64%|██████▎   | 14/22 [00:40<00:23,  2.91s/it, dist=20.6401]"
     ]
    },
    {
     "metadata": {
      "tags": null
     },
     "name": "stdout",
     "output_type": "stream",
     "text": [
      "Ground Truth :  MARGARET MET JEM WILSON SEVERAL DAYS AFTER HIS BROTHERS WERE SERIOUSLY ILL AND HEARD FROM HIM THE STATE OF THINGS AT HIS HOME\n",
      "Prediction   :  MARGUERITE MAT GENEMOUS INSIVERAL DAYS AFTER HIS BROTHERS WERE SERIES WE ALL AND HEARD FROM HE AND THE STATE OF THINGS AT HIS HOME\n"
     ]
    },
    {
     "metadata": {
      "tags": null
     },
     "name": "stderr",
     "output_type": "stream",
     "text": [
      "Val:  68%|██████▊   | 15/22 [00:43<00:20,  2.88s/it, dist=20.4104]"
     ]
    },
    {
     "metadata": {
      "tags": null
     },
     "name": "stdout",
     "output_type": "stream",
     "text": [
      "Ground Truth :  CREEP IN SAID THE WITCH AND SEE IF IT IS HOT ENOUGH AND THEN WE WILL PUT IN THE BREAD BUT SHE INTENDED WHEN GRETHEL GOT IN TO SHUT UP THE OVEN AND LET HER BAKE SO THAT SHE MIGHT EAT HER AS WELL AS HANSEL\n",
      "Prediction   :  CREEPINGS OF THE WHICH AND SEE IT IS HAVE ENOUGH AND THEN WE WILL PUT IN THE BREAD BUT SHE INTENDED WHEN GRETHOLD OUT IN TO SHOP THE EMINE AND LET HER BAKE SAID SHE MAY HE HER AS WELL AS HANDSOL\n"
     ]
    },
    {
     "metadata": {
      "tags": null
     },
     "name": "stderr",
     "output_type": "stream",
     "text": [
      "Val:  73%|███████▎  | 16/22 [00:46<00:17,  2.93s/it, dist=20.3921]"
     ]
    },
    {
     "metadata": {
      "tags": null
     },
     "name": "stdout",
     "output_type": "stream",
     "text": [
      "Ground Truth :  AND OF COURSE I HAD MY EXPECTATIONS AND SHE HAD HERS\n",
      "Prediction   :  AND OF COURSE I HAD MY EXPECTATIONS AND SHE HAD MY EXPECTATIONS AND SHE HAD HEARS\n"
     ]
    },
    {
     "metadata": {
      "tags": null
     },
     "name": "stderr",
     "output_type": "stream",
     "text": [
      "Val:  77%|███████▋  | 17/22 [00:49<00:14,  2.90s/it, dist=20.5519]"
     ]
    },
    {
     "metadata": {
      "tags": null
     },
     "name": "stdout",
     "output_type": "stream",
     "text": [
      "Ground Truth :  OTHERS HAD DIED BEFORE DURING THE TWENTIES AND DEATH DURING THE LAST ROUND WAS IN SOME WAYS EASIER THAN DEFEAT\n",
      "Prediction   :  I WAS HAD DIED BEFORE AGAIN AT TWENTIES AND DEST DURING A THE LAST ROUND WAS AND SO LAYS EASIER THAN DEFEAT\n"
     ]
    },
    {
     "metadata": {
      "tags": null
     },
     "name": "stderr",
     "output_type": "stream",
     "text": [
      "Val:  82%|████████▏ | 18/22 [00:52<00:11,  2.98s/it, dist=20.8385]"
     ]
    },
    {
     "metadata": {
      "tags": null
     },
     "name": "stdout",
     "output_type": "stream",
     "text": [
      "Ground Truth :  HE GAVE UP WORK SOME TIME AGO I HAVE BEEN TOLD MY HUSBAND WENT ON BUT EVIDENTLY A GREAT CASE STILL HAS ITS ALLUREMENT FOR HIM\n",
      "Prediction   :  HE GIVE UP WORK SOMETIME A GO I HAVE BEEN JOLD MY HUSBAND WENT ON BUT EVERY ENTLY A GREAT CASE STILL HAS ITS ALLARDENED TO FOR HIM\n"
     ]
    },
    {
     "metadata": {
      "tags": null
     },
     "name": "stderr",
     "output_type": "stream",
     "text": [
      "Val:  86%|████████▋ | 19/22 [00:55<00:08,  2.96s/it, dist=20.8199]"
     ]
    },
    {
     "metadata": {
      "tags": null
     },
     "name": "stdout",
     "output_type": "stream",
     "text": [
      "Ground Truth :  THEN BACK I TURNED MY FACE TO THOSE HIGH THINGS WHICH MOVED THEMSELVES TOWARDS US SO SEDATELY THEY HAD BEEN DISTANCED BY NEW WEDDED BRIDES\n",
      "Prediction   :  THEN BACK ATTURNED MY FACE TO THOSE HIGH THINGS WHICH MOVED THEMSELVES TOWARDS US SO SUDDAILY THEY HAD BEEN DISTANCE I KNEW WHAT IT BRIDES\n"
     ]
    },
    {
     "metadata": {
      "tags": null
     },
     "name": "stderr",
     "output_type": "stream",
     "text": [
      "Val:  91%|█████████ | 20/22 [00:58<00:05,  2.91s/it, dist=20.9570]"
     ]
    },
    {
     "metadata": {
      "tags": null
     },
     "name": "stdout",
     "output_type": "stream",
     "text": [
      "Ground Truth :  I TOOK OCCASION TO CONSULT THE MAP TO SEE WHERE GARDAR WAS TO BE FOUND\n",
      "Prediction   :  I TOOK OCCASION TO CONSULT THEM AP TO SEE WERE GARDER WAS TO BE FOUND\n"
     ]
    },
    {
     "metadata": {
      "tags": null
     },
     "name": "stderr",
     "output_type": "stream",
     "text": [
      "Val:  95%|█████████▌| 21/22 [01:01<00:02,  2.97s/it, dist=21.1979]"
     ]
    },
    {
     "metadata": {
      "tags": null
     },
     "name": "stdout",
     "output_type": "stream",
     "text": [
      "Ground Truth :  OH YOU MINISTERS OF CHRIST WOLVES IN SHEEP'S CLOTHING YOU SHALL BE JUDGED FOR THIS\n",
      "Prediction   :  ALL YOU MINISTERS OF CRIST WOULS AND SHEEPS CLOTHING YOU SHALL BE JUDGED FOR THIS\n"
     ]
    },
    {
     "metadata": {
      "tags": null
     },
     "name": "stderr",
     "output_type": "stream",
     "text": [
      "                                                                  "
     ]
    },
    {
     "metadata": {
      "tags": null
     },
     "name": "stdout",
     "output_type": "stream",
     "text": [
      "Ground Truth :  OFTEN WOULD HE AVAIL HIMSELF OF ANY SPECIAL GRACE OF HIS OWN IDIOM AND EPOCH IF ONLY HIS WILL BELONGED TO HIM OFTEN WOULD SOME CADENCE SERVE HIM BUT FOR HIS AUTHOR'S STRUCTURE SOME STRUCTURE BUT FOR HIS AUTHOR'S CADENCE OFTEN THE BEAUTIFUL TURN OF A STANZA MUST BE WEAKENED TO ADOPT SOME RHYME WHICH WILL TALLY AND HE SEES THE POET REVELLING IN ABUNDANCE OF LANGUAGE WHERE HIMSELF IS SCANTILY SUPPLIED\n",
      "Prediction   :  OFTEN WOULD HE ALL HIMSELF OF ANY SPECIAL GREECE OF HIS OWN IDEAM AN EPHIC IF ONLY HIS WILD AMONG TO HIM OFTEN WOULD SOME CADE OF SERVE HIM BUT FOR HIS AUTHER'S CHAGANCE OFTEN THE BEAUTIFUL TURN OF A STANDS OFTEN THE BEAUTIFUL TURN OF A STANDS AFTEN THE BEAUTIFUL TURN OF A STANDS AFTEN THE BEAUTIFUL TURN OF A STANDS AFTEN THE BEAUTIFUL TURN OF A STANDS ARE MUST BE WE CAME TO ADOPT SOME ROUND TO TALL THE AND HE SEIZED THE POWER REVELLING IN A BUNDANCE OF LANGUAGE WHERE HISSELF HIS KANDLY SUPPLIED\n",
      "Train loss: 0.9972392304595811 Train Perplexity: 2.733415835641425 lr:  0.0001\n",
      "Validation dist:  21.870738636363637\n"
     ]
    },
    {
     "metadata": {
      "tags": null
     },
     "name": "stderr",
     "output_type": "stream",
     "text": [
      "\r"
     ]
    },
    {
     "data": {
      "image/png": "[encoded data removed]",
      "text/plain": [
       "<Figure size 640x480 with 2 Axes>"
      ]
     },
     "metadata": {},
     "output_type": "display_data"
    },
    {
     "metadata": {
      "tags": null
     },
     "name": "stdout",
     "output_type": "stream",
     "text": [
      "Saved epoch model\n",
      "Saved best model\n",
      "\n",
      "Epoch: 20/98\n"
     ]
    },
    {
     "metadata": {
      "tags": null
     },
     "name": "stderr",
     "output_type": "stream",
     "text": [
      "Val:   5%|▍         | 1/22 [00:02<00:58,  2.80s/it, dist=16.5938]"
     ]
    },
    {
     "metadata": {
      "tags": null
     },
     "name": "stdout",
     "output_type": "stream",
     "text": [
      "Ground Truth :  I BECAME SOMEWHAT EMBARRASSED FOR I WAS USED TO BEING TAKEN FOR GRANTED BY MY ELDERS\n",
      "Prediction   :  I BECAME SOME WHAT EMBARRASSED FOR I WAS USED TO BEING TAKEN FORGANTED BY MY ELDERS\n"
     ]
    },
    {
     "metadata": {
      "tags": null
     },
     "name": "stderr",
     "output_type": "stream",
     "text": [
      "Val:   9%|▉         | 2/22 [00:05<00:55,  2.77s/it, dist=18.3125]"
     ]
    },
    {
     "metadata": {
      "tags": null
     },
     "name": "stdout",
     "output_type": "stream",
     "text": [
      "Ground Truth :  I NEVER SAW PEOPLE LIKE THE SNELLINGS FOR POSSESSING RELATIVES IN ALL SORTS OF LINES\n",
      "Prediction   :  I NEVER SAW A PEOPLE LIKE THE SNOWLINGS FOR POSSESSING RELITIVES IN ALSO SOUTH OF LINES\n"
     ]
    },
    {
     "metadata": {
      "tags": null
     },
     "name": "stderr",
     "output_type": "stream",
     "text": [
      "Val:  14%|█▎        | 3/22 [00:08<00:54,  2.88s/it, dist=18.8932]"
     ]
    },
    {
     "metadata": {
      "tags": null
     },
     "name": "stdout",
     "output_type": "stream",
     "text": [
      "Ground Truth :  SHE STOPPED WITH HER HAND ON THE LATCH OF THE WILSONS DOOR TO STILL HER BEATING HEART AND LISTENED TO THE HUSHED QUIET WITHIN\n",
      "Prediction   :  SHE STOPPED WITH HER HAND ON THE LATCH OF THE WILSON'S DOOR TO STILL HER BEATING HEART AND LISTENED TO THE HUSHED QUIET WITHIN\n"
     ]
    },
    {
     "metadata": {
      "tags": null
     },
     "name": "stderr",
     "output_type": "stream",
     "text": [
      "Val:  18%|█▊        | 4/22 [00:11<00:52,  2.93s/it, dist=18.6602]"
     ]
    },
    {
     "metadata": {
      "tags": null
     },
     "name": "stdout",
     "output_type": "stream",
     "text": [
      "Ground Truth :  HERE IS THE SEAT OF THE ORIGIN OF THE FAMOUS ANTITHESIS GOOD AND EVIL POWER AND DANGEROUSNESS ARE ASSUMED TO RESIDE IN THE EVIL A CERTAIN DREADFULNESS SUBTLETY AND STRENGTH WHICH DO NOT ADMIT OF BEING DESPISED\n",
      "Prediction   :  HERE IS THE SEAT OF THE ORGIN OF THE PLAMES AND TO THIS IS GOOD AND DEEPLE POWER AND DANGEROUS AS RESUMED TO RESIDE IN THE EVIL A CERTAIN DREADFUL ASSULTING STRINGTH WHICH DO NOT HAD MADE HAVE BEEN DESPISED\n"
     ]
    },
    {
     "metadata": {
      "tags": null
     },
     "name": "stderr",
     "output_type": "stream",
     "text": [
      "Val:  23%|██▎       | 5/22 [00:14<00:50,  2.97s/it, dist=18.8391]"
     ]
    },
    {
     "metadata": {
      "tags": null
     },
     "name": "stdout",
     "output_type": "stream",
     "text": [
      "Ground Truth :  VARIOUS DISHES ARE FREQUENTLY ORNAMENTED AND GARNISHED WITH ITS GRACEFUL LEAVES AND THESE ARE SOMETIMES BOILED IN SOUPS ALTHOUGH IT IS MORE USUALLY CONFINED IN ENGLISH COOKERY TO THE MACKEREL SAUCE AS HERE GIVEN\n",
      "Prediction   :  VERIOUS DISHES ARE FREQUENTLY ORNAMENTED AND GUARNISHED WITH ITS GRACEFUL LEAVES AND THESE ARE SOMETIMES BOY THAN SUITS ALTHOUGH IT IS MORE USUALLY CONFINED IN ENGLISH GOOGRY TO THE MACKROSS OF AS HERE GIVEN\n"
     ]
    },
    {
     "metadata": {
      "tags": null
     },
     "name": "stderr",
     "output_type": "stream",
     "text": [
      "Val:  27%|██▋       | 6/22 [00:17<00:47,  2.96s/it, dist=19.5065]"
     ]
    },
    {
     "metadata": {
      "tags": null
     },
     "name": "stdout",
     "output_type": "stream",
     "text": [
      "Ground Truth :  AND IF YOU HAVE TIME IT WOULD BE A GREAT SERVICE TO TRANSLATE THE ANALYSES OF THE POEMS WHICH I OMITTED\n",
      "Prediction   :  AND IF YOU HAVE TIME IT WOULD BE A GREAT SERVICE TO TRANSLY THE AMALICIES OF THE POND WHICH I AM IT\n"
     ]
    },
    {
     "metadata": {
      "tags": null
     },
     "name": "stderr",
     "output_type": "stream",
     "text": [
      "Val:  32%|███▏      | 7/22 [00:20<00:45,  3.04s/it, dist=20.0960]"
     ]
    },
    {
     "metadata": {
      "tags": null
     },
     "name": "stdout",
     "output_type": "stream",
     "text": [
      "Ground Truth :  YES HILDA I KNOW THAT HE SAID SIMPLY\n",
      "Prediction   :  YES HILLOW I KNOW THAT HE SAID SIMPLY\n"
     ]
    },
    {
     "metadata": {
      "tags": null
     },
     "name": "stderr",
     "output_type": "stream",
     "text": [
      "Val:  36%|███▋      | 8/22 [00:23<00:41,  2.94s/it, dist=19.5781]"
     ]
    },
    {
     "metadata": {
      "tags": null
     },
     "name": "stdout",
     "output_type": "stream",
     "text": [
      "Ground Truth :  HE IS JUST MARRIED YOU KNOW IS HE SAID BURGESS\n",
      "Prediction   :  HE IS JUST MARRIED YOU KNOW YES HE SAID BURGES\n"
     ]
    },
    {
     "metadata": {
      "tags": null
     },
     "name": "stderr",
     "output_type": "stream",
     "text": [
      "Val:  41%|████      | 9/22 [00:26<00:38,  2.93s/it, dist=19.6849]"
     ]
    },
    {
     "metadata": {
      "tags": null
     },
     "name": "stdout",
     "output_type": "stream",
     "text": [
      "Ground Truth :  IT IS LINED WITH EMERALD ALGAE AND MOSSES AND SHADED WITH ALDER WILLOW AND THORN BUSHES WHICH GIVE IT A FINE SETTING\n",
      "Prediction   :  IT IS LINE WITH EMBLE ALGEY AND MOSSES AND SHADED WITH ELDER WELL AND FORM BUSHES WHICH GIVE IT A FINE SETTING\n"
     ]
    },
    {
     "metadata": {
      "tags": null
     },
     "name": "stderr",
     "output_type": "stream",
     "text": [
      "Val:  45%|████▌     | 10/22 [00:29<00:35,  2.93s/it, dist=19.3641]"
     ]
    },
    {
     "metadata": {
      "tags": null
     },
     "name": "stdout",
     "output_type": "stream",
     "text": [
      "Ground Truth :  IN THAT CASE YOU WILL FIND ME A PROUD IMPETUOUS AMBITIOUS FELLOW CHRISTIE AND HOW WILL THAT SUIT\n",
      "Prediction   :  IN THAT CASE YOU AFFIND ME APROWED IMPEDULOUS AMBITIOUS FELLOW CRISTY A TALE WILL THAT SURE\n"
     ]
    },
    {
     "metadata": {
      "tags": null
     },
     "name": "stderr",
     "output_type": "stream",
     "text": [
      "Val:  50%|█████     | 11/22 [00:32<00:31,  2.87s/it, dist=19.5298]"
     ]
    },
    {
     "metadata": {
      "tags": null
     },
     "name": "stdout",
     "output_type": "stream",
     "text": [
      "Ground Truth :  A SNAKE OF HIS SIZE IN FIGHTING TRIM WOULD BE MORE THAN ANY BOY COULD HANDLE\n",
      "Prediction   :  THE SMAKE OF ITS SIZE AND FIGHTING TRIM WOULD BE MORE THAN NEED BLIKE A HANDLE\n"
     ]
    },
    {
     "metadata": {
      "tags": null
     },
     "name": "stderr",
     "output_type": "stream",
     "text": [
      "Val:  55%|█████▍    | 12/22 [00:35<00:29,  2.91s/it, dist=19.5788]"
     ]
    },
    {
     "metadata": {
      "tags": null
     },
     "name": "stdout",
     "output_type": "stream",
     "text": [
      "Ground Truth :  ALL THE TIME HIS THOUGHTS WOULD RUN OUT TO HIS HOME AND SEE THE SCENE BEING THEREIN ENACTED\n",
      "Prediction   :  I LITTLE IN THE SATS WOULD RAN OUT TO HIS HOUND AND SEE THE SEA THE SEATEN BEING BEAR AND INAFTED\n"
     ]
    },
    {
     "metadata": {
      "tags": null
     },
     "name": "stderr",
     "output_type": "stream",
     "text": [
      "Val:  59%|█████▉    | 13/22 [00:38<00:26,  2.99s/it, dist=19.7650]"
     ]
    },
    {
     "metadata": {
      "tags": null
     },
     "name": "stdout",
     "output_type": "stream",
     "text": [
      "Ground Truth :  THIS SWEETWATER AS THEY CALLED HIM WAS I HAVE SINCE UNDERSTOOD ONE OF HIS PROTEGES AND MORE OR LESS OF A FAVOURITE\n",
      "Prediction   :  THIS SWEET WATER AS THEY CALLED HIM WAS I HAVE SENSENTERESTOOD ONE OF HE IS MURTERED JASE AND MORE OR LESS OF A FAVORITE\n"
     ]
    },
    {
     "metadata": {
      "tags": null
     },
     "name": "stderr",
     "output_type": "stream",
     "text": [
      "Val:  64%|██████▎   | 14/22 [00:41<00:23,  2.93s/it, dist=19.5100]"
     ]
    },
    {
     "metadata": {
      "tags": null
     },
     "name": "stdout",
     "output_type": "stream",
     "text": [
      "Ground Truth :  OH BARTLEY WHAT AM I TO DO\n",
      "Prediction   :  OH BARLY WHAT AN I TO TOO\n"
     ]
    },
    {
     "metadata": {
      "tags": null
     },
     "name": "stderr",
     "output_type": "stream",
     "text": [
      "Val:  68%|██████▊   | 15/22 [00:43<00:19,  2.85s/it, dist=19.3745]"
     ]
    },
    {
     "metadata": {
      "tags": null
     },
     "name": "stdout",
     "output_type": "stream",
     "text": [
      "Ground Truth :  A MAN WAS LOOKING IN FROM THE CORRIDOR BEHIND AT THE FOUR PERSONS WE WERE JUST DISCUSSING\n",
      "Prediction   :  A MAN WAS LOOKING HIM FROM THE CORDER BEHIND AT THE FORE PERSONS WE WERE JUST DISCUSSING\n"
     ]
    },
    {
     "metadata": {
      "tags": null
     },
     "name": "stderr",
     "output_type": "stream",
     "text": [
      "Val:  73%|███████▎  | 16/22 [00:46<00:17,  2.92s/it, dist=19.5811]"
     ]
    },
    {
     "metadata": {
      "tags": null
     },
     "name": "stdout",
     "output_type": "stream",
     "text": [
      "Ground Truth :  THE MEAL ENDED\n",
      "Prediction   :  THE MEAL ENDED\n"
     ]
    },
    {
     "metadata": {
      "tags": null
     },
     "name": "stderr",
     "output_type": "stream",
     "text": [
      "Val:  77%|███████▋  | 17/22 [00:49<00:14,  2.96s/it, dist=19.4430]"
     ]
    },
    {
     "metadata": {
      "tags": null
     },
     "name": "stdout",
     "output_type": "stream",
     "text": [
      "Ground Truth :  MISS WOODLEY OBEDIENTLY SAT DOWN AND THOUGH HER THOUGHTS AND HEART WERE IN THE CHAMBER OF HER FRIEND SHE NEVER MARKED BY ONE IMPERTINENT WORD OR BY ONE LINE OF HER FACE THE RESTRAINT SHE SUFFERED\n",
      "Prediction   :  WHO IS WITH LEADILY ILLEDIATELY SAT DOWN AND THOUGH WERE THOUGHTS AND HEART WHERE IN THE CHAMBER OF HER FRIEND SHE NEVER MARCHED BY ONE IMPRINTENED WORD OR BY ONE LINE OF HER FACE THE RESTRAINED SHE SUFFERED\n"
     ]
    },
    {
     "metadata": {
      "tags": null
     },
     "name": "stderr",
     "output_type": "stream",
     "text": [
      "Val:  82%|████████▏ | 18/22 [00:52<00:11,  2.86s/it, dist=19.3034]"
     ]
    },
    {
     "metadata": {
      "tags": null
     },
     "name": "stdout",
     "output_type": "stream",
     "text": [
      "Ground Truth :  HE HAD HARDLY UTTERED THE WORDS WHEN THE BOY FLUNG HIMSELF BENEATH THE LOG\n",
      "Prediction   :  HE HAD HARDLY UTTERED THE WORDS WHEN THE BOY FLUNG HIMSELF BENEATH THE LOW\n"
     ]
    },
    {
     "metadata": {
      "tags": null
     },
     "name": "stderr",
     "output_type": "stream",
     "text": [
      "Val:  86%|████████▋ | 19/22 [00:55<00:08,  2.86s/it, dist=19.6061]"
     ]
    },
    {
     "metadata": {
      "tags": null
     },
     "name": "stdout",
     "output_type": "stream",
     "text": [
      "Ground Truth :  DEAD SAID DOCTOR MACKLEWAIN\n",
      "Prediction   :  DEAD SAID DOCTOR MACKALANE\n"
     ]
    },
    {
     "metadata": {
      "tags": null
     },
     "name": "stderr",
     "output_type": "stream",
     "text": [
      "Val:  91%|█████████ | 20/22 [00:58<00:05,  2.83s/it, dist=19.5773]"
     ]
    },
    {
     "metadata": {
      "tags": null
     },
     "name": "stdout",
     "output_type": "stream",
     "text": [
      "Ground Truth :  I COULD NOT HELP MY FRIEND\n",
      "Prediction   :  I COULD NOT HELD MY FRIEND\n"
     ]
    },
    {
     "metadata": {
      "tags": null
     },
     "name": "stderr",
     "output_type": "stream",
     "text": [
      "Val:  95%|█████████▌| 21/22 [01:01<00:02,  2.88s/it, dist=19.5379]"
     ]
    },
    {
     "metadata": {
      "tags": null
     },
     "name": "stdout",
     "output_type": "stream",
     "text": [
      "Ground Truth :  BY HIS DEFAULT SHORT WHILE HE SOJOURNED HERE BY HIS DEFAULT TO WEEPING AND TO TOIL HE CHANGED HIS INNOCENT LAUGHTER AND SWEET PLAY\n",
      "Prediction   :  I HAS DEFALT SHORE WHIRE HE SAID JURNED HERE BY HIS DEFALSE TO WE BEING ENTERED HORIL HE CHANGED HIS INNOCENT WERE AFTER AND SWEET PLAY\n"
     ]
    },
    {
     "metadata": {
      "tags": null
     },
     "name": "stderr",
     "output_type": "stream",
     "text": [
      "                                                                  "
     ]
    },
    {
     "metadata": {
      "tags": null
     },
     "name": "stdout",
     "output_type": "stream",
     "text": [
      "Ground Truth :  THIS GARISH DISPLAY OF MIRRORS AND ELABORATE DECORATION OF CEILING AND PILLARS GIVES IT THE APPEARANCE OF THE ABODE OF SATURNALIA BUT DECORUM IS THE RULE AMONG THE PATRONS\n",
      "Prediction   :  THIS GARESHED DISPLAYED NEARERS AND ALIBERATE DECARATION OF SEEILING IMPOLERS GIVES AT THE APPEARANCE OF THE ABOLE OF SATRINALIA BUT TO CORRON IS THE RULE AMONG THE PATRENCE\n",
      "Train loss: 0.9771908417410915 Train Perplexity: 2.676429746396873 lr:  0.0001\n",
      "Validation dist:  19.740767045454547\n"
     ]
    },
    {
     "metadata": {
      "tags": null
     },
     "name": "stderr",
     "output_type": "stream",
     "text": [
      "\r"
     ]
    },
    {
     "data": {
      "image/png": "[encoded data removed]",
      "text/plain": [
       "<Figure size 640x480 with 2 Axes>"
      ]
     },
     "metadata": {},
     "output_type": "display_data"
    },
    {
     "metadata": {
      "tags": null
     },
     "name": "stdout",
     "output_type": "stream",
     "text": [
      "Saved epoch model\n",
      "Saved best model\n",
      "\n",
      "Epoch: 21/98\n"
     ]
    },
    {
     "metadata": {
      "tags": null
     },
     "name": "stderr",
     "output_type": "stream",
     "text": [
      "Val:   5%|▍         | 1/22 [00:02<01:00,  2.87s/it, dist=22.2422]"
     ]
    },
    {
     "metadata": {
      "tags": null
     },
     "name": "stdout",
     "output_type": "stream",
     "text": [
      "Ground Truth :  AH FATHER SAID HANSEL I AM LOOKING AT MY WHITE CAT SITTING UPON THE ROOF OF THE HOUSE AND TRYING TO SAY GOOD BYE\n",
      "Prediction   :  AH FATHER SAID HANDSO I AM LOOKING AT MY WAIT CAT SITTING UPON THE ROOT CAT SITTING UPON THE ROOT OF THE HOUSE AND TRIED TO SAY TO BY\n"
     ]
    },
    {
     "metadata": {
      "tags": null
     },
     "name": "stderr",
     "output_type": "stream",
     "text": [
      "Val:   9%|▉         | 2/22 [00:05<00:57,  2.87s/it, dist=20.3789]"
     ]
    },
    {
     "metadata": {
      "tags": null
     },
     "name": "stdout",
     "output_type": "stream",
     "text": [
      "Ground Truth :  SCARCELY HAD HE COME TO THE WOOD WHEN ALL THE TREES AND THORNS WHICH HAD MADE SUCH AN IMPENETRABLE THICKET OPENED ON ONE SIDE AND THE OTHER TO OFFER HIM A PATH\n",
      "Prediction   :  SCARCELY HAD HE COME TO THE WOOD WHEN ALL THE TREES AND SORROWS WHICH HAD MADE SUCH AN IMPENERATIBLE THINKING OPEN DONE WORN SIDE IN THE OTHER TO AFFER IN THE PATH\n"
     ]
    },
    {
     "metadata": {
      "tags": null
     },
     "name": "stderr",
     "output_type": "stream",
     "text": [
      "Val:  14%|█▎        | 3/22 [00:08<00:54,  2.88s/it, dist=20.9557]"
     ]
    },
    {
     "metadata": {
      "tags": null
     },
     "name": "stdout",
     "output_type": "stream",
     "text": [
      "Ground Truth :  WE DID NOT IT MUST HAVE COME TO LIFE SOME TIME DURING THE NIGHT AND DUG ITS WAY OUT LAUGHED TAD\n",
      "Prediction   :  WE DID NOT THE MUST OF COME TO LIVE SOMETIME DURING THE ITE INDILITS WAY UP LEFT HEAD\n"
     ]
    },
    {
     "metadata": {
      "tags": null
     },
     "name": "stderr",
     "output_type": "stream",
     "text": [
      "Val:  18%|█▊        | 4/22 [00:11<00:53,  2.96s/it, dist=21.6055]"
     ]
    },
    {
     "metadata": {
      "tags": null
     },
     "name": "stdout",
     "output_type": "stream",
     "text": [
      "Ground Truth :  MODE PUT THE WHOLE OF THE INGREDIENTS INTO A BOTTLE AND LET IT REMAIN FOR A FORTNIGHT IN A WARM PLACE OCCASIONALLY SHAKING UP THE CONTENTS\n",
      "Prediction   :  MODE BUT THE WHOLE OF THE INGREEDIANCE INTO A BUTTLE AND LET IT REMAINED FOR A FORTNIGHT IN A WARM PLACE OCCASIONALLY SHAKING UP THE CONTENTS\n"
     ]
    },
    {
     "metadata": {
      "tags": null
     },
     "name": "stderr",
     "output_type": "stream",
     "text": [
      "Val:  23%|██▎       | 5/22 [00:14<00:48,  2.82s/it, dist=21.0156]"
     ]
    },
    {
     "metadata": {
      "tags": null
     },
     "name": "stdout",
     "output_type": "stream",
     "text": [
      "Ground Truth :  IT IS LINED WITH EMERALD ALGAE AND MOSSES AND SHADED WITH ALDER WILLOW AND THORN BUSHES WHICH GIVE IT A FINE SETTING\n",
      "Prediction   :  IT IS LINE WITH EMBLE ALGEY AND MOSSES AND SHEDED WITH ELDER WILL AND FORM BUSHES WHICH GIVEN A FINE SETTING\n"
     ]
    },
    {
     "metadata": {
      "tags": null
     },
     "name": "stderr",
     "output_type": "stream",
     "text": [
      "Val:  27%|██▋       | 6/22 [00:17<00:46,  2.89s/it, dist=20.9609]"
     ]
    },
    {
     "metadata": {
      "tags": null
     },
     "name": "stdout",
     "output_type": "stream",
     "text": [
      "Ground Truth :  YOU'RE A DISMISSED OFFICER OF THE GOVERNMENT SIR\n",
      "Prediction   :  YOU ARE DISMISSED OPPOSER IN THE GOVERNMENT SIR\n"
     ]
    },
    {
     "metadata": {
      "tags": null
     },
     "name": "stderr",
     "output_type": "stream",
     "text": [
      "Val:  32%|███▏      | 7/22 [00:20<00:43,  2.92s/it, dist=20.7121]"
     ]
    },
    {
     "metadata": {
      "tags": null
     },
     "name": "stdout",
     "output_type": "stream",
     "text": [
      "Ground Truth :  WE SHOULD LIKE ABOVE ALL THINGS SAID DEUCALION TO SEE THIS LAND FULL OF PEOPLE ONCE MORE FOR WITHOUT NEIGHBORS AND FRIENDS THE WORLD IS A VERY LONELY PLACE INDEED\n",
      "Prediction   :  WE SHOULD LIKE A BOTH ALL THINGS SAID DO CAN IN TO SEE THIS LAND FOOL OF PEOPLE ONCE MORE FOR WAS OUT NAIBERS AND FRIENDS THE WORLD AS A VERY LONELY PLACE INDEED\n"
     ]
    },
    {
     "metadata": {
      "tags": null
     },
     "name": "stderr",
     "output_type": "stream",
     "text": [
      "Val:  36%|███▋      | 8/22 [00:23<00:41,  2.97s/it, dist=20.2383]"
     ]
    },
    {
     "metadata": {
      "tags": null
     },
     "name": "stdout",
     "output_type": "stream",
     "text": [
      "Ground Truth :  BEFORE I CONSENTED TO ANSWER THE CHILD'S INQUIRIES I CAME TO AN UNDERSTANDING WITH HER MOTHER\n",
      "Prediction   :  THE FOREIGN CONSENTED AND SWITH A CHILDS INQUIRIES I CAME TO AN UNDERSTANDING WITH HER MOTHER\n"
     ]
    },
    {
     "metadata": {
      "tags": null
     },
     "name": "stderr",
     "output_type": "stream",
     "text": [
      "Val:  41%|████      | 9/22 [00:25<00:37,  2.85s/it, dist=19.7300]"
     ]
    },
    {
     "metadata": {
      "tags": null
     },
     "name": "stdout",
     "output_type": "stream",
     "text": [
      "Ground Truth :  I'VE GIVEN MY ORDERS SIR\n",
      "Prediction   :  I GIVEN MY ORDER SIR\n"
     ]
    },
    {
     "metadata": {
      "tags": null
     },
     "name": "stderr",
     "output_type": "stream",
     "text": [
      "Val:  45%|████▌     | 10/22 [00:28<00:34,  2.90s/it, dist=19.8039]"
     ]
    },
    {
     "metadata": {
      "tags": null
     },
     "name": "stdout",
     "output_type": "stream",
     "text": [
      "Ground Truth :  RETURN TO YOUR PROVINCES AND MAY YOUR PRIVATE VIRTUES REPAIR THE MISCHIEF AND SCANDAL OF YOUR MEETING\n",
      "Prediction   :  RETURNED YOUR PROVINCES AND BE YOUR PRINTED FOR TEAS REPAIR THE MISCHIEF AND SCANDLE OF YOUR MEATING\n"
     ]
    },
    {
     "metadata": {
      "tags": null
     },
     "name": "stderr",
     "output_type": "stream",
     "text": [
      "Val:  50%|█████     | 11/22 [00:31<00:32,  2.92s/it, dist=19.6847]"
     ]
    },
    {
     "metadata": {
      "tags": null
     },
     "name": "stdout",
     "output_type": "stream",
     "text": [
      "Ground Truth :  EVEN FROM A DISTANCE ONE COULD SEE THAT THERE WAS SOMETHING STRANGE ABOUT THIS BOY\n",
      "Prediction   :  EVEN TO MADISTANCE WANT COULD SEE THAT THERE WAS SOMETHING STRANGE ABOUT THIS BOY\n"
     ]
    },
    {
     "metadata": {
      "tags": null
     },
     "name": "stderr",
     "output_type": "stream",
     "text": [
      "Val:  55%|█████▍    | 12/22 [00:34<00:28,  2.84s/it, dist=19.6439]"
     ]
    },
    {
     "metadata": {
      "tags": null
     },
     "name": "stdout",
     "output_type": "stream",
     "text": [
      "Ground Truth :  THIS MODEST SCHOLAR SPOKE NO LANGUAGES SAVE ICELANDIC AND LATIN\n",
      "Prediction   :  THIS MOTISTALLERS BOOK NO LANGUID IS SAVE I SLANDIC IN LATTEN\n"
     ]
    },
    {
     "metadata": {
      "tags": null
     },
     "name": "stderr",
     "output_type": "stream",
     "text": [
      "Val:  59%|█████▉    | 13/22 [00:37<00:26,  2.91s/it, dist=19.7590]"
     ]
    },
    {
     "metadata": {
      "tags": null
     },
     "name": "stdout",
     "output_type": "stream",
     "text": [
      "Ground Truth :  THERE THEY STROVE TO BREAK THE SILVER CORD OF LIFE AND THRUST MY SOUL INTO THE BODY OF A FOUL NIGHT WEIRD THEIR SORCERY SUMMONED UP FROM HELL AH\n",
      "Prediction   :  THERE THEY STROVE TO BREAT THE SOUL RECORD OF LIFE AND THRUST MY SOUL INTO THE BODY OF A FALL NIGHT WE END THEIR SOURCERY SOME ADOPT FROM HILL AH\n"
     ]
    },
    {
     "metadata": {
      "tags": null
     },
     "name": "stderr",
     "output_type": "stream",
     "text": [
      "Val:  64%|██████▎   | 14/22 [00:40<00:23,  2.95s/it, dist=19.9699]"
     ]
    },
    {
     "metadata": {
      "tags": null
     },
     "name": "stdout",
     "output_type": "stream",
     "text": [
      "Ground Truth :  THERE ARE NATURES TOO TO WHOSE SENSE OF JUSTICE THE PRICE EXACTED LOOMS UP MONSTROUSLY ENORMOUS ODIOUS OPPRESSIVE WORRYING HUMILIATING EXTORTIONATE INTOLERABLE THOSE ARE THE FANATICS\n",
      "Prediction   :  THERE WERE NATURES TOO TO HER SENSE OF JUSTICE THE PRESENT JUST AS THE PRESENT ACT TO LOOSE UP MOSSELY IN ARMOUS ODIOUS A PRESS OF WARIING HE MILLIOTING EXTORTION IT INTORRABLE THERE WAS OTHER FINATICS\n"
     ]
    },
    {
     "metadata": {
      "tags": null
     },
     "name": "stderr",
     "output_type": "stream",
     "text": [
      "Val:  68%|██████▊   | 15/22 [00:43<00:20,  2.92s/it, dist=19.9115]"
     ]
    },
    {
     "metadata": {
      "tags": null
     },
     "name": "stdout",
     "output_type": "stream",
     "text": [
      "Ground Truth :  THIS WAS THE OLD ESTABLISHMENT OF URSUS ITS PROPORTIONS AUGMENTED BY SUCCESS AND IMPROVED FROM A WRETCHED BOOTH INTO A THEATRE\n",
      "Prediction   :  THIS WAS THE ALL THE STABLISHMENT OF HURSTS IT'S PROPORTIONS AUDMENTED BY SUCCESS AND IMPRIVED FROM A RECHANT BOTH INTO WITH THE AITOR\n"
     ]
    },
    {
     "metadata": {
      "tags": null
     },
     "name": "stderr",
     "output_type": "stream",
     "text": [
      "Val:  73%|███████▎  | 16/22 [00:46<00:17,  2.98s/it, dist=19.8472]"
     ]
    },
    {
     "metadata": {
      "tags": null
     },
     "name": "stdout",
     "output_type": "stream",
     "text": [
      "Ground Truth :  BOZZLE HAD ALWAYS WAITED UPON HIM WITH A DECENT COAT AND A WELL BRUSHED HAT AND CLEAN SHOES\n",
      "Prediction   :  BAUSEL HAD ALWAYS WAITED UPON HIM WITH A DEASENT COAT AND A WELL BRUST HAT AND CREAN CHOOSE\n"
     ]
    },
    {
     "metadata": {
      "tags": null
     },
     "name": "stderr",
     "output_type": "stream",
     "text": [
      "Val:  77%|███████▋  | 17/22 [00:49<00:15,  3.02s/it, dist=19.7220]"
     ]
    },
    {
     "metadata": {
      "tags": null
     },
     "name": "stdout",
     "output_type": "stream",
     "text": [
      "Ground Truth :  BESIDES WE MUST REMEMBER THAT THEY HAD IN THOSE TIMES MEANS OF PUTTING PATIENTS TO SLEEP AND OF SUPPRESSING ALL SUFFERING ONLY THEN IT WAS CALLED MAGIC WHILE NOW IT IS CALLED ANAESTHESIA\n",
      "Prediction   :  BESIDES WE MUST REMEMBER THAT THEY HAD IN THOSE TIMES MEANS OF PUTTING PATIENCE TO SLEEP AND OF SUPPRESSING ALL SUFFERING ONLY THEN IT WAS CALLED MAGIC WELL NOW IT IS CALLED AND HIS FEESUA\n"
     ]
    },
    {
     "metadata": {
      "tags": null
     },
     "name": "stderr",
     "output_type": "stream",
     "text": [
      "Val:  82%|████████▏ | 18/22 [00:52<00:11,  2.97s/it, dist=19.7279]"
     ]
    },
    {
     "metadata": {
      "tags": null
     },
     "name": "stdout",
     "output_type": "stream",
     "text": [
      "Ground Truth :  THE WAITER OF THE MAGAZZINO CAME TO BE PAID AND OUR CHIEF GAVE HIM WHAT WAS DUE ENJOINING SILENCE UNDER PENALTY OF DEATH\n",
      "Prediction   :  THE WATER OF THE MIGHT AS YOU KNOW CAME TO BE PAID AND OUR CHIEF GAVE HIM WHAT WAS DO ENJOYNING SILENCE UNDER PENALTY OF DEATH\n"
     ]
    },
    {
     "metadata": {
      "tags": null
     },
     "name": "stderr",
     "output_type": "stream",
     "text": [
      "Val:  86%|████████▋ | 19/22 [00:55<00:08,  2.97s/it, dist=19.7138]"
     ]
    },
    {
     "metadata": {
      "tags": null
     },
     "name": "stdout",
     "output_type": "stream",
     "text": [
      "Ground Truth :  SOME OF THE PREPARATIONS OF MAIZE FLOUR ARE VERY GOOD AND WHEN PARTAKEN IN MODERATION SUITABLE FOOD FOR ALMOST EVERYBODY\n",
      "Prediction   :  SOME OF THE PREPARATIONS OF MACE FLOWER ARE VERY GOOD AND WHEN PARTAKEN IN MODERATION SUITABLE FOOD FOR ALMOST EVERY BODY\n"
     ]
    },
    {
     "metadata": {
      "tags": null
     },
     "name": "stderr",
     "output_type": "stream",
     "text": [
      "Val:  91%|█████████ | 20/22 [00:58<00:05,  2.98s/it, dist=19.6273]"
     ]
    },
    {
     "metadata": {
      "tags": null
     },
     "name": "stdout",
     "output_type": "stream",
     "text": [
      "Ground Truth :  I FOLLOWED WITH THE SPADE OVER MY SHOULDER DRAGGING MY SNAKE\n",
      "Prediction   :  I FOLLOWED WITH A SPAID OVER MY SHOULDER DRAGGING MICE SNAKE\n"
     ]
    },
    {
     "metadata": {
      "tags": null
     },
     "name": "stderr",
     "output_type": "stream",
     "text": [
      "Val:  95%|█████████▌| 21/22 [01:01<00:03,  3.02s/it, dist=19.6261]"
     ]
    },
    {
     "metadata": {
      "tags": null
     },
     "name": "stdout",
     "output_type": "stream",
     "text": [
      "Ground Truth :  OUR HONOR IS THE GUARANTEE FOR HIS SAFETY SO LONG AS HE IS WITHIN THE CAMP\n",
      "Prediction   :  OUR HONOR AS THE GURRENT TEATH FOR HER SAFETY SO LONG AS HIS WITHIN THE CAMP\n"
     ]
    },
    {
     "metadata": {
      "tags": null
     },
     "name": "stderr",
     "output_type": "stream",
     "text": [
      "                                                                  "
     ]
    },
    {
     "metadata": {
      "tags": null
     },
     "name": "stdout",
     "output_type": "stream",
     "text": [
      "Ground Truth :  I SHOULD LIKE TO SEE THE DESK YOU SPEAK OF AND THE SPOT WHERE SHE FELL\n",
      "Prediction   :  I SHOULD LIKE TO SEE THE DESPAT WHERE SHE FELL\n",
      "Train loss: 0.9673960497561057 Train Perplexity: 2.64913304718086 lr:  0.0001\n",
      "Validation dist:  19.55826231060606\n"
     ]
    },
    {
     "metadata": {
      "tags": null
     },
     "name": "stderr",
     "output_type": "stream",
     "text": [
      "\r"
     ]
    },
    {
     "data": {
      "image/png": "[encoded data removed]",
      "text/plain": [
       "<Figure size 640x480 with 2 Axes>"
      ]
     },
     "metadata": {},
     "output_type": "display_data"
    },
    {
     "metadata": {
      "tags": null
     },
     "name": "stdout",
     "output_type": "stream",
     "text": [
      "Saved epoch model\n",
      "Saved best model\n",
      "\n",
      "Epoch: 22/98\n"
     ]
    },
    {
     "metadata": {
      "tags": null
     },
     "name": "stderr",
     "output_type": "stream",
     "text": [
      "Val:   5%|▍         | 1/22 [00:02<01:02,  2.96s/it, dist=23.5781]"
     ]
    },
    {
     "metadata": {
      "tags": null
     },
     "name": "stdout",
     "output_type": "stream",
     "text": [
      "Ground Truth :  BUT IF THE EMPERORS HAD BECOME CHRISTIAN THE EMPIRE HAD NOT\n",
      "Prediction   :  BUT IF THE EMPERORS HAD BECOME CHRISTIAN THE EMPIRE HAD NOT\n"
     ]
    },
    {
     "metadata": {
      "tags": null
     },
     "name": "stderr",
     "output_type": "stream",
     "text": [
      "Val:   9%|▉         | 2/22 [00:05<00:55,  2.78s/it, dist=19.9922]"
     ]
    },
    {
     "metadata": {
      "tags": null
     },
     "name": "stdout",
     "output_type": "stream",
     "text": [
      "Ground Truth :  SOMEONE SNIGGERED\n",
      "Prediction   :  SOME ON SNAGGERED\n"
     ]
    },
    {
     "metadata": {
      "tags": null
     },
     "name": "stderr",
     "output_type": "stream",
     "text": [
      "Val:  14%|█▎        | 3/22 [00:08<00:54,  2.87s/it, dist=20.2500]"
     ]
    },
    {
     "metadata": {
      "tags": null
     },
     "name": "stdout",
     "output_type": "stream",
     "text": [
      "Ground Truth :  HE PASSED THROUGH ONE APARTMENT AFTER ANOTHER WHERE WERE LADIES AND GENTLEMEN ASLEEP IN THEIR CHAIRS OR STANDING\n",
      "Prediction   :  HE PASSED THROUGH ONE A PARTMENT AFTER ANOTHER WHERE WERE LADIES AND GENTLEMEN ASLEEP IN NO CHAIRS OR STANDING\n"
     ]
    },
    {
     "metadata": {
      "tags": null
     },
     "name": "stderr",
     "output_type": "stream",
     "text": [
      "Val:  18%|█▊        | 4/22 [00:11<00:50,  2.82s/it, dist=20.0840]"
     ]
    },
    {
     "metadata": {
      "tags": null
     },
     "name": "stdout",
     "output_type": "stream",
     "text": [
      "Ground Truth :  HAVING RETURNED TO THE ROYAL CAVERN KALIKO FIRST POUNDED THE GONG AND THEN SAT IN THE THRONE WEARING RUGGEDO'S DISCARDED RUBY CROWN AND HOLDING IN HIS HAND THE SCEPTRE WHICH RUGGEDO HAD SO OFTEN THROWN AT HIS HEAD\n",
      "Prediction   :  HEAVING RETURNED TO THE WORLD CAVERING CALICAL FIRST POUNDED THE GORM AND SAID IN LOST ROOM WEARING LIGHTED OS DISCOURATED GREW BE CROWN AND FOLLING IN HIS HAND TO SUPPER WHICH WERE GOOD WHO HAD SO LOCKED HIMSER ON AT HIS HEAD\n"
     ]
    },
    {
     "metadata": {
      "tags": null
     },
     "name": "stderr",
     "output_type": "stream",
     "text": [
      "Val:  23%|██▎       | 5/22 [00:14<00:48,  2.85s/it, dist=19.7000]"
     ]
    },
    {
     "metadata": {
      "tags": null
     },
     "name": "stdout",
     "output_type": "stream",
     "text": [
      "Ground Truth :  HE'S A KIND NEIGHBORLY MAN AND HIS BOY WILL TAKE MY PLACE ABOUT THE HOUSE AND PROTECT YOU FAITHFULLY\n",
      "Prediction   :  HE SACARING SNABRILY MAN AND TO SPOIL WILL TAKE MY PLACE ABOUT THE HOUSE AND PROTECTY FEATSILY\n"
     ]
    },
    {
     "metadata": {
      "tags": null
     },
     "name": "stderr",
     "output_type": "stream",
     "text": [
      "Val:  27%|██▋       | 6/22 [00:16<00:44,  2.80s/it, dist=19.4544]"
     ]
    },
    {
     "metadata": {
      "tags": null
     },
     "name": "stdout",
     "output_type": "stream",
     "text": [
      "Ground Truth :  AND SHE GOT UP AND PUT HER HEAD INTO THE OVEN\n",
      "Prediction   :  AND SHE GOT UP AND PUT HER HEAD INTO THE OTHER\n"
     ]
    },
    {
     "metadata": {
      "tags": null
     },
     "name": "stderr",
     "output_type": "stream",
     "text": [
      "Val:  32%|███▏      | 7/22 [00:20<00:43,  2.89s/it, dist=19.6808]"
     ]
    },
    {
     "metadata": {
      "tags": null
     },
     "name": "stdout",
     "output_type": "stream",
     "text": [
      "Ground Truth :  THEY WERE RUN OUT OF THEIR VILLAGE\n",
      "Prediction   :  THEY WERE ONE OUT OF THEIR VILLAGE\n"
     ]
    },
    {
     "metadata": {
      "tags": null
     },
     "name": "stderr",
     "output_type": "stream",
     "text": [
      "Val:  36%|███▋      | 8/22 [00:22<00:38,  2.78s/it, dist=19.2773]"
     ]
    },
    {
     "metadata": {
      "tags": null
     },
     "name": "stdout",
     "output_type": "stream",
     "text": [
      "Ground Truth :  AND THEREWITHAL SUCH A BEWILDERMENT POSSESS'D ME THAT I SHUT MINE EYES FOR PEACE AND IN MY BRAIN DID CEASE ORDER OF THOUGHT AND EVERY HEALTHFUL THING\n",
      "Prediction   :  AND THERE WITHOUT SUCH A BEWILDER ME POSSESSED ME BUT I SHUT MY MISE PROPEACE IN IN MY BRING DID CEASE OR HER THOUGHT AND EVERY HELP HOLTHING\n"
     ]
    },
    {
     "metadata": {
      "tags": null
     },
     "name": "stderr",
     "output_type": "stream",
     "text": [
      "Val:  41%|████      | 9/22 [00:25<00:37,  2.87s/it, dist=19.3611]"
     ]
    },
    {
     "metadata": {
      "tags": null
     },
     "name": "stdout",
     "output_type": "stream",
     "text": [
      "Ground Truth :  AT LAST THE MAJOR SAID MY FRIENDS KEEP THAT TO THE LAST MOMENT\n",
      "Prediction   :  AT LAST THE MAID HER SAID MY FRIENDS HEAT THAT TO THE LAST MOMENT\n"
     ]
    },
    {
     "metadata": {
      "tags": null
     },
     "name": "stderr",
     "output_type": "stream",
     "text": [
      "Val:  45%|████▌     | 10/22 [00:28<00:35,  2.92s/it, dist=19.4680]"
     ]
    },
    {
     "metadata": {
      "tags": null
     },
     "name": "stdout",
     "output_type": "stream",
     "text": [
      "Ground Truth :  NO LETTER HAD COME NO WORD OF ANY KIND AND YET HERE IT WAS LATE IN THE EVENING AND SHE HAD AGREED TO MEET HIM THAT MORNING\n",
      "Prediction   :  NO LETTER HAD COME NO WORD OF ANY KIND AND YET CURIOD WISE LATE IN THE EVENING AND SHE HAD GREAT TO MEET HIM THAT MORNING\n"
     ]
    },
    {
     "metadata": {
      "tags": null
     },
     "name": "stderr",
     "output_type": "stream",
     "text": [
      "Val:  50%|█████     | 11/22 [00:31<00:33,  3.00s/it, dist=19.4219]"
     ]
    },
    {
     "metadata": {
      "tags": null
     },
     "name": "stdout",
     "output_type": "stream",
     "text": [
      "Ground Truth :  WHEN HIS PUBLIC SERVICES WERE FINISHED HE STARTED IN COMPANY WITH HIS WIFE SON JESSE AND A FEW FRIENDS\n",
      "Prediction   :  WHEN HIS PUBLIC SERVICES WERE PENISHED HE STARTED IN COMPANY WITH HIS WIFE SUN JUSTY IN A FEW FRIENDS\n"
     ]
    },
    {
     "metadata": {
      "tags": null
     },
     "name": "stderr",
     "output_type": "stream",
     "text": [
      "Val:  55%|█████▍    | 12/22 [00:34<00:28,  2.89s/it, dist=19.1458]"
     ]
    },
    {
     "metadata": {
      "tags": null
     },
     "name": "stdout",
     "output_type": "stream",
     "text": [
      "Ground Truth :  HE ADDED SYDNEY'S ADDRESS IN A POSTSCRIPT AND DISPATCHED HIS LETTER THAT EVENING\n",
      "Prediction   :  HE HAD IT SUDDENESS ADDRESS IN A POST GRIPT AND DESPATCHED HIS LETTER THAT EVENING\n"
     ]
    },
    {
     "metadata": {
      "tags": null
     },
     "name": "stderr",
     "output_type": "stream",
     "text": [
      "Val:  59%|█████▉    | 13/22 [00:37<00:25,  2.81s/it, dist=18.7776]"
     ]
    },
    {
     "metadata": {
      "tags": null
     },
     "name": "stdout",
     "output_type": "stream",
     "text": [
      "Ground Truth :  THE PLACARD GWYNPLAINE THE LAUGHING MAN TAKEN FROM ITS NAIL IN THE GREEN BOX WAS HUNG UP CLOSE TO THE SIGN OF THE INN\n",
      "Prediction   :  THE PLACKERED WHEN PLAINED THE LAUGHING MAN TAKEN FROM ITS NAIL IN THE GREEN BOX WAS HOW THAT CLOSE TO THE SIGN OF THE IN\n"
     ]
    },
    {
     "metadata": {
      "tags": null
     },
     "name": "stderr",
     "output_type": "stream",
     "text": [
      "Val:  64%|██████▎   | 14/22 [00:40<00:23,  2.90s/it, dist=18.8583]"
     ]
    },
    {
     "metadata": {
      "tags": null
     },
     "name": "stdout",
     "output_type": "stream",
     "text": [
      "Ground Truth :  HI THERE HISSED LUMPY FILLED WITH INDIGNATION THAT ANYONE SHOULD ATTEMPT TO MOUNT A PONY FROM THE RIGHT SIDE\n",
      "Prediction   :  HEIGHT THERE HIS SPLENTY DILL WITH THE DEMATION THAT IN YOU WENT SHE DETEMPTIMENT UPON YOU FROM THE RIGHT SIDE\n"
     ]
    },
    {
     "metadata": {
      "tags": null
     },
     "name": "stderr",
     "output_type": "stream",
     "text": [
      "Val:  68%|██████▊   | 15/22 [00:42<00:19,  2.78s/it, dist=18.7693]"
     ]
    },
    {
     "metadata": {
      "tags": null
     },
     "name": "stdout",
     "output_type": "stream",
     "text": [
      "Ground Truth :  IT IS A NATIVE OF PORTUGAL AND WHEN ITS LEAVES ARE USED AS A SEASONING HERB THEY HAVE AN AGREEABLE AROMATIC FLAVOUR\n",
      "Prediction   :  IT IS A NATIVE OF PORTUAGLE AND WHEN ITS LEAVES TO USED AS A SISTING EARB THEY HAVE AN AGREEABLE HEROMATIC LAVER\n"
     ]
    },
    {
     "metadata": {
      "tags": null
     },
     "name": "stderr",
     "output_type": "stream",
     "text": [
      "Val:  73%|███████▎  | 16/22 [00:45<00:16,  2.75s/it, dist=18.6230]"
     ]
    },
    {
     "metadata": {
      "tags": null
     },
     "name": "stdout",
     "output_type": "stream",
     "text": [
      "Ground Truth :  IF THE ORIGINAL IS STILL IN THE WORLD I THINK HE MIGHT DEFY THE SUN TO MAKE HIM LOOK STERN AND HARD\n",
      "Prediction   :  IF YOU RIGINAL AS STONE THE WORLD I THINK HE MIGHT DEFIVE THE SON TO MAKE HIM LOOKS DEARN AND HARD IN\n"
     ]
    },
    {
     "metadata": {
      "tags": null
     },
     "name": "stderr",
     "output_type": "stream",
     "text": [
      "Val:  77%|███████▋  | 17/22 [00:48<00:13,  2.76s/it, dist=18.5308]"
     ]
    },
    {
     "metadata": {
      "tags": null
     },
     "name": "stdout",
     "output_type": "stream",
     "text": [
      "Ground Truth :  EXTERMINATE WITH ME THE HERETICS AND WITH YOU I WILL EXTERMINATE THE PERSIANS\n",
      "Prediction   :  EXTERMIT WITH ME THE HEARTICS AND WITH YOU I WILL EXTERMINE IT THE PERSONS\n"
     ]
    },
    {
     "metadata": {
      "tags": null
     },
     "name": "stderr",
     "output_type": "stream",
     "text": [
      "Val:  82%|████████▏ | 18/22 [00:50<00:10,  2.69s/it, dist=18.3889]"
     ]
    },
    {
     "metadata": {
      "tags": null
     },
     "name": "stdout",
     "output_type": "stream",
     "text": [
      "Ground Truth :  FOR SHE HAD ONLY THE FOUNDATION LAID CRISS CROSS AS THE MAGPIE HAD SHOWN HER\n",
      "Prediction   :  FOR SHE HAD ONLY THE FOUNDATIONLY CRISCROSS AS THE MAID BY HAVE SHOWN HER\n"
     ]
    },
    {
     "metadata": {
      "tags": null
     },
     "name": "stderr",
     "output_type": "stream",
     "text": [
      "Val:  86%|████████▋ | 19/22 [00:53<00:08,  2.72s/it, dist=18.5596]"
     ]
    },
    {
     "metadata": {
      "tags": null
     },
     "name": "stdout",
     "output_type": "stream",
     "text": [
      "Ground Truth :  THE DAILY NEWSCASTS FROM TERRA SHOWED A CORRESPONDING SHIFT IN INTEREST AT HOME\n",
      "Prediction   :  THE DAILY NEWS CAST FROM TERROR SHOWED A CORRESPONDING SHIFTING INTEREST AT HOME\n"
     ]
    },
    {
     "metadata": {
      "tags": null
     },
     "name": "stderr",
     "output_type": "stream",
     "text": [
      "Val:  91%|█████████ | 20/22 [00:56<00:05,  2.80s/it, dist=18.3832]"
     ]
    },
    {
     "metadata": {
      "tags": null
     },
     "name": "stdout",
     "output_type": "stream",
     "text": [
      "Ground Truth :  TOM NODDED UNHAPPILY\n",
      "Prediction   :  TALL NODDED UNHAPPILY\n"
     ]
    },
    {
     "metadata": {
      "tags": null
     },
     "name": "stderr",
     "output_type": "stream",
     "text": [
      "Val:  95%|█████████▌| 21/22 [00:59<00:02,  2.86s/it, dist=18.6008]"
     ]
    },
    {
     "metadata": {
      "tags": null
     },
     "name": "stdout",
     "output_type": "stream",
     "text": [
      "Ground Truth :  THAT DIVINE WORD WHO IS THE LIGHT WHO LIGHTETH EVERY MAN WHICH COMETH INTO THE WORLD HAD AWAKENED IN THE HEART OF MANKIND A MORAL CRAVING NEVER BEFORE FELT IN ANY STRENGTH EXCEPT BY A FEW ISOLATED PHILOSOPHERS OR PROPHETS\n",
      "Prediction   :  THAT DIVINE WORD WHO IS THE LIGHT WHO LIGHT IT EVERY MAN WHICH COME INTO THE WORLD HOW TO WAKEN IN THE HEART OF MAN KIND OF MORAL CRAVING NEVER BEFORE FELT IN ANY STRENGTH EXCEPT BY A FEW ISLATED FLOSS FERSOR PROFITS\n"
     ]
    },
    {
     "metadata": {
      "tags": null
     },
     "name": "stderr",
     "output_type": "stream",
     "text": [
      "                                                                  "
     ]
    },
    {
     "metadata": {
      "tags": null
     },
     "name": "stdout",
     "output_type": "stream",
     "text": [
      "Ground Truth :  THE LADY IS NOT THE MOTHER OF THE BOYS BUT THEIR AUNT\n",
      "Prediction   :  THE LADIES NOT THE MOTHER OF THE BOYS BUT THEIR ANNT\n",
      "Train loss: 0.9559633812027661 Train Perplexity: 2.6204111522623244 lr:  0.0001\n",
      "Validation dist:  18.53108428030303\n"
     ]
    },
    {
     "metadata": {
      "tags": null
     },
     "name": "stderr",
     "output_type": "stream",
     "text": [
      "\r"
     ]
    },
    {
     "data": {
      "image/png": "[encoded data removed]",
      "text/plain": [
       "<Figure size 640x480 with 2 Axes>"
      ]
     },
     "metadata": {},
     "output_type": "display_data"
    },
    {
     "metadata": {
      "tags": null
     },
     "name": "stdout",
     "output_type": "stream",
     "text": [
      "Saved epoch model\n",
      "Saved best model\n",
      "\n",
      "Epoch: 23/98\n"
     ]
    },
    {
     "metadata": {
      "tags": null
     },
     "name": "stderr",
     "output_type": "stream",
     "text": [
      "Val:   5%|▍         | 1/22 [00:03<01:04,  3.07s/it, dist=22.4297]"
     ]
    },
    {
     "metadata": {
      "tags": null
     },
     "name": "stdout",
     "output_type": "stream",
     "text": [
      "Ground Truth :  THE QUEEN GAZED UPON OUR FRIENDS WITH EVIDENT INTEREST\n",
      "Prediction   :  THE QUEEN GAZED UPON HER FRIENDS WITHOUT IT INTEREST\n"
     ]
    },
    {
     "metadata": {
      "tags": null
     },
     "name": "stderr",
     "output_type": "stream",
     "text": [
      "Val:   9%|▉         | 2/22 [00:05<00:59,  2.98s/it, dist=19.7578]"
     ]
    },
    {
     "metadata": {
      "tags": null
     },
     "name": "stdout",
     "output_type": "stream",
     "text": [
      "Ground Truth :  HE IS OLD AS WELL AS POOR SHE SAID\n",
      "Prediction   :  HE IS OLD AS WELL AS POOR SHE SAID\n"
     ]
    },
    {
     "metadata": {
      "tags": null
     },
     "name": "stderr",
     "output_type": "stream",
     "text": [
      "Val:  14%|█▎        | 3/22 [00:08<00:55,  2.90s/it, dist=19.6120]"
     ]
    },
    {
     "metadata": {
      "tags": null
     },
     "name": "stdout",
     "output_type": "stream",
     "text": [
      "Ground Truth :  BE THE RESULTS HOWEVER WHAT THEY MIGHT RANDAL COULD SEE BUT ONE PLAIN COURSE BEFORE HIM NOW\n",
      "Prediction   :  THE THE RESULTS HOWEVER WHAT THEY MIGHT RENDLE COULD SEE BUT ONE PLAIN COURSE BEFORE HIM NOW\n"
     ]
    },
    {
     "metadata": {
      "tags": null
     },
     "name": "stderr",
     "output_type": "stream",
     "text": [
      "Val:  18%|█▊        | 4/22 [00:11<00:53,  2.97s/it, dist=19.6348]"
     ]
    },
    {
     "metadata": {
      "tags": null
     },
     "name": "stdout",
     "output_type": "stream",
     "text": [
      "Ground Truth :  THE HIGHEST INSTINCT FOR PURITY PLACES HIM WHO IS AFFECTED WITH IT IN THE MOST EXTRAORDINARY AND DANGEROUS ISOLATION AS A SAINT FOR IT IS JUST HOLINESS THE HIGHEST SPIRITUALIZATION OF THE INSTINCT IN QUESTION\n",
      "Prediction   :  THE HIGHEST INSTINCT FOR PURITY PLACES HIM WHO WAS AFFECTED WITH IT IN THE MOST EXTRAORDINARY AND DAIN TO RESISE ELATION AS A SEEMED FOR IT HIS JUST HOLDING US THE HIGHEST SPIRITUALIZATION OF THE INSTINCTING QUESTION\n"
     ]
    },
    {
     "metadata": {
      "tags": null
     },
     "name": "stderr",
     "output_type": "stream",
     "text": [
      "Val:  23%|██▎       | 5/22 [00:15<00:51,  3.04s/it, dist=19.9406]"
     ]
    },
    {
     "metadata": {
      "tags": null
     },
     "name": "stdout",
     "output_type": "stream",
     "text": [
      "Ground Truth :  I SAW BUT FEW INHABITANTS DURING MY EXCURSION BUT I MET A CROWD ON THE BEACH DRYING SALTING AND LOADING CODFISH THE PRINCIPAL ARTICLE OF EXPORTATION\n",
      "Prediction   :  I SAW THAT FEW IN HABIT IN STURN MY EXCURSION BUT IN MET A CROWD ON THE BEACH DRYING SALTING AND LODING CAUGHT FISH THE PRINCIPAL ARTICLE OF EXPERTATION\n"
     ]
    },
    {
     "metadata": {
      "tags": null
     },
     "name": "stderr",
     "output_type": "stream",
     "text": [
      "Val:  27%|██▋       | 6/22 [00:17<00:48,  3.01s/it, dist=19.0938]"
     ]
    },
    {
     "metadata": {
      "tags": null
     },
     "name": "stdout",
     "output_type": "stream",
     "text": [
      "Ground Truth :  NOT HAVING HEARD FROM CAPTAIN BENNYDECK FOR SOME LITTLE TIME RANDAL THOUGHT IT DESIRABLE IN SYDNEY'S INTERESTS TO MAKE INQUIRIES AT HIS CLUB\n",
      "Prediction   :  NOT HAVING HEARD FROM CAPTAIN BENEATH FOR SOME LITTLE TIME RENDLE THOUGHT IT DESIRABLE IN SIT THESE INTEREST TO MAKE INQUIRIES AT HIS CLUB\n"
     ]
    },
    {
     "metadata": {
      "tags": null
     },
     "name": "stderr",
     "output_type": "stream",
     "text": [
      "Val:  32%|███▏      | 7/22 [00:20<00:44,  2.98s/it, dist=18.9107]"
     ]
    },
    {
     "metadata": {
      "tags": null
     },
     "name": "stdout",
     "output_type": "stream",
     "text": [
      "Ground Truth :  COSETTE ON HER SIDE HAD ALSO UNKNOWN TO HERSELF BECOME ANOTHER BEING POOR LITTLE THING\n",
      "Prediction   :  COSETTE ON HER SIDE HAD ALSO I KNOWN TO HERSELF BECAUME ANOTHER BE IN POOR LITTLE THING\n"
     ]
    },
    {
     "metadata": {
      "tags": null
     },
     "name": "stderr",
     "output_type": "stream",
     "text": [
      "Val:  36%|███▋      | 8/22 [00:23<00:40,  2.88s/it, dist=18.3809]"
     ]
    },
    {
     "metadata": {
      "tags": null
     },
     "name": "stdout",
     "output_type": "stream",
     "text": [
      "Ground Truth :  YOUR CRY AND THE GRIP OF YOUR FINGERS BROUGHT ME BACK BUT I AM GOING FAST\n",
      "Prediction   :  YOU A CRY AND THE GROUP OF YOUR FINGERS BOUGHT BE BACK BUT I AM GOING FAST\n"
     ]
    },
    {
     "metadata": {
      "tags": null
     },
     "name": "stderr",
     "output_type": "stream",
     "text": [
      "Val:  41%|████      | 9/22 [00:26<00:38,  2.96s/it, dist=18.3047]"
     ]
    },
    {
     "metadata": {
      "tags": null
     },
     "name": "stdout",
     "output_type": "stream",
     "text": [
      "Ground Truth :  BLESSED AM I HERE NOW MY GOD AND BLESSED SHALL I BE THERE THEN\n",
      "Prediction   :  BLUST IM I HEAR NOW MY GOD AND BLESS SHELL I BE THERE THEN\n"
     ]
    },
    {
     "metadata": {
      "tags": null
     },
     "name": "stderr",
     "output_type": "stream",
     "text": [
      "Val:  45%|████▌     | 10/22 [00:29<00:35,  2.97s/it, dist=18.1703]"
     ]
    },
    {
     "metadata": {
      "tags": null
     },
     "name": "stdout",
     "output_type": "stream",
     "text": [
      "Ground Truth :  THEN THERE WAS SILENCE THEN A SIGH AND THE SOUND OF LIGHT MOVING FEET ON THE GRAVEL\n",
      "Prediction   :  THEN THERE WAS SILENCE THE NASIDE AND THE SOUND OF LIGHT MOVING FEET ON THE GRATTLE\n"
     ]
    },
    {
     "metadata": {
      "tags": null
     },
     "name": "stderr",
     "output_type": "stream",
     "text": [
      "Val:  50%|█████     | 11/22 [00:32<00:32,  2.99s/it, dist=18.1229]"
     ]
    },
    {
     "metadata": {
      "tags": null
     },
     "name": "stdout",
     "output_type": "stream",
     "text": [
      "Ground Truth :  THROUGHOUT THIS CENTURY THE POWER OF THE CHURCH WAS CONSTANTLY ON THE INCREASE AND IS VISIBLE IN MANY IMPORTANT CHANGES\n",
      "Prediction   :  HE RATHER CENTURY THE POWER OF THE CHURCH WAS CONSTANTLY UNINCREASE AND HIS VISIBLE IN MANY IMPORTANT CHANGES\n"
     ]
    },
    {
     "metadata": {
      "tags": null
     },
     "name": "stderr",
     "output_type": "stream",
     "text": [
      "Val:  55%|█████▍    | 12/22 [00:35<00:30,  3.02s/it, dist=18.1361]"
     ]
    },
    {
     "metadata": {
      "tags": null
     },
     "name": "stdout",
     "output_type": "stream",
     "text": [
      "Ground Truth :  I FELT THAT IN MY FIRST PROFESSION AS I WAS NOT BLESSED WITH THE VOCATION NECESSARY TO IT I SHOULD HAVE SUCCEEDED ONLY BY DINT OF HYPOCRISY AND I SHOULD HAVE BEEN DESPICABLE IN MY OWN ESTIMATION EVEN IF I HAD SEEN THE PURPLE MANTLE ON MY SHOULDERS FOR THE GREATEST DIGNITIES CANNOT SILENCE A MAN'S OWN CONSCIENCE\n",
      "Prediction   :  I FELT THAT IN MY FIRST PROFESSION AS I WAS NOT LAST WITH THE VOCATION NECESSARY TO IT I SHOULD HAVE SUCCEEDED ONLY BY DID TO CAPACY AND I SHOULD HAVE BEEN DISPICABLE IN MY HOLDINESTIMATION EVEN IF I HAD SEE IN THE PURPORANTAL OF MY SHOULDERS FOR THE GREAT ASTIGNITIES CANNOT SILENCE A MAN'S OWN COUNTESS\n"
     ]
    },
    {
     "metadata": {
      "tags": null
     },
     "name": "stderr",
     "output_type": "stream",
     "text": [
      "Val:  59%|█████▉    | 13/22 [00:38<00:27,  3.01s/it, dist=18.1412]"
     ]
    },
    {
     "metadata": {
      "tags": null
     },
     "name": "stdout",
     "output_type": "stream",
     "text": [
      "Ground Truth :  HE HAS THE STRANGEST FITS AT TIMES\n",
      "Prediction   :  HE IS THE STRANGES FIPS AT TIMES\n"
     ]
    },
    {
     "metadata": {
      "tags": null
     },
     "name": "stderr",
     "output_type": "stream",
     "text": [
      "Val:  64%|██████▎   | 14/22 [00:41<00:23,  2.89s/it, dist=17.9202]"
     ]
    },
    {
     "metadata": {
      "tags": null
     },
     "name": "stdout",
     "output_type": "stream",
     "text": [
      "Ground Truth :  I KNOW I AM JUST AWFUL JIM I WAS SO SCARED\n",
      "Prediction   :  I KNOW IMPSED AWFUL GENILE WAS SO SPEARED\n"
     ]
    },
    {
     "metadata": {
      "tags": null
     },
     "name": "stderr",
     "output_type": "stream",
     "text": [
      "Val:  68%|██████▊   | 15/22 [00:44<00:20,  2.94s/it, dist=18.0635]"
     ]
    },
    {
     "metadata": {
      "tags": null
     },
     "name": "stdout",
     "output_type": "stream",
     "text": [
      "Ground Truth :  YOU SHALL HEAR HOW MY DIVORCED DAUGHTER AND MY POOR LITTLE GRANDCHILD WERE TREATED AT SANDYSEAL AFTER YOU LEFT US\n",
      "Prediction   :  YOU SHALL HERE HOW MY DEVORE STARTER AND MY POOR LITTLE GRANDCHILD WERE TREATED AT SANDY SEAL AFTER YOU LEFT US\n"
     ]
    },
    {
     "metadata": {
      "tags": null
     },
     "name": "stderr",
     "output_type": "stream",
     "text": [
      "Val:  73%|███████▎  | 16/22 [00:47<00:17,  2.96s/it, dist=18.1763]"
     ]
    },
    {
     "metadata": {
      "tags": null
     },
     "name": "stdout",
     "output_type": "stream",
     "text": [
      "Ground Truth :  HANSEL THOUGHT THE ROOF TASTED VERY NICE AND SO HE TORE OFF A GREAT PIECE WHILE GRETHEL BROKE A LARGE ROUND PANE OUT OF THE WINDOW AND SAT DOWN QUITE CONTENTEDLY\n",
      "Prediction   :  HANCELL THOUGHT THE RIVE TASTED VERY MICE AND SO HE TOWARD OFF A GREAT PEACE WELL RELLED ROUGH A LARGE ROUND PAIN OUT OF THE WINDOW AND SAT DOWN QUITE CONTENTEDLY\n"
     ]
    },
    {
     "metadata": {
      "tags": null
     },
     "name": "stderr",
     "output_type": "stream",
     "text": [
      "Val:  77%|███████▋  | 17/22 [00:50<00:14,  2.93s/it, dist=18.0506]"
     ]
    },
    {
     "metadata": {
      "tags": null
     },
     "name": "stdout",
     "output_type": "stream",
     "text": [
      "Ground Truth :  THE WHOLE OF EXISTENCE RESEMBLES A LETTER MODIFIED IN THE POSTSCRIPT\n",
      "Prediction   :  THE WHOLE OF EXISTENCE RESEMBLES A LETTER MURDERFIED IN THE POST CRIPT\n"
     ]
    },
    {
     "metadata": {
      "tags": null
     },
     "name": "stderr",
     "output_type": "stream",
     "text": [
      "Val:  82%|████████▏ | 18/22 [00:53<00:11,  2.85s/it, dist=18.0139]"
     ]
    },
    {
     "metadata": {
      "tags": null
     },
     "name": "stdout",
     "output_type": "stream",
     "text": [
      "Ground Truth :  PETER TOLD HIS TROUBLES TO MISTER SHIMERDA HE WAS UNABLE TO MEET A NOTE WHICH FELL DUE ON THE FIRST OF NOVEMBER HAD TO PAY AN EXORBITANT BONUS ON RENEWING IT AND TO GIVE A MORTGAGE ON HIS PIGS AND HORSES AND EVEN HIS MILK COW\n",
      "Prediction   :  PETER TOLD HIS TROUBLES TO MISTER SHIMARITO HE WAS UNABLE TO MEET A NOTE WHICH FELL DO ON THE FIRST OF GOVERNMER HAD DEPAINING HIS ORIGIN BONES ON REKEWING IT AND TO GIVE A MORE TO JUNNE'S PAGE AND HORSES AND EVEN HIS NO COW\n"
     ]
    },
    {
     "metadata": {
      "tags": null
     },
     "name": "stderr",
     "output_type": "stream",
     "text": [
      "Val:  86%|████████▋ | 19/22 [00:55<00:08,  2.78s/it, dist=17.9030]"
     ]
    },
    {
     "metadata": {
      "tags": null
     },
     "name": "stdout",
     "output_type": "stream",
     "text": [
      "Ground Truth :  THEN ALICE BROKE THE SILENCE BY SAYING\n",
      "Prediction   :  THEN ALL IS BROKE THE SILENCE BY SEEING\n"
     ]
    },
    {
     "metadata": {
      "tags": null
     },
     "name": "stderr",
     "output_type": "stream",
     "text": [
      "Val:  91%|█████████ | 20/22 [00:58<00:05,  2.85s/it, dist=17.8445]"
     ]
    },
    {
     "metadata": {
      "tags": null
     },
     "name": "stdout",
     "output_type": "stream",
     "text": [
      "Ground Truth :  A YANKEE ALWAYS SAYS NAGER\n",
      "Prediction   :  I AND HE ALWAYS AS NIGHTER\n"
     ]
    },
    {
     "metadata": {
      "tags": null
     },
     "name": "stderr",
     "output_type": "stream",
     "text": [
      "Val:  95%|█████████▌| 21/22 [01:01<00:02,  2.83s/it, dist=17.9788]"
     ]
    },
    {
     "metadata": {
      "tags": null
     },
     "name": "stdout",
     "output_type": "stream",
     "text": [
      "Ground Truth :  BUT PUT IT ON THE TABLE IN THE CORNER OF THE PASSAGE\n",
      "Prediction   :  BUT PUT IT ON THE TABLE IN THE CORNER OF THE PASSAGE\n"
     ]
    },
    {
     "metadata": {
      "tags": null
     },
     "name": "stderr",
     "output_type": "stream",
     "text": [
      "                                                                  "
     ]
    },
    {
     "metadata": {
      "tags": null
     },
     "name": "stdout",
     "output_type": "stream",
     "text": [
      "Ground Truth :  LIGE QUICKLY MADE FAST THE LINE TO A TREE\n",
      "Prediction   :  LIES QUICKLY MAKE FAST THE LINE DOING TO TREE\n",
      "Train loss: 0.957146293913837 Train Perplexity: 2.624691400827314 lr:  0.0001\n",
      "Validation dist:  18.255516098484847\n"
     ]
    },
    {
     "metadata": {
      "tags": null
     },
     "name": "stderr",
     "output_type": "stream",
     "text": [
      "\r"
     ]
    },
    {
     "data": {
      "image/png": "[encoded data removed]",
      "text/plain": [
       "<Figure size 640x480 with 2 Axes>"
      ]
     },
     "metadata": {},
     "output_type": "display_data"
    },
    {
     "metadata": {
      "tags": null
     },
     "name": "stdout",
     "output_type": "stream",
     "text": [
      "Saved epoch model\n",
      "Saved best model\n",
      "\n",
      "Epoch: 24/98\n"
     ]
    },
    {
     "metadata": {
      "tags": null
     },
     "name": "stderr",
     "output_type": "stream",
     "text": [
      "Val:   5%|▍         | 1/22 [00:02<00:54,  2.58s/it, dist=15.4688]"
     ]
    },
    {
     "metadata": {
      "tags": null
     },
     "name": "stdout",
     "output_type": "stream",
     "text": [
      "Ground Truth :  THE OLD WOMAN BEHAVED VERY KINDLY TO THEM BUT IN REALITY SHE WAS A WICKED OLD WITCH WHO WAY LAID CHILDREN AND BUILT THE BREADHOUSE IN ORDER TO ENTICE THEM IN BUT AS SOON AS THEY WERE IN HER POWER SHE KILLED THEM COOKED AND ATE THEM AND MADE A GREAT FESTIVAL OF THE DAY\n",
      "Prediction   :  THE OLD WOMAN BEHAVE YEARY KINDLY TO THEM BUT IN REALITY SHE WAS OPEN IT OLD WHICH WHO WEALLY CHILDREN AND BUILT THE BREAD HOUSE IN ORDER TO INTRACE THE MEN BUT IS SOON AS THEY WERE IN HER POWER SHE KILLED THEM COULD THEM AN AITH THEM AND MADE A GREAT FEST OF ALL THE DAY\n"
     ]
    },
    {
     "metadata": {
      "tags": null
     },
     "name": "stderr",
     "output_type": "stream",
     "text": [
      "Val:   9%|▉         | 2/22 [00:05<00:55,  2.80s/it, dist=15.0039]"
     ]
    },
    {
     "metadata": {
      "tags": null
     },
     "name": "stdout",
     "output_type": "stream",
     "text": [
      "Ground Truth :  I INQUIRED OF GEORGE WITH MY EYES STILL ON THIS FURTIVE WATCHER\n",
      "Prediction   :  I INQUIRED OF GEORGE WITH MY EYES STILL ON THIS THROAT OF WATCHER\n"
     ]
    },
    {
     "metadata": {
      "tags": null
     },
     "name": "stderr",
     "output_type": "stream",
     "text": [
      "Val:  14%|█▎        | 3/22 [00:08<00:55,  2.90s/it, dist=16.4896]"
     ]
    },
    {
     "metadata": {
      "tags": null
     },
     "name": "stdout",
     "output_type": "stream",
     "text": [
      "Ground Truth :  THERE WAS AN EXTRAORDINARY FORCE OF SUGGESTION IN THIS POSTURING\n",
      "Prediction   :  THERE WAS NOT STORE NORTH FORCE OF SUGGESTION THIS POSTERING\n"
     ]
    },
    {
     "metadata": {
      "tags": null
     },
     "name": "stderr",
     "output_type": "stream",
     "text": [
      "Val:  18%|█▊        | 4/22 [00:11<00:50,  2.81s/it, dist=16.2266]"
     ]
    },
    {
     "metadata": {
      "tags": null
     },
     "name": "stdout",
     "output_type": "stream",
     "text": [
      "Ground Truth :  BUT THEY'LL PUT A MAN ON FOR YOU\n",
      "Prediction   :  BUT THE LITTLE MAN ONS WHO ARE YOU\n"
     ]
    },
    {
     "metadata": {
      "tags": null
     },
     "name": "stderr",
     "output_type": "stream",
     "text": [
      "Val:  23%|██▎       | 5/22 [00:14<00:48,  2.84s/it, dist=16.7203]"
     ]
    },
    {
     "metadata": {
      "tags": null
     },
     "name": "stdout",
     "output_type": "stream",
     "text": [
      "Ground Truth :  IN ARISTOCRACIES EVERY MAN HAS ONE SOLE OBJECT WHICH HE UNCEASINGLY PURSUES BUT AMONGST DEMOCRATIC NATIONS THE EXISTENCE OF MAN IS MORE COMPLEX THE SAME MIND WILL ALMOST ALWAYS EMBRACE SEVERAL OBJECTS AT THE SAME TIME AND THESE OBJECTS ARE FREQUENTLY WHOLLY FOREIGN TO EACH OTHER AS IT CANNOT KNOW THEM ALL WELL THE MIND IS READILY SATISFIED WITH IMPERFECT NOTIONS OF EACH\n",
      "Prediction   :  IN ARSTOCRACIES EVERY MAN AS ONE SO LOOKED WHICH HE UNSEASING ME PERSUISE BUT AMONGST THEM ACREDITINATIONS THE EXISTENCE OF MANAS MORE COMPLEX THE SAME MIND WHO ALMOST OLD LAYS EMBRACE SEVERAL OFTECS AT THE SAME MIND WHO ALMOST OLD AS EMBRACE SEVERAL OFTECS AT THE SAME TIME AND THESE OBTICS ARE FREQUENTLY HOW ME FOR UNTO A CHILDREN HAS IT CANNOT KNOW THEM ALL WELL THE MIND IS READILY SATISFIED WITH IMPERFECT NOTIONS OF EACH\n"
     ]
    },
    {
     "metadata": {
      "tags": null
     },
     "name": "stderr",
     "output_type": "stream",
     "text": [
      "Val:  27%|██▋       | 6/22 [00:17<00:47,  2.96s/it, dist=17.5729]"
     ]
    },
    {
     "metadata": {
      "tags": null
     },
     "name": "stdout",
     "output_type": "stream",
     "text": [
      "Ground Truth :  WHEN THEY ARE QUITE HOT DIVIDE THEM LENGTHWISE INTO THREE PUT SOME THIN FLAKES OF GOOD BUTTER BETWEEN THE SLICES PRESS THE ROLLS TOGETHER AND PUT THEM IN THE OVEN FOR A MINUTE OR TWO BUT NOT LONGER OR THE BUTTER WOULD OIL TAKE THEM OUT OF THE OVEN SPREAD THE BUTTER EQUALLY OVER DIVIDE THE ROLLS IN HALF AND PUT THEM ON TO A VERY HOT CLEAN DISH AND SEND THEM INSTANTLY TO TABLE\n",
      "Prediction   :  WHEN THEY ARE QUITE HIGH DIVIDED THEM LENGTH WISE INTO THREE PUT SOME THEN FLAKS OF GOOD BUTTER BETWEEN THE SLIZES PRESSED THE ROSE TOGETHER AND PUT THEM IN THE OVER THE BUTTER WOULD ALLOW TAKE THE MAN OF THE EVEN SPREAD THE BUTTER EQUALLY OVER DIVE THE ROLS AND HALF AND PUT THEM ALL TO A VERY HOT CLAIM DASH AND SEND THEM INSTANTLY TO TABLE\n"
     ]
    },
    {
     "metadata": {
      "tags": null
     },
     "name": "stderr",
     "output_type": "stream",
     "text": [
      "Val:  32%|███▏      | 7/22 [00:20<00:44,  2.95s/it, dist=17.3862]"
     ]
    },
    {
     "metadata": {
      "tags": null
     },
     "name": "stdout",
     "output_type": "stream",
     "text": [
      "Ground Truth :  I KNOW I AM JUST AWFUL JIM I WAS SO SCARED\n",
      "Prediction   :  I KNOW IMPSON AWFUL GENERAL SO SCARED\n"
     ]
    },
    {
     "metadata": {
      "tags": null
     },
     "name": "stderr",
     "output_type": "stream",
     "text": [
      "Val:  36%|███▋      | 8/22 [00:23<00:41,  2.94s/it, dist=17.6631]"
     ]
    },
    {
     "metadata": {
      "tags": null
     },
     "name": "stdout",
     "output_type": "stream",
     "text": [
      "Ground Truth :  WHERE IS MY BROTHER NOW\n",
      "Prediction   :  WHERE IS NOT BREAD HER NOW\n"
     ]
    },
    {
     "metadata": {
      "tags": null
     },
     "name": "stderr",
     "output_type": "stream",
     "text": [
      "Val:  41%|████      | 9/22 [00:25<00:37,  2.85s/it, dist=18.2092]"
     ]
    },
    {
     "metadata": {
      "tags": null
     },
     "name": "stdout",
     "output_type": "stream",
     "text": [
      "Ground Truth :  IT WAS A COMFORT TO HER WHEN SCOLDED BY MISS SIMMONDS TO THINK OF THE DAY WHEN SHE WOULD DRIVE UP TO THE DOOR IN HER OWN CARRIAGE TO ORDER HER GOWNS FROM THE HASTY TEMPERED YET KIND DRESSMAKER\n",
      "Prediction   :  IT WAS A COMFORT TO HER WHEN SCOLDED BY MISSUMENTS TO THINK OF THE DAY AND SHE WERE DRIVE UP TO THE DOOR IN HER OWN CARRIAGE TO ORDER HER DOWNS FROM THE HEASTY TEMPER YET KIND DRESS MAKER\n"
     ]
    },
    {
     "metadata": {
      "tags": null
     },
     "name": "stderr",
     "output_type": "stream",
     "text": [
      "Val:  45%|████▌     | 10/22 [00:28<00:34,  2.89s/it, dist=18.6422]"
     ]
    },
    {
     "metadata": {
      "tags": null
     },
     "name": "stdout",
     "output_type": "stream",
     "text": [
      "Ground Truth :  THE SHRIEKS THAT FOLLOWED MADE EVERYBODY SOBER\n",
      "Prediction   :  THE SHREEKS THAT FOLLOWED ME EVERYBODY SILBER\n"
     ]
    },
    {
     "metadata": {
      "tags": null
     },
     "name": "stderr",
     "output_type": "stream",
     "text": [
      "Val:  50%|█████     | 11/22 [00:31<00:31,  2.88s/it, dist=18.6562]"
     ]
    },
    {
     "metadata": {
      "tags": null
     },
     "name": "stdout",
     "output_type": "stream",
     "text": [
      "Ground Truth :  OTTO WINKED AT ME\n",
      "Prediction   :  I DON'T WINK TO ME\n"
     ]
    },
    {
     "metadata": {
      "tags": null
     },
     "name": "stderr",
     "output_type": "stream",
     "text": [
      "Val:  55%|█████▍    | 12/22 [00:34<00:29,  2.91s/it, dist=18.4089]"
     ]
    },
    {
     "metadata": {
      "tags": null
     },
     "name": "stdout",
     "output_type": "stream",
     "text": [
      "Ground Truth :  I WILL TROUBLE YOU NO FURTHER\n",
      "Prediction   :  I WILL TROUBLE YOU NO SHORTER\n"
     ]
    },
    {
     "metadata": {
      "tags": null
     },
     "name": "stderr",
     "output_type": "stream",
     "text": [
      "Val:  59%|█████▉    | 13/22 [00:37<00:26,  2.98s/it, dist=18.2085]"
     ]
    },
    {
     "metadata": {
      "tags": null
     },
     "name": "stdout",
     "output_type": "stream",
     "text": [
      "Ground Truth :  VERY GOOD YOUR HONOUR SAYS TROKE\n",
      "Prediction   :  VERY GOOD YOUR HONOR SAYS TROKE\n"
     ]
    },
    {
     "metadata": {
      "tags": null
     },
     "name": "stderr",
     "output_type": "stream",
     "text": [
      "Val:  64%|██████▎   | 14/22 [00:40<00:24,  3.04s/it, dist=18.3677]"
     ]
    },
    {
     "metadata": {
      "tags": null
     },
     "name": "stdout",
     "output_type": "stream",
     "text": [
      "Ground Truth :  IT CONSISTS SIMPLY OF A FEW HOUSES NOT WHAT IN ENGLAND OR GERMANY WE SHOULD CALL A HAMLET\n",
      "Prediction   :  A CONSIST SIMPLY OF A FEW HOUSES NOT WITHIN AN WHEN OR GERALLY WE SHOULD CALL A HAME IT\n"
     ]
    },
    {
     "metadata": {
      "tags": null
     },
     "name": "stderr",
     "output_type": "stream",
     "text": [
      "Val:  68%|██████▊   | 15/22 [00:43<00:21,  3.04s/it, dist=18.2979]"
     ]
    },
    {
     "metadata": {
      "tags": null
     },
     "name": "stdout",
     "output_type": "stream",
     "text": [
      "Ground Truth :  YOU SHALL HEAR HOW MY DIVORCED DAUGHTER AND MY POOR LITTLE GRANDCHILD WERE TREATED AT SANDYSEAL AFTER YOU LEFT US\n",
      "Prediction   :  HE SHALL HERE HOW MY DEVORE STAUDER AND MY POOR LITTLE GRANDSHOW WERE TREATED AT SANDY SEAL AFTER YOU LEFT US\n"
     ]
    },
    {
     "metadata": {
      "tags": null
     },
     "name": "stderr",
     "output_type": "stream",
     "text": [
      "Val:  73%|███████▎  | 16/22 [00:46<00:18,  3.02s/it, dist=18.1929]"
     ]
    },
    {
     "metadata": {
      "tags": null
     },
     "name": "stdout",
     "output_type": "stream",
     "text": [
      "Ground Truth :  MOUNT BREMER IS THE MOST NOTED STRONGHOLD OF THE SHEEP IN THE WHOLE SHASTA REGION\n",
      "Prediction   :  NOT BRUMBER IS THE MOST NOTEST DRAWN OLD OF THE SHEEP IN THE WHOLE SHESTER REGION\n"
     ]
    },
    {
     "metadata": {
      "tags": null
     },
     "name": "stderr",
     "output_type": "stream",
     "text": [
      "Val:  77%|███████▋  | 17/22 [00:49<00:14,  3.00s/it, dist=18.2574]"
     ]
    },
    {
     "metadata": {
      "tags": null
     },
     "name": "stdout",
     "output_type": "stream",
     "text": [
      "Ground Truth :  WHAT HAPPIER FUTURE COULD AWAIT HER ESPECIALLY IF SHE JUSTIFIED RANDAL'S PAST EXPERIENCE OF ALL THAT WAS CANDID AND TRUTHFUL IN HER CHARACTER THAN TO BECOME HIS FRIEND'S WIFE\n",
      "Prediction   :  WHAT HAPPY OR FUTURE COULD AWAIT HER ESPECIALLY SHE JUST OF HOT RANDLES PASSED EXPERIENCE OF ALL THAT WAS CANDED AND TRUTHFUL IN HER CHARACTER THEN TO BECOME HIS FRIENDS WIFE\n"
     ]
    },
    {
     "metadata": {
      "tags": null
     },
     "name": "stderr",
     "output_type": "stream",
     "text": [
      "Val:  82%|████████▏ | 18/22 [00:52<00:11,  2.91s/it, dist=18.0964]"
     ]
    },
    {
     "metadata": {
      "tags": null
     },
     "name": "stdout",
     "output_type": "stream",
     "text": [
      "Ground Truth :  HE STAYED AT HIS DESK LONG AFTER ALL OTHERS HAD GONE AND ONLY QUITTED IT WHEN THE NIGHT WATCHMAN ON HIS ROUND PULLED AT THE FRONT DOOR TO SEE IF IT WAS SAFELY LOCKED\n",
      "Prediction   :  HE SEED OF HIS DASK LONG AFTER ALL OTHERS HAD GONE AND ONLY QUITTED IT WHEN THE NIGHT TO MUCHMENT ON HIS RAN FULL THAT THE FRIENDORE TO SEE FITTER WAS SAIEFLY LOCKED\n"
     ]
    },
    {
     "metadata": {
      "tags": null
     },
     "name": "stderr",
     "output_type": "stream",
     "text": [
      "Val:  86%|████████▋ | 19/22 [00:55<00:08,  2.88s/it, dist=17.9153]"
     ]
    },
    {
     "metadata": {
      "tags": null
     },
     "name": "stdout",
     "output_type": "stream",
     "text": [
      "Ground Truth :  I OBEYED IMPLICITLY AND MET YOUR EXCELLENCY\n",
      "Prediction   :  I OBEYED IMPLICITLY AND MET YOUR EXCELLENCY\n"
     ]
    },
    {
     "metadata": {
      "tags": null
     },
     "name": "stderr",
     "output_type": "stream",
     "text": [
      "Val:  91%|█████████ | 20/22 [00:58<00:05,  2.93s/it, dist=17.9117]"
     ]
    },
    {
     "metadata": {
      "tags": null
     },
     "name": "stdout",
     "output_type": "stream",
     "text": [
      "Ground Truth :  THE COURT WAS SPACIOUS WELL PAVED AND PERFECTLY CLEAN THERE BEING PROBABLY ANOTHER ENTRANCE BEHIND THE STABLES FOR REMOVING THE LITTER\n",
      "Prediction   :  THE QUARTERS THAT SHE SWELL PAVED AND PERFECTLY CLEAN THERE BEING PROBLY ANOTHER ENTERNS BEHIND THE STABLES FOR A LOVING A LETTER\n"
     ]
    },
    {
     "metadata": {
      "tags": null
     },
     "name": "stderr",
     "output_type": "stream",
     "text": [
      "Val:  95%|█████████▌| 21/22 [01:01<00:02,  2.97s/it, dist=17.9174]"
     ]
    },
    {
     "metadata": {
      "tags": null
     },
     "name": "stdout",
     "output_type": "stream",
     "text": [
      "Ground Truth :  OH BARTLEY WHAT AM I TO DO\n",
      "Prediction   :  OH BARLY WHAT A LIGHT TO TWO\n"
     ]
    },
    {
     "metadata": {
      "tags": null
     },
     "name": "stderr",
     "output_type": "stream",
     "text": [
      "                                                                  "
     ]
    },
    {
     "metadata": {
      "tags": null
     },
     "name": "stdout",
     "output_type": "stream",
     "text": [
      "Ground Truth :  GRASPING THE POMMEL WITH THE LEFT HAND HE APPEARED TO DIVE HEAD FIRST TOWARD THE GROUND\n",
      "Prediction   :  REST BE THE PUMBLED WITH THE LET HEAD A HEAPER DED DINED HEAD FIRST TOWARD THE GROUND\n",
      "Train loss: 0.928377377345423 Train Perplexity: 2.5433253461469985 lr:  0.0001\n",
      "Validation dist:  17.60904356060606\n"
     ]
    },
    {
     "metadata": {
      "tags": null
     },
     "name": "stderr",
     "output_type": "stream",
     "text": [
      "\r"
     ]
    },
    {
     "data": {
      "image/png": "[encoded data removed]",
      "text/plain": [
       "<Figure size 640x480 with 2 Axes>"
      ]
     },
     "metadata": {},
     "output_type": "display_data"
    },
    {
     "metadata": {
      "tags": null
     },
     "name": "stdout",
     "output_type": "stream",
     "text": [
      "Saved epoch model\n",
      "Saved best model\n",
      "\n",
      "Epoch: 25/98\n"
     ]
    },
    {
     "metadata": {
      "tags": null
     },
     "name": "stderr",
     "output_type": "stream",
     "text": [
      "Val:   5%|▍         | 1/22 [00:02<00:53,  2.56s/it, dist=28.7891]"
     ]
    },
    {
     "metadata": {
      "tags": null
     },
     "name": "stdout",
     "output_type": "stream",
     "text": [
      "Ground Truth :  LECTURES\n",
      "Prediction   :  LIKE YEARS\n"
     ]
    },
    {
     "metadata": {
      "tags": null
     },
     "name": "stderr",
     "output_type": "stream",
     "text": [
      "Val:   9%|▉         | 2/22 [00:05<00:58,  2.91s/it, dist=29.2969]"
     ]
    },
    {
     "metadata": {
      "tags": null
     },
     "name": "stdout",
     "output_type": "stream",
     "text": [
      "Ground Truth :  HE FANCIED AS HE SAT AT HIS DESK THAT NOTHING WOULD BE DONE FOR A WEEK OR TWO MEANWHILE HE WOULD HAVE TIME TO THINK\n",
      "Prediction   :  HE BEAUTIES HE SAT IT IS DESK THEY NOTHING WOULD BE DONE FOR OUR EACH OR TO ME MILE HE WOULD HAVE TIME TO THINK\n"
     ]
    },
    {
     "metadata": {
      "tags": null
     },
     "name": "stderr",
     "output_type": "stream",
     "text": [
      "Val:  14%|█▎        | 3/22 [00:08<00:53,  2.82s/it, dist=26.7812]"
     ]
    },
    {
     "metadata": {
      "tags": null
     },
     "name": "stdout",
     "output_type": "stream",
     "text": [
      "Ground Truth :  REINCARNATION AND THE CONVERSE OF SPIRITS\n",
      "Prediction   :  REAL CARNATION IN THE CONGRESS HE SPIRITS\n"
     ]
    },
    {
     "metadata": {
      "tags": null
     },
     "name": "stderr",
     "output_type": "stream",
     "text": [
      "Val:  18%|█▊        | 4/22 [00:11<00:51,  2.84s/it, dist=25.8281]"
     ]
    },
    {
     "metadata": {
      "tags": null
     },
     "name": "stdout",
     "output_type": "stream",
     "text": [
      "Ground Truth :  I HOPE YOU'LL LIKE HIM BETTER THAN THE FROST BITTEN OLD DAVID YOU FIRST KNEW AND WERE KIND ENOUGH TO LOVE\n",
      "Prediction   :  I HOPE YOU LIKE AND BETTER THROUGH THE FROST BIT YOU OLD DAY FOR DO FIRST NEW IN OR KIND ENOUGH TO LOVE\n"
     ]
    },
    {
     "metadata": {
      "tags": null
     },
     "name": "stderr",
     "output_type": "stream",
     "text": [
      "Val:  23%|██▎       | 5/22 [00:14<00:47,  2.81s/it, dist=24.6234]"
     ]
    },
    {
     "metadata": {
      "tags": null
     },
     "name": "stdout",
     "output_type": "stream",
     "text": [
      "Ground Truth :  THESE WILDERING PHANTASIES THEN CARRIED ME TO SEE MY LADY DEAD\n",
      "Prediction   :  THESE WILDERING FAMICIES THAN CARRIED ME TO SEE MY LEADY DEAD\n"
     ]
    },
    {
     "metadata": {
      "tags": null
     },
     "name": "stderr",
     "output_type": "stream",
     "text": [
      "Val:  27%|██▋       | 6/22 [00:16<00:45,  2.84s/it, dist=24.0859]"
     ]
    },
    {
     "metadata": {
      "tags": null
     },
     "name": "stdout",
     "output_type": "stream",
     "text": [
      "Ground Truth :  HAVE YOU MANY VISITORS CAPTAIN BURGESS VERY FEW\n",
      "Prediction   :  HAVE YOU MANY VISITOR SCAPTAIN BURGESS VERY FEW\n"
     ]
    },
    {
     "metadata": {
      "tags": null
     },
     "name": "stderr",
     "output_type": "stream",
     "text": [
      "Val:  32%|███▏      | 7/22 [00:19<00:41,  2.77s/it, dist=25.0357]"
     ]
    },
    {
     "metadata": {
      "tags": null
     },
     "name": "stdout",
     "output_type": "stream",
     "text": [
      "Ground Truth :  MARGARET MET JEM WILSON SEVERAL DAYS AFTER HIS BROTHERS WERE SERIOUSLY ILL AND HEARD FROM HIM THE STATE OF THINGS AT HIS HOME\n",
      "Prediction   :  MARGUERED MATE GENERAL SINCE OF WILDAYS AFTER HIS BROTHERS RESERIES REAL AND HEARD FROM HIM THE STATE OF THEEMS AT HIS HOME\n"
     ]
    },
    {
     "metadata": {
      "tags": null
     },
     "name": "stderr",
     "output_type": "stream",
     "text": [
      "Val:  36%|███▋      | 8/22 [00:22<00:37,  2.70s/it, dist=24.7246]"
     ]
    },
    {
     "metadata": {
      "tags": null
     },
     "name": "stdout",
     "output_type": "stream",
     "text": [
      "Ground Truth :  LOOK A LITTLE CLOSER WHILE OUR GUIDE LETS THE LIGHT OF HIS LAMP FALL UPON THE BLACK WALL AT YOUR SIDE\n",
      "Prediction   :  YOU LITTLE CLOSER WHILE ARE GIED LEFT THE LIGHT OF HIS LARP FALL UPON THE BLACK WALL EIGHT YOUR SIDE\n"
     ]
    },
    {
     "metadata": {
      "tags": null
     },
     "name": "stderr",
     "output_type": "stream",
     "text": [
      "Val:  41%|████      | 9/22 [00:25<00:36,  2.84s/it, dist=24.9436]"
     ]
    },
    {
     "metadata": {
      "tags": null
     },
     "name": "stdout",
     "output_type": "stream",
     "text": [
      "Ground Truth :  HE STAYED AT HIS DESK LONG AFTER ALL OTHERS HAD GONE AND ONLY QUITTED IT WHEN THE NIGHT WATCHMAN ON HIS ROUND PULLED AT THE FRONT DOOR TO SEE IF IT WAS SAFELY LOCKED\n",
      "Prediction   :  HE SEED AT HIS DASK LONG AFTER ALL OTHERS HAD GONE AND ONLY QUITTED IT WHEN THE NIGHT TO MATCHMEN ON HIS RAN FULL THAT THE FRIENDORE TO SEE FIT WAS SEEKLY LOCKED\n"
     ]
    },
    {
     "metadata": {
      "tags": null
     },
     "name": "stderr",
     "output_type": "stream",
     "text": [
      "Val:  45%|████▌     | 10/22 [00:28<00:34,  2.89s/it, dist=25.0648]"
     ]
    },
    {
     "metadata": {
      "tags": null
     },
     "name": "stdout",
     "output_type": "stream",
     "text": [
      "Ground Truth :  THE SKY WAS VISIBLE THROUGH SEVERAL GAPING HOLES IN THE ROOF WHICH WAS SAGGING DANGEROUSLY ON ITS SUPPORTING TRUSSES\n",
      "Prediction   :  THE SKY WAS VISIBLE THROUGH SEVERAL GAPING HALLS IN THE ROOF WHICH WAS SAGGING DANGEROUSLY ON ITS SUPPORTING TRESSES\n"
     ]
    },
    {
     "metadata": {
      "tags": null
     },
     "name": "stderr",
     "output_type": "stream",
     "text": [
      "Val:  50%|█████     | 11/22 [00:31<00:32,  2.99s/it, dist=25.3054]"
     ]
    },
    {
     "metadata": {
      "tags": null
     },
     "name": "stdout",
     "output_type": "stream",
     "text": [
      "Ground Truth :  JULIAN'S LAST ATTEMPT TO RESTORE PAGANISM BY IMPERIAL INFLUENCE HAD ONLY PROVED THAT THE OLD FAITH HAD LOST ALL HOLD UPON THE HEARTS OF THE MASSES AT HIS DEATH THE GREAT TIDE WAVE OF NEW OPINION ROLLED ON UNCHECKED AND THE RULERS OF EARTH WERE FAIN TO SWIM WITH THE STREAM TO ACCEPT IN WORDS AT LEAST THE CHURCH'S LAWS AS THEIRS TO ACKNOWLEDGE A KING OF KINGS TO WHOM EVEN THEY OWED HOMAGE AND OBEDIENCE AND TO CALL THEIR OWN SLAVES THEIR POORER BRETHREN AND OFTEN TOO THEIR SPIRITUAL SUPERIORS\n",
      "Prediction   :  JULIAN'S LAST ATTEMPT TO RESTORE PAGANES AND BY IMPERIAL INFLUENCE HAD ONLY PRUDE THAT THE OLD FAVE HAD LAUGHED ALL HOLD UPON THE HEARTS OF THE MASSES HAD HIS DEATH THE GRADES TIED WAY OF NEW OF A CHEEREAL OF THE RULERS OF EARTH WERE FAINED TO EXAPPED AND WORD AT LEAST THEIR POOR OR BREADER AND OFTEN TO THEIR POOR BREATHEREN AND OFTEN TO THEIR POOR BREATHEREN AND OFTEN TO THEIR POOR BREATHEREN AND OFTEN TO THEIR POOR BREATHEREN AND OFTEN TO THEIR POOR BREATHEREN AND OFTEN TO THEIR POOR BREATHEREN AND OFTEN TO THEIR POOR BREATHEREN AND OFTEN TO\n"
     ]
    },
    {
     "metadata": {
      "tags": null
     },
     "name": "stderr",
     "output_type": "stream",
     "text": [
      "Val:  55%|█████▍    | 12/22 [00:34<00:30,  3.03s/it, dist=25.1380]"
     ]
    },
    {
     "metadata": {
      "tags": null
     },
     "name": "stdout",
     "output_type": "stream",
     "text": [
      "Ground Truth :  MINNIE'S FLAT AS THE ONE FLOOR RESIDENT APARTMENTS WERE THEN BEING CALLED WAS IN A PART OF WEST VAN BUREN STREET INHABITED BY FAMILIES OF LABOURERS AND CLERKS MEN WHO HAD COME AND WERE STILL COMING WITH THE RUSH OF POPULATION POURING IN AT THE RATE OF FIFTY THOUSAND A YEAR\n",
      "Prediction   :  MANY SLAT AS THE WONDFUL ARES OF AT APARTMENTS WERE THEN BEING CALLED WAS IN A PART A WEST MAN BEAR AND STREET IN HAPPITED BY FAMILIES OF LABORERS AND CLERKS MAN HE WOULD COME IN WERE STILL COMING WITH THE RUSSIA POCULATION PORING IN THAT THE READ OF FIFTY THOUSAND THE EAR\n"
     ]
    },
    {
     "metadata": {
      "tags": null
     },
     "name": "stderr",
     "output_type": "stream",
     "text": [
      "Val:  59%|█████▉    | 13/22 [00:37<00:26,  2.91s/it, dist=24.7752]"
     ]
    },
    {
     "metadata": {
      "tags": null
     },
     "name": "stdout",
     "output_type": "stream",
     "text": [
      "Ground Truth :  WHAT DOES HE WANT\n",
      "Prediction   :  HAD DISED HE WALKED\n"
     ]
    },
    {
     "metadata": {
      "tags": null
     },
     "name": "stderr",
     "output_type": "stream",
     "text": [
      "Val:  64%|██████▎   | 14/22 [00:39<00:22,  2.81s/it, dist=24.9079]"
     ]
    },
    {
     "metadata": {
      "tags": null
     },
     "name": "stdout",
     "output_type": "stream",
     "text": [
      "Ground Truth :  ADD THE WINE AND IF NECESSARY A SEASONING OF CAYENNE WHEN IT WILL BE READY TO SERVE\n",
      "Prediction   :  AND THE WINE AND IF NECESSARY HAS SEASING OF CRIAN WHEN IT WILL BE REANY TO SERVE\n"
     ]
    },
    {
     "metadata": {
      "tags": null
     },
     "name": "stderr",
     "output_type": "stream",
     "text": [
      "Val:  68%|██████▊   | 15/22 [00:42<00:20,  2.90s/it, dist=24.9417]"
     ]
    },
    {
     "metadata": {
      "tags": null
     },
     "name": "stdout",
     "output_type": "stream",
     "text": [
      "Ground Truth :  IT WAS THE FIRST TIME MISSUS SHIMERDA HAD BEEN TO OUR HOUSE AND SHE RAN ABOUT EXAMINING OUR CARPETS AND CURTAINS AND FURNITURE ALL THE WHILE COMMENTING UPON THEM TO HER DAUGHTER IN AN ENVIOUS COMPLAINING TONE\n",
      "Prediction   :  IT WAS THE FIRST TIME MISSUS SHUMERED A HAD BEEN TO OUR HOUSE AND SHE RAN ABOUT EXAMINING OUR CARPETS IN CURTAINS IN FURNITURE ALL THE WHILE COMMENTING UPON THEM TO HER DAUGHTER IN AN INVIEST COMPLAINING TONE\n"
     ]
    },
    {
     "metadata": {
      "tags": null
     },
     "name": "stderr",
     "output_type": "stream",
     "text": [
      "Val:  73%|███████▎  | 16/22 [00:45<00:17,  2.93s/it, dist=25.1587]"
     ]
    },
    {
     "metadata": {
      "tags": null
     },
     "name": "stdout",
     "output_type": "stream",
     "text": [
      "Ground Truth :  THE PEOPLE MUST WAIT OUTSIDE FOR THERE IS NO ROOM FOR THEM IN THE PALACE\n",
      "Prediction   :  THE PEOPLE AS WE OUTSIDE FOR THERE IS NO ROOM FOR THEM IN THE PALACE\n"
     ]
    },
    {
     "metadata": {
      "tags": null
     },
     "name": "stderr",
     "output_type": "stream",
     "text": [
      "Val:  77%|███████▋  | 17/22 [00:48<00:14,  2.96s/it, dist=25.3396]"
     ]
    },
    {
     "metadata": {
      "tags": null
     },
     "name": "stdout",
     "output_type": "stream",
     "text": [
      "Ground Truth :  THE FACT WAS KEPT FROM THE TROOPS\n",
      "Prediction   :  THE FIGHT WAS GET FROM THE TRUNTS\n"
     ]
    },
    {
     "metadata": {
      "tags": null
     },
     "name": "stderr",
     "output_type": "stream",
     "text": [
      "Val:  82%|████████▏ | 18/22 [00:51<00:11,  2.89s/it, dist=25.4062]"
     ]
    },
    {
     "metadata": {
      "tags": null
     },
     "name": "stdout",
     "output_type": "stream",
     "text": [
      "Ground Truth :  ARE YOU REALLY GOING TO THROW ME OVER FOR A THING LIKE THIS\n",
      "Prediction   :  I REALLY GOING TO THROW ME OVER FRETHING LIKE THIS\n"
     ]
    },
    {
     "metadata": {
      "tags": null
     },
     "name": "stderr",
     "output_type": "stream",
     "text": [
      "Val:  86%|████████▋ | 19/22 [00:54<00:08,  2.90s/it, dist=25.8117]"
     ]
    },
    {
     "metadata": {
      "tags": null
     },
     "name": "stdout",
     "output_type": "stream",
     "text": [
      "Ground Truth :  THE CUT ON HIS CHEST STILL DRIPPING BLOOD THE ACHE OF HIS OVERSTRAINED EYES EVEN THE SOARING ARENA AROUND HIM WITH THE THOUSANDS OF SPECTATORS WERE TRIVIALITIES NOT WORTH THINKING ABOUT\n",
      "Prediction   :  TO CUT ON HIS CHEST STILL DREW CONBLED TO EACH OF HIS OVERSTRAIN EYES EVEN THE SORRING OR READER AROUND HIM WITH THE SHOUSES OF SPICK TEARS RETREVEALITIES NOT WORTH THE KING ABOUT\n"
     ]
    },
    {
     "metadata": {
      "tags": null
     },
     "name": "stderr",
     "output_type": "stream",
     "text": [
      "Val:  91%|█████████ | 20/22 [00:57<00:05,  2.97s/it, dist=26.2148]"
     ]
    },
    {
     "metadata": {
      "tags": null
     },
     "name": "stdout",
     "output_type": "stream",
     "text": [
      "Ground Truth :  NOTHING CAN SURPRISE ME NOW I'M PREPARED FOR ANY THING EVEN THE SIGHT OF MY QUAKERISH LOVER DANCING A JIG\n",
      "Prediction   :  NOTHING CONSURPRISED ME NOW I PREPARED FOR ANYTHING EVEN THE SIGHT OF MY QUAKER A SHLELF REDANCING IT JAKE\n"
     ]
    },
    {
     "metadata": {
      "tags": null
     },
     "name": "stderr",
     "output_type": "stream",
     "text": [
      "Val:  95%|█████████▌| 21/22 [01:00<00:03,  3.03s/it, dist=26.1179]"
     ]
    },
    {
     "metadata": {
      "tags": null
     },
     "name": "stdout",
     "output_type": "stream",
     "text": [
      "Ground Truth :  UNWILLING TO HURT HIS VANITY BY TELLING HIM THAT HE WAS MISTAKEN I TOOK THE WILD RESOLUTION OF INFORMING HIM IN THE PRESENCE OF HIS TWO FRIENDS THAT I POSSESSED A CERTAIN NUMERAL CALCULUS WHICH GAVE ANSWERS ALSO IN NUMBERS TO ANY QUESTIONS I LIKED TO PUT\n",
      "Prediction   :  AND WILLING TO HEARD HIS VANITY I TELLING IN THE DEAS WITH STAKEN I TOOK THE WHILE RESOLUTION OF INFORMING HIM IN THE PRESENCE OF HIS CHERRIN NUMERAL CALCULOUS WHICH GAVE ANSWERS ALSO A NUMBERS TO ANY QUESTIONS ALLIKE TUPIL\n"
     ]
    },
    {
     "metadata": {
      "tags": null
     },
     "name": "stderr",
     "output_type": "stream",
     "text": [
      "                                                                  "
     ]
    },
    {
     "metadata": {
      "tags": null
     },
     "name": "stdout",
     "output_type": "stream",
     "text": [
      "Ground Truth :  HE ISN'T FIT TO HEAR WHAT'S SAID HERE HE BELIEVES IT'S ALL TRUE\n",
      "Prediction   :  HE IS IT FIT TO HERE WHAT SAID HERE HE BLEASE IS ALL TRUE\n",
      "Train loss: 0.9291546606696774 Train Perplexity: 2.552933469481532 lr:  0.0001\n",
      "Validation dist:  26.803480113636365\n"
     ]
    },
    {
     "metadata": {
      "tags": null
     },
     "name": "stderr",
     "output_type": "stream",
     "text": [
      "\r"
     ]
    },
    {
     "data": {
      "image/png": "[encoded data removed]",
      "text/plain": [
       "<Figure size 640x480 with 2 Axes>"
      ]
     },
     "metadata": {},
     "output_type": "display_data"
    },
    {
     "metadata": {
      "tags": null
     },
     "name": "stdout",
     "output_type": "stream",
     "text": [
      "Saved epoch model\n",
      "\n",
      "Epoch: 26/98\n"
     ]
    },
    {
     "metadata": {
      "tags": null
     },
     "name": "stderr",
     "output_type": "stream",
     "text": [
      "Val:   5%|▍         | 1/22 [00:02<00:57,  2.72s/it, dist=19.3516]"
     ]
    },
    {
     "metadata": {
      "tags": null
     },
     "name": "stdout",
     "output_type": "stream",
     "text": [
      "Ground Truth :  CLIMATE BAD EXAMPLE AND THE LUXURY OF POWER DEGRADED THEM IN ONE CENTURY INTO A RACE OF HELPLESS AND DEBAUCHED SLAVE HOLDERS DOOMED TO UTTER EXTERMINATION BEFORE THE SEMI GOTHIC ARMIES OF BELISARIUS AND WITH THEM VANISHED THE LAST CHANCE THAT THE GOTHIC RACES WOULD EXERCISE ON THE EASTERN WORLD THE SAME STERN YET WHOLESOME DISCIPLINE UNDER WHICH THE WESTERN HAD BEEN RESTORED TO LIFE\n",
      "Prediction   :  CLIMBED BAD EXAMPLED AND THE LUBJERY OF POWER DEGREE THAT MAN ONE CENTURIED WERE RAISE OF HELPLESS AND HE BOUGHT SLAVE OLDERS DOONED TO AUTURNERS OF BELOSARIUS AND WITH THEM VANISHED THE LAST CHANCE THAT THE GOD THE GRACES WITH EXECISE ON THE EASTER WORLD THE SAME STURN YET HOLSON DISCIPLINE UNDER WHICH THE WESTERN HAD BEEN RESTORED TO MIFE\n"
     ]
    },
    {
     "metadata": {
      "tags": null
     },
     "name": "stderr",
     "output_type": "stream",
     "text": [
      "Val:   9%|▉         | 2/22 [00:05<01:00,  3.00s/it, dist=19.0859]"
     ]
    },
    {
     "metadata": {
      "tags": null
     },
     "name": "stdout",
     "output_type": "stream",
     "text": [
      "Ground Truth :  WHEN HIS PUBLIC SERVICES WERE FINISHED HE STARTED IN COMPANY WITH HIS WIFE SON JESSE AND A FEW FRIENDS\n",
      "Prediction   :  WHEN HIS PUBLIC SERVICES WERE PINISHED HE STARTED IN COMPANY WITH HIS WIFE SOME JUSTY IN A FEW FRIENDS\n"
     ]
    },
    {
     "metadata": {
      "tags": null
     },
     "name": "stderr",
     "output_type": "stream",
     "text": [
      "Val:  14%|█▎        | 3/22 [00:08<00:54,  2.85s/it, dist=18.8333]"
     ]
    },
    {
     "metadata": {
      "tags": null
     },
     "name": "stdout",
     "output_type": "stream",
     "text": [
      "Ground Truth :  FROM THE SUN AS THE UNIVERSAL FATHER PROCEEDS THE QUICKENING PRINCIPLE IN NATURE AND IN THE PATIENT AND FRUITFUL WOMB OF OUR MOTHER THE EARTH ARE HIDDEN EMBRYOS OF PLANTS AND MEN\n",
      "Prediction   :  ON THE SON AS THE UNIVERSAL FATHER PRECEDES THE QUICKING PRESS ALL IN NATURE IN IN THE PATIENT AND FREEFUL WOMAN OF HER MOTHER THE EARTH OR IT NEME REALS OF PLANTS AND MEN\n"
     ]
    },
    {
     "metadata": {
      "tags": null
     },
     "name": "stderr",
     "output_type": "stream",
     "text": [
      "Val:  18%|█▊        | 4/22 [00:11<00:50,  2.83s/it, dist=19.7559]"
     ]
    },
    {
     "metadata": {
      "tags": null
     },
     "name": "stdout",
     "output_type": "stream",
     "text": [
      "Ground Truth :  I TOLLED THE BELL AGAIN\n",
      "Prediction   :  I TOLD THE BELL AGAIN\n"
     ]
    },
    {
     "metadata": {
      "tags": null
     },
     "name": "stderr",
     "output_type": "stream",
     "text": [
      "Val:  23%|██▎       | 5/22 [00:14<00:50,  2.98s/it, dist=20.0938]"
     ]
    },
    {
     "metadata": {
      "tags": null
     },
     "name": "stdout",
     "output_type": "stream",
     "text": [
      "Ground Truth :  HE SEEMS TO ME TO BE TRULY PENITENT FOR HIS OFFENCES A MISGUIDED BUT NOT A HYPOCRITICAL MAN IF MY KNOWLEDGE OF HUMAN NATURE GOES FOR ANYTHING I HOPE HE IS SAID NORTH\n",
      "Prediction   :  HE SEEMS TO ME TO BE TRUE PENNETENT FOR AS EFFENCES A MISS GUIDED BUT NOT A HEPPECRITICAL MAN IF MY KNOWLEDGE OF HUMAN NATURE GOES FOR ANYTHING I HOPE IS SAID NORTH\n"
     ]
    },
    {
     "metadata": {
      "tags": null
     },
     "name": "stderr",
     "output_type": "stream",
     "text": [
      "Val:  27%|██▋       | 6/22 [00:17<00:46,  2.92s/it, dist=20.3698]"
     ]
    },
    {
     "metadata": {
      "tags": null
     },
     "name": "stdout",
     "output_type": "stream",
     "text": [
      "Ground Truth :  IT WAS INDEED DANCING ON A VOLCANO\n",
      "Prediction   :  IT WAS INDEED DAMPSING ON A BOCKING O\n"
     ]
    },
    {
     "metadata": {
      "tags": null
     },
     "name": "stderr",
     "output_type": "stream",
     "text": [
      "Val:  32%|███▏      | 7/22 [00:20<00:42,  2.84s/it, dist=19.5938]"
     ]
    },
    {
     "metadata": {
      "tags": null
     },
     "name": "stdout",
     "output_type": "stream",
     "text": [
      "Ground Truth :  BEEN OVER THE GROUND STUDIED THE AFFAIR CAREFULLY\n",
      "Prediction   :  THEN OVER THE GROUND STUDY TO THE AFFAIR CAREFULLY\n"
     ]
    },
    {
     "metadata": {
      "tags": null
     },
     "name": "stderr",
     "output_type": "stream",
     "text": [
      "Val:  36%|███▋      | 8/22 [00:23<00:40,  2.89s/it, dist=19.6699]"
     ]
    },
    {
     "metadata": {
      "tags": null
     },
     "name": "stdout",
     "output_type": "stream",
     "text": [
      "Ground Truth :  WHEN SHE HEARD OF MY ENGAGEMENT WITH MARY ANN SHE WROTE AND SUGGESTED THAT WE SHOULD SPEND OUR HONEYMOON IN HER COTTAGE OR PIGSTYE AND THAT I SHOULD PAY HER RENT FOR IT\n",
      "Prediction   :  WHEN SHE HEARD OF MY ENGAGEMENT WITH MARRY AND SHE ROTE AND SUGGESTED THAT WE SHOULD SPEND OUR HONEY MOON IN HER CONNGEGE OR PINCE DIE AND THAT I SHOULD PAY HER RENT FOR IT\n"
     ]
    },
    {
     "metadata": {
      "tags": null
     },
     "name": "stderr",
     "output_type": "stream",
     "text": [
      "Val:  41%|████      | 9/22 [00:25<00:37,  2.87s/it, dist=20.1693]"
     ]
    },
    {
     "metadata": {
      "tags": null
     },
     "name": "stdout",
     "output_type": "stream",
     "text": [
      "Ground Truth :  HE ADDED SYDNEY'S ADDRESS IN A POSTSCRIPT AND DISPATCHED HIS LETTER THAT EVENING\n",
      "Prediction   :  HE ADDED SUBMIES ADDRESS AND APPOSE CRIPT AND DISPATCHED HIS LETTER THAT EVENING\n"
     ]
    },
    {
     "metadata": {
      "tags": null
     },
     "name": "stderr",
     "output_type": "stream",
     "text": [
      "Val:  45%|████▌     | 10/22 [00:29<00:35,  2.94s/it, dist=20.0688]"
     ]
    },
    {
     "metadata": {
      "tags": null
     },
     "name": "stdout",
     "output_type": "stream",
     "text": [
      "Ground Truth :  NORTH KNEW WELL THAT HE WOULD NEVER DARE TO ATTEMPT ANY SUCH ACT OF VIOLENCE BUT THE INSULT STUNG HIM LIKE THE CUT OF A WHIP\n",
      "Prediction   :  NORTH NEW WHILE THAT HE WOULD NEVER DARE TO ATTEMPT ANY SUCH ACTIVE VILENCE BUT THE INSULT STUNG HIM LIKE THE CUT OF A WIP\n"
     ]
    },
    {
     "metadata": {
      "tags": null
     },
     "name": "stderr",
     "output_type": "stream",
     "text": [
      "Val:  50%|█████     | 11/22 [00:32<00:32,  2.95s/it, dist=20.3274]"
     ]
    },
    {
     "metadata": {
      "tags": null
     },
     "name": "stdout",
     "output_type": "stream",
     "text": [
      "Ground Truth :  IN MAKING THIS HE HAD EXPECTED NO SUCCESS THOUGH FROM THE ENERGETIC NATURE OF HIS DISPOSITION HE HAD MADE THE ATTEMPT WITH SOME ZEAL\n",
      "Prediction   :  IN MAKING THIS HE HAD EXPECTED NO SUCCESS THOUGH FROM THE ENERGETIC NATURE OF HIS DISPOSITION HE HAD MAY BE ATTEMPT WITH SOME SEAL\n"
     ]
    },
    {
     "metadata": {
      "tags": null
     },
     "name": "stderr",
     "output_type": "stream",
     "text": [
      "Val:  55%|█████▍    | 12/22 [00:34<00:28,  2.84s/it, dist=20.1725]"
     ]
    },
    {
     "metadata": {
      "tags": null
     },
     "name": "stdout",
     "output_type": "stream",
     "text": [
      "Ground Truth :  WHEN I CAME UP HE TOUCHED MY SHOULDER AND LOOKED SEARCHINGLY DOWN INTO MY FACE FOR SEVERAL SECONDS\n",
      "Prediction   :  WHEN I CAME UP HE TUCHED MY SHOULDER AND LOOKED SURCHING WE DOWN INTO MY FACE FOR SIMILA SECONDS\n"
     ]
    },
    {
     "metadata": {
      "tags": null
     },
     "name": "stderr",
     "output_type": "stream",
     "text": [
      "Val:  59%|█████▉    | 13/22 [00:37<00:26,  2.91s/it, dist=20.4940]"
     ]
    },
    {
     "metadata": {
      "tags": null
     },
     "name": "stdout",
     "output_type": "stream",
     "text": [
      "Ground Truth :  THIS AVENUE WAS STRAIGHT AND OF MODERATE LENGTH RUNNING BETWEEN A DOUBLE ROW OF VERY ANCIENT HORSE CHESTNUTS PLANTED ALTERNATELY WITH SYCAMORES WHICH ROSE TO SUCH HUGE HEIGHT AND NOURISHED SO LUXURIANTLY THAT THEIR BOUGHS COMPLETELY OVER ARCHED THE BROAD ROAD BENEATH\n",
      "Prediction   :  THIS ABONY WAS STREET AND OF MODERATE LIKE RANG BETWEEN A DUCKLE ROW A VERY ACCENT HORSE TESTNUTS PLANTED ALTERATELY WAS SICK A WORSE WHICH ROSE TO SUCH HUGE HIGHS AND NURSE SO LUCURIANTLY THAT THEIR BAST HIMPLY LEAVE HER ARCHED THE BROAD ROAD ANY\n"
     ]
    },
    {
     "metadata": {
      "tags": null
     },
     "name": "stderr",
     "output_type": "stream",
     "text": [
      "Val:  64%|██████▎   | 14/22 [00:40<00:22,  2.86s/it, dist=20.2595]"
     ]
    },
    {
     "metadata": {
      "tags": null
     },
     "name": "stdout",
     "output_type": "stream",
     "text": [
      "Ground Truth :  HE WATCHED HIM GESTICULATING AND MURMURING IN THE KITCHEN\n",
      "Prediction   :  HE WASHED HIM TO STICK LATE HIM URMURING IN THE KITCHEN\n"
     ]
    },
    {
     "metadata": {
      "tags": null
     },
     "name": "stderr",
     "output_type": "stream",
     "text": [
      "Val:  68%|██████▊   | 15/22 [00:43<00:19,  2.81s/it, dist=20.0328]"
     ]
    },
    {
     "metadata": {
      "tags": null
     },
     "name": "stdout",
     "output_type": "stream",
     "text": [
      "Ground Truth :  ASPARAGUS SALAD COOK THE ASPARAGUS IN SALTED WATER DRAIN AND CHILL\n",
      "Prediction   :  A SPARE IT DISALID QUOKE THE ESPERIGUS INSULTED WATER DRAIN AND CHILL\n"
     ]
    },
    {
     "metadata": {
      "tags": null
     },
     "name": "stderr",
     "output_type": "stream",
     "text": [
      "Val:  73%|███████▎  | 16/22 [00:45<00:16,  2.82s/it, dist=19.8203]"
     ]
    },
    {
     "metadata": {
      "tags": null
     },
     "name": "stdout",
     "output_type": "stream",
     "text": [
      "Ground Truth :  YOU WILL LET ME DO IT AND IN RETURN I WILL MARRY YOU WHENEVER YOU ASK ME ANSWERED CHRISTIE SEALING THE PROMISE WITH A KISS THAT SILENCED HIM\n",
      "Prediction   :  YOU WILL LET ME DO IT AND WHEN RETURNED I WILL MARRY YOU WHEN EVERY USK ME ANSWERED CRISTY SEEING THE PROMISE WITH THE KISSED THAT SILE INSTAN\n"
     ]
    },
    {
     "metadata": {
      "tags": null
     },
     "name": "stderr",
     "output_type": "stream",
     "text": [
      "Val:  77%|███████▋  | 17/22 [00:48<00:13,  2.78s/it, dist=19.7077]"
     ]
    },
    {
     "metadata": {
      "tags": null
     },
     "name": "stdout",
     "output_type": "stream",
     "text": [
      "Ground Truth :  HE HONOURS WHATEVER HE RECOGNIZES IN HIMSELF SUCH MORALITY EQUALS SELF GLORIFICATION\n",
      "Prediction   :  HE HONORS WHATEVER HE RECOGNIZES IN HIMSELF SUCH MORALITY EQUALS SELF GLORIFICATION\n"
     ]
    },
    {
     "metadata": {
      "tags": null
     },
     "name": "stderr",
     "output_type": "stream",
     "text": [
      "Val:  82%|████████▏ | 18/22 [00:51<00:11,  2.87s/it, dist=19.7721]"
     ]
    },
    {
     "metadata": {
      "tags": null
     },
     "name": "stdout",
     "output_type": "stream",
     "text": [
      "Ground Truth :  THE FAT THEY ARE FRIED IN SHOULD BE CLEAR AND THE CRUMBS SHOULD NOT HAVE THE SLIGHTEST APPEARANCE OR TASTE OF HAVING BEEN IN THE LEAST DEGREE BURNT\n",
      "Prediction   :  THE FAD THERE FRIEND AND SHE BECLEARE AND THE CRUMB SHOULD NOT HAVE THE SLIGHTEST APPEARANCE OR TASTE OF HAVING BEEN IN THE LEAST AGREE FIRGS\n"
     ]
    },
    {
     "metadata": {
      "tags": null
     },
     "name": "stderr",
     "output_type": "stream",
     "text": [
      "Val:  86%|████████▋ | 19/22 [00:54<00:08,  2.87s/it, dist=19.7023]"
     ]
    },
    {
     "metadata": {
      "tags": null
     },
     "name": "stdout",
     "output_type": "stream",
     "text": [
      "Ground Truth :  AS THE LIFE BLOOD OF THE LANDSCAPES THE BEST OF THE WILDERNESS COMES TO THEIR BANKS AND NOT ONE DULL PASSAGE IS FOUND IN ALL THEIR EVENTFUL HISTORIES\n",
      "Prediction   :  AS THE LIFE BLOOD OF THE LANDSCAPES THE BEST OF THE WILDERNESS COME TO THEIR BANKS AND NOT ONE DOLL PASSAGE IS FOUND IN ALL THEIR AVENTFUL HISTORIES\n"
     ]
    },
    {
     "metadata": {
      "tags": null
     },
     "name": "stderr",
     "output_type": "stream",
     "text": [
      "Val:  91%|█████████ | 20/22 [00:57<00:05,  2.88s/it, dist=19.6207]"
     ]
    },
    {
     "metadata": {
      "tags": null
     },
     "name": "stdout",
     "output_type": "stream",
     "text": [
      "Ground Truth :  AND WHOEVER THOU ART WHAT IS IT THAT NOW PLEASES THEE\n",
      "Prediction   :  AND WHO OVER THAT WITH IS IT THAT NOW PLEASES THEE\n"
     ]
    },
    {
     "metadata": {
      "tags": null
     },
     "name": "stderr",
     "output_type": "stream",
     "text": [
      "Val:  95%|█████████▌| 21/22 [01:00<00:02,  2.97s/it, dist=19.6336]"
     ]
    },
    {
     "metadata": {
      "tags": null
     },
     "name": "stdout",
     "output_type": "stream",
     "text": [
      "Ground Truth :  YET THE MOST CHARITABLE CRITICISM MUST REFUSE THESE SECTARIES ANY KNOWLEDGE OF THE PURE AND PROPER DIVINITY OF CHRIST\n",
      "Prediction   :  YET THE MOST CHARITABLE CURTISIS AND MUST REFUSE THESE SECURIES ANY KNOWLEDGE OF THE PURE AND PROPER DIVINITY OF CHRIST\n"
     ]
    },
    {
     "metadata": {
      "tags": null
     },
     "name": "stderr",
     "output_type": "stream",
     "text": [
      "                                                                  "
     ]
    },
    {
     "metadata": {
      "tags": null
     },
     "name": "stdout",
     "output_type": "stream",
     "text": [
      "Ground Truth :  THEN THEY BEGAN TO RUN AND RUSHING INTO THE HOUSE THEY FELL UPON THEIR FATHER'S NECK\n",
      "Prediction   :  THEN THEY BEGAN TO RUN AND WHAT SHE INTO THE HOUSE THEY FELL UPON THEIR FATHER'S NECK\n",
      "Train loss: 0.9204481193302992 Train Perplexity: 2.527982363251827 lr:  0.0001\n",
      "Validation dist:  19.359303977272727\n"
     ]
    },
    {
     "metadata": {
      "tags": null
     },
     "name": "stderr",
     "output_type": "stream",
     "text": [
      "\r"
     ]
    },
    {
     "data": {
      "image/png": "[encoded data removed]",
      "text/plain": [
       "<Figure size 640x480 with 2 Axes>"
      ]
     },
     "metadata": {},
     "output_type": "display_data"
    },
    {
     "metadata": {
      "tags": null
     },
     "name": "stdout",
     "output_type": "stream",
     "text": [
      "Saved epoch model\n",
      "\n",
      "Epoch: 27/98\n"
     ]
    },
    {
     "metadata": {
      "tags": null
     },
     "name": "stderr",
     "output_type": "stream",
     "text": [
      "Val:   5%|▍         | 1/22 [00:02<00:55,  2.66s/it, dist=13.9297]"
     ]
    },
    {
     "metadata": {
      "tags": null
     },
     "name": "stdout",
     "output_type": "stream",
     "text": [
      "Ground Truth :  ANY ANSWER I GUESS NOT\n",
      "Prediction   :  AND HE ANSWERED I GUESS NOT\n"
     ]
    },
    {
     "metadata": {
      "tags": null
     },
     "name": "stderr",
     "output_type": "stream",
     "text": [
      "Val:   9%|▉         | 2/22 [00:05<00:56,  2.82s/it, dist=13.7305]"
     ]
    },
    {
     "metadata": {
      "tags": null
     },
     "name": "stdout",
     "output_type": "stream",
     "text": [
      "Ground Truth :  NECESSITY HAD BECOME HIS GRIM MASTER AND THE FOLLOWING WEEK HE WAS GOING TO WORK\n",
      "Prediction   :  NECESSITY HAD BECOME HIS GROOM MASTER AND THE FALLEN WEEK HE WAS DOING TOWARK\n"
     ]
    },
    {
     "metadata": {
      "tags": null
     },
     "name": "stderr",
     "output_type": "stream",
     "text": [
      "Val:  14%|█▎        | 3/22 [00:08<00:53,  2.83s/it, dist=14.2214]"
     ]
    },
    {
     "metadata": {
      "tags": null
     },
     "name": "stdout",
     "output_type": "stream",
     "text": [
      "Ground Truth :  THE VANITY OF CELESTINE WAS FLATTERED BY THE APPEAL AND THE PARTIAL VERSION OF A MONK DECIDED THE FAITH OF THE POPE WHO WITH HIS LATIN CLERGY WAS IGNORANT OF THE LANGUAGE THE ARTS AND THE THEOLOGY OF THE GREEKS\n",
      "Prediction   :  THE VANITY OF KALACE IN WAS FLATTERED BY THE APPEAL AND THE PARSONAL VERSON OF AMONG TO SIDE OF THE FATE OF THE POPE WHO WITH HIS LAND AND CLERTY WAS INNER INTO THE LANGUAGE THE ARTS AND THE THEOLOGY OF THE GREEKS\n"
     ]
    },
    {
     "metadata": {
      "tags": null
     },
     "name": "stderr",
     "output_type": "stream",
     "text": [
      "Val:  18%|█▊        | 4/22 [00:11<00:52,  2.89s/it, dist=15.1348]"
     ]
    },
    {
     "metadata": {
      "tags": null
     },
     "name": "stdout",
     "output_type": "stream",
     "text": [
      "Ground Truth :  HAVE YOU MANY VISITORS CAPTAIN BURGESS VERY FEW\n",
      "Prediction   :  HAVE YOU MANY VISITOR SCAPPED AND BURGESS VERY FEW\n"
     ]
    },
    {
     "metadata": {
      "tags": null
     },
     "name": "stderr",
     "output_type": "stream",
     "text": [
      "Val:  23%|██▎       | 5/22 [00:14<00:50,  2.97s/it, dist=16.3219]"
     ]
    },
    {
     "metadata": {
      "tags": null
     },
     "name": "stdout",
     "output_type": "stream",
     "text": [
      "Ground Truth :  GO QUIETLY ALONE NO HARM WILL BEFALL YOU\n",
      "Prediction   :  GO QUIETLY ALONE GO HARMWHILE BEFOLL YOU\n"
     ]
    },
    {
     "metadata": {
      "tags": null
     },
     "name": "stderr",
     "output_type": "stream",
     "text": [
      "Val:  27%|██▋       | 6/22 [00:17<00:47,  2.96s/it, dist=16.4102]"
     ]
    },
    {
     "metadata": {
      "tags": null
     },
     "name": "stdout",
     "output_type": "stream",
     "text": [
      "Ground Truth :  SHE LISTENED INTENTLY BUT SHE HEARD NOTHING BUT THE CREAKING OF HIS CHAIR\n",
      "Prediction   :  SHE LISTENED INTENDLY BUT SHE HEARD NOTHING BUT THE CREATING OF HIS CHAIR\n"
     ]
    },
    {
     "metadata": {
      "tags": null
     },
     "name": "stderr",
     "output_type": "stream",
     "text": [
      "Val:  32%|███▏      | 7/22 [00:20<00:45,  3.02s/it, dist=16.4230]"
     ]
    },
    {
     "metadata": {
      "tags": null
     },
     "name": "stdout",
     "output_type": "stream",
     "text": [
      "Ground Truth :  I'VE BEEN UP IN CANADA WITH MY BRIDGE AND I ARRANGED NOT TO COME TO NEW YORK UNTIL AFTER YOU HAD GONE\n",
      "Prediction   :  I BEEN UP AND CANADA WITH MY BRIDGE AND I RANGED NOT TO COME TO NEW YORK INTO AFTER YOU HAD GONE\n"
     ]
    },
    {
     "metadata": {
      "tags": null
     },
     "name": "stderr",
     "output_type": "stream",
     "text": [
      "Val:  36%|███▋      | 8/22 [00:23<00:42,  3.00s/it, dist=16.1709]"
     ]
    },
    {
     "metadata": {
      "tags": null
     },
     "name": "stdout",
     "output_type": "stream",
     "text": [
      "Ground Truth :  IN THIS TYPE OF PRAYER THERE WAS NO BESEECHING OF FAVOR OR HELP\n",
      "Prediction   :  IN THE STATE OF PRAYER THERE WAS NO DESEECHING AND FAVOUR OR HELP\n"
     ]
    },
    {
     "metadata": {
      "tags": null
     },
     "name": "stderr",
     "output_type": "stream",
     "text": [
      "Val:  41%|████      | 9/22 [00:26<00:39,  3.03s/it, dist=16.0182]"
     ]
    },
    {
     "metadata": {
      "tags": null
     },
     "name": "stdout",
     "output_type": "stream",
     "text": [
      "Ground Truth :  HIS AMBITION WAS SOME DAY TO BUILD A HOUSE ON THEM\n",
      "Prediction   :  HIS AMBITION WAS SOME DAY TO BELL THE HOUSE ON THEM\n"
     ]
    },
    {
     "metadata": {
      "tags": null
     },
     "name": "stderr",
     "output_type": "stream",
     "text": [
      "Val:  45%|████▌     | 10/22 [00:29<00:35,  2.96s/it, dist=15.7812]"
     ]
    },
    {
     "metadata": {
      "tags": null
     },
     "name": "stdout",
     "output_type": "stream",
     "text": [
      "Ground Truth :  THE GREAT GREEN FIELD SURROUNDED ON ALL SIDES BY TALL TREES MADE THE PLACE AN IDEAL ONE FOR THEIR PURPOSE\n",
      "Prediction   :  THE GREAT GREEN FILLED SURRENDED ON ALL SIGHT LY TOLD TREES MADE THE PLACE IN IDEAL ONE FOR THEIR PURPOSE\n"
     ]
    },
    {
     "metadata": {
      "tags": null
     },
     "name": "stderr",
     "output_type": "stream",
     "text": [
      "Val:  50%|█████     | 11/22 [00:32<00:32,  2.98s/it, dist=15.7841]"
     ]
    },
    {
     "metadata": {
      "tags": null
     },
     "name": "stdout",
     "output_type": "stream",
     "text": [
      "Ground Truth :  NATURE A DIFFERENCE OF FIFTY YEARS HAD SET A PROFOUND GULF BETWEEN JEAN VALJEAN AND COSETTE DESTINY FILLED IN THIS GULF\n",
      "Prediction   :  NATURE I DIFFERENCE OF FIFTY YEARS HAD SET A PROFOUND GOLTH BETWEEN SHUNFALCHON INTO HIS ET GEST TO THE FILLED IN FISCHOLF\n"
     ]
    },
    {
     "metadata": {
      "tags": null
     },
     "name": "stderr",
     "output_type": "stream",
     "text": [
      "Val:  55%|█████▍    | 12/22 [00:35<00:30,  3.00s/it, dist=16.0456]"
     ]
    },
    {
     "metadata": {
      "tags": null
     },
     "name": "stdout",
     "output_type": "stream",
     "text": [
      "Ground Truth :  INDEED WE OF THE RANK AND FILE HAD LITTLE CONFIDENCE IN GRANT IN THOSE DAYS\n",
      "Prediction   :  INDEED WE OF THE RANK AND FILL HAD LITTLE CONFIDENCE IN GRANT IN THOSE DAYS\n"
     ]
    },
    {
     "metadata": {
      "tags": null
     },
     "name": "stderr",
     "output_type": "stream",
     "text": [
      "Val:  59%|█████▉    | 13/22 [00:38<00:26,  2.98s/it, dist=16.3498]"
     ]
    },
    {
     "metadata": {
      "tags": null
     },
     "name": "stdout",
     "output_type": "stream",
     "text": [
      "Ground Truth :  DO YOU KNOW ALEXANDER MAINHALL LOOKED WITH PERPLEXITY UP INTO THE TOP OF THE HANSOM AND RUBBED HIS PINK CHEEK WITH HIS GLOVED FINGER DO YOU KNOW I SOMETIMES THINK OF TAKING TO CRITICISM SERIOUSLY MYSELF\n",
      "Prediction   :  DO NO ELEXANDER MAN HALL LOOKED WITH PERPLEXITY UP INTO THE TOP OF THE HANDSOME AND RUBBED HIS PINK TO CHEEK WITH HIS GLOME TO FINGER DO YOU KNOW I SOMETIMES THINK OF TAKING TO CRITICISM SERIOUSLY MYSELF\n"
     ]
    },
    {
     "metadata": {
      "tags": null
     },
     "name": "stderr",
     "output_type": "stream",
     "text": [
      "Val:  64%|██████▎   | 14/22 [00:41<00:23,  2.95s/it, dist=16.3850]"
     ]
    },
    {
     "metadata": {
      "tags": null
     },
     "name": "stdout",
     "output_type": "stream",
     "text": [
      "Ground Truth :  THE SECOND BEGINS HERE AN ANGEL THE THIRD HERE DEAR SONG I KNOW\n",
      "Prediction   :  THE SECOND BEGINS HERE AND ANCIEL THE THIRD HERE DO SON I KNOW\n"
     ]
    },
    {
     "metadata": {
      "tags": null
     },
     "name": "stderr",
     "output_type": "stream",
     "text": [
      "Val:  68%|██████▊   | 15/22 [00:44<00:20,  2.97s/it, dist=16.4854]"
     ]
    },
    {
     "metadata": {
      "tags": null
     },
     "name": "stdout",
     "output_type": "stream",
     "text": [
      "Ground Truth :  MODE PUT THE WHOLE OF THE INGREDIENTS INTO A BOTTLE AND LET IT REMAIN FOR A FORTNIGHT IN A WARM PLACE OCCASIONALLY SHAKING UP THE CONTENTS\n",
      "Prediction   :  MODE BUT THE HOLE OF THE INGREDIENCE INTO A BUTTLE HENETTED REMAIN FOR A FORTNIGHT IN A WARM PLACE OCCASIONALLY SHAKING UP THE CONTENTS\n"
     ]
    },
    {
     "metadata": {
      "tags": null
     },
     "name": "stderr",
     "output_type": "stream",
     "text": [
      "Val:  73%|███████▎  | 16/22 [00:47<00:17,  3.00s/it, dist=16.3945]"
     ]
    },
    {
     "metadata": {
      "tags": null
     },
     "name": "stdout",
     "output_type": "stream",
     "text": [
      "Ground Truth :  WHOM IS HE GOING TO FLOG NOW\n",
      "Prediction   :  WHOM IS HE ONLY TO FLOAT NOW\n"
     ]
    },
    {
     "metadata": {
      "tags": null
     },
     "name": "stderr",
     "output_type": "stream",
     "text": [
      "Val:  77%|███████▋  | 17/22 [00:50<00:14,  2.98s/it, dist=16.2266]"
     ]
    },
    {
     "metadata": {
      "tags": null
     },
     "name": "stdout",
     "output_type": "stream",
     "text": [
      "Ground Truth :  HE SUFFERED ALL THE PANGS OF A MOTHER AND HE KNEW NOT WHAT IT MEANT FOR THAT GREAT AND SINGULAR MOVEMENT OF A HEART WHICH BEGINS TO LOVE IS A VERY OBSCURE AND A VERY SWEET THING\n",
      "Prediction   :  HE SUFFERED ALL THE KINDS OF A MOTHER AND HE KNEW NOT WHAT IT MEANT FOR THAT GREAT AND SINGULAR MOVEMENT OF A HEART WHICH BEGINS TO LOVE IS A VERY OF SURE AND A VERY SWEET THING\n"
     ]
    },
    {
     "metadata": {
      "tags": null
     },
     "name": "stderr",
     "output_type": "stream",
     "text": [
      "Val:  82%|████████▏ | 18/22 [00:53<00:11,  2.99s/it, dist=16.0182]"
     ]
    },
    {
     "metadata": {
      "tags": null
     },
     "name": "stdout",
     "output_type": "stream",
     "text": [
      "Ground Truth :  HOW CAN WE FEED OUR CHILDREN WHEN WE HAVE NO MORE THAN WE CAN EAT OURSELVES\n",
      "Prediction   :  HOW COMMY FEET OUR CHILDREN WHEN WE HAVE NO MORE THAN WE CAN EAT OURSELVES\n"
     ]
    },
    {
     "metadata": {
      "tags": null
     },
     "name": "stderr",
     "output_type": "stream",
     "text": [
      "Val:  86%|████████▋ | 19/22 [00:56<00:08,  2.92s/it, dist=15.8890]"
     ]
    },
    {
     "metadata": {
      "tags": null
     },
     "name": "stdout",
     "output_type": "stream",
     "text": [
      "Ground Truth :  MEBBY YOU THINK HE'S HAVING SOME SORT OF A PICNIC DOWN THERE EH GLARED LIGE\n",
      "Prediction   :  MAYBE USINK HE SAID HE SOME SERVING A PICKET DOWN THE ARE AND LANGER BLIED\n"
     ]
    },
    {
     "metadata": {
      "tags": null
     },
     "name": "stderr",
     "output_type": "stream",
     "text": [
      "Val:  91%|█████████ | 20/22 [00:59<00:05,  2.93s/it, dist=15.7406]"
     ]
    },
    {
     "metadata": {
      "tags": null
     },
     "name": "stdout",
     "output_type": "stream",
     "text": [
      "Ground Truth :  HURSTWOOD ALMOST EXCLAIMED OUT LOUD AT THE INSISTENCY OF THIS THING\n",
      "Prediction   :  HERSEWON ALMOST EXCLAIMED OUTLOWED AT THE INSISTENCY OF THIS THING\n"
     ]
    },
    {
     "metadata": {
      "tags": null
     },
     "name": "stderr",
     "output_type": "stream",
     "text": [
      "Val:  95%|█████████▌| 21/22 [01:01<00:02,  2.83s/it, dist=15.6276]"
     ]
    },
    {
     "metadata": {
      "tags": null
     },
     "name": "stdout",
     "output_type": "stream",
     "text": [
      "Ground Truth :  NEVER USE NEW BREAD FOR MAKING ANY KIND OF TOAST AS IT EATS HEAVY AND BESIDES IS VERY EXTRAVAGANT\n",
      "Prediction   :  NEVER USE NO BREAD FOR MAKING ANY KIND OF TOAST AS IT EACH HEAVY IN BESIDES DISVERY EXTRAVACANT\n"
     ]
    },
    {
     "metadata": {
      "tags": null
     },
     "name": "stderr",
     "output_type": "stream",
     "text": [
      "                                                                  "
     ]
    },
    {
     "metadata": {
      "tags": null
     },
     "name": "stdout",
     "output_type": "stream",
     "text": [
      "Ground Truth :  ONE DAY WHEN I RODE OVER TO THE SHIMERDAS I FOUND ANTONIA STARTING OFF ON FOOT FOR RUSSIAN PETER'S HOUSE TO BORROW A SPADE AMBROSCH NEEDED\n",
      "Prediction   :  ONE DAY WHEN I RODE OVER TO THE SHIMARITES I FOUND INTO ME A STARTING OFF ON FOOT FOR RUSHING PETER'S HOUSE TO BARLESS SPAID EMBROSH MEATING\n",
      "Train loss: 0.9037536259723886 Train Perplexity: 2.4831580463546272 lr:  0.0001\n",
      "Validation dist:  15.677864583333333\n"
     ]
    },
    {
     "metadata": {
      "tags": null
     },
     "name": "stderr",
     "output_type": "stream",
     "text": [
      "\r"
     ]
    },
    {
     "data": {
      "image/png": "[encoded data removed]",
      "text/plain": [
       "<Figure size 640x480 with 2 Axes>"
      ]
     },
     "metadata": {},
     "output_type": "display_data"
    },
    {
     "metadata": {
      "tags": null
     },
     "name": "stdout",
     "output_type": "stream",
     "text": [
      "Saved epoch model\n",
      "Saved best model\n",
      "\n",
      "Epoch: 28/98\n"
     ]
    },
    {
     "metadata": {
      "tags": null
     },
     "name": "stderr",
     "output_type": "stream",
     "text": [
      "Val:   5%|▍         | 1/22 [00:02<00:58,  2.76s/it, dist=17.2031]"
     ]
    },
    {
     "metadata": {
      "tags": null
     },
     "name": "stdout",
     "output_type": "stream",
     "text": [
      "Ground Truth :  A YELLOW VARIETY CALLED GOLDEN MILLET IS SOLD IN THE GROCERS SHOPS FOR MAKING PUDDINGS AND IS VERY DELICATE AND WHOLESOME\n",
      "Prediction   :  A YELLOW VARIETY CALLED A GOLDEN MILLET IS SO IN THE GROSSER SHOPS FOR MAKING PUTTINGS AND IS VERY DELICATE AND HOLSON\n"
     ]
    },
    {
     "metadata": {
      "tags": null
     },
     "name": "stderr",
     "output_type": "stream",
     "text": [
      "Val:   9%|▉         | 2/22 [00:05<00:55,  2.78s/it, dist=16.4141]"
     ]
    },
    {
     "metadata": {
      "tags": null
     },
     "name": "stdout",
     "output_type": "stream",
     "text": [
      "Ground Truth :  HE PAUSED AND PUT HIS HAND TO HIS FEVERED HEAD\n",
      "Prediction   :  HE POLISTED AND PUT HIS HAND IT WAS FEET FOR HEAD\n"
     ]
    },
    {
     "metadata": {
      "tags": null
     },
     "name": "stderr",
     "output_type": "stream",
     "text": [
      "Val:  14%|█▎        | 3/22 [00:08<00:54,  2.87s/it, dist=15.9245]"
     ]
    },
    {
     "metadata": {
      "tags": null
     },
     "name": "stdout",
     "output_type": "stream",
     "text": [
      "Ground Truth :  THERE MUST BE A SORT OF REPUGNANCE IN ME TO BELIEVE ANYTHING DEFINITE ABOUT MYSELF IS THERE PERHAPS SOME ENIGMA THEREIN\n",
      "Prediction   :  THE MUST BE A SORT OF REPUTTANCE IN ME TO BELIEVE ANY HIM DEATHING AT ABOUT MYSELF IS THERE PERHAPS SOME IN THE GMIT OF THEIR RIM\n"
     ]
    },
    {
     "metadata": {
      "tags": null
     },
     "name": "stderr",
     "output_type": "stream",
     "text": [
      "Val:  18%|█▊        | 4/22 [00:11<00:50,  2.82s/it, dist=15.5605]"
     ]
    },
    {
     "metadata": {
      "tags": null
     },
     "name": "stdout",
     "output_type": "stream",
     "text": [
      "Ground Truth :  NO ONE WHO IS HIMSELF HONEST WILL DOUBT MY BEING SO\n",
      "Prediction   :  NO ONE WHO IS HIMSELF ON AS WILL DOUBT MY BEING SO\n"
     ]
    },
    {
     "metadata": {
      "tags": null
     },
     "name": "stderr",
     "output_type": "stream",
     "text": [
      "Val:  23%|██▎       | 5/22 [00:14<00:50,  2.98s/it, dist=16.0906]"
     ]
    },
    {
     "metadata": {
      "tags": null
     },
     "name": "stdout",
     "output_type": "stream",
     "text": [
      "Ground Truth :  SHE MADE MISSUS SHIMERDA UNDERSTAND THE FRIENDLY INTENTION OF OUR VISIT AND THE BOHEMIAN WOMAN HANDLED THE LOAVES OF BREAD AND EVEN SMELLED THEM AND EXAMINED THE PIES WITH LIVELY CURIOSITY EXCLAIMING MUCH GOOD MUCH THANK\n",
      "Prediction   :  SHE MADE MISSUS REMARED UNDERSTAND THE FRIENDLY INTENTION OF OUR VISIT IN THE BOHUMIAN WOMAN HANDLED THE LOWS OF BREAD AND EVEN SMELLED THEM AND EXAMINED THE PIES WITH LIVELY CURIOSITY EXCLAIMING MUCH GOOD MUCH THAKE\n"
     ]
    },
    {
     "metadata": {
      "tags": null
     },
     "name": "stderr",
     "output_type": "stream",
     "text": [
      "Val:  27%|██▋       | 6/22 [00:17<00:48,  3.01s/it, dist=16.4258]"
     ]
    },
    {
     "metadata": {
      "tags": null
     },
     "name": "stdout",
     "output_type": "stream",
     "text": [
      "Ground Truth :  THAT LAST FELLOW YOU HAD OUGHT TO HAVE BEEN TIED UP HIMSELF\n",
      "Prediction   :  AT LAST THOUGH A YOU HAD OUGHT TO HAVE BEEN TIGHT UP HIMSELF\n"
     ]
    },
    {
     "metadata": {
      "tags": null
     },
     "name": "stderr",
     "output_type": "stream",
     "text": [
      "Val:  32%|███▏      | 7/22 [00:20<00:44,  2.98s/it, dist=16.0212]"
     ]
    },
    {
     "metadata": {
      "tags": null
     },
     "name": "stdout",
     "output_type": "stream",
     "text": [
      "Ground Truth :  IT IS WELL KNOWN THAT THE AMERICAN INDIAN HAD SOMEHOW DEVELOPED OCCULT POWER AND ALTHOUGH IN THE LATTER DAYS THERE HAVE BEEN MANY IMPOSTORS AND ALLOWING FOR THE VANITY AND WEAKNESS OF HUMAN NATURE IT IS FAIR TO ASSUME THAT THERE MUST HAVE BEEN SOME EVEN IN THE OLD DAYS YET THERE ARE WELL ATTESTED INSTANCES OF REMARKABLE PROPHECIES AND OTHER MYSTIC PRACTICE\n",
      "Prediction   :  IT IS WELL KNOWN THAT THE AMERICAN INDIAN HAD SOME HOW DEVELOPED OF COLD POWER AND ALLOWING THE LATTER DAYS THERE HAD BEEN MANY IMPOSTURES AND ALONE FOR THE VANINTY IN WEAKNESS OF HUMAN NATURE IT IS FAIRED TO A SOON THAT THERE MUST HAVE BEEN SOME EVEN IN THE OLD DAYS YET THERE ARE WELL ATTESTED INSTANCES OF REMARKABLE PROFICES AND OTHER MISTIC PRACTICE\n"
     ]
    },
    {
     "metadata": {
      "tags": null
     },
     "name": "stderr",
     "output_type": "stream",
     "text": [
      "Val:  36%|███▋      | 8/22 [00:23<00:42,  3.03s/it, dist=15.8184]"
     ]
    },
    {
     "metadata": {
      "tags": null
     },
     "name": "stdout",
     "output_type": "stream",
     "text": [
      "Ground Truth :  THE SHRIEKS THAT FOLLOWED MADE EVERYBODY SOBER\n",
      "Prediction   :  THE SHREEKS THAT FOLLOWED ME EVERYBODY SOBER\n"
     ]
    },
    {
     "metadata": {
      "tags": null
     },
     "name": "stderr",
     "output_type": "stream",
     "text": [
      "Val:  41%|████      | 9/22 [00:26<00:40,  3.09s/it, dist=15.7170]"
     ]
    },
    {
     "metadata": {
      "tags": null
     },
     "name": "stdout",
     "output_type": "stream",
     "text": [
      "Ground Truth :  AND HE WALKED IMMEDIATELY OUT OF THE APARTMENT BY ANOTHER DOOR\n",
      "Prediction   :  AND HE WALKED IMMEDIATELY OUT OF THE APARTMENT BY ANOTHER DOOR\n"
     ]
    },
    {
     "metadata": {
      "tags": null
     },
     "name": "stderr",
     "output_type": "stream",
     "text": [
      "Val:  45%|████▌     | 10/22 [00:29<00:36,  3.05s/it, dist=16.1125]"
     ]
    },
    {
     "metadata": {
      "tags": null
     },
     "name": "stdout",
     "output_type": "stream",
     "text": [
      "Ground Truth :  THE PONY DID MOST OF IT ADMITTED THE LAD I JUST GAVE HIM HIS HEAD AND THAT'S ALL THERE WAS TO IT\n",
      "Prediction   :  THE PONY DID MOST OF IT IMMITTED THE LAD I JUST GAVE OF HIS HEAD AND THAT'S ALL THERE WAS TO IT\n"
     ]
    },
    {
     "metadata": {
      "tags": null
     },
     "name": "stderr",
     "output_type": "stream",
     "text": [
      "Val:  50%|█████     | 11/22 [00:32<00:33,  3.01s/it, dist=16.2749]"
     ]
    },
    {
     "metadata": {
      "tags": null
     },
     "name": "stdout",
     "output_type": "stream",
     "text": [
      "Ground Truth :  KNOWING THAT GOD SETS NO VALUE UPON MATERIAL THINGS HE TOOK WITH HIM NO OFFERINGS OR SACRIFICES OTHER THAN SYMBOLIC OBJECTS SUCH AS PAINTS AND TOBACCO\n",
      "Prediction   :  KNOWING THEY GOD SITS NO VALUE UPON THE CHAIRL THINGS HE TOOK WITH A NORAFFRIMS OF SACRIFICE AS OTHER THAN SING ALL OF OBJECTS SUCH AS PAINS INTO MARKEL\n"
     ]
    },
    {
     "metadata": {
      "tags": null
     },
     "name": "stderr",
     "output_type": "stream",
     "text": [
      "Val:  55%|█████▍    | 12/22 [00:35<00:29,  2.92s/it, dist=16.5957]"
     ]
    },
    {
     "metadata": {
      "tags": null
     },
     "name": "stdout",
     "output_type": "stream",
     "text": [
      "Ground Truth :  LET ME THINK HE SAID OH HOW GLAD I AM THAT YOU HAPPENED TO COME THIS WAY\n",
      "Prediction   :  BUT WE THINK HE SAID I HOW GRAND I AM THEY HAPPENED A COME HIS WAY\n"
     ]
    },
    {
     "metadata": {
      "tags": null
     },
     "name": "stderr",
     "output_type": "stream",
     "text": [
      "Val:  59%|█████▉    | 13/22 [00:38<00:26,  2.94s/it, dist=16.2873]"
     ]
    },
    {
     "metadata": {
      "tags": null
     },
     "name": "stdout",
     "output_type": "stream",
     "text": [
      "Ground Truth :  BECAUSE HE TALKED SO LITTLE HIS WORDS HAD A PECULIAR FORCE THEY WERE NOT WORN DULL FROM CONSTANT USE\n",
      "Prediction   :  BECAUSE HE TALKED SO LITTLE HIS WORDS HAD A PECULIAR FORCE THEY WERE NOT MORE IN DULL FROM CONSTANT USE\n"
     ]
    },
    {
     "metadata": {
      "tags": null
     },
     "name": "stderr",
     "output_type": "stream",
     "text": [
      "Val:  64%|██████▎   | 14/22 [00:41<00:23,  2.98s/it, dist=16.1183]"
     ]
    },
    {
     "metadata": {
      "tags": null
     },
     "name": "stdout",
     "output_type": "stream",
     "text": [
      "Ground Truth :  THE BOYS BLESS THEIR BRAVE HEARTS HAVE DONE NOBLY BUT OLDER MEN ARE NEEDED NOW WE CANNOT SACRIFICE ALL THE GALLANT LADS AND WE WHO HAVE MORE TO LOSE THAN THEY MUST TAKE OUR TURN AND TRY TO DO AS WELL\n",
      "Prediction   :  THE BOYS BLESS THEIR BRAVE HEARD SO DUNNOBLY BUT OLDER MINNER NEEDED NO WE CANNOT SACRIFICE ALL THE GALLANT LODS AND WE WHO HAVE MORE TO LOSE AND THEY MUST TAKE OUR TURN AND TRY TO DO HIS WELL\n"
     ]
    },
    {
     "metadata": {
      "tags": null
     },
     "name": "stderr",
     "output_type": "stream",
     "text": [
      "Val:  68%|██████▊   | 15/22 [00:44<00:20,  2.98s/it, dist=16.0958]"
     ]
    },
    {
     "metadata": {
      "tags": null
     },
     "name": "stdout",
     "output_type": "stream",
     "text": [
      "Ground Truth :  HE DID MANAGE TO BRING HIMSELF INTO THE MOOD TO GO OUT TO CARRIE BUT WHEN HE GOT IN OGDEN PLACE HE THOUGHT HE SAW A MAN WATCHING HIM AND WENT AWAY\n",
      "Prediction   :  HE DID MINISHED THE BRING HIMSELF INTO THE MIDDLE TO GO AT TO CARRY BUT WHEN HE BOUGHT IN ON THEM PLACE HE BOUGHT HE SAW MAN MOCHING HIM AND MED WAY\n"
     ]
    },
    {
     "metadata": {
      "tags": null
     },
     "name": "stderr",
     "output_type": "stream",
     "text": [
      "Val:  73%|███████▎  | 16/22 [00:47<00:17,  2.88s/it, dist=15.9521]"
     ]
    },
    {
     "metadata": {
      "tags": null
     },
     "name": "stdout",
     "output_type": "stream",
     "text": [
      "Ground Truth :  AND THEN HE TALKED OF HER MOTHER AND HE MADE HER PRAY\n",
      "Prediction   :  AND THEN HE TALKED IF HER MOTHER AND HE MADES HER PRAY\n"
     ]
    },
    {
     "metadata": {
      "tags": null
     },
     "name": "stderr",
     "output_type": "stream",
     "text": [
      "Val:  77%|███████▋  | 17/22 [00:49<00:14,  2.80s/it, dist=15.7063]"
     ]
    },
    {
     "metadata": {
      "tags": null
     },
     "name": "stdout",
     "output_type": "stream",
     "text": [
      "Ground Truth :  THE SHARP SMELL OF SPIRITS WENT THROUGH THE ROOM\n",
      "Prediction   :  THE SHARP SMELL OF SPIRITS WENT THROUGH THE ROOM\n"
     ]
    },
    {
     "metadata": {
      "tags": null
     },
     "name": "stderr",
     "output_type": "stream",
     "text": [
      "Val:  82%|████████▏ | 18/22 [00:52<00:11,  2.76s/it, dist=15.8155]"
     ]
    },
    {
     "metadata": {
      "tags": null
     },
     "name": "stdout",
     "output_type": "stream",
     "text": [
      "Ground Truth :  YOU ASK ME TO STAY AWAY FROM YOU BECAUSE YOU WANT ME\n",
      "Prediction   :  YOU ASK WE TO STAY AWAY FROM YOU BECAUSE YOU WANT ME\n"
     ]
    },
    {
     "metadata": {
      "tags": null
     },
     "name": "stderr",
     "output_type": "stream",
     "text": [
      "Val:  86%|████████▋ | 19/22 [00:55<00:08,  2.88s/it, dist=15.8166]"
     ]
    },
    {
     "metadata": {
      "tags": null
     },
     "name": "stdout",
     "output_type": "stream",
     "text": [
      "Ground Truth :  A FLOODLIGHT WAS ON IN THE ROOM INSIDE AND LATTIMER WAS GOING AROUND LOOKING AT THINGS WHILE A SPACE FORCE OFFICER STOOD BY THE DOOR\n",
      "Prediction   :  A FOOD LIGHT WAS ON IN THE ROOM IN SIDE AND LAD IMMER WAS GOING AROUND LOOKING AT THINGS WHILE THE SPACE FOR SOFT AS HER STOOD BY THE DOOR\n"
     ]
    },
    {
     "metadata": {
      "tags": null
     },
     "name": "stderr",
     "output_type": "stream",
     "text": [
      "Val:  91%|█████████ | 20/22 [00:58<00:05,  2.81s/it, dist=15.6887]"
     ]
    },
    {
     "metadata": {
      "tags": null
     },
     "name": "stdout",
     "output_type": "stream",
     "text": [
      "Ground Truth :  HE WAS STONE DEAD BUT I DROPPED THAT FOOT QUICK\n",
      "Prediction   :  HE WAS STONE DEAD BUT I DROPPED AT FOOT QUICK\n"
     ]
    },
    {
     "metadata": {
      "tags": null
     },
     "name": "stderr",
     "output_type": "stream",
     "text": [
      "Val:  95%|█████████▌| 21/22 [01:01<00:02,  2.82s/it, dist=15.6812]"
     ]
    },
    {
     "metadata": {
      "tags": null
     },
     "name": "stdout",
     "output_type": "stream",
     "text": [
      "Ground Truth :  THE ROPE HOWEVER WAS STRONGER THAN THE MULE'S NO AND HE WAS FINALLY PREVAILED UPON BY THE STRENGTH OF THE ROPE TO CROSS THE CREEK\n",
      "Prediction   :  THE ROLL POWEVER WAS STRONGER THAN MULES NO AND HE WAS FINALLY PREVAILED UPON BY THE STRANK OF THE ROAD TO CROSS THE CREEK\n"
     ]
    },
    {
     "metadata": {
      "tags": null
     },
     "name": "stderr",
     "output_type": "stream",
     "text": [
      "                                                                  "
     ]
    },
    {
     "metadata": {
      "tags": null
     },
     "name": "stdout",
     "output_type": "stream",
     "text": [
      "Ground Truth :  FOR SOME REASON HE FELT AS IF SOMETHING MIGHT COME THAT WAY AND WAS RELIEVED WHEN ALL THE ENVELOPES HAD BEEN SCANNED AND NOTHING SUSPICIOUS NOTICED\n",
      "Prediction   :  FOR SOME REASON HE FELT AS IF SOMETHING MIGHT COME THAT WAY AND WAS RELIEVED WHEN ALL THE HUMBLE OF SHOULD BEEN SCAND AND NOTHING SUSPICIOUS NOTICED\n",
      "Train loss: 0.9015932165988357 Train Perplexity: 2.4784633760495036 lr:  0.0001\n",
      "Validation dist:  15.868394886363637\n"
     ]
    },
    {
     "metadata": {
      "tags": null
     },
     "name": "stderr",
     "output_type": "stream",
     "text": [
      "\r"
     ]
    },
    {
     "data": {
      "image/png": "[encoded data removed]",
      "text/plain": [
       "<Figure size 640x480 with 2 Axes>"
      ]
     },
     "metadata": {},
     "output_type": "display_data"
    },
    {
     "metadata": {
      "tags": null
     },
     "name": "stdout",
     "output_type": "stream",
     "text": [
      "Saved epoch model\n",
      "\n",
      "Epoch: 29/98\n"
     ]
    },
    {
     "name": "stderr",
     "output_type": "stream",
     "text": [
      "Train:  84%|████████▍ | 187/223 [25:43<04:51,  8.11s/it, loss=0.8906, lr=0.0001, perplexity=2.4537, tf_rate=0.90]"
     ]
    }
   ],
   "source": [
    "torch.autograd.set_detect_anomaly(True)\n",
    "best_lev_dist = float(\"inf\")\n",
    "last_epoch = ckpt['epoch']\n",
    "for epoch in range(last_epoch, meta_config.epochs):\n",
    "    \n",
    "    print(\"\\nEpoch: {}/{}\".format(epoch+1, meta_config.epochs))\n",
    "\n",
    "    curr_lr = float(optimizer.param_groups[0]['lr'])\n",
    "\n",
    "\n",
    "    # Call train and validate, get attention weights from training\n",
    "    loss, perplexity, attention_plot = train(model, train_loader, criterion, optimizer, teacher_forcing_rate = meta_config.teacher_forcing_ratio)\n",
    "    valid_dist = validate(model, dev_loader)\n",
    "    # Print your metrics\n",
    "    print(\"Train loss: \" + str(loss) + \" Train Perplexity: \" + str(perplexity) + \" lr: \", str(curr_lr))\n",
    "    print(\"Validation dist: \", valid_dist)\n",
    "\n",
    "\n",
    "\n",
    "\n",
    "    # Plot Attention for a single item in the batch\n",
    "    plot_attention(attention_plot[0].cpu().detach().numpy())\n",
    "\n",
    "    # Log metrics to Wandb\n",
    "    wandb.log({\n",
    "            'train_loss': loss,  \n",
    "            'valid_dist': valid_dist, \n",
    "            'lr'        : curr_lr\n",
    "        })\n",
    "    \n",
    "    save_model(model, optimizer, scheduler, ['valid_dist', valid_dist], epoch, epoch_model_path)\n",
    "    wandb.run.save(epoch_model_path)\n",
    "    print(\"Saved epoch model\")\n",
    "\n",
    "    if epoch >=15:\n",
    "        scheduler.step(valid_dist)\n",
    "    meta_config.teacher_forcing_ratio = tf_scheduler.reduce_tf(epoch)\n",
    "    \n",
    "\n",
    "\n",
    "    if valid_dist <= best_lev_dist:\n",
    "        best_lev_dist = valid_dist\n",
    "        save_model(model, optimizer, scheduler, ['valid_dist', valid_dist], epoch, best_model_path)\n",
    "        wandb.run.save(best_model_path)\n",
    "        print(\"Saved best model\")\n",
    "        # Save your model checkpoint here\n",
    "\n",
    "run.finish()"
   ]
  },
  {
   "cell_type": "markdown",
   "metadata": {
    "id": "hgFYFaBGeBqM"
   },
   "source": [
    "# Testing"
   ]
  },
  {
   "cell_type": "code",
   "execution_count": null,
   "metadata": {
    "id": "kGl41EWF5OFL"
   },
   "outputs": [],
   "source": [
    "print(model.parameters)"
   ]
  },
  {
   "cell_type": "code",
   "execution_count": null,
   "metadata": {
    "id": "HskeE5Q7mYdJ"
   },
   "outputs": [],
   "source": [
    "test_results = []\n",
    "def calc_distance_preds(predictions, y, ly, vocab= VOCAB, print_example= False):\n",
    "\n",
    "    dist                = 0\n",
    "    batch_size, seq_len = predictions.shape\n",
    "\n",
    "    for batch_idx in range(batch_size): \n",
    "\n",
    "        y_sliced    = indices_to_chars(y[batch_idx, 0:ly[batch_idx]], vocab)\n",
    "        pred_sliced = indices_to_chars(predictions[batch_idx], vocab)\n",
    "\n",
    "        # Strings - When you are using characters from the AudioDataset\n",
    "        y_string    = ''.join(y_sliced)\n",
    "        pred_string = ''.join(pred_sliced)\n",
    "        \n",
    "        dist        += Levenshtein.distance(pred_string, y_string)\n",
    "        # Comment the above and uncomment below for toy dataset, as the toy dataset has a list of phonemes to compare\n",
    "        # dist      += Levenshtein.distance(y_sliced, pred_sliced)\n",
    "\n",
    "    if print_example: \n",
    "        # Print y_sliced and pred_sliced if you are using the toy dataset\n",
    "        print(\"Ground Truth : \", y_string)\n",
    "        print(\"Prediction   : \", pred_string)\n",
    "        \n",
    "    dist/=batch_size\n",
    "    return dist"
   ]
  },
  {
   "cell_type": "code",
   "execution_count": null,
   "metadata": {
    "id": "VxEFx7ipeCqJ"
   },
   "outputs": [],
   "source": [
    "\n",
    "def test(model, dataloader):\n",
    "\n",
    "    model.eval()\n",
    "\n",
    "    batch_bar = tqdm(total=len(dataloader), dynamic_ncols=True, position=0, leave=False, desc=\"Val\")\n",
    "\n",
    "    running_lev_dist = 0.0\n",
    "\n",
    "    for i, (x, lx) in enumerate(dataloader):\n",
    "        '''if x.shape[0] != config['batch_size']:\n",
    "            continue'''\n",
    "\n",
    "        x, lx = x.to(device) lx\n",
    "\n",
    "        with torch.no_grad():\n",
    "            raw_predictions, attentions = model(x, lx, y = None, teacher_forcing_ratio = 0)\n",
    "\n",
    "        # Greedy Decoding\n",
    "        # raw_predictions ----> (B, T, vocab_size)\n",
    "        # y ----> (B, T)\n",
    "        greedy_predictions   = torch.argmax(raw_predictions, dim = -1) # TODO: How do you get the most likely character from each distribution in the batch?\n",
    "\n",
    "        # Calculate Levenshtein Distance\n",
    "        #running_lev_dist    += calc_edit_distance(greedy_predictions, y, ly, VOCAB, print_example = True) # You can use print_example = True for one specific index i in your batches if you want\n",
    "\n",
    "        batch_size, seq_len = greedy_predictions.shape\n",
    "\n",
    "        for batch_idx in range(batch_size): \n",
    "\n",
    "            #y_sliced    = indices_to_chars(y[batch_idx, 0:ly[batch_idx]], vocab)\n",
    "            pred_sliced = indices_to_chars(greedy_predictions[batch_idx], vocab)\n",
    "\n",
    "        # Strings - When you are using characters from the AudioDataset\n",
    "        y_string    = ''.join(y_sliced)\n",
    "        pred_string = ''.join(pred_sliced)\n",
    "\n",
    "        batch_bar.set_postfix(\n",
    "            dist=\"{:.04f}\".format(running_lev_dist/(i+1)))\n",
    "        batch_bar.update()\n",
    "\n",
    "        del x, y, lx, ly\n",
    "        torch.cuda.empty_cache()\n",
    "\n",
    "    batch_bar.close()\n",
    "    running_lev_dist /= len(dataloader)\n",
    "\n",
    "    return running_lev_dist"
   ]
  },
  {
   "cell_type": "code",
   "execution_count": null,
   "metadata": {
    "id": "GWgZZL78ZxM7"
   },
   "outputs": [],
   "source": [
    "def convert_to_list(predictions, vocab= VOCAB, print_example= False):\n",
    "\n",
    "    batch_size, seq_len = predictions.shape\n",
    "    pred_list = []\n",
    "\n",
    "    for batch_idx in range(batch_size): \n",
    "\n",
    "        #y_sliced    = indices_to_chars(y[batch_idx, 0:ly[batch_idx]], vocab)\n",
    "        pred_sliced = indices_to_chars(predictions[batch_idx], vocab)\n",
    "\n",
    "        # Strings - When you are using characters from the AudioDataset\n",
    "        #y_string    = ''.join(y_sliced)\n",
    "        pred_string = ''.join(pred_sliced)\n",
    "        pred_list.append(pred_string)\n",
    "        \n",
    "        #dist        += Levenshtein.distance(pred_string, y_string)\n",
    "        # Comment the above and uncomment below for toy dataset, as the toy dataset has a list of phonemes to compare\n",
    "        # dist      += Levenshtein.distance(y_sliced, pred_sliced)\n",
    "\n",
    "        if print_example: \n",
    "            # Print y_sliced and pred_sliced if you are using the toy dataset\n",
    "            #print(\"Ground Truth : \", y_string)\n",
    "            print(\"Prediction   : \", pred_string)\n",
    "        \n",
    "    #dist/=batch_size\n",
    "    print(len(pred_list))\n",
    "    return pred_list"
   ]
  },
  {
   "cell_type": "code",
   "execution_count": null,
   "metadata": {
    "id": "JPb0uei_U41Q"
   },
   "outputs": [],
   "source": [
    "def test(model, dataloader):\n",
    "    test_predictions = []\n",
    "    model.eval()\n",
    "\n",
    "    batch_bar = tqdm(total=len(dataloader), dynamic_ncols=True, position=0, leave=False, desc=\"Test\")\n",
    "\n",
    "    running_lev_dist = 0.0\n",
    "\n",
    "    for i, (x, lx) in enumerate(dataloader):\n",
    "        '''if x.shape[0] != config['batch_size']:\n",
    "            continue'''\n",
    "\n",
    "        x, lx = x.to(device), lx\n",
    "\n",
    "        with torch.inference_mode():\n",
    "            raw_predictions, attentions = model(x, lx, y = None, teacher_forcing_ratio = 0)\n",
    "\n",
    "        # Greedy Decoding\n",
    "        # raw_predictions ----> (B, T, vocab_size)\n",
    "        # y ----> (B, T)\n",
    "        greedy_predictions   = torch.argmax(raw_predictions, dim = -1) # TODO: How do you get the most likely character from each distribution in the batch?\n",
    "\n",
    "        # Calculate Levenshtein Distance\n",
    "        test_predictions.extend(convert_to_list(greedy_predictions, VOCAB, print_example = False)) # You can use print_example = True for one specific index i in your batches if you want\n",
    "\n",
    "        #batch_bar.set_postfix(\n",
    "        #    dist=\"{:.04f}\".format(running_lev_dist/(i+1)))\n",
    "        #batch_bar.update()\n",
    "\n",
    "        del x, lx\n",
    "        torch.cuda.empty_cache()\n",
    "\n",
    "    #batch_bar.close()\n",
    "    #running_lev_dist /= len(dataloader)\n",
    "\n",
    "    return test_predictions"
   ]
  },
  {
   "cell_type": "code",
   "execution_count": null,
   "metadata": {
    "id": "nW46zFdUU7H0"
   },
   "outputs": [],
   "source": [
    "test_loader = DataLoader(test_dataset, collate_fn = test_dataset.collate_fn, batch_size = config['batch_size'])\n"
   ]
  },
  {
   "cell_type": "code",
   "execution_count": null,
   "metadata": {
    "id": "v6osjSuhU-0C"
   },
   "outputs": [],
   "source": [
    "ckpt = torch.load('best_model-schedule-run-6.pth')\n",
    "model.load_state_dict(ckpt['model_state_dict'])\n",
    "test_predictions = test(model, test_loader)"
   ]
  },
  {
   "cell_type": "code",
   "execution_count": null,
   "metadata": {
    "id": "iOgt8RceVAiM"
   },
   "outputs": [],
   "source": [
    "#test_results_new = [\"\".join(arr) for arr in test_predictions]\n",
    "print(len(test_predictions))"
   ]
  },
  {
   "cell_type": "code",
   "execution_count": null,
   "metadata": {
    "id": "b_ckqHW6VCZN"
   },
   "outputs": [],
   "source": [
    "data_dir = 'data/test-clean/random_submission.csv'\n",
    "df = pd.read_csv(data_dir)\n",
    "df.label = test_predictions\n",
    "df.to_csv('submission.csv', index = False)\n"
   ]
  },
  {
   "cell_type": "code",
   "execution_count": null,
   "metadata": {
    "id": "9rtLXceLVD7G"
   },
   "outputs": [],
   "source": [
    "import csv\n",
    "with open('submission.csv', 'w', newline='') as file:\n",
    "    writer = csv.writer(file)\n",
    "\n",
    "    # write the header row\n",
    "    writer.writerow(['index', 'label'])\n",
    "\n",
    "    # write each item in the list with its index\n",
    "    for i, item in enumerate(test_predictions):\n",
    "        writer.writerow([i, item])"
   ]
  },
  {
   "cell_type": "code",
   "execution_count": null,
   "metadata": {
    "id": "kKGxMa7lVK9F"
   },
   "outputs": [],
   "source": [
    "!kaggle competitions submit -c attention-based-speech-recognition-slack -f submission.csv -m \"Message\""
   ]
  }
 ],
 "metadata": {
  "accelerator": "GPU",
  "colab": {
   "machine_shape": "hm",
   "provenance": []
  },
  "gpuClass": "standard",
  "kernelspec": {
   "display_name": "Python 3",
   "language": "python",
   "name": "python3"
  },
  "language_info": {
   "codemirror_mode": {
    "name": "ipython",
    "version": 3
   },
   "file_extension": ".py",
   "mimetype": "text/x-python",
   "name": "python",
   "nbconvert_exporter": "python",
   "pygments_lexer": "ipython3",
   "version": "3.9.6"
  }
 },
 "nbformat": 4,
 "nbformat_minor": 1
}
